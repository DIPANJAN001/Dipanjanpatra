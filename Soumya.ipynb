{
  "nbformat": 4,
  "nbformat_minor": 0,
  "metadata": {
    "colab": {
      "name": "Soumya.ipynb",
      "provenance": [],
      "collapsed_sections": [],
      "authorship_tag": "ABX9TyMjYfJIVVKf3P2zCbeP+cQh",
      "include_colab_link": true
    },
    "kernelspec": {
      "name": "python3",
      "display_name": "Python 3"
    },
    "language_info": {
      "name": "python"
    }
  },
  "cells": [
    {
      "cell_type": "markdown",
      "metadata": {
        "id": "view-in-github",
        "colab_type": "text"
      },
      "source": [
        "<a href=\"https://colab.research.google.com/github/DIPANJAN001/Dipanjanpatra/blob/master/Soumya.ipynb\" target=\"_parent\"><img src=\"https://colab.research.google.com/assets/colab-badge.svg\" alt=\"Open In Colab\"/></a>"
      ]
    },
    {
      "cell_type": "markdown",
      "source": [
        "## Importing training data \n"
      ],
      "metadata": {
        "id": "bnhmXZ0ySqWI"
      }
    },
    {
      "cell_type": "code",
      "execution_count": null,
      "metadata": {
        "id": "ATuxlnpiScjA"
      },
      "outputs": [],
      "source": [
        "import pandas as pd\n",
        "weather_data=pd.read_excel(\"/content/pv_02.xlsx\") "
      ]
    },
    {
      "cell_type": "markdown",
      "source": [
        "## Data format"
      ],
      "metadata": {
        "id": "_V04bPEoSu3m"
      }
    },
    {
      "cell_type": "code",
      "source": [
        "weather_data.head()"
      ],
      "metadata": {
        "id": "f_Vf0MS9SyMt"
      },
      "execution_count": null,
      "outputs": []
    },
    {
      "cell_type": "code",
      "source": [
        "weather_data.info()"
      ],
      "metadata": {
        "id": "ntJN7r_dS1HN"
      },
      "execution_count": null,
      "outputs": []
    },
    {
      "cell_type": "markdown",
      "source": [
        "## Weather input"
      ],
      "metadata": {
        "id": "swU-eyzOS7DW"
      }
    },
    {
      "cell_type": "code",
      "source": [
        "weather_input1=weather_data.drop('power_normed',axis=1)\n",
        "weather_input=weather_input1.drop('time_idx',axis=1)\n",
        "weather_input.head()"
      ],
      "metadata": {
        "id": "LrviOYZ5S3U-"
      },
      "execution_count": null,
      "outputs": []
    },
    {
      "cell_type": "code",
      "source": [
        "solpow=weather_data['power_normed']\n",
        "solpow"
      ],
      "metadata": {
        "id": "1EtH9OcKS-Ol"
      },
      "execution_count": null,
      "outputs": []
    },
    {
      "cell_type": "code",
      "source": [
        "from sklearn.model_selection import train_test_split\n",
        "X_train, X_test, y_train, y_test = train_test_split(weather_input,solpow, test_size=0.1, random_state=42,shuffle=False)"
      ],
      "metadata": {
        "id": "kI8vns3VTA6e"
      },
      "execution_count": null,
      "outputs": []
    },
    {
      "cell_type": "code",
      "source": [
        "X_train.shape"
      ],
      "metadata": {
        "id": "GOGsX9eFTEdV"
      },
      "execution_count": null,
      "outputs": []
    },
    {
      "cell_type": "code",
      "source": [
        "from tensorflow import keras "
      ],
      "metadata": {
        "id": "MOlKK5uCTIq-"
      },
      "execution_count": null,
      "outputs": []
    },
    {
      "cell_type": "code",
      "source": [
        "!pip install --upgrade tensorflow\n",
        "!pip install --upgrade tensorflow-gpu"
      ],
      "metadata": {
        "id": "A1HwimX2TKcd"
      },
      "execution_count": null,
      "outputs": []
    },
    {
      "cell_type": "code",
      "source": [
        "from keras.models import Sequential\n",
        "from keras.layers import Dense, Activation, Flatten\n",
        "MLP_model = Sequential()\n",
        "MLP_model.add(Dense(8, kernel_initializer='normal',input_dim =X_train.shape[1], activation='relu'))\n",
        "\n",
        "\n",
        "MLP_model.add(Dense(32, kernel_initializer='normal',activation='relu'))\n",
        "MLP_model.add(Dense(64, kernel_initializer='normal',activation='relu'))\n",
        "MLP_model.add(Dense(16, kernel_initializer='normal',activation='relu'))\n",
        "\n",
        "MLP_model.add(Dense(1, kernel_initializer='normal',activation='linear'))\n",
        "\n",
        "\n",
        "MLP_model.compile(loss='mean_absolute_error', optimizer='adam', metrics=['mean_absolute_error'])\n",
        "MLP_model.summary()"
      ],
      "metadata": {
        "id": "sRa2BwuCTL_t"
      },
      "execution_count": null,
      "outputs": []
    },
    {
      "cell_type": "code",
      "source": [
        "history=MLP_model.fit(X_train,y_train, epochs=80, batch_size=64, validation_split = 0.2)"
      ],
      "metadata": {
        "id": "rHvge0F6TPaJ"
      },
      "execution_count": null,
      "outputs": []
    },
    {
      "cell_type": "code",
      "source": [
        "plt.plot(history.history['loss'])\n",
        "plt.plot(history.history['val_loss'])\n",
        "#plt.plot(history.history['mean_absolute_error'])\n",
        "plt.title('model loss')\n",
        "plt.ylabel('loss')\n",
        "plt.xlabel('epoch')\n",
        "plt.legend(['train', 'val'], loc='upper left')\n",
        "plt.show()"
      ],
      "metadata": {
        "id": "zK2P6wujTSbX"
      },
      "execution_count": null,
      "outputs": []
    },
    {
      "cell_type": "code",
      "source": [
        "plt.plot(history.history['mean_absolute_error'])"
      ],
      "metadata": {
        "id": "fbNGqjMgTVz1"
      },
      "execution_count": null,
      "outputs": []
    },
    {
      "cell_type": "markdown",
      "source": [
        "## Importing test data"
      ],
      "metadata": {
        "id": "nGvi5pSqTX--"
      }
    },
    {
      "cell_type": "code",
      "source": [
        "import pandas as pd\n",
        "weather_data_test=pd.read_excel(\"/content/pv_21.xlsx\")"
      ],
      "metadata": {
        "id": "F0cWKZUgTWT-"
      },
      "execution_count": null,
      "outputs": []
    },
    {
      "cell_type": "code",
      "source": [
        "weather_inputt=weather_data_test.drop('power_normed',axis=1)\n",
        "weather_input_ts=weather_inputt.drop('time_idx',axis=1)\n",
        "solpow=weather_data_test['power_normed']"
      ],
      "metadata": {
        "id": "pdRD1i6_Tcj4"
      },
      "execution_count": null,
      "outputs": []
    },
    {
      "cell_type": "code",
      "source": [
        "Ypred=MLP_model.predict(weather_input_ts)"
      ],
      "metadata": {
        "id": "MUErArzUTe7J"
      },
      "execution_count": null,
      "outputs": []
    },
    {
      "cell_type": "code",
      "source": [
        "weather_data_test['Predicted_power_normed']=Ypred"
      ],
      "metadata": {
        "id": "uEdLDhokTmzO"
      },
      "execution_count": null,
      "outputs": []
    },
    {
      "cell_type": "code",
      "source": [
        "from plotly.subplots import make_subplots\n",
        "import plotly.graph_objects as go\n",
        "fig = make_subplots(rows=1, cols=1)\n",
        "fig.add_trace(\n",
        "    go.Scatter(x=weather_data_test.reset_index()['time_idx'], y=weather_data_test.reset_index()['power_normed'],name='Actual generated solar power'),row=1,col=1\n",
        ")\n",
        "fig.add_trace(\n",
        "    go.Scatter(x=weather_data_test.reset_index()['time_idx'], y=weather_data_test.reset_index()['Predicted_power_normed'],name='Predicted generated solar power by MLP with RMSE'),row=1,col=1\n",
        ")\n"
      ],
      "metadata": {
        "id": "WhvDzt7aThzB"
      },
      "execution_count": null,
      "outputs": []
    },
    {
      "cell_type": "markdown",
      "source": [
        "### Processing our Training data for feeding in LSTM network"
      ],
      "metadata": {
        "id": "mItFX8_tTurY"
      }
    },
    {
      "cell_type": "code",
      "source": [
        "def lstm_data_transform(x_data, y_data, num_steps=5):\n",
        "    \"\"\" Changes data to the format for LSTM training \n",
        "for sliding window approach \"\"\"\n",
        "    # Prepare the list for the transformed data\n",
        "    X, y = list(), list()\n",
        "    # Loop of the entire data set\n",
        "    for i in range(x_data.shape[0]):\n",
        "        # compute a new (sliding window) index\n",
        "        end_ix = i + num_steps\n",
        "        # if index is larger than the size of the dataset, we stop\n",
        "        if end_ix >= x_data.shape[0]:\n",
        "            break\n",
        "        # Get a sequence of data for x\n",
        "        seq_X = x_data[i:end_ix]\n",
        "        # Get only the last element of the sequency for y\n",
        "        seq_y = y_data[end_ix]\n",
        "        # Append the list with sequencies\n",
        "        X.append(seq_X)\n",
        "        y.append(seq_y)\n",
        "    # Make final arrays\n",
        "    x_array = np.array(X)\n",
        "    y_array = np.array(y)\n",
        "    return x_array, y_array"
      ],
      "metadata": {
        "id": "9VroZsdiTpm_"
      },
      "execution_count": null,
      "outputs": []
    },
    {
      "cell_type": "markdown",
      "source": [
        "### LSTM"
      ],
      "metadata": {
        "id": "wMvZAzPwTzbW"
      }
    },
    {
      "cell_type": "code",
      "source": [
        "import numpy as np"
      ],
      "metadata": {
        "id": "jt-vCfFyT2W2"
      },
      "execution_count": null,
      "outputs": []
    },
    {
      "cell_type": "code",
      "source": [
        "num_steps = 3\n",
        "# training set\n",
        "(x_train_transformed,\n",
        " y_train_transformed) = lstm_data_transform(X_train, y_train, num_steps=num_steps)\n",
        "assert x_train_transformed.shape[0] == y_train_transformed.shape[0]\n",
        "# test set\n",
        "(x_test_transformed,\n",
        " y_test_transformed) = lstm_data_transform(weather_input_ts, solpow, num_steps=num_steps)"
      ],
      "metadata": {
        "id": "CBkxo_QwT5jO"
      },
      "execution_count": null,
      "outputs": []
    },
    {
      "cell_type": "code",
      "source": [
        "from keras.models import Sequential\n",
        "from keras.layers import Dense,SimpleRNN\n",
        "from keras.layers import LSTM\n",
        "from keras.layers import Dropout\n"
      ],
      "metadata": {
        "id": "6N7F_HDrT7Oq"
      },
      "execution_count": null,
      "outputs": []
    },
    {
      "cell_type": "markdown",
      "source": [
        "### Building first LSTM Model for forecasting"
      ],
      "metadata": {
        "id": "IdC37PE9T_8P"
      }
    },
    {
      "cell_type": "code",
      "source": [
        "regressor = Sequential()\n",
        "regressor.add(LSTM(units = 50, return_sequences = True, input_shape = (3,49)))\n",
        "regressor.add(Dropout(0.2))\n",
        "\n",
        "regressor.add(LSTM(units = 50, return_sequences = True))\n",
        "regressor.add(Dropout(0.25))\n",
        "\n",
        "regressor.add(LSTM(units = 50, return_sequences = True))\n",
        "regressor.add(Dropout(0.25))\n",
        "\n",
        "regressor.add(LSTM(units = 50))\n",
        "regressor.add(Dropout(0.25))\n",
        "\n",
        "regressor.add(Dense(units = 1))\n",
        "\n",
        "regressor.compile(optimizer = 'adam', loss = 'mean_squared_error')\n",
        "\n",
        "history=regressor.fit(x_train_transformed, y_train_transformed, epochs = 100, batch_size = 32)"
      ],
      "metadata": {
        "id": "qS8ndjTaUAhn"
      },
      "execution_count": null,
      "outputs": []
    },
    {
      "cell_type": "code",
      "source": [
        "regressor.summary()"
      ],
      "metadata": {
        "id": "fOOALjoxUDxJ"
      },
      "execution_count": null,
      "outputs": []
    },
    {
      "cell_type": "code",
      "source": [
        "plt.plot(history.history['loss'])\n",
        "#plt.plot(history.history['val_loss'])\n",
        "#plt.plot(history.history['mean_absolute_error'])\n",
        "plt.title('model loss')\n",
        "plt.ylabel('loss')\n",
        "plt.xlabel('epoch')\n",
        "plt.legend(['train', 'val'], loc='upper left')\n",
        "plt.show()"
      ],
      "metadata": {
        "id": "LIZqh6mBUFu6"
      },
      "execution_count": null,
      "outputs": []
    },
    {
      "cell_type": "code",
      "source": [
        "yp=regressor.predict(x_test_transformed)"
      ],
      "metadata": {
        "id": "1VhcvHgtUJm8"
      },
      "execution_count": null,
      "outputs": []
    },
    {
      "cell_type": "code",
      "source": [
        "weather_data_test_lstm=weather_data_test.tail(4947)"
      ],
      "metadata": {
        "id": "tx545mbZULUO"
      },
      "execution_count": null,
      "outputs": []
    },
    {
      "cell_type": "code",
      "source": [
        "weather_data_test_lstm['Predicted_lstm']=yp"
      ],
      "metadata": {
        "id": "NXSTNnfUUNLy"
      },
      "execution_count": null,
      "outputs": []
    },
    {
      "cell_type": "code",
      "source": [
        "from plotly.subplots import make_subplots\n",
        "import plotly.graph_objects as go\n",
        "fig = make_subplots(rows=1, cols=1)\n",
        "fig.add_trace(\n",
        "    go.Scatter(x=weather_data_test_lstm.reset_index()['time_idx'], y=weather_data_test_lstm.reset_index()['power_normed'],name='Actual generated solar power'),row=1,col=1\n",
        ")\n",
        "fig.add_trace(\n",
        "    go.Scatter(x=weather_data_test_lstm.reset_index()['time_idx'], y=weather_data_test_lstm.reset_index()['Predicted_lstm'],name='Predicted generated solar power LSTM '),row=1,col=1\n",
        ")\n",
        "fig.update_xaxes(title_text=\"Time\")\n",
        "fig.update_yaxes(title_text=\"SolarPower\")\n",
        "\n",
        "fig.show()"
      ],
      "metadata": {
        "id": "nNvTqo_pUQep"
      },
      "execution_count": null,
      "outputs": []
    },
    {
      "cell_type": "code",
      "source": [
        "rmse_LSTM= sqrt(mean_squared_error(weather_data_test_lstm['power_normed'],weather_data_test_lstm['Predicted_lstm']))"
      ],
      "metadata": {
        "id": "jtXG3-vjURAE"
      },
      "execution_count": null,
      "outputs": []
    },
    {
      "cell_type": "code",
      "source": [
        ""
      ],
      "metadata": {
        "id": "YeJaQ-FnUVfN"
      },
      "execution_count": null,
      "outputs": []
    },
    {
      "cell_type": "code",
      "source": [
        ""
      ],
      "metadata": {
        "id": "gpeo6t68UV4g"
      },
      "execution_count": null,
      "outputs": []
    }
  ]
}