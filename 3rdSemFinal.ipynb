{
  "nbformat": 4,
  "nbformat_minor": 0,
  "metadata": {
    "colab": {
      "provenance": [],
      "collapsed_sections": [],
      "authorship_tag": "ABX9TyPLE9+FUo9ofP/iAUxUo91K",
      "include_colab_link": true
    },
    "kernelspec": {
      "name": "python3",
      "display_name": "Python 3"
    },
    "language_info": {
      "name": "python"
    }
  },
  "cells": [
    {
      "cell_type": "markdown",
      "metadata": {
        "id": "view-in-github",
        "colab_type": "text"
      },
      "source": [
        "<a href=\"https://colab.research.google.com/github/DIPANJAN001/Dipanjanpatra/blob/master/3rdSemFinal.ipynb\" target=\"_parent\"><img src=\"https://colab.research.google.com/assets/colab-badge.svg\" alt=\"Open In Colab\"/></a>"
      ]
    },
    {
      "cell_type": "code",
      "execution_count": 152,
      "metadata": {
        "id": "Qe8mWMYFY_D_"
      },
      "outputs": [],
      "source": [
        "import pandas as pd\n",
        "import numpy as np\n",
        "import matplotlib.pyplot as plt"
      ]
    },
    {
      "cell_type": "code",
      "source": [
        "df=pd.read_excel(\"/content/pv_02.xlsx\")"
      ],
      "metadata": {
        "id": "6cNdAFP6am8U"
      },
      "execution_count": 153,
      "outputs": []
    },
    {
      "cell_type": "code",
      "source": [
        "df.head()"
      ],
      "metadata": {
        "colab": {
          "base_uri": "https://localhost:8080/",
          "height": 299
        },
        "id": "8n-VRaADdgz-",
        "outputId": "297b8efe-ab8d-478e-98b8-30a65af3da1b"
      },
      "execution_count": 154,
      "outputs": [
        {
          "output_type": "execute_result",
          "data": {
            "text/plain": [
              "   time_idx  hour_of_day  hour_of_day_cos  hour_of_day_sin  month_of_year  \\\n",
              "0       1.0     0.000000         1.000000         0.000000       0.909091   \n",
              "1       2.0     0.142857         0.957824         0.399332       0.909091   \n",
              "2       3.0     0.285714         0.838278         0.732544       0.909091   \n",
              "3       4.0     0.428571         0.661157         0.944463       0.909091   \n",
              "4       5.0     0.571429         0.455788         1.000000       0.909091   \n",
              "\n",
              "   month_of_year_cos  month_of_year_sin  season_of_year  season_of_year_cos  \\\n",
              "0           0.017332           0.258819             1.0                 0.0   \n",
              "1           0.017332           0.258819             1.0                 0.0   \n",
              "2           0.017332           0.258819             1.0                 0.0   \n",
              "3           0.017332           0.258819             1.0                 0.0   \n",
              "4           0.017332           0.258819             1.0                 0.0   \n",
              "\n",
              "   season_of_year_sin  ...  LowerWindDirection  LowerWindDirectionMath  \\\n",
              "0                 0.0  ...            0.554229                0.195738   \n",
              "1                 0.0  ...            0.726648                0.023317   \n",
              "2                 0.0  ...            0.702088                0.047877   \n",
              "3                 0.0  ...            0.691446                0.058519   \n",
              "4                 0.0  ...            0.698192                0.051774   \n",
              "\n",
              "   LowerWindDirectionCos  LowerWindDirectionSin  UpperWindSpeed  \\\n",
              "0               0.667024               0.971278        0.494272   \n",
              "1               0.994589               0.573364        0.456086   \n",
              "2               0.977444               0.648484        0.545543   \n",
              "3               0.966460               0.680042        0.663653   \n",
              "4               0.973667               0.660124        0.634276   \n",
              "\n",
              "   UpperWindDirection  UpperWindDirectionMath  UpperWindDirectionCos  \\\n",
              "0            0.563420                0.186512               0.694226   \n",
              "1            0.732230                0.017730               0.996887   \n",
              "2            0.707816                0.042140               0.982548   \n",
              "3            0.693619                0.056335               0.968971   \n",
              "4            0.700475                0.049480               0.976001   \n",
              "\n",
              "   UpperWindDirectionSin  power_normed  \n",
              "0               0.960735      0.000000  \n",
              "1               0.555710      0.000000  \n",
              "2               0.630947      0.000000  \n",
              "3               0.673395      0.014560  \n",
              "4               0.653047      0.152064  \n",
              "\n",
              "[5 rows x 51 columns]"
            ],
            "text/html": [
              "\n",
              "  <div id=\"df-535e5bc0-d13f-4af6-91ae-7417c31506a6\">\n",
              "    <div class=\"colab-df-container\">\n",
              "      <div>\n",
              "<style scoped>\n",
              "    .dataframe tbody tr th:only-of-type {\n",
              "        vertical-align: middle;\n",
              "    }\n",
              "\n",
              "    .dataframe tbody tr th {\n",
              "        vertical-align: top;\n",
              "    }\n",
              "\n",
              "    .dataframe thead th {\n",
              "        text-align: right;\n",
              "    }\n",
              "</style>\n",
              "<table border=\"1\" class=\"dataframe\">\n",
              "  <thead>\n",
              "    <tr style=\"text-align: right;\">\n",
              "      <th></th>\n",
              "      <th>time_idx</th>\n",
              "      <th>hour_of_day</th>\n",
              "      <th>hour_of_day_cos</th>\n",
              "      <th>hour_of_day_sin</th>\n",
              "      <th>month_of_year</th>\n",
              "      <th>month_of_year_cos</th>\n",
              "      <th>month_of_year_sin</th>\n",
              "      <th>season_of_year</th>\n",
              "      <th>season_of_year_cos</th>\n",
              "      <th>season_of_year_sin</th>\n",
              "      <th>...</th>\n",
              "      <th>LowerWindDirection</th>\n",
              "      <th>LowerWindDirectionMath</th>\n",
              "      <th>LowerWindDirectionCos</th>\n",
              "      <th>LowerWindDirectionSin</th>\n",
              "      <th>UpperWindSpeed</th>\n",
              "      <th>UpperWindDirection</th>\n",
              "      <th>UpperWindDirectionMath</th>\n",
              "      <th>UpperWindDirectionCos</th>\n",
              "      <th>UpperWindDirectionSin</th>\n",
              "      <th>power_normed</th>\n",
              "    </tr>\n",
              "  </thead>\n",
              "  <tbody>\n",
              "    <tr>\n",
              "      <th>0</th>\n",
              "      <td>1.0</td>\n",
              "      <td>0.000000</td>\n",
              "      <td>1.000000</td>\n",
              "      <td>0.000000</td>\n",
              "      <td>0.909091</td>\n",
              "      <td>0.017332</td>\n",
              "      <td>0.258819</td>\n",
              "      <td>1.0</td>\n",
              "      <td>0.0</td>\n",
              "      <td>0.0</td>\n",
              "      <td>...</td>\n",
              "      <td>0.554229</td>\n",
              "      <td>0.195738</td>\n",
              "      <td>0.667024</td>\n",
              "      <td>0.971278</td>\n",
              "      <td>0.494272</td>\n",
              "      <td>0.563420</td>\n",
              "      <td>0.186512</td>\n",
              "      <td>0.694226</td>\n",
              "      <td>0.960735</td>\n",
              "      <td>0.000000</td>\n",
              "    </tr>\n",
              "    <tr>\n",
              "      <th>1</th>\n",
              "      <td>2.0</td>\n",
              "      <td>0.142857</td>\n",
              "      <td>0.957824</td>\n",
              "      <td>0.399332</td>\n",
              "      <td>0.909091</td>\n",
              "      <td>0.017332</td>\n",
              "      <td>0.258819</td>\n",
              "      <td>1.0</td>\n",
              "      <td>0.0</td>\n",
              "      <td>0.0</td>\n",
              "      <td>...</td>\n",
              "      <td>0.726648</td>\n",
              "      <td>0.023317</td>\n",
              "      <td>0.994589</td>\n",
              "      <td>0.573364</td>\n",
              "      <td>0.456086</td>\n",
              "      <td>0.732230</td>\n",
              "      <td>0.017730</td>\n",
              "      <td>0.996887</td>\n",
              "      <td>0.555710</td>\n",
              "      <td>0.000000</td>\n",
              "    </tr>\n",
              "    <tr>\n",
              "      <th>2</th>\n",
              "      <td>3.0</td>\n",
              "      <td>0.285714</td>\n",
              "      <td>0.838278</td>\n",
              "      <td>0.732544</td>\n",
              "      <td>0.909091</td>\n",
              "      <td>0.017332</td>\n",
              "      <td>0.258819</td>\n",
              "      <td>1.0</td>\n",
              "      <td>0.0</td>\n",
              "      <td>0.0</td>\n",
              "      <td>...</td>\n",
              "      <td>0.702088</td>\n",
              "      <td>0.047877</td>\n",
              "      <td>0.977444</td>\n",
              "      <td>0.648484</td>\n",
              "      <td>0.545543</td>\n",
              "      <td>0.707816</td>\n",
              "      <td>0.042140</td>\n",
              "      <td>0.982548</td>\n",
              "      <td>0.630947</td>\n",
              "      <td>0.000000</td>\n",
              "    </tr>\n",
              "    <tr>\n",
              "      <th>3</th>\n",
              "      <td>4.0</td>\n",
              "      <td>0.428571</td>\n",
              "      <td>0.661157</td>\n",
              "      <td>0.944463</td>\n",
              "      <td>0.909091</td>\n",
              "      <td>0.017332</td>\n",
              "      <td>0.258819</td>\n",
              "      <td>1.0</td>\n",
              "      <td>0.0</td>\n",
              "      <td>0.0</td>\n",
              "      <td>...</td>\n",
              "      <td>0.691446</td>\n",
              "      <td>0.058519</td>\n",
              "      <td>0.966460</td>\n",
              "      <td>0.680042</td>\n",
              "      <td>0.663653</td>\n",
              "      <td>0.693619</td>\n",
              "      <td>0.056335</td>\n",
              "      <td>0.968971</td>\n",
              "      <td>0.673395</td>\n",
              "      <td>0.014560</td>\n",
              "    </tr>\n",
              "    <tr>\n",
              "      <th>4</th>\n",
              "      <td>5.0</td>\n",
              "      <td>0.571429</td>\n",
              "      <td>0.455788</td>\n",
              "      <td>1.000000</td>\n",
              "      <td>0.909091</td>\n",
              "      <td>0.017332</td>\n",
              "      <td>0.258819</td>\n",
              "      <td>1.0</td>\n",
              "      <td>0.0</td>\n",
              "      <td>0.0</td>\n",
              "      <td>...</td>\n",
              "      <td>0.698192</td>\n",
              "      <td>0.051774</td>\n",
              "      <td>0.973667</td>\n",
              "      <td>0.660124</td>\n",
              "      <td>0.634276</td>\n",
              "      <td>0.700475</td>\n",
              "      <td>0.049480</td>\n",
              "      <td>0.976001</td>\n",
              "      <td>0.653047</td>\n",
              "      <td>0.152064</td>\n",
              "    </tr>\n",
              "  </tbody>\n",
              "</table>\n",
              "<p>5 rows × 51 columns</p>\n",
              "</div>\n",
              "      <button class=\"colab-df-convert\" onclick=\"convertToInteractive('df-535e5bc0-d13f-4af6-91ae-7417c31506a6')\"\n",
              "              title=\"Convert this dataframe to an interactive table.\"\n",
              "              style=\"display:none;\">\n",
              "        \n",
              "  <svg xmlns=\"http://www.w3.org/2000/svg\" height=\"24px\"viewBox=\"0 0 24 24\"\n",
              "       width=\"24px\">\n",
              "    <path d=\"M0 0h24v24H0V0z\" fill=\"none\"/>\n",
              "    <path d=\"M18.56 5.44l.94 2.06.94-2.06 2.06-.94-2.06-.94-.94-2.06-.94 2.06-2.06.94zm-11 1L8.5 8.5l.94-2.06 2.06-.94-2.06-.94L8.5 2.5l-.94 2.06-2.06.94zm10 10l.94 2.06.94-2.06 2.06-.94-2.06-.94-.94-2.06-.94 2.06-2.06.94z\"/><path d=\"M17.41 7.96l-1.37-1.37c-.4-.4-.92-.59-1.43-.59-.52 0-1.04.2-1.43.59L10.3 9.45l-7.72 7.72c-.78.78-.78 2.05 0 2.83L4 21.41c.39.39.9.59 1.41.59.51 0 1.02-.2 1.41-.59l7.78-7.78 2.81-2.81c.8-.78.8-2.07 0-2.86zM5.41 20L4 18.59l7.72-7.72 1.47 1.35L5.41 20z\"/>\n",
              "  </svg>\n",
              "      </button>\n",
              "      \n",
              "  <style>\n",
              "    .colab-df-container {\n",
              "      display:flex;\n",
              "      flex-wrap:wrap;\n",
              "      gap: 12px;\n",
              "    }\n",
              "\n",
              "    .colab-df-convert {\n",
              "      background-color: #E8F0FE;\n",
              "      border: none;\n",
              "      border-radius: 50%;\n",
              "      cursor: pointer;\n",
              "      display: none;\n",
              "      fill: #1967D2;\n",
              "      height: 32px;\n",
              "      padding: 0 0 0 0;\n",
              "      width: 32px;\n",
              "    }\n",
              "\n",
              "    .colab-df-convert:hover {\n",
              "      background-color: #E2EBFA;\n",
              "      box-shadow: 0px 1px 2px rgba(60, 64, 67, 0.3), 0px 1px 3px 1px rgba(60, 64, 67, 0.15);\n",
              "      fill: #174EA6;\n",
              "    }\n",
              "\n",
              "    [theme=dark] .colab-df-convert {\n",
              "      background-color: #3B4455;\n",
              "      fill: #D2E3FC;\n",
              "    }\n",
              "\n",
              "    [theme=dark] .colab-df-convert:hover {\n",
              "      background-color: #434B5C;\n",
              "      box-shadow: 0px 1px 3px 1px rgba(0, 0, 0, 0.15);\n",
              "      filter: drop-shadow(0px 1px 2px rgba(0, 0, 0, 0.3));\n",
              "      fill: #FFFFFF;\n",
              "    }\n",
              "  </style>\n",
              "\n",
              "      <script>\n",
              "        const buttonEl =\n",
              "          document.querySelector('#df-535e5bc0-d13f-4af6-91ae-7417c31506a6 button.colab-df-convert');\n",
              "        buttonEl.style.display =\n",
              "          google.colab.kernel.accessAllowed ? 'block' : 'none';\n",
              "\n",
              "        async function convertToInteractive(key) {\n",
              "          const element = document.querySelector('#df-535e5bc0-d13f-4af6-91ae-7417c31506a6');\n",
              "          const dataTable =\n",
              "            await google.colab.kernel.invokeFunction('convertToInteractive',\n",
              "                                                     [key], {});\n",
              "          if (!dataTable) return;\n",
              "\n",
              "          const docLinkHtml = 'Like what you see? Visit the ' +\n",
              "            '<a target=\"_blank\" href=https://colab.research.google.com/notebooks/data_table.ipynb>data table notebook</a>'\n",
              "            + ' to learn more about interactive tables.';\n",
              "          element.innerHTML = '';\n",
              "          dataTable['output_type'] = 'display_data';\n",
              "          await google.colab.output.renderOutput(dataTable, element);\n",
              "          const docLink = document.createElement('div');\n",
              "          docLink.innerHTML = docLinkHtml;\n",
              "          element.appendChild(docLink);\n",
              "        }\n",
              "      </script>\n",
              "    </div>\n",
              "  </div>\n",
              "  "
            ]
          },
          "metadata": {},
          "execution_count": 154
        }
      ]
    },
    {
      "cell_type": "code",
      "source": [
        "df.set_index('time_idx')"
      ],
      "metadata": {
        "colab": {
          "base_uri": "https://localhost:8080/",
          "height": 519
        },
        "id": "BuzqBNgndmFr",
        "outputId": "8da36573-d686-47a6-e6b2-b277bcd41208"
      },
      "execution_count": 155,
      "outputs": [
        {
          "output_type": "execute_result",
          "data": {
            "text/plain": [
              "          hour_of_day  hour_of_day_cos  hour_of_day_sin  month_of_year  \\\n",
              "time_idx                                                                 \n",
              "1.0          0.000000         1.000000         0.000000       0.909091   \n",
              "2.0          0.142857         0.957824         0.399332       0.909091   \n",
              "3.0          0.285714         0.838278         0.732544       0.909091   \n",
              "4.0          0.428571         0.661157         0.944463       0.909091   \n",
              "5.0          0.571429         0.455788         1.000000       0.909091   \n",
              "...               ...              ...              ...            ...   \n",
              "6274.0       0.571429         0.455788         1.000000       1.000000   \n",
              "6275.0       0.714286         0.256176         0.889960       1.000000   \n",
              "6276.0       0.857143         0.095371         0.632563       1.000000   \n",
              "6277.0       1.000000         0.000000         0.270427       1.000000   \n",
              "6278.0       0.000000         1.000000         0.000000       0.000000   \n",
              "\n",
              "          month_of_year_cos  month_of_year_sin  season_of_year  \\\n",
              "time_idx                                                         \n",
              "1.0                0.017332           0.258819             1.0   \n",
              "2.0                0.017332           0.258819             1.0   \n",
              "3.0                0.017332           0.258819             1.0   \n",
              "4.0                0.017332           0.258819             1.0   \n",
              "5.0                0.017332           0.258819             1.0   \n",
              "...                     ...                ...             ...   \n",
              "6274.0             0.000000           0.000000             1.0   \n",
              "6275.0             0.000000           0.000000             1.0   \n",
              "6276.0             0.000000           0.000000             1.0   \n",
              "6277.0             0.000000           0.000000             1.0   \n",
              "6278.0             1.000000           0.258819             0.0   \n",
              "\n",
              "          season_of_year_cos  season_of_year_sin  sunposition_thetaZ  ...  \\\n",
              "time_idx                                                              ...   \n",
              "1.0                      0.0            0.000000            1.000000  ...   \n",
              "2.0                      0.0            0.000000            1.000000  ...   \n",
              "3.0                      0.0            0.000000            1.000000  ...   \n",
              "4.0                      0.0            0.000000            0.705699  ...   \n",
              "5.0                      0.0            0.000000            0.611994  ...   \n",
              "...                      ...                 ...                 ...  ...   \n",
              "6274.0                   0.0            0.000000            0.732333  ...   \n",
              "6275.0                   0.0            0.000000            0.932838  ...   \n",
              "6276.0                   0.0            0.000000            1.000000  ...   \n",
              "6277.0                   0.0            0.000000            1.000000  ...   \n",
              "6278.0                   1.0            0.707107            1.000000  ...   \n",
              "\n",
              "          LowerWindDirection  LowerWindDirectionMath  LowerWindDirectionCos  \\\n",
              "time_idx                                                                      \n",
              "1.0                 0.554229                0.195738               0.667024   \n",
              "2.0                 0.726648                0.023317               0.994589   \n",
              "3.0                 0.702088                0.047877               0.977444   \n",
              "4.0                 0.691446                0.058519               0.966460   \n",
              "5.0                 0.698192                0.051774               0.973667   \n",
              "...                      ...                     ...                    ...   \n",
              "6274.0              0.658843                0.091123               0.920103   \n",
              "6275.0              0.588584                0.161383               0.764055   \n",
              "6276.0              0.585595                0.164372               0.756039   \n",
              "6277.0              0.586159                0.163807               0.757560   \n",
              "6278.0              0.528872                0.221095               0.590171   \n",
              "\n",
              "          LowerWindDirectionSin  UpperWindSpeed  UpperWindDirection  \\\n",
              "time_idx                                                              \n",
              "1.0                    0.971278        0.494272            0.563420   \n",
              "2.0                    0.573364        0.456086            0.732230   \n",
              "3.0                    0.648484        0.545543            0.707816   \n",
              "4.0                    0.680042        0.663653            0.693619   \n",
              "5.0                    0.660124        0.634276            0.700475   \n",
              "...                         ...             ...                 ...   \n",
              "6274.0                 0.771134        0.342627            0.667871   \n",
              "6275.0                 0.924588        0.206986            0.628933   \n",
              "6276.0                 0.929470        0.280862            0.634951   \n",
              "6277.0                 0.928559        0.255227            0.653428   \n",
              "6278.0                 0.991802        0.276868            0.600394   \n",
              "\n",
              "          UpperWindDirectionMath  UpperWindDirectionCos  \\\n",
              "time_idx                                                  \n",
              "1.0                     0.186512               0.694226   \n",
              "2.0                     0.017730               0.996887   \n",
              "3.0                     0.042140               0.982548   \n",
              "4.0                     0.056335               0.968971   \n",
              "5.0                     0.049480               0.976001   \n",
              "...                          ...                    ...   \n",
              "6274.0                  0.082079               0.934936   \n",
              "6275.0                  0.121010               0.862281   \n",
              "6276.0                  0.114993               0.875043   \n",
              "6277.0                  0.096519               0.910807   \n",
              "6278.0                  0.149544               0.795041   \n",
              "\n",
              "          UpperWindDirectionSin  power_normed  \n",
              "time_idx                                       \n",
              "1.0                    0.960735      0.000000  \n",
              "2.0                    0.555710      0.000000  \n",
              "3.0                    0.630947      0.000000  \n",
              "4.0                    0.673395      0.014560  \n",
              "5.0                    0.653047      0.152064  \n",
              "...                         ...           ...  \n",
              "6274.0                 0.746639      0.110155  \n",
              "6275.0                 0.844605      0.254311  \n",
              "6276.0                 0.830670      0.003055  \n",
              "6277.0                 0.785022      0.000000  \n",
              "6278.0                 0.903672      0.000000  \n",
              "\n",
              "[6278 rows x 50 columns]"
            ],
            "text/html": [
              "\n",
              "  <div id=\"df-81f48615-dc47-42fa-ae76-83f84dd0c485\">\n",
              "    <div class=\"colab-df-container\">\n",
              "      <div>\n",
              "<style scoped>\n",
              "    .dataframe tbody tr th:only-of-type {\n",
              "        vertical-align: middle;\n",
              "    }\n",
              "\n",
              "    .dataframe tbody tr th {\n",
              "        vertical-align: top;\n",
              "    }\n",
              "\n",
              "    .dataframe thead th {\n",
              "        text-align: right;\n",
              "    }\n",
              "</style>\n",
              "<table border=\"1\" class=\"dataframe\">\n",
              "  <thead>\n",
              "    <tr style=\"text-align: right;\">\n",
              "      <th></th>\n",
              "      <th>hour_of_day</th>\n",
              "      <th>hour_of_day_cos</th>\n",
              "      <th>hour_of_day_sin</th>\n",
              "      <th>month_of_year</th>\n",
              "      <th>month_of_year_cos</th>\n",
              "      <th>month_of_year_sin</th>\n",
              "      <th>season_of_year</th>\n",
              "      <th>season_of_year_cos</th>\n",
              "      <th>season_of_year_sin</th>\n",
              "      <th>sunposition_thetaZ</th>\n",
              "      <th>...</th>\n",
              "      <th>LowerWindDirection</th>\n",
              "      <th>LowerWindDirectionMath</th>\n",
              "      <th>LowerWindDirectionCos</th>\n",
              "      <th>LowerWindDirectionSin</th>\n",
              "      <th>UpperWindSpeed</th>\n",
              "      <th>UpperWindDirection</th>\n",
              "      <th>UpperWindDirectionMath</th>\n",
              "      <th>UpperWindDirectionCos</th>\n",
              "      <th>UpperWindDirectionSin</th>\n",
              "      <th>power_normed</th>\n",
              "    </tr>\n",
              "    <tr>\n",
              "      <th>time_idx</th>\n",
              "      <th></th>\n",
              "      <th></th>\n",
              "      <th></th>\n",
              "      <th></th>\n",
              "      <th></th>\n",
              "      <th></th>\n",
              "      <th></th>\n",
              "      <th></th>\n",
              "      <th></th>\n",
              "      <th></th>\n",
              "      <th></th>\n",
              "      <th></th>\n",
              "      <th></th>\n",
              "      <th></th>\n",
              "      <th></th>\n",
              "      <th></th>\n",
              "      <th></th>\n",
              "      <th></th>\n",
              "      <th></th>\n",
              "      <th></th>\n",
              "      <th></th>\n",
              "    </tr>\n",
              "  </thead>\n",
              "  <tbody>\n",
              "    <tr>\n",
              "      <th>1.0</th>\n",
              "      <td>0.000000</td>\n",
              "      <td>1.000000</td>\n",
              "      <td>0.000000</td>\n",
              "      <td>0.909091</td>\n",
              "      <td>0.017332</td>\n",
              "      <td>0.258819</td>\n",
              "      <td>1.0</td>\n",
              "      <td>0.0</td>\n",
              "      <td>0.000000</td>\n",
              "      <td>1.000000</td>\n",
              "      <td>...</td>\n",
              "      <td>0.554229</td>\n",
              "      <td>0.195738</td>\n",
              "      <td>0.667024</td>\n",
              "      <td>0.971278</td>\n",
              "      <td>0.494272</td>\n",
              "      <td>0.563420</td>\n",
              "      <td>0.186512</td>\n",
              "      <td>0.694226</td>\n",
              "      <td>0.960735</td>\n",
              "      <td>0.000000</td>\n",
              "    </tr>\n",
              "    <tr>\n",
              "      <th>2.0</th>\n",
              "      <td>0.142857</td>\n",
              "      <td>0.957824</td>\n",
              "      <td>0.399332</td>\n",
              "      <td>0.909091</td>\n",
              "      <td>0.017332</td>\n",
              "      <td>0.258819</td>\n",
              "      <td>1.0</td>\n",
              "      <td>0.0</td>\n",
              "      <td>0.000000</td>\n",
              "      <td>1.000000</td>\n",
              "      <td>...</td>\n",
              "      <td>0.726648</td>\n",
              "      <td>0.023317</td>\n",
              "      <td>0.994589</td>\n",
              "      <td>0.573364</td>\n",
              "      <td>0.456086</td>\n",
              "      <td>0.732230</td>\n",
              "      <td>0.017730</td>\n",
              "      <td>0.996887</td>\n",
              "      <td>0.555710</td>\n",
              "      <td>0.000000</td>\n",
              "    </tr>\n",
              "    <tr>\n",
              "      <th>3.0</th>\n",
              "      <td>0.285714</td>\n",
              "      <td>0.838278</td>\n",
              "      <td>0.732544</td>\n",
              "      <td>0.909091</td>\n",
              "      <td>0.017332</td>\n",
              "      <td>0.258819</td>\n",
              "      <td>1.0</td>\n",
              "      <td>0.0</td>\n",
              "      <td>0.000000</td>\n",
              "      <td>1.000000</td>\n",
              "      <td>...</td>\n",
              "      <td>0.702088</td>\n",
              "      <td>0.047877</td>\n",
              "      <td>0.977444</td>\n",
              "      <td>0.648484</td>\n",
              "      <td>0.545543</td>\n",
              "      <td>0.707816</td>\n",
              "      <td>0.042140</td>\n",
              "      <td>0.982548</td>\n",
              "      <td>0.630947</td>\n",
              "      <td>0.000000</td>\n",
              "    </tr>\n",
              "    <tr>\n",
              "      <th>4.0</th>\n",
              "      <td>0.428571</td>\n",
              "      <td>0.661157</td>\n",
              "      <td>0.944463</td>\n",
              "      <td>0.909091</td>\n",
              "      <td>0.017332</td>\n",
              "      <td>0.258819</td>\n",
              "      <td>1.0</td>\n",
              "      <td>0.0</td>\n",
              "      <td>0.000000</td>\n",
              "      <td>0.705699</td>\n",
              "      <td>...</td>\n",
              "      <td>0.691446</td>\n",
              "      <td>0.058519</td>\n",
              "      <td>0.966460</td>\n",
              "      <td>0.680042</td>\n",
              "      <td>0.663653</td>\n",
              "      <td>0.693619</td>\n",
              "      <td>0.056335</td>\n",
              "      <td>0.968971</td>\n",
              "      <td>0.673395</td>\n",
              "      <td>0.014560</td>\n",
              "    </tr>\n",
              "    <tr>\n",
              "      <th>5.0</th>\n",
              "      <td>0.571429</td>\n",
              "      <td>0.455788</td>\n",
              "      <td>1.000000</td>\n",
              "      <td>0.909091</td>\n",
              "      <td>0.017332</td>\n",
              "      <td>0.258819</td>\n",
              "      <td>1.0</td>\n",
              "      <td>0.0</td>\n",
              "      <td>0.000000</td>\n",
              "      <td>0.611994</td>\n",
              "      <td>...</td>\n",
              "      <td>0.698192</td>\n",
              "      <td>0.051774</td>\n",
              "      <td>0.973667</td>\n",
              "      <td>0.660124</td>\n",
              "      <td>0.634276</td>\n",
              "      <td>0.700475</td>\n",
              "      <td>0.049480</td>\n",
              "      <td>0.976001</td>\n",
              "      <td>0.653047</td>\n",
              "      <td>0.152064</td>\n",
              "    </tr>\n",
              "    <tr>\n",
              "      <th>...</th>\n",
              "      <td>...</td>\n",
              "      <td>...</td>\n",
              "      <td>...</td>\n",
              "      <td>...</td>\n",
              "      <td>...</td>\n",
              "      <td>...</td>\n",
              "      <td>...</td>\n",
              "      <td>...</td>\n",
              "      <td>...</td>\n",
              "      <td>...</td>\n",
              "      <td>...</td>\n",
              "      <td>...</td>\n",
              "      <td>...</td>\n",
              "      <td>...</td>\n",
              "      <td>...</td>\n",
              "      <td>...</td>\n",
              "      <td>...</td>\n",
              "      <td>...</td>\n",
              "      <td>...</td>\n",
              "      <td>...</td>\n",
              "      <td>...</td>\n",
              "    </tr>\n",
              "    <tr>\n",
              "      <th>6274.0</th>\n",
              "      <td>0.571429</td>\n",
              "      <td>0.455788</td>\n",
              "      <td>1.000000</td>\n",
              "      <td>1.000000</td>\n",
              "      <td>0.000000</td>\n",
              "      <td>0.000000</td>\n",
              "      <td>1.0</td>\n",
              "      <td>0.0</td>\n",
              "      <td>0.000000</td>\n",
              "      <td>0.732333</td>\n",
              "      <td>...</td>\n",
              "      <td>0.658843</td>\n",
              "      <td>0.091123</td>\n",
              "      <td>0.920103</td>\n",
              "      <td>0.771134</td>\n",
              "      <td>0.342627</td>\n",
              "      <td>0.667871</td>\n",
              "      <td>0.082079</td>\n",
              "      <td>0.934936</td>\n",
              "      <td>0.746639</td>\n",
              "      <td>0.110155</td>\n",
              "    </tr>\n",
              "    <tr>\n",
              "      <th>6275.0</th>\n",
              "      <td>0.714286</td>\n",
              "      <td>0.256176</td>\n",
              "      <td>0.889960</td>\n",
              "      <td>1.000000</td>\n",
              "      <td>0.000000</td>\n",
              "      <td>0.000000</td>\n",
              "      <td>1.0</td>\n",
              "      <td>0.0</td>\n",
              "      <td>0.000000</td>\n",
              "      <td>0.932838</td>\n",
              "      <td>...</td>\n",
              "      <td>0.588584</td>\n",
              "      <td>0.161383</td>\n",
              "      <td>0.764055</td>\n",
              "      <td>0.924588</td>\n",
              "      <td>0.206986</td>\n",
              "      <td>0.628933</td>\n",
              "      <td>0.121010</td>\n",
              "      <td>0.862281</td>\n",
              "      <td>0.844605</td>\n",
              "      <td>0.254311</td>\n",
              "    </tr>\n",
              "    <tr>\n",
              "      <th>6276.0</th>\n",
              "      <td>0.857143</td>\n",
              "      <td>0.095371</td>\n",
              "      <td>0.632563</td>\n",
              "      <td>1.000000</td>\n",
              "      <td>0.000000</td>\n",
              "      <td>0.000000</td>\n",
              "      <td>1.0</td>\n",
              "      <td>0.0</td>\n",
              "      <td>0.000000</td>\n",
              "      <td>1.000000</td>\n",
              "      <td>...</td>\n",
              "      <td>0.585595</td>\n",
              "      <td>0.164372</td>\n",
              "      <td>0.756039</td>\n",
              "      <td>0.929470</td>\n",
              "      <td>0.280862</td>\n",
              "      <td>0.634951</td>\n",
              "      <td>0.114993</td>\n",
              "      <td>0.875043</td>\n",
              "      <td>0.830670</td>\n",
              "      <td>0.003055</td>\n",
              "    </tr>\n",
              "    <tr>\n",
              "      <th>6277.0</th>\n",
              "      <td>1.000000</td>\n",
              "      <td>0.000000</td>\n",
              "      <td>0.270427</td>\n",
              "      <td>1.000000</td>\n",
              "      <td>0.000000</td>\n",
              "      <td>0.000000</td>\n",
              "      <td>1.0</td>\n",
              "      <td>0.0</td>\n",
              "      <td>0.000000</td>\n",
              "      <td>1.000000</td>\n",
              "      <td>...</td>\n",
              "      <td>0.586159</td>\n",
              "      <td>0.163807</td>\n",
              "      <td>0.757560</td>\n",
              "      <td>0.928559</td>\n",
              "      <td>0.255227</td>\n",
              "      <td>0.653428</td>\n",
              "      <td>0.096519</td>\n",
              "      <td>0.910807</td>\n",
              "      <td>0.785022</td>\n",
              "      <td>0.000000</td>\n",
              "    </tr>\n",
              "    <tr>\n",
              "      <th>6278.0</th>\n",
              "      <td>0.000000</td>\n",
              "      <td>1.000000</td>\n",
              "      <td>0.000000</td>\n",
              "      <td>0.000000</td>\n",
              "      <td>1.000000</td>\n",
              "      <td>0.258819</td>\n",
              "      <td>0.0</td>\n",
              "      <td>1.0</td>\n",
              "      <td>0.707107</td>\n",
              "      <td>1.000000</td>\n",
              "      <td>...</td>\n",
              "      <td>0.528872</td>\n",
              "      <td>0.221095</td>\n",
              "      <td>0.590171</td>\n",
              "      <td>0.991802</td>\n",
              "      <td>0.276868</td>\n",
              "      <td>0.600394</td>\n",
              "      <td>0.149544</td>\n",
              "      <td>0.795041</td>\n",
              "      <td>0.903672</td>\n",
              "      <td>0.000000</td>\n",
              "    </tr>\n",
              "  </tbody>\n",
              "</table>\n",
              "<p>6278 rows × 50 columns</p>\n",
              "</div>\n",
              "      <button class=\"colab-df-convert\" onclick=\"convertToInteractive('df-81f48615-dc47-42fa-ae76-83f84dd0c485')\"\n",
              "              title=\"Convert this dataframe to an interactive table.\"\n",
              "              style=\"display:none;\">\n",
              "        \n",
              "  <svg xmlns=\"http://www.w3.org/2000/svg\" height=\"24px\"viewBox=\"0 0 24 24\"\n",
              "       width=\"24px\">\n",
              "    <path d=\"M0 0h24v24H0V0z\" fill=\"none\"/>\n",
              "    <path d=\"M18.56 5.44l.94 2.06.94-2.06 2.06-.94-2.06-.94-.94-2.06-.94 2.06-2.06.94zm-11 1L8.5 8.5l.94-2.06 2.06-.94-2.06-.94L8.5 2.5l-.94 2.06-2.06.94zm10 10l.94 2.06.94-2.06 2.06-.94-2.06-.94-.94-2.06-.94 2.06-2.06.94z\"/><path d=\"M17.41 7.96l-1.37-1.37c-.4-.4-.92-.59-1.43-.59-.52 0-1.04.2-1.43.59L10.3 9.45l-7.72 7.72c-.78.78-.78 2.05 0 2.83L4 21.41c.39.39.9.59 1.41.59.51 0 1.02-.2 1.41-.59l7.78-7.78 2.81-2.81c.8-.78.8-2.07 0-2.86zM5.41 20L4 18.59l7.72-7.72 1.47 1.35L5.41 20z\"/>\n",
              "  </svg>\n",
              "      </button>\n",
              "      \n",
              "  <style>\n",
              "    .colab-df-container {\n",
              "      display:flex;\n",
              "      flex-wrap:wrap;\n",
              "      gap: 12px;\n",
              "    }\n",
              "\n",
              "    .colab-df-convert {\n",
              "      background-color: #E8F0FE;\n",
              "      border: none;\n",
              "      border-radius: 50%;\n",
              "      cursor: pointer;\n",
              "      display: none;\n",
              "      fill: #1967D2;\n",
              "      height: 32px;\n",
              "      padding: 0 0 0 0;\n",
              "      width: 32px;\n",
              "    }\n",
              "\n",
              "    .colab-df-convert:hover {\n",
              "      background-color: #E2EBFA;\n",
              "      box-shadow: 0px 1px 2px rgba(60, 64, 67, 0.3), 0px 1px 3px 1px rgba(60, 64, 67, 0.15);\n",
              "      fill: #174EA6;\n",
              "    }\n",
              "\n",
              "    [theme=dark] .colab-df-convert {\n",
              "      background-color: #3B4455;\n",
              "      fill: #D2E3FC;\n",
              "    }\n",
              "\n",
              "    [theme=dark] .colab-df-convert:hover {\n",
              "      background-color: #434B5C;\n",
              "      box-shadow: 0px 1px 3px 1px rgba(0, 0, 0, 0.15);\n",
              "      filter: drop-shadow(0px 1px 2px rgba(0, 0, 0, 0.3));\n",
              "      fill: #FFFFFF;\n",
              "    }\n",
              "  </style>\n",
              "\n",
              "      <script>\n",
              "        const buttonEl =\n",
              "          document.querySelector('#df-81f48615-dc47-42fa-ae76-83f84dd0c485 button.colab-df-convert');\n",
              "        buttonEl.style.display =\n",
              "          google.colab.kernel.accessAllowed ? 'block' : 'none';\n",
              "\n",
              "        async function convertToInteractive(key) {\n",
              "          const element = document.querySelector('#df-81f48615-dc47-42fa-ae76-83f84dd0c485');\n",
              "          const dataTable =\n",
              "            await google.colab.kernel.invokeFunction('convertToInteractive',\n",
              "                                                     [key], {});\n",
              "          if (!dataTable) return;\n",
              "\n",
              "          const docLinkHtml = 'Like what you see? Visit the ' +\n",
              "            '<a target=\"_blank\" href=https://colab.research.google.com/notebooks/data_table.ipynb>data table notebook</a>'\n",
              "            + ' to learn more about interactive tables.';\n",
              "          element.innerHTML = '';\n",
              "          dataTable['output_type'] = 'display_data';\n",
              "          await google.colab.output.renderOutput(dataTable, element);\n",
              "          const docLink = document.createElement('div');\n",
              "          docLink.innerHTML = docLinkHtml;\n",
              "          element.appendChild(docLink);\n",
              "        }\n",
              "      </script>\n",
              "    </div>\n",
              "  </div>\n",
              "  "
            ]
          },
          "metadata": {},
          "execution_count": 155
        }
      ]
    },
    {
      "cell_type": "code",
      "source": [
        "weather_input1=df.drop('power_normed',axis=1)\n",
        "weather_input=weather_input1.drop('time_idx',axis=1)\n",
        "solpow=df['power_normed']"
      ],
      "metadata": {
        "id": "Pa45q9E_eDeu"
      },
      "execution_count": 156,
      "outputs": []
    },
    {
      "cell_type": "code",
      "source": [
        "weather_input"
      ],
      "metadata": {
        "colab": {
          "base_uri": "https://localhost:8080/",
          "height": 488
        },
        "id": "_0MZt5RfeFic",
        "outputId": "4ee6c0c6-df23-4ff1-ce23-1521b567f1f7"
      },
      "execution_count": 157,
      "outputs": [
        {
          "output_type": "execute_result",
          "data": {
            "text/plain": [
              "      hour_of_day  hour_of_day_cos  hour_of_day_sin  month_of_year  \\\n",
              "0        0.000000         1.000000         0.000000       0.909091   \n",
              "1        0.142857         0.957824         0.399332       0.909091   \n",
              "2        0.285714         0.838278         0.732544       0.909091   \n",
              "3        0.428571         0.661157         0.944463       0.909091   \n",
              "4        0.571429         0.455788         1.000000       0.909091   \n",
              "...           ...              ...              ...            ...   \n",
              "6273     0.571429         0.455788         1.000000       1.000000   \n",
              "6274     0.714286         0.256176         0.889960       1.000000   \n",
              "6275     0.857143         0.095371         0.632563       1.000000   \n",
              "6276     1.000000         0.000000         0.270427       1.000000   \n",
              "6277     0.000000         1.000000         0.000000       0.000000   \n",
              "\n",
              "      month_of_year_cos  month_of_year_sin  season_of_year  \\\n",
              "0              0.017332           0.258819             1.0   \n",
              "1              0.017332           0.258819             1.0   \n",
              "2              0.017332           0.258819             1.0   \n",
              "3              0.017332           0.258819             1.0   \n",
              "4              0.017332           0.258819             1.0   \n",
              "...                 ...                ...             ...   \n",
              "6273           0.000000           0.000000             1.0   \n",
              "6274           0.000000           0.000000             1.0   \n",
              "6275           0.000000           0.000000             1.0   \n",
              "6276           0.000000           0.000000             1.0   \n",
              "6277           1.000000           0.258819             0.0   \n",
              "\n",
              "      season_of_year_cos  season_of_year_sin  sunposition_thetaZ  ...  \\\n",
              "0                    0.0            0.000000            1.000000  ...   \n",
              "1                    0.0            0.000000            1.000000  ...   \n",
              "2                    0.0            0.000000            1.000000  ...   \n",
              "3                    0.0            0.000000            0.705699  ...   \n",
              "4                    0.0            0.000000            0.611994  ...   \n",
              "...                  ...                 ...                 ...  ...   \n",
              "6273                 0.0            0.000000            0.732333  ...   \n",
              "6274                 0.0            0.000000            0.932838  ...   \n",
              "6275                 0.0            0.000000            1.000000  ...   \n",
              "6276                 0.0            0.000000            1.000000  ...   \n",
              "6277                 1.0            0.707107            1.000000  ...   \n",
              "\n",
              "      LowerWindSpeed  LowerWindDirection  LowerWindDirectionMath  \\\n",
              "0           0.458204            0.554229                0.195738   \n",
              "1           0.432281            0.726648                0.023317   \n",
              "2           0.513296            0.702088                0.047877   \n",
              "3           0.676684            0.691446                0.058519   \n",
              "4           0.656101            0.698192                0.051774   \n",
              "...              ...                 ...                     ...   \n",
              "6273        0.320468            0.658843                0.091123   \n",
              "6274        0.140410            0.588584                0.161383   \n",
              "6275        0.170925            0.585595                0.164372   \n",
              "6276        0.146045            0.586159                0.163807   \n",
              "6277        0.174378            0.528872                0.221095   \n",
              "\n",
              "      LowerWindDirectionCos  LowerWindDirectionSin  UpperWindSpeed  \\\n",
              "0                  0.667024               0.971278        0.494272   \n",
              "1                  0.994589               0.573364        0.456086   \n",
              "2                  0.977444               0.648484        0.545543   \n",
              "3                  0.966460               0.680042        0.663653   \n",
              "4                  0.973667               0.660124        0.634276   \n",
              "...                     ...                    ...             ...   \n",
              "6273               0.920103               0.771134        0.342627   \n",
              "6274               0.764055               0.924588        0.206986   \n",
              "6275               0.756039               0.929470        0.280862   \n",
              "6276               0.757560               0.928559        0.255227   \n",
              "6277               0.590171               0.991802        0.276868   \n",
              "\n",
              "      UpperWindDirection  UpperWindDirectionMath  UpperWindDirectionCos  \\\n",
              "0               0.563420                0.186512               0.694226   \n",
              "1               0.732230                0.017730               0.996887   \n",
              "2               0.707816                0.042140               0.982548   \n",
              "3               0.693619                0.056335               0.968971   \n",
              "4               0.700475                0.049480               0.976001   \n",
              "...                  ...                     ...                    ...   \n",
              "6273            0.667871                0.082079               0.934936   \n",
              "6274            0.628933                0.121010               0.862281   \n",
              "6275            0.634951                0.114993               0.875043   \n",
              "6276            0.653428                0.096519               0.910807   \n",
              "6277            0.600394                0.149544               0.795041   \n",
              "\n",
              "      UpperWindDirectionSin  \n",
              "0                  0.960735  \n",
              "1                  0.555710  \n",
              "2                  0.630947  \n",
              "3                  0.673395  \n",
              "4                  0.653047  \n",
              "...                     ...  \n",
              "6273               0.746639  \n",
              "6274               0.844605  \n",
              "6275               0.830670  \n",
              "6276               0.785022  \n",
              "6277               0.903672  \n",
              "\n",
              "[6278 rows x 49 columns]"
            ],
            "text/html": [
              "\n",
              "  <div id=\"df-b2c488bc-76f4-47f7-842d-db860af4c09f\">\n",
              "    <div class=\"colab-df-container\">\n",
              "      <div>\n",
              "<style scoped>\n",
              "    .dataframe tbody tr th:only-of-type {\n",
              "        vertical-align: middle;\n",
              "    }\n",
              "\n",
              "    .dataframe tbody tr th {\n",
              "        vertical-align: top;\n",
              "    }\n",
              "\n",
              "    .dataframe thead th {\n",
              "        text-align: right;\n",
              "    }\n",
              "</style>\n",
              "<table border=\"1\" class=\"dataframe\">\n",
              "  <thead>\n",
              "    <tr style=\"text-align: right;\">\n",
              "      <th></th>\n",
              "      <th>hour_of_day</th>\n",
              "      <th>hour_of_day_cos</th>\n",
              "      <th>hour_of_day_sin</th>\n",
              "      <th>month_of_year</th>\n",
              "      <th>month_of_year_cos</th>\n",
              "      <th>month_of_year_sin</th>\n",
              "      <th>season_of_year</th>\n",
              "      <th>season_of_year_cos</th>\n",
              "      <th>season_of_year_sin</th>\n",
              "      <th>sunposition_thetaZ</th>\n",
              "      <th>...</th>\n",
              "      <th>LowerWindSpeed</th>\n",
              "      <th>LowerWindDirection</th>\n",
              "      <th>LowerWindDirectionMath</th>\n",
              "      <th>LowerWindDirectionCos</th>\n",
              "      <th>LowerWindDirectionSin</th>\n",
              "      <th>UpperWindSpeed</th>\n",
              "      <th>UpperWindDirection</th>\n",
              "      <th>UpperWindDirectionMath</th>\n",
              "      <th>UpperWindDirectionCos</th>\n",
              "      <th>UpperWindDirectionSin</th>\n",
              "    </tr>\n",
              "  </thead>\n",
              "  <tbody>\n",
              "    <tr>\n",
              "      <th>0</th>\n",
              "      <td>0.000000</td>\n",
              "      <td>1.000000</td>\n",
              "      <td>0.000000</td>\n",
              "      <td>0.909091</td>\n",
              "      <td>0.017332</td>\n",
              "      <td>0.258819</td>\n",
              "      <td>1.0</td>\n",
              "      <td>0.0</td>\n",
              "      <td>0.000000</td>\n",
              "      <td>1.000000</td>\n",
              "      <td>...</td>\n",
              "      <td>0.458204</td>\n",
              "      <td>0.554229</td>\n",
              "      <td>0.195738</td>\n",
              "      <td>0.667024</td>\n",
              "      <td>0.971278</td>\n",
              "      <td>0.494272</td>\n",
              "      <td>0.563420</td>\n",
              "      <td>0.186512</td>\n",
              "      <td>0.694226</td>\n",
              "      <td>0.960735</td>\n",
              "    </tr>\n",
              "    <tr>\n",
              "      <th>1</th>\n",
              "      <td>0.142857</td>\n",
              "      <td>0.957824</td>\n",
              "      <td>0.399332</td>\n",
              "      <td>0.909091</td>\n",
              "      <td>0.017332</td>\n",
              "      <td>0.258819</td>\n",
              "      <td>1.0</td>\n",
              "      <td>0.0</td>\n",
              "      <td>0.000000</td>\n",
              "      <td>1.000000</td>\n",
              "      <td>...</td>\n",
              "      <td>0.432281</td>\n",
              "      <td>0.726648</td>\n",
              "      <td>0.023317</td>\n",
              "      <td>0.994589</td>\n",
              "      <td>0.573364</td>\n",
              "      <td>0.456086</td>\n",
              "      <td>0.732230</td>\n",
              "      <td>0.017730</td>\n",
              "      <td>0.996887</td>\n",
              "      <td>0.555710</td>\n",
              "    </tr>\n",
              "    <tr>\n",
              "      <th>2</th>\n",
              "      <td>0.285714</td>\n",
              "      <td>0.838278</td>\n",
              "      <td>0.732544</td>\n",
              "      <td>0.909091</td>\n",
              "      <td>0.017332</td>\n",
              "      <td>0.258819</td>\n",
              "      <td>1.0</td>\n",
              "      <td>0.0</td>\n",
              "      <td>0.000000</td>\n",
              "      <td>1.000000</td>\n",
              "      <td>...</td>\n",
              "      <td>0.513296</td>\n",
              "      <td>0.702088</td>\n",
              "      <td>0.047877</td>\n",
              "      <td>0.977444</td>\n",
              "      <td>0.648484</td>\n",
              "      <td>0.545543</td>\n",
              "      <td>0.707816</td>\n",
              "      <td>0.042140</td>\n",
              "      <td>0.982548</td>\n",
              "      <td>0.630947</td>\n",
              "    </tr>\n",
              "    <tr>\n",
              "      <th>3</th>\n",
              "      <td>0.428571</td>\n",
              "      <td>0.661157</td>\n",
              "      <td>0.944463</td>\n",
              "      <td>0.909091</td>\n",
              "      <td>0.017332</td>\n",
              "      <td>0.258819</td>\n",
              "      <td>1.0</td>\n",
              "      <td>0.0</td>\n",
              "      <td>0.000000</td>\n",
              "      <td>0.705699</td>\n",
              "      <td>...</td>\n",
              "      <td>0.676684</td>\n",
              "      <td>0.691446</td>\n",
              "      <td>0.058519</td>\n",
              "      <td>0.966460</td>\n",
              "      <td>0.680042</td>\n",
              "      <td>0.663653</td>\n",
              "      <td>0.693619</td>\n",
              "      <td>0.056335</td>\n",
              "      <td>0.968971</td>\n",
              "      <td>0.673395</td>\n",
              "    </tr>\n",
              "    <tr>\n",
              "      <th>4</th>\n",
              "      <td>0.571429</td>\n",
              "      <td>0.455788</td>\n",
              "      <td>1.000000</td>\n",
              "      <td>0.909091</td>\n",
              "      <td>0.017332</td>\n",
              "      <td>0.258819</td>\n",
              "      <td>1.0</td>\n",
              "      <td>0.0</td>\n",
              "      <td>0.000000</td>\n",
              "      <td>0.611994</td>\n",
              "      <td>...</td>\n",
              "      <td>0.656101</td>\n",
              "      <td>0.698192</td>\n",
              "      <td>0.051774</td>\n",
              "      <td>0.973667</td>\n",
              "      <td>0.660124</td>\n",
              "      <td>0.634276</td>\n",
              "      <td>0.700475</td>\n",
              "      <td>0.049480</td>\n",
              "      <td>0.976001</td>\n",
              "      <td>0.653047</td>\n",
              "    </tr>\n",
              "    <tr>\n",
              "      <th>...</th>\n",
              "      <td>...</td>\n",
              "      <td>...</td>\n",
              "      <td>...</td>\n",
              "      <td>...</td>\n",
              "      <td>...</td>\n",
              "      <td>...</td>\n",
              "      <td>...</td>\n",
              "      <td>...</td>\n",
              "      <td>...</td>\n",
              "      <td>...</td>\n",
              "      <td>...</td>\n",
              "      <td>...</td>\n",
              "      <td>...</td>\n",
              "      <td>...</td>\n",
              "      <td>...</td>\n",
              "      <td>...</td>\n",
              "      <td>...</td>\n",
              "      <td>...</td>\n",
              "      <td>...</td>\n",
              "      <td>...</td>\n",
              "      <td>...</td>\n",
              "    </tr>\n",
              "    <tr>\n",
              "      <th>6273</th>\n",
              "      <td>0.571429</td>\n",
              "      <td>0.455788</td>\n",
              "      <td>1.000000</td>\n",
              "      <td>1.000000</td>\n",
              "      <td>0.000000</td>\n",
              "      <td>0.000000</td>\n",
              "      <td>1.0</td>\n",
              "      <td>0.0</td>\n",
              "      <td>0.000000</td>\n",
              "      <td>0.732333</td>\n",
              "      <td>...</td>\n",
              "      <td>0.320468</td>\n",
              "      <td>0.658843</td>\n",
              "      <td>0.091123</td>\n",
              "      <td>0.920103</td>\n",
              "      <td>0.771134</td>\n",
              "      <td>0.342627</td>\n",
              "      <td>0.667871</td>\n",
              "      <td>0.082079</td>\n",
              "      <td>0.934936</td>\n",
              "      <td>0.746639</td>\n",
              "    </tr>\n",
              "    <tr>\n",
              "      <th>6274</th>\n",
              "      <td>0.714286</td>\n",
              "      <td>0.256176</td>\n",
              "      <td>0.889960</td>\n",
              "      <td>1.000000</td>\n",
              "      <td>0.000000</td>\n",
              "      <td>0.000000</td>\n",
              "      <td>1.0</td>\n",
              "      <td>0.0</td>\n",
              "      <td>0.000000</td>\n",
              "      <td>0.932838</td>\n",
              "      <td>...</td>\n",
              "      <td>0.140410</td>\n",
              "      <td>0.588584</td>\n",
              "      <td>0.161383</td>\n",
              "      <td>0.764055</td>\n",
              "      <td>0.924588</td>\n",
              "      <td>0.206986</td>\n",
              "      <td>0.628933</td>\n",
              "      <td>0.121010</td>\n",
              "      <td>0.862281</td>\n",
              "      <td>0.844605</td>\n",
              "    </tr>\n",
              "    <tr>\n",
              "      <th>6275</th>\n",
              "      <td>0.857143</td>\n",
              "      <td>0.095371</td>\n",
              "      <td>0.632563</td>\n",
              "      <td>1.000000</td>\n",
              "      <td>0.000000</td>\n",
              "      <td>0.000000</td>\n",
              "      <td>1.0</td>\n",
              "      <td>0.0</td>\n",
              "      <td>0.000000</td>\n",
              "      <td>1.000000</td>\n",
              "      <td>...</td>\n",
              "      <td>0.170925</td>\n",
              "      <td>0.585595</td>\n",
              "      <td>0.164372</td>\n",
              "      <td>0.756039</td>\n",
              "      <td>0.929470</td>\n",
              "      <td>0.280862</td>\n",
              "      <td>0.634951</td>\n",
              "      <td>0.114993</td>\n",
              "      <td>0.875043</td>\n",
              "      <td>0.830670</td>\n",
              "    </tr>\n",
              "    <tr>\n",
              "      <th>6276</th>\n",
              "      <td>1.000000</td>\n",
              "      <td>0.000000</td>\n",
              "      <td>0.270427</td>\n",
              "      <td>1.000000</td>\n",
              "      <td>0.000000</td>\n",
              "      <td>0.000000</td>\n",
              "      <td>1.0</td>\n",
              "      <td>0.0</td>\n",
              "      <td>0.000000</td>\n",
              "      <td>1.000000</td>\n",
              "      <td>...</td>\n",
              "      <td>0.146045</td>\n",
              "      <td>0.586159</td>\n",
              "      <td>0.163807</td>\n",
              "      <td>0.757560</td>\n",
              "      <td>0.928559</td>\n",
              "      <td>0.255227</td>\n",
              "      <td>0.653428</td>\n",
              "      <td>0.096519</td>\n",
              "      <td>0.910807</td>\n",
              "      <td>0.785022</td>\n",
              "    </tr>\n",
              "    <tr>\n",
              "      <th>6277</th>\n",
              "      <td>0.000000</td>\n",
              "      <td>1.000000</td>\n",
              "      <td>0.000000</td>\n",
              "      <td>0.000000</td>\n",
              "      <td>1.000000</td>\n",
              "      <td>0.258819</td>\n",
              "      <td>0.0</td>\n",
              "      <td>1.0</td>\n",
              "      <td>0.707107</td>\n",
              "      <td>1.000000</td>\n",
              "      <td>...</td>\n",
              "      <td>0.174378</td>\n",
              "      <td>0.528872</td>\n",
              "      <td>0.221095</td>\n",
              "      <td>0.590171</td>\n",
              "      <td>0.991802</td>\n",
              "      <td>0.276868</td>\n",
              "      <td>0.600394</td>\n",
              "      <td>0.149544</td>\n",
              "      <td>0.795041</td>\n",
              "      <td>0.903672</td>\n",
              "    </tr>\n",
              "  </tbody>\n",
              "</table>\n",
              "<p>6278 rows × 49 columns</p>\n",
              "</div>\n",
              "      <button class=\"colab-df-convert\" onclick=\"convertToInteractive('df-b2c488bc-76f4-47f7-842d-db860af4c09f')\"\n",
              "              title=\"Convert this dataframe to an interactive table.\"\n",
              "              style=\"display:none;\">\n",
              "        \n",
              "  <svg xmlns=\"http://www.w3.org/2000/svg\" height=\"24px\"viewBox=\"0 0 24 24\"\n",
              "       width=\"24px\">\n",
              "    <path d=\"M0 0h24v24H0V0z\" fill=\"none\"/>\n",
              "    <path d=\"M18.56 5.44l.94 2.06.94-2.06 2.06-.94-2.06-.94-.94-2.06-.94 2.06-2.06.94zm-11 1L8.5 8.5l.94-2.06 2.06-.94-2.06-.94L8.5 2.5l-.94 2.06-2.06.94zm10 10l.94 2.06.94-2.06 2.06-.94-2.06-.94-.94-2.06-.94 2.06-2.06.94z\"/><path d=\"M17.41 7.96l-1.37-1.37c-.4-.4-.92-.59-1.43-.59-.52 0-1.04.2-1.43.59L10.3 9.45l-7.72 7.72c-.78.78-.78 2.05 0 2.83L4 21.41c.39.39.9.59 1.41.59.51 0 1.02-.2 1.41-.59l7.78-7.78 2.81-2.81c.8-.78.8-2.07 0-2.86zM5.41 20L4 18.59l7.72-7.72 1.47 1.35L5.41 20z\"/>\n",
              "  </svg>\n",
              "      </button>\n",
              "      \n",
              "  <style>\n",
              "    .colab-df-container {\n",
              "      display:flex;\n",
              "      flex-wrap:wrap;\n",
              "      gap: 12px;\n",
              "    }\n",
              "\n",
              "    .colab-df-convert {\n",
              "      background-color: #E8F0FE;\n",
              "      border: none;\n",
              "      border-radius: 50%;\n",
              "      cursor: pointer;\n",
              "      display: none;\n",
              "      fill: #1967D2;\n",
              "      height: 32px;\n",
              "      padding: 0 0 0 0;\n",
              "      width: 32px;\n",
              "    }\n",
              "\n",
              "    .colab-df-convert:hover {\n",
              "      background-color: #E2EBFA;\n",
              "      box-shadow: 0px 1px 2px rgba(60, 64, 67, 0.3), 0px 1px 3px 1px rgba(60, 64, 67, 0.15);\n",
              "      fill: #174EA6;\n",
              "    }\n",
              "\n",
              "    [theme=dark] .colab-df-convert {\n",
              "      background-color: #3B4455;\n",
              "      fill: #D2E3FC;\n",
              "    }\n",
              "\n",
              "    [theme=dark] .colab-df-convert:hover {\n",
              "      background-color: #434B5C;\n",
              "      box-shadow: 0px 1px 3px 1px rgba(0, 0, 0, 0.15);\n",
              "      filter: drop-shadow(0px 1px 2px rgba(0, 0, 0, 0.3));\n",
              "      fill: #FFFFFF;\n",
              "    }\n",
              "  </style>\n",
              "\n",
              "      <script>\n",
              "        const buttonEl =\n",
              "          document.querySelector('#df-b2c488bc-76f4-47f7-842d-db860af4c09f button.colab-df-convert');\n",
              "        buttonEl.style.display =\n",
              "          google.colab.kernel.accessAllowed ? 'block' : 'none';\n",
              "\n",
              "        async function convertToInteractive(key) {\n",
              "          const element = document.querySelector('#df-b2c488bc-76f4-47f7-842d-db860af4c09f');\n",
              "          const dataTable =\n",
              "            await google.colab.kernel.invokeFunction('convertToInteractive',\n",
              "                                                     [key], {});\n",
              "          if (!dataTable) return;\n",
              "\n",
              "          const docLinkHtml = 'Like what you see? Visit the ' +\n",
              "            '<a target=\"_blank\" href=https://colab.research.google.com/notebooks/data_table.ipynb>data table notebook</a>'\n",
              "            + ' to learn more about interactive tables.';\n",
              "          element.innerHTML = '';\n",
              "          dataTable['output_type'] = 'display_data';\n",
              "          await google.colab.output.renderOutput(dataTable, element);\n",
              "          const docLink = document.createElement('div');\n",
              "          docLink.innerHTML = docLinkHtml;\n",
              "          element.appendChild(docLink);\n",
              "        }\n",
              "      </script>\n",
              "    </div>\n",
              "  </div>\n",
              "  "
            ]
          },
          "metadata": {},
          "execution_count": 157
        }
      ]
    },
    {
      "cell_type": "code",
      "source": [
        "solpow"
      ],
      "metadata": {
        "colab": {
          "base_uri": "https://localhost:8080/"
        },
        "id": "x8nsDE7beIIN",
        "outputId": "cb9f0ecd-cb3a-490d-85c5-44efc90827dd"
      },
      "execution_count": 158,
      "outputs": [
        {
          "output_type": "execute_result",
          "data": {
            "text/plain": [
              "0       0.000000\n",
              "1       0.000000\n",
              "2       0.000000\n",
              "3       0.014560\n",
              "4       0.152064\n",
              "          ...   \n",
              "6273    0.110155\n",
              "6274    0.254311\n",
              "6275    0.003055\n",
              "6276    0.000000\n",
              "6277    0.000000\n",
              "Name: power_normed, Length: 6278, dtype: float64"
            ]
          },
          "metadata": {},
          "execution_count": 158
        }
      ]
    },
    {
      "cell_type": "code",
      "source": [
        "def lstm_data_transform(x_data, y_data, num_steps=5):\n",
        "    \"\"\" Changes data to the format for LSTM training \n",
        "for sliding window approach \"\"\"\n",
        "    # Prepare the list for the transformed data\n",
        "    X, y = list(), list()\n",
        "    # Loop of the entire data set\n",
        "    for i in range(x_data.shape[0]):\n",
        "        # compute a new (sliding window) index\n",
        "        end_ix = i + num_steps\n",
        "        # if index is larger than the size of the dataset, we stop\n",
        "        if end_ix >= x_data.shape[0]:\n",
        "            break\n",
        "        # Get a sequence of data for x\n",
        "        seq_X = x_data[i:end_ix]\n",
        "        # Get only the last element of the sequency for y\n",
        "        seq_y = y_data[end_ix]\n",
        "        # Append the list with sequencies\n",
        "        X.append(seq_X)\n",
        "        y.append(seq_y)\n",
        "    # Make final arrays\n",
        "    x_array = np.array(X)\n",
        "    y_array = np.array(y)\n",
        "    return x_array, y_array"
      ],
      "metadata": {
        "id": "QyxKZjGPeOjs"
      },
      "execution_count": 159,
      "outputs": []
    },
    {
      "cell_type": "code",
      "source": [
        "num_steps = 3\n",
        "# training set\n",
        "(x_transformed,\n",
        " y_transformed) = lstm_data_transform(weather_input,solpow , num_steps=num_steps)\n",
        "assert x_transformed.shape[0] == y_transformed.shape[0]"
      ],
      "metadata": {
        "id": "CN0KFMGdeeBe"
      },
      "execution_count": 160,
      "outputs": []
    },
    {
      "cell_type": "code",
      "source": [
        "x_transformed"
      ],
      "metadata": {
        "colab": {
          "base_uri": "https://localhost:8080/"
        },
        "id": "5iQEFpPUe6xH",
        "outputId": "d7a2ce60-3eaa-404d-bacc-6967dc47fc90"
      },
      "execution_count": 161,
      "outputs": [
        {
          "output_type": "execute_result",
          "data": {
            "text/plain": [
              "array([[[0.        , 1.        , 0.        , ..., 0.18651183,\n",
              "         0.69422556, 0.96073469],\n",
              "        [0.14285714, 0.95782364, 0.39933202, ..., 0.01773001,\n",
              "         0.99688677, 0.55570954],\n",
              "        [0.28571429, 0.83827803, 0.73254369, ..., 0.0421404 ,\n",
              "         0.9825484 , 0.63094676]],\n",
              "\n",
              "       [[0.14285714, 0.95782364, 0.39933202, ..., 0.01773001,\n",
              "         0.99688677, 0.55570954],\n",
              "        [0.28571429, 0.83827803, 0.73254369, ..., 0.0421404 ,\n",
              "         0.9825484 , 0.63094676],\n",
              "        [0.42857143, 0.6611572 , 0.94446268, ..., 0.05633501,\n",
              "         0.96897142, 0.67339497]],\n",
              "\n",
              "       [[0.28571429, 0.83827803, 0.73254369, ..., 0.0421404 ,\n",
              "         0.9825484 , 0.63094676],\n",
              "        [0.42857143, 0.6611572 , 0.94446268, ..., 0.05633501,\n",
              "         0.96897142, 0.67339497],\n",
              "        [0.57142857, 0.45578837, 1.        , ..., 0.0494799 ,\n",
              "         0.9760008 , 0.65304656]],\n",
              "\n",
              "       ...,\n",
              "\n",
              "       [[0.42857143, 0.6611572 , 0.94446268, ..., 0.14602649,\n",
              "         0.80388798, 0.89705429],\n",
              "        [0.57142857, 0.45578837, 1.        , ..., 0.08207881,\n",
              "         0.93493565, 0.74663938],\n",
              "        [0.71428571, 0.25617597, 0.88995992, ..., 0.12100971,\n",
              "         0.86228099, 0.84460483]],\n",
              "\n",
              "       [[0.57142857, 0.45578837, 1.        , ..., 0.08207881,\n",
              "         0.93493565, 0.74663938],\n",
              "        [0.71428571, 0.25617597, 0.88995992, ..., 0.12100971,\n",
              "         0.86228099, 0.84460483],\n",
              "        [0.85714286, 0.09537131, 0.63256259, ..., 0.11499291,\n",
              "         0.87504326, 0.83066986]],\n",
              "\n",
              "       [[0.71428571, 0.25617597, 0.88995992, ..., 0.12100971,\n",
              "         0.86228099, 0.84460483],\n",
              "        [0.85714286, 0.09537131, 0.63256259, ..., 0.11499291,\n",
              "         0.87504326, 0.83066986],\n",
              "        [1.        , 0.        , 0.2704272 , ..., 0.09651901,\n",
              "         0.91080679, 0.78502243]]])"
            ]
          },
          "metadata": {},
          "execution_count": 161
        }
      ]
    },
    {
      "cell_type": "code",
      "source": [
        "y_transformed=y_transformed.reshape(-1,1)"
      ],
      "metadata": {
        "id": "u8rcWdtYe-ds"
      },
      "execution_count": 162,
      "outputs": []
    },
    {
      "cell_type": "code",
      "source": [
        "y_transformed.shape"
      ],
      "metadata": {
        "colab": {
          "base_uri": "https://localhost:8080/"
        },
        "id": "uiYw8J6uxECw",
        "outputId": "826fe873-5b7c-4d0d-9971-5039d3e3e662"
      },
      "execution_count": 163,
      "outputs": [
        {
          "output_type": "execute_result",
          "data": {
            "text/plain": [
              "(6275, 1)"
            ]
          },
          "metadata": {},
          "execution_count": 163
        }
      ]
    },
    {
      "cell_type": "code",
      "source": [
        "from sklearn.model_selection import train_test_split\n",
        "X_train, X_test, y_train, y_test = train_test_split(x_transformed, y_transformed, test_size=0.33, random_state=42,shuffle=False)"
      ],
      "metadata": {
        "id": "kBfe8xePfOIt"
      },
      "execution_count": 164,
      "outputs": []
    },
    {
      "cell_type": "code",
      "source": [
        "print(X_train.shape)\n",
        "print(X_test.shape)\n",
        "print(y_train.shape)\n",
        "print(y_test.shape)"
      ],
      "metadata": {
        "colab": {
          "base_uri": "https://localhost:8080/"
        },
        "id": "7giS9JUKfVF2",
        "outputId": "18f0c123-8b52-4229-c3db-8c71d943486b"
      },
      "execution_count": 165,
      "outputs": [
        {
          "output_type": "stream",
          "name": "stdout",
          "text": [
            "(4204, 3, 49)\n",
            "(2071, 3, 49)\n",
            "(4204, 1)\n",
            "(2071, 1)\n"
          ]
        }
      ]
    },
    {
      "cell_type": "code",
      "source": [
        "from keras.models import Sequential\n",
        "from keras.layers import Dense\n",
        "from keras.layers import LSTM\n",
        "from keras.layers import Dropout"
      ],
      "metadata": {
        "id": "Q2YwTVeof8GF"
      },
      "execution_count": 166,
      "outputs": []
    },
    {
      "cell_type": "code",
      "source": [
        "!pip install keras-tuner --upgrade"
      ],
      "metadata": {
        "id": "P7UPOccLgMTN",
        "colab": {
          "base_uri": "https://localhost:8080/"
        },
        "outputId": "ea117ab4-0d25-4461-a329-7332ab2d4c05"
      },
      "execution_count": 167,
      "outputs": [
        {
          "output_type": "stream",
          "name": "stdout",
          "text": [
            "Looking in indexes: https://pypi.org/simple, https://us-python.pkg.dev/colab-wheels/public/simple/\n",
            "Requirement already satisfied: keras-tuner in /usr/local/lib/python3.7/dist-packages (1.1.3)\n",
            "Requirement already satisfied: numpy in /usr/local/lib/python3.7/dist-packages (from keras-tuner) (1.21.6)\n",
            "Requirement already satisfied: kt-legacy in /usr/local/lib/python3.7/dist-packages (from keras-tuner) (1.0.4)\n",
            "Requirement already satisfied: ipython in /usr/local/lib/python3.7/dist-packages (from keras-tuner) (7.9.0)\n",
            "Requirement already satisfied: tensorboard in /usr/local/lib/python3.7/dist-packages (from keras-tuner) (2.9.1)\n",
            "Requirement already satisfied: requests in /usr/local/lib/python3.7/dist-packages (from keras-tuner) (2.23.0)\n",
            "Requirement already satisfied: packaging in /usr/local/lib/python3.7/dist-packages (from keras-tuner) (21.3)\n",
            "Requirement already satisfied: pexpect in /usr/local/lib/python3.7/dist-packages (from ipython->keras-tuner) (4.8.0)\n",
            "Requirement already satisfied: pickleshare in /usr/local/lib/python3.7/dist-packages (from ipython->keras-tuner) (0.7.5)\n",
            "Requirement already satisfied: jedi>=0.10 in /usr/local/lib/python3.7/dist-packages (from ipython->keras-tuner) (0.18.1)\n",
            "Requirement already satisfied: pygments in /usr/local/lib/python3.7/dist-packages (from ipython->keras-tuner) (2.6.1)\n",
            "Requirement already satisfied: backcall in /usr/local/lib/python3.7/dist-packages (from ipython->keras-tuner) (0.2.0)\n",
            "Requirement already satisfied: decorator in /usr/local/lib/python3.7/dist-packages (from ipython->keras-tuner) (4.4.2)\n",
            "Requirement already satisfied: traitlets>=4.2 in /usr/local/lib/python3.7/dist-packages (from ipython->keras-tuner) (5.1.1)\n",
            "Requirement already satisfied: setuptools>=18.5 in /usr/local/lib/python3.7/dist-packages (from ipython->keras-tuner) (57.4.0)\n",
            "Requirement already satisfied: prompt-toolkit<2.1.0,>=2.0.0 in /usr/local/lib/python3.7/dist-packages (from ipython->keras-tuner) (2.0.10)\n",
            "Requirement already satisfied: parso<0.9.0,>=0.8.0 in /usr/local/lib/python3.7/dist-packages (from jedi>=0.10->ipython->keras-tuner) (0.8.3)\n",
            "Requirement already satisfied: six>=1.9.0 in /usr/local/lib/python3.7/dist-packages (from prompt-toolkit<2.1.0,>=2.0.0->ipython->keras-tuner) (1.15.0)\n",
            "Requirement already satisfied: wcwidth in /usr/local/lib/python3.7/dist-packages (from prompt-toolkit<2.1.0,>=2.0.0->ipython->keras-tuner) (0.2.5)\n",
            "Requirement already satisfied: pyparsing!=3.0.5,>=2.0.2 in /usr/local/lib/python3.7/dist-packages (from packaging->keras-tuner) (3.0.9)\n",
            "Requirement already satisfied: ptyprocess>=0.5 in /usr/local/lib/python3.7/dist-packages (from pexpect->ipython->keras-tuner) (0.7.0)\n",
            "Requirement already satisfied: urllib3!=1.25.0,!=1.25.1,<1.26,>=1.21.1 in /usr/local/lib/python3.7/dist-packages (from requests->keras-tuner) (1.24.3)\n",
            "Requirement already satisfied: idna<3,>=2.5 in /usr/local/lib/python3.7/dist-packages (from requests->keras-tuner) (2.10)\n",
            "Requirement already satisfied: chardet<4,>=3.0.2 in /usr/local/lib/python3.7/dist-packages (from requests->keras-tuner) (3.0.4)\n",
            "Requirement already satisfied: certifi>=2017.4.17 in /usr/local/lib/python3.7/dist-packages (from requests->keras-tuner) (2022.9.24)\n",
            "Requirement already satisfied: werkzeug>=1.0.1 in /usr/local/lib/python3.7/dist-packages (from tensorboard->keras-tuner) (1.0.1)\n",
            "Requirement already satisfied: grpcio>=1.24.3 in /usr/local/lib/python3.7/dist-packages (from tensorboard->keras-tuner) (1.50.0)\n",
            "Requirement already satisfied: google-auth<3,>=1.6.3 in /usr/local/lib/python3.7/dist-packages (from tensorboard->keras-tuner) (2.14.1)\n",
            "Requirement already satisfied: markdown>=2.6.8 in /usr/local/lib/python3.7/dist-packages (from tensorboard->keras-tuner) (3.4.1)\n",
            "Requirement already satisfied: wheel>=0.26 in /usr/local/lib/python3.7/dist-packages (from tensorboard->keras-tuner) (0.38.3)\n",
            "Requirement already satisfied: protobuf<3.20,>=3.9.2 in /usr/local/lib/python3.7/dist-packages (from tensorboard->keras-tuner) (3.19.6)\n",
            "Requirement already satisfied: google-auth-oauthlib<0.5,>=0.4.1 in /usr/local/lib/python3.7/dist-packages (from tensorboard->keras-tuner) (0.4.6)\n",
            "Requirement already satisfied: tensorboard-plugin-wit>=1.6.0 in /usr/local/lib/python3.7/dist-packages (from tensorboard->keras-tuner) (1.8.1)\n",
            "Requirement already satisfied: absl-py>=0.4 in /usr/local/lib/python3.7/dist-packages (from tensorboard->keras-tuner) (1.3.0)\n",
            "Requirement already satisfied: tensorboard-data-server<0.7.0,>=0.6.0 in /usr/local/lib/python3.7/dist-packages (from tensorboard->keras-tuner) (0.6.1)\n",
            "Requirement already satisfied: cachetools<6.0,>=2.0.0 in /usr/local/lib/python3.7/dist-packages (from google-auth<3,>=1.6.3->tensorboard->keras-tuner) (5.2.0)\n",
            "Requirement already satisfied: rsa<5,>=3.1.4 in /usr/local/lib/python3.7/dist-packages (from google-auth<3,>=1.6.3->tensorboard->keras-tuner) (4.9)\n",
            "Requirement already satisfied: pyasn1-modules>=0.2.1 in /usr/local/lib/python3.7/dist-packages (from google-auth<3,>=1.6.3->tensorboard->keras-tuner) (0.2.8)\n",
            "Requirement already satisfied: requests-oauthlib>=0.7.0 in /usr/local/lib/python3.7/dist-packages (from google-auth-oauthlib<0.5,>=0.4.1->tensorboard->keras-tuner) (1.3.1)\n",
            "Requirement already satisfied: importlib-metadata>=4.4 in /usr/local/lib/python3.7/dist-packages (from markdown>=2.6.8->tensorboard->keras-tuner) (4.13.0)\n",
            "Requirement already satisfied: typing-extensions>=3.6.4 in /usr/local/lib/python3.7/dist-packages (from importlib-metadata>=4.4->markdown>=2.6.8->tensorboard->keras-tuner) (4.1.1)\n",
            "Requirement already satisfied: zipp>=0.5 in /usr/local/lib/python3.7/dist-packages (from importlib-metadata>=4.4->markdown>=2.6.8->tensorboard->keras-tuner) (3.10.0)\n",
            "Requirement already satisfied: pyasn1<0.5.0,>=0.4.6 in /usr/local/lib/python3.7/dist-packages (from pyasn1-modules>=0.2.1->google-auth<3,>=1.6.3->tensorboard->keras-tuner) (0.4.8)\n",
            "Requirement already satisfied: oauthlib>=3.0.0 in /usr/local/lib/python3.7/dist-packages (from requests-oauthlib>=0.7.0->google-auth-oauthlib<0.5,>=0.4.1->tensorboard->keras-tuner) (3.2.2)\n"
          ]
        }
      ]
    },
    {
      "cell_type": "code",
      "source": [
        "import pandas as pd\n",
        "import math\n",
        "import keras\n",
        "import numpy as np\n",
        "from sklearn.preprocessing import MinMaxScaler\n",
        "from kerastuner.tuners import RandomSearch\n",
        "from kerastuner.engine.hyperparameters import HyperParameters\n",
        "from pickle import dump,load\n",
        "import warnings\n",
        "warnings.simplefilter(\"ignore\", UserWarning)"
      ],
      "metadata": {
        "id": "yptm-jmhhpGM"
      },
      "execution_count": 168,
      "outputs": []
    },
    {
      "cell_type": "code",
      "source": [
        "def build_model(hp):\n",
        "    model = Sequential()\n",
        "    model.add(LSTM(hp.Int('input_unit',min_value=32,max_value=512,step=32),return_sequences=True, input_shape=(X_train.shape[1],X_train.shape[2])))\n",
        "    for i in range(hp.Int('n_layers', 1, 4)):\n",
        "        model.add(LSTM(hp.Int(f'lstm_{i}_units',min_value=32,max_value=512,step=32),return_sequences=True))\n",
        "    model.add(LSTM(hp.Int('layer_2_neurons',min_value=32,max_value=512,step=32)))\n",
        "    model.add(Dropout(hp.Float('Dropout_rate',min_value=0,max_value=0.5,step=0.1)))\n",
        "    model.add(Dense(1, activation=hp.Choice('dense_activation',values=['relu', 'sigmoid'],default='relu')))\n",
        "    model.compile(loss='mean_squared_error', optimizer='adam',metrics = ['mse'])\n",
        "    return model"
      ],
      "metadata": {
        "id": "mh9Zm8gVh278"
      },
      "execution_count": 169,
      "outputs": []
    },
    {
      "cell_type": "code",
      "source": [
        "import keras_tuner as kt"
      ],
      "metadata": {
        "id": "_TSMwEVZh7_u"
      },
      "execution_count": 170,
      "outputs": []
    },
    {
      "cell_type": "code",
      "source": [
        "tuner = kt.RandomSearch(\n",
        "    build_model,\n",
        "    objective='mse',\n",
        "    max_trials=2,\n",
        "    executions_per_trial=1\n",
        "    )"
      ],
      "metadata": {
        "id": "jMlRgy-fiA3m"
      },
      "execution_count": 171,
      "outputs": []
    },
    {
      "cell_type": "code",
      "source": [
        "history=tuner.search(\n",
        "        x=X_train,\n",
        "        y=y_train,\n",
        "        epochs=50,\n",
        "        batch_size=64,\n",
        "        validation_data=(X_test,y_test),\n",
        ")"
      ],
      "metadata": {
        "colab": {
          "base_uri": "https://localhost:8080/"
        },
        "id": "91B4TaDKiDws",
        "outputId": "860720a0-fcda-4504-ce09-cfd4f351c0c0"
      },
      "execution_count": 172,
      "outputs": [
        {
          "output_type": "stream",
          "name": "stdout",
          "text": [
            "Trial 3 Complete [00h 10m 24s]\n",
            "mse: 0.003141578286886215\n",
            "\n",
            "Best mse So Far: 0.003141578286886215\n",
            "Total elapsed time: 00h 10m 24s\n"
          ]
        }
      ]
    },
    {
      "cell_type": "code",
      "source": [
        "best_model = tuner.get_best_models(num_models=1)[0]"
      ],
      "metadata": {
        "id": "rY1-_F-kjjAN"
      },
      "execution_count": 173,
      "outputs": []
    },
    {
      "cell_type": "code",
      "source": [
        "best_model.summary()"
      ],
      "metadata": {
        "colab": {
          "base_uri": "https://localhost:8080/"
        },
        "id": "ioCjtrG4tfql",
        "outputId": "5504357a-2f9f-440c-d3a1-de9bc91f1f27"
      },
      "execution_count": 174,
      "outputs": [
        {
          "output_type": "stream",
          "name": "stdout",
          "text": [
            "Model: \"sequential\"\n",
            "_________________________________________________________________\n",
            " Layer (type)                Output Shape              Param #   \n",
            "=================================================================\n",
            " lstm (LSTM)                 (None, 3, 96)             56064     \n",
            "                                                                 \n",
            " lstm_1 (LSTM)               (None, 3, 224)            287616    \n",
            "                                                                 \n",
            " lstm_2 (LSTM)               (None, 3, 384)            935424    \n",
            "                                                                 \n",
            " lstm_3 (LSTM)               (None, 3, 352)            1037696   \n",
            "                                                                 \n",
            " lstm_4 (LSTM)               (None, 448)               1435392   \n",
            "                                                                 \n",
            " dropout (Dropout)           (None, 448)               0         \n",
            "                                                                 \n",
            " dense (Dense)               (None, 1)                 449       \n",
            "                                                                 \n",
            "=================================================================\n",
            "Total params: 3,752,641\n",
            "Trainable params: 3,752,641\n",
            "Non-trainable params: 0\n",
            "_________________________________________________________________\n"
          ]
        }
      ]
    },
    {
      "cell_type": "code",
      "source": [
        "Y_lstm=best_model.predict(X_test)"
      ],
      "metadata": {
        "colab": {
          "base_uri": "https://localhost:8080/"
        },
        "id": "8pP9VX10pYrk",
        "outputId": "1bb8fe17-4a0c-42ce-d5e7-78fdfec575b4"
      },
      "execution_count": 175,
      "outputs": [
        {
          "output_type": "stream",
          "name": "stdout",
          "text": [
            "65/65 [==============================] - 4s 31ms/step\n"
          ]
        }
      ]
    },
    {
      "cell_type": "code",
      "source": [
        "plt.scatter(Y_lstm,y_test)\n",
        "plt.show()"
      ],
      "metadata": {
        "colab": {
          "base_uri": "https://localhost:8080/",
          "height": 265
        },
        "id": "t1CTdwcapl76",
        "outputId": "65074930-2fb1-44eb-f4ab-16f8797e349e"
      },
      "execution_count": 176,
      "outputs": [
        {
          "output_type": "display_data",
          "data": {
            "text/plain": [
              "<Figure size 432x288 with 1 Axes>"
            ],
            "image/png": "[encoded data removed]"
          },
          "metadata": {
            "needs_background": "light"
          }
        }
      ]
    },
    {
      "cell_type": "code",
      "source": [
        "from sklearn.metrics import mean_squared_error\n",
        "from math import sqrt"
      ],
      "metadata": {
        "id": "uZ3pifWFqn4k"
      },
      "execution_count": 177,
      "outputs": []
    },
    {
      "cell_type": "code",
      "source": [
        "rmse_LSTM= sqrt(mean_squared_error(Y_lstm,y_test))\n",
        "print(rmse_LSTM)"
      ],
      "metadata": {
        "colab": {
          "base_uri": "https://localhost:8080/"
        },
        "id": "bpbCJljauHls",
        "outputId": "c515e0c3-c6aa-4d60-fc21-0c586749b8c1"
      },
      "execution_count": 178,
      "outputs": [
        {
          "output_type": "stream",
          "name": "stdout",
          "text": [
            "0.06188453131973487\n"
          ]
        }
      ]
    },
    {
      "cell_type": "code",
      "source": [
        "from sklearn.datasets import make_classification\n",
        "from sklearn.datasets import make_classification\n",
        "from sklearn.preprocessing import MinMaxScaler\n",
        "from sklearn.model_selection import train_test_split\n",
        "from keras.layers import LeakyReLU\n",
        "from keras.models import Model\n",
        "from keras.layers import Input\n",
        "from keras.layers import Dense\n",
        "from keras.layers import BatchNormalization\n",
        "from keras.models import load_model"
      ],
      "metadata": {
        "id": "IRjOIxrbx7L1"
      },
      "execution_count": 191,
      "outputs": []
    },
    {
      "cell_type": "code",
      "source": [
        "x_transformed.shape"
      ],
      "metadata": {
        "colab": {
          "base_uri": "https://localhost:8080/"
        },
        "id": "1rfuBKcN7gax",
        "outputId": "bac90f4e-c3bd-42d8-f6d4-8c74047325ec"
      },
      "execution_count": 192,
      "outputs": [
        {
          "output_type": "execute_result",
          "data": {
            "text/plain": [
              "(6275, 3, 49)"
            ]
          },
          "metadata": {},
          "execution_count": 192
        }
      ]
    },
    {
      "cell_type": "code",
      "source": [
        "n_inputs=weather_input.shape[1]"
      ],
      "metadata": {
        "id": "MbleJHHv7f8B"
      },
      "execution_count": 193,
      "outputs": []
    },
    {
      "cell_type": "code",
      "source": [
        "input_data_shape= Input(shape=(n_inputs,))\n",
        "# encoder level 1\n",
        "encoder= Dense(n_inputs*2)(input_data_shape)\n",
        "encoder = BatchNormalization()(encoder)\n",
        "encoder= LeakyReLU()(encoder)\n",
        "# encoder level 2\n",
        "encoder= Dense(n_inputs)(encoder)\n",
        "encoder= BatchNormalization()(encoder)\n",
        "encoder= LeakyReLU()(encoder)\n",
        "# bottleneck\n",
        "#n_bottleneck = round(float(n_inputs) / 2.0)\n",
        "n_bottleneck = 20\n",
        "bottleneck = Dense(n_bottleneck)(encoder)\n",
        "# define decoder, level 1\n",
        "decoder = Dense(n_inputs)(bottleneck)\n",
        "decoder = BatchNormalization()(decoder)\n",
        "decoder = LeakyReLU()(decoder)\n",
        "# decoder level 2\n",
        "decoder = Dense(n_inputs*2)(decoder)\n",
        "decoder = BatchNormalization()(decoder)\n",
        "decoder = LeakyReLU()(decoder)"
      ],
      "metadata": {
        "id": "0c9tsORr7X3j"
      },
      "execution_count": 194,
      "outputs": []
    },
    {
      "cell_type": "code",
      "source": [
        "# output layer\n",
        "output = Dense(n_inputs, activation='linear')(decoder)\n",
        "# define autoencoder model\n",
        "model = Model(inputs=input_data_shape, outputs=output)\n",
        "# compile autoencoder model\n",
        "model.compile(optimizer='adam', loss='mse')"
      ],
      "metadata": {
        "id": "L0w5EJOh8JOx"
      },
      "execution_count": 195,
      "outputs": []
    },
    {
      "cell_type": "code",
      "source": [
        " model.fit(weather_input,weather_input, epochs=50, batch_size=16, verbose=2)"
      ],
      "metadata": {
        "colab": {
          "base_uri": "https://localhost:8080/"
        },
        "id": "T1ZqQHN78Pf5",
        "outputId": "ed3c7197-17e6-4ec3-d942-efb3f94299ca"
      },
      "execution_count": 196,
      "outputs": [
        {
          "output_type": "stream",
          "name": "stdout",
          "text": [
            "Epoch 1/50\n",
            "393/393 - 2s - loss: 0.0690 - 2s/epoch - 6ms/step\n",
            "Epoch 2/50\n",
            "393/393 - 1s - loss: 0.0204 - 1s/epoch - 3ms/step\n",
            "Epoch 3/50\n",
            "393/393 - 1s - loss: 0.0170 - 1s/epoch - 3ms/step\n",
            "Epoch 4/50\n",
            "393/393 - 1s - loss: 0.0153 - 1s/epoch - 3ms/step\n",
            "Epoch 5/50\n",
            "393/393 - 1s - loss: 0.0141 - 1s/epoch - 3ms/step\n",
            "Epoch 6/50\n",
            "393/393 - 1s - loss: 0.0131 - 1s/epoch - 3ms/step\n",
            "Epoch 7/50\n",
            "393/393 - 1s - loss: 0.0125 - 1s/epoch - 3ms/step\n",
            "Epoch 8/50\n",
            "393/393 - 1s - loss: 0.0120 - 1s/epoch - 3ms/step\n",
            "Epoch 9/50\n",
            "393/393 - 1s - loss: 0.0114 - 1s/epoch - 3ms/step\n",
            "Epoch 10/50\n",
            "393/393 - 1s - loss: 0.0111 - 1s/epoch - 3ms/step\n",
            "Epoch 11/50\n",
            "393/393 - 1s - loss: 0.0105 - 1s/epoch - 3ms/step\n",
            "Epoch 12/50\n",
            "393/393 - 1s - loss: 0.0097 - 1s/epoch - 3ms/step\n",
            "Epoch 13/50\n",
            "393/393 - 1s - loss: 0.0095 - 1s/epoch - 3ms/step\n",
            "Epoch 14/50\n",
            "393/393 - 1s - loss: 0.0091 - 1s/epoch - 3ms/step\n",
            "Epoch 15/50\n",
            "393/393 - 1s - loss: 0.0090 - 1s/epoch - 3ms/step\n",
            "Epoch 16/50\n",
            "393/393 - 1s - loss: 0.0086 - 1s/epoch - 3ms/step\n",
            "Epoch 17/50\n",
            "393/393 - 1s - loss: 0.0081 - 1s/epoch - 3ms/step\n",
            "Epoch 18/50\n",
            "393/393 - 1s - loss: 0.0082 - 1s/epoch - 3ms/step\n",
            "Epoch 19/50\n",
            "393/393 - 1s - loss: 0.0079 - 1s/epoch - 3ms/step\n",
            "Epoch 20/50\n",
            "393/393 - 1s - loss: 0.0077 - 1s/epoch - 3ms/step\n",
            "Epoch 21/50\n",
            "393/393 - 1s - loss: 0.0074 - 1s/epoch - 3ms/step\n",
            "Epoch 22/50\n",
            "393/393 - 1s - loss: 0.0072 - 1s/epoch - 3ms/step\n",
            "Epoch 23/50\n",
            "393/393 - 1s - loss: 0.0070 - 1s/epoch - 3ms/step\n",
            "Epoch 24/50\n",
            "393/393 - 1s - loss: 0.0070 - 1s/epoch - 3ms/step\n",
            "Epoch 25/50\n",
            "393/393 - 1s - loss: 0.0069 - 1s/epoch - 3ms/step\n",
            "Epoch 26/50\n",
            "393/393 - 1s - loss: 0.0066 - 1s/epoch - 3ms/step\n",
            "Epoch 27/50\n",
            "393/393 - 1s - loss: 0.0064 - 1s/epoch - 3ms/step\n",
            "Epoch 28/50\n",
            "393/393 - 1s - loss: 0.0063 - 1s/epoch - 3ms/step\n",
            "Epoch 29/50\n",
            "393/393 - 1s - loss: 0.0062 - 1s/epoch - 3ms/step\n",
            "Epoch 30/50\n",
            "393/393 - 1s - loss: 0.0060 - 1s/epoch - 3ms/step\n",
            "Epoch 31/50\n",
            "393/393 - 1s - loss: 0.0059 - 1s/epoch - 3ms/step\n",
            "Epoch 32/50\n",
            "393/393 - 1s - loss: 0.0057 - 1s/epoch - 3ms/step\n",
            "Epoch 33/50\n",
            "393/393 - 2s - loss: 0.0057 - 2s/epoch - 5ms/step\n",
            "Epoch 34/50\n",
            "393/393 - 2s - loss: 0.0054 - 2s/epoch - 4ms/step\n",
            "Epoch 35/50\n",
            "393/393 - 1s - loss: 0.0053 - 1s/epoch - 3ms/step\n",
            "Epoch 36/50\n",
            "393/393 - 1s - loss: 0.0053 - 1s/epoch - 3ms/step\n",
            "Epoch 37/50\n",
            "393/393 - 1s - loss: 0.0051 - 1s/epoch - 3ms/step\n",
            "Epoch 38/50\n",
            "393/393 - 1s - loss: 0.0049 - 1s/epoch - 3ms/step\n",
            "Epoch 39/50\n",
            "393/393 - 1s - loss: 0.0048 - 1s/epoch - 3ms/step\n",
            "Epoch 40/50\n",
            "393/393 - 1s - loss: 0.0050 - 1s/epoch - 3ms/step\n",
            "Epoch 41/50\n",
            "393/393 - 1s - loss: 0.0048 - 1s/epoch - 3ms/step\n",
            "Epoch 42/50\n",
            "393/393 - 1s - loss: 0.0045 - 1s/epoch - 3ms/step\n",
            "Epoch 43/50\n",
            "393/393 - 1s - loss: 0.0046 - 1s/epoch - 3ms/step\n",
            "Epoch 44/50\n",
            "393/393 - 1s - loss: 0.0044 - 1s/epoch - 4ms/step\n",
            "Epoch 45/50\n",
            "393/393 - 1s - loss: 0.0043 - 1s/epoch - 3ms/step\n",
            "Epoch 46/50\n",
            "393/393 - 1s - loss: 0.0042 - 1s/epoch - 3ms/step\n",
            "Epoch 47/50\n",
            "393/393 - 1s - loss: 0.0042 - 1s/epoch - 3ms/step\n",
            "Epoch 48/50\n",
            "393/393 - 1s - loss: 0.0041 - 1s/epoch - 3ms/step\n",
            "Epoch 49/50\n",
            "393/393 - 1s - loss: 0.0041 - 1s/epoch - 3ms/step\n",
            "Epoch 50/50\n",
            "393/393 - 1s - loss: 0.0041 - 1s/epoch - 3ms/step\n"
          ]
        },
        {
          "output_type": "execute_result",
          "data": {
            "text/plain": [
              "<keras.callbacks.History at 0x7f7b3eb54a50>"
            ]
          },
          "metadata": {},
          "execution_count": 196
        }
      ]
    },
    {
      "cell_type": "code",
      "source": [
        "# define an encoder model (without the decoder)\n",
        "encoder = Model(inputs=input_data_shape, outputs=bottleneck)\n",
        "# save the encoder to file\n",
        "encoder.save('encoder.h5')"
      ],
      "metadata": {
        "colab": {
          "base_uri": "https://localhost:8080/"
        },
        "id": "og8rnV4V9Yo9",
        "outputId": "62e5633c-e5a7-4c40-9d25-ea30be72a506"
      },
      "execution_count": 197,
      "outputs": [
        {
          "output_type": "stream",
          "name": "stderr",
          "text": [
            "WARNING:tensorflow:Compiled the loaded model, but the compiled metrics have yet to be built. `model.compile_metrics` will be empty until you train or evaluate the model.\n"
          ]
        }
      ]
    },
    {
      "cell_type": "code",
      "source": [
        "solpow=solpow.to_numpy().reshape(-1,1)"
      ],
      "metadata": {
        "id": "Oi1e3kB299nL"
      },
      "execution_count": 199,
      "outputs": []
    },
    {
      "cell_type": "code",
      "source": [
        "encoder = load_model('encoder.h5')\n",
        "\n",
        "# encode the train data\n",
        "X_train_encode = encoder.predict(weather_input)"
      ],
      "metadata": {
        "colab": {
          "base_uri": "https://localhost:8080/"
        },
        "id": "hjfUdnXc9e4z",
        "outputId": "70a1989c-a0f5-4e81-e88e-4c7594896da8"
      },
      "execution_count": 200,
      "outputs": [
        {
          "output_type": "stream",
          "name": "stderr",
          "text": [
            "WARNING:tensorflow:No training configuration found in the save file, so the model was *not* compiled. Compile it manually.\n"
          ]
        },
        {
          "output_type": "stream",
          "name": "stdout",
          "text": [
            "197/197 [==============================] - 0s 2ms/step\n"
          ]
        }
      ]
    },
    {
      "cell_type": "code",
      "source": [
        "X_train_encode.shape"
      ],
      "metadata": {
        "colab": {
          "base_uri": "https://localhost:8080/"
        },
        "id": "iudOHKuq-IgJ",
        "outputId": "2d33bc78-9fb8-466a-865d-b1cefcbf9dd0"
      },
      "execution_count": 201,
      "outputs": [
        {
          "output_type": "execute_result",
          "data": {
            "text/plain": [
              "(6278, 20)"
            ]
          },
          "metadata": {},
          "execution_count": 201
        }
      ]
    },
    {
      "cell_type": "code",
      "source": [
        "num_steps = 3\n",
        "# training set\n",
        "(x_transformed1,\n",
        " y_transformed1) = lstm_data_transform(X_train_encode,solpow , num_steps=num_steps)\n",
        "assert x_transformed.shape[0] == y_transformed.shape[0]"
      ],
      "metadata": {
        "id": "8P0lwK23-WVq"
      },
      "execution_count": 202,
      "outputs": []
    },
    {
      "cell_type": "code",
      "source": [
        "x_transformed1.shape"
      ],
      "metadata": {
        "colab": {
          "base_uri": "https://localhost:8080/"
        },
        "id": "QOoVWfvl-d3a",
        "outputId": "91a706bf-7c59-4617-c0e5-433fc5beda06"
      },
      "execution_count": 203,
      "outputs": [
        {
          "output_type": "execute_result",
          "data": {
            "text/plain": [
              "(6275, 3, 20)"
            ]
          },
          "metadata": {},
          "execution_count": 203
        }
      ]
    },
    {
      "cell_type": "code",
      "source": [
        "X_train1, X_test1, y_train1, y_test1 = train_test_split(x_transformed1, y_transformed1, test_size=0.33, random_state=42,shuffle=False)"
      ],
      "metadata": {
        "id": "Uh18qg5y-l1N"
      },
      "execution_count": 204,
      "outputs": []
    },
    {
      "cell_type": "code",
      "source": [
        "X_train1.shape"
      ],
      "metadata": {
        "colab": {
          "base_uri": "https://localhost:8080/"
        },
        "id": "VScDi6qJ-yfQ",
        "outputId": "81fe434b-49fa-4f52-cc08-9d89425c5631"
      },
      "execution_count": 205,
      "outputs": [
        {
          "output_type": "execute_result",
          "data": {
            "text/plain": [
              "(4204, 3, 20)"
            ]
          },
          "metadata": {},
          "execution_count": 205
        }
      ]
    },
    {
      "cell_type": "code",
      "source": [
        "def build_model1(hp):\n",
        "    model = Sequential()\n",
        "    model.add(LSTM(hp.Int('input_unit',min_value=32,max_value=512,step=32),return_sequences=True, input_shape=(X_train1.shape[1],X_train1.shape[2])))\n",
        "    model.add(Dropout(hp.Float('Dropout_rate',min_value=0,max_value=0.5,step=0.1)))\n",
        "    for i in range(hp.Int('n_layers', 1, 4)):\n",
        "        model.add(LSTM(hp.Int(f'lstm_{i}_units',min_value=32,max_value=512,step=32),return_sequences=True))\n",
        "    model.add(LSTM(hp.Int('layer_2_neurons',min_value=32,max_value=512,step=32)))\n",
        "    model.add(Dropout(hp.Float('Dropout_rate',min_value=0,max_value=0.5,step=0.1)))\n",
        "    model.add(Dense(1, activation=hp.Choice('dense_activation',values=['relu', 'sigmoid'],default='relu')))\n",
        "    model.compile(loss='mean_squared_error', optimizer='adam',metrics = ['mse'])\n",
        "    return model"
      ],
      "metadata": {
        "id": "6sypreGc_hax"
      },
      "execution_count": 206,
      "outputs": []
    },
    {
      "cell_type": "code",
      "source": [
        "tuner1 = kt.RandomSearch(\n",
        "    build_model,\n",
        "    objective='mse',\n",
        "    max_trials=2,\n",
        "    executions_per_trial=1\n",
        "    )"
      ],
      "metadata": {
        "id": "5ww0tOMN_BK7"
      },
      "execution_count": 207,
      "outputs": []
    },
    {
      "cell_type": "code",
      "source": [
        "history=tuner1.search(\n",
        "        x=X_train1,\n",
        "        y=y_train1,\n",
        "        epochs=50,\n",
        "        batch_size=64,\n",
        "        validation_data=(X_test1,y_test1),\n",
        ")"
      ],
      "metadata": {
        "id": "VfTv1hMQ-3U5"
      },
      "execution_count": 208,
      "outputs": []
    },
    {
      "cell_type": "code",
      "source": [
        "best_model1 = tuner1.get_best_models(num_models=1)[0]"
      ],
      "metadata": {
        "id": "PU6WBcgd_N10"
      },
      "execution_count": 209,
      "outputs": []
    },
    {
      "cell_type": "code",
      "source": [
        "best_model.summary()"
      ],
      "metadata": {
        "colab": {
          "base_uri": "https://localhost:8080/"
        },
        "id": "GSt6GjFO_2Qw",
        "outputId": "6967d2a9-81ea-4771-9a55-b6bafdfc4025"
      },
      "execution_count": 210,
      "outputs": [
        {
          "output_type": "stream",
          "name": "stdout",
          "text": [
            "Model: \"sequential\"\n",
            "_________________________________________________________________\n",
            " Layer (type)                Output Shape              Param #   \n",
            "=================================================================\n",
            " lstm (LSTM)                 (None, 3, 96)             56064     \n",
            "                                                                 \n",
            " lstm_1 (LSTM)               (None, 3, 224)            287616    \n",
            "                                                                 \n",
            " lstm_2 (LSTM)               (None, 3, 384)            935424    \n",
            "                                                                 \n",
            " lstm_3 (LSTM)               (None, 3, 352)            1037696   \n",
            "                                                                 \n",
            " lstm_4 (LSTM)               (None, 448)               1435392   \n",
            "                                                                 \n",
            " dropout (Dropout)           (None, 448)               0         \n",
            "                                                                 \n",
            " dense (Dense)               (None, 1)                 449       \n",
            "                                                                 \n",
            "=================================================================\n",
            "Total params: 3,752,641\n",
            "Trainable params: 3,752,641\n",
            "Non-trainable params: 0\n",
            "_________________________________________________________________\n"
          ]
        }
      ]
    },
    {
      "cell_type": "code",
      "source": [
        "Y_autolstm=best_model.predict(X_test)"
      ],
      "metadata": {
        "colab": {
          "base_uri": "https://localhost:8080/"
        },
        "id": "RFQ3dfN7ADxR",
        "outputId": "72527bdf-1d8d-49f6-83cf-59c6680cafc8"
      },
      "execution_count": 211,
      "outputs": [
        {
          "output_type": "stream",
          "name": "stdout",
          "text": [
            "65/65 [==============================] - 4s 43ms/step\n"
          ]
        }
      ]
    },
    {
      "cell_type": "code",
      "source": [
        "plt.scatter(Y_autolstm,y_test)\n",
        "plt.show()"
      ],
      "metadata": {
        "colab": {
          "base_uri": "https://localhost:8080/",
          "height": 265
        },
        "id": "9W19SHwYAOJO",
        "outputId": "c92c91e0-cb5a-4b55-8311-b99a87b5b188"
      },
      "execution_count": 212,
      "outputs": [
        {
          "output_type": "display_data",
          "data": {
            "text/plain": [
              "<Figure size 432x288 with 1 Axes>"
            ],
            "image/png": "[encoded data removed]"
          },
          "metadata": {
            "needs_background": "light"
          }
        }
      ]
    },
    {
      "cell_type": "code",
      "source": [
        "rmse_autoLSTM= sqrt(mean_squared_error(Y_autolstm,y_test))\n",
        "print(rmse_autoLSTM)"
      ],
      "metadata": {
        "colab": {
          "base_uri": "https://localhost:8080/"
        },
        "id": "Zg5KaLNWAf6b",
        "outputId": "6902d761-b8bb-4557-9fb1-1040401da5af"
      },
      "execution_count": 213,
      "outputs": [
        {
          "output_type": "stream",
          "name": "stdout",
          "text": [
            "0.06188453131973487\n"
          ]
        }
      ]
    },
    {
      "cell_type": "code",
      "source": [
        "from numpy import array\n",
        "from keras.models import Sequential\n",
        "from keras.layers import LSTM\n",
        "from keras.layers import Dense\n",
        "from keras.layers import Flatten\n",
        "from keras.layers import TimeDistributed\n",
        "from keras.layers.convolutional import Conv1D\n",
        "from keras.layers.convolutional import MaxPooling1D"
      ],
      "metadata": {
        "id": "i2TT-DCaQr3f"
      },
      "execution_count": 214,
      "outputs": []
    },
    {
      "cell_type": "code",
      "source": [
        "from keras.layers import RepeatVector"
      ],
      "metadata": {
        "id": "gsbBBhECdOB0"
      },
      "execution_count": 215,
      "outputs": []
    },
    {
      "cell_type": "code",
      "source": [
        "\n",
        "model = Sequential()\n",
        "model.add(Conv1D(filters=64, kernel_size=1, activation='relu', input_shape=(3,49)))\n",
        "model.add(MaxPooling1D(pool_size=2))\n",
        "model.add(Flatten())\n",
        "model.add(RepeatVector(2))\n",
        "model.add(LSTM(50, activation='relu'))\n",
        "model.add(Flatten())\n",
        "model.add(Dense(1))\n",
        "model.compile(optimizer='adam', loss='mse')\n",
        "# fit model\n",
        "model.fit(X_train, y_train, epochs=100)"
      ],
      "metadata": {
        "colab": {
          "base_uri": "https://localhost:8080/"
        },
        "id": "p0chMwiwQSmJ",
        "outputId": "bdda9504-69a2-4993-86c3-4b9a9711b97f"
      },
      "execution_count": 216,
      "outputs": [
        {
          "output_type": "stream",
          "name": "stdout",
          "text": [
            "Epoch 1/100\n",
            "132/132 [==============================] - 3s 8ms/step - loss: 0.0150\n",
            "Epoch 2/100\n",
            "132/132 [==============================] - 1s 6ms/step - loss: 0.0073\n",
            "Epoch 3/100\n",
            "132/132 [==============================] - 1s 5ms/step - loss: 0.0061\n",
            "Epoch 4/100\n",
            "132/132 [==============================] - 1s 5ms/step - loss: 0.0054\n",
            "Epoch 5/100\n",
            "132/132 [==============================] - 1s 4ms/step - loss: 0.0054\n",
            "Epoch 6/100\n",
            "132/132 [==============================] - 1s 4ms/step - loss: 0.0052\n",
            "Epoch 7/100\n",
            "132/132 [==============================] - 1s 4ms/step - loss: 0.0048\n",
            "Epoch 8/100\n",
            "132/132 [==============================] - 1s 4ms/step - loss: 0.0047\n",
            "Epoch 9/100\n",
            "132/132 [==============================] - 1s 4ms/step - loss: 0.0045\n",
            "Epoch 10/100\n",
            "132/132 [==============================] - 1s 4ms/step - loss: 0.0045\n",
            "Epoch 11/100\n",
            "132/132 [==============================] - 1s 4ms/step - loss: 0.0045\n",
            "Epoch 12/100\n",
            "132/132 [==============================] - 1s 4ms/step - loss: 0.0043\n",
            "Epoch 13/100\n",
            "132/132 [==============================] - 1s 4ms/step - loss: 0.0042\n",
            "Epoch 14/100\n",
            "132/132 [==============================] - 1s 5ms/step - loss: 0.0042\n",
            "Epoch 15/100\n",
            "132/132 [==============================] - 1s 5ms/step - loss: 0.0041\n",
            "Epoch 16/100\n",
            "132/132 [==============================] - 1s 4ms/step - loss: 0.0042\n",
            "Epoch 17/100\n",
            "132/132 [==============================] - 1s 5ms/step - loss: 0.0041\n",
            "Epoch 18/100\n",
            "132/132 [==============================] - 1s 4ms/step - loss: 0.0043\n",
            "Epoch 19/100\n",
            "132/132 [==============================] - 1s 5ms/step - loss: 0.0042\n",
            "Epoch 20/100\n",
            "132/132 [==============================] - 1s 5ms/step - loss: 0.0040\n",
            "Epoch 21/100\n",
            "132/132 [==============================] - 1s 5ms/step - loss: 0.0039\n",
            "Epoch 22/100\n",
            "132/132 [==============================] - 1s 5ms/step - loss: 0.0039\n",
            "Epoch 23/100\n",
            "132/132 [==============================] - 1s 4ms/step - loss: 0.0038\n",
            "Epoch 24/100\n",
            "132/132 [==============================] - 1s 5ms/step - loss: 0.0039\n",
            "Epoch 25/100\n",
            "132/132 [==============================] - 1s 5ms/step - loss: 0.0037\n",
            "Epoch 26/100\n",
            "132/132 [==============================] - 1s 5ms/step - loss: 0.0038\n",
            "Epoch 27/100\n",
            "132/132 [==============================] - 1s 5ms/step - loss: 0.0036\n",
            "Epoch 28/100\n",
            "132/132 [==============================] - 1s 5ms/step - loss: 0.0037\n",
            "Epoch 29/100\n",
            "132/132 [==============================] - 1s 4ms/step - loss: 0.0036\n",
            "Epoch 30/100\n",
            "132/132 [==============================] - 1s 5ms/step - loss: 0.0035\n",
            "Epoch 31/100\n",
            "132/132 [==============================] - 1s 5ms/step - loss: 0.0035\n",
            "Epoch 32/100\n",
            "132/132 [==============================] - 1s 5ms/step - loss: 0.0035\n",
            "Epoch 33/100\n",
            "132/132 [==============================] - 1s 5ms/step - loss: 0.0034\n",
            "Epoch 34/100\n",
            "132/132 [==============================] - 1s 5ms/step - loss: 0.0034\n",
            "Epoch 35/100\n",
            "132/132 [==============================] - 1s 5ms/step - loss: 0.0034\n",
            "Epoch 36/100\n",
            "132/132 [==============================] - 1s 4ms/step - loss: 0.0035\n",
            "Epoch 37/100\n",
            "132/132 [==============================] - 1s 5ms/step - loss: 0.0034\n",
            "Epoch 38/100\n",
            "132/132 [==============================] - 1s 5ms/step - loss: 0.0032\n",
            "Epoch 39/100\n",
            "132/132 [==============================] - 1s 4ms/step - loss: 0.0032\n",
            "Epoch 40/100\n",
            "132/132 [==============================] - 1s 4ms/step - loss: 0.0033\n",
            "Epoch 41/100\n",
            "132/132 [==============================] - 1s 4ms/step - loss: 0.0031\n",
            "Epoch 42/100\n",
            "132/132 [==============================] - 1s 4ms/step - loss: 0.0032\n",
            "Epoch 43/100\n",
            "132/132 [==============================] - 1s 4ms/step - loss: 0.0032\n",
            "Epoch 44/100\n",
            "132/132 [==============================] - 1s 4ms/step - loss: 0.0030\n",
            "Epoch 45/100\n",
            "132/132 [==============================] - 1s 4ms/step - loss: 0.0031\n",
            "Epoch 46/100\n",
            "132/132 [==============================] - 1s 4ms/step - loss: 0.0030\n",
            "Epoch 47/100\n",
            "132/132 [==============================] - 1s 4ms/step - loss: 0.0029\n",
            "Epoch 48/100\n",
            "132/132 [==============================] - 1s 5ms/step - loss: 0.0029\n",
            "Epoch 49/100\n",
            "132/132 [==============================] - 1s 5ms/step - loss: 0.0028\n",
            "Epoch 50/100\n",
            "132/132 [==============================] - 1s 5ms/step - loss: 0.0030\n",
            "Epoch 51/100\n",
            "132/132 [==============================] - 1s 4ms/step - loss: 0.0028\n",
            "Epoch 52/100\n",
            "132/132 [==============================] - 1s 4ms/step - loss: 0.0028\n",
            "Epoch 53/100\n",
            "132/132 [==============================] - 1s 4ms/step - loss: 0.0028\n",
            "Epoch 54/100\n",
            "132/132 [==============================] - 1s 4ms/step - loss: 0.0027\n",
            "Epoch 55/100\n",
            "132/132 [==============================] - 1s 5ms/step - loss: 0.0027\n",
            "Epoch 56/100\n",
            "132/132 [==============================] - 1s 5ms/step - loss: 0.0026\n",
            "Epoch 57/100\n",
            "132/132 [==============================] - 1s 4ms/step - loss: 0.0028\n",
            "Epoch 58/100\n",
            "132/132 [==============================] - 1s 5ms/step - loss: 0.0026\n",
            "Epoch 59/100\n",
            "132/132 [==============================] - 1s 4ms/step - loss: 0.0027\n",
            "Epoch 60/100\n",
            "132/132 [==============================] - 1s 4ms/step - loss: 0.0026\n",
            "Epoch 61/100\n",
            "132/132 [==============================] - 1s 4ms/step - loss: 0.0026\n",
            "Epoch 62/100\n",
            "132/132 [==============================] - 1s 4ms/step - loss: 0.0026\n",
            "Epoch 63/100\n",
            "132/132 [==============================] - 1s 4ms/step - loss: 0.0024\n",
            "Epoch 64/100\n",
            "132/132 [==============================] - 1s 4ms/step - loss: 0.0025\n",
            "Epoch 65/100\n",
            "132/132 [==============================] - 1s 5ms/step - loss: 0.0024\n",
            "Epoch 66/100\n",
            "132/132 [==============================] - 1s 4ms/step - loss: 0.0024\n",
            "Epoch 67/100\n",
            "132/132 [==============================] - 1s 4ms/step - loss: 0.0024\n",
            "Epoch 68/100\n",
            "132/132 [==============================] - 1s 4ms/step - loss: 0.0024\n",
            "Epoch 69/100\n",
            "132/132 [==============================] - 1s 4ms/step - loss: 0.0023\n",
            "Epoch 70/100\n",
            "132/132 [==============================] - 1s 4ms/step - loss: 0.0024\n",
            "Epoch 71/100\n",
            "132/132 [==============================] - 1s 4ms/step - loss: 0.0023\n",
            "Epoch 72/100\n",
            "132/132 [==============================] - 1s 4ms/step - loss: 0.0025\n",
            "Epoch 73/100\n",
            "132/132 [==============================] - 1s 4ms/step - loss: 0.0025\n",
            "Epoch 74/100\n",
            "132/132 [==============================] - 1s 4ms/step - loss: 0.0023\n",
            "Epoch 75/100\n",
            "132/132 [==============================] - 1s 4ms/step - loss: 0.0023\n",
            "Epoch 76/100\n",
            "132/132 [==============================] - 1s 4ms/step - loss: 0.0022\n",
            "Epoch 77/100\n",
            "132/132 [==============================] - 1s 4ms/step - loss: 0.0022\n",
            "Epoch 78/100\n",
            "132/132 [==============================] - 1s 4ms/step - loss: 0.0022\n",
            "Epoch 79/100\n",
            "132/132 [==============================] - 1s 5ms/step - loss: 0.0020\n",
            "Epoch 80/100\n",
            "132/132 [==============================] - 1s 5ms/step - loss: 0.0021\n",
            "Epoch 81/100\n",
            "132/132 [==============================] - 1s 5ms/step - loss: 0.0021\n",
            "Epoch 82/100\n",
            "132/132 [==============================] - 1s 5ms/step - loss: 0.0022\n",
            "Epoch 83/100\n",
            "132/132 [==============================] - 1s 5ms/step - loss: 0.0020\n",
            "Epoch 84/100\n",
            "132/132 [==============================] - 1s 5ms/step - loss: 0.0021\n",
            "Epoch 85/100\n",
            "132/132 [==============================] - 1s 5ms/step - loss: 0.0023\n",
            "Epoch 86/100\n",
            "132/132 [==============================] - 1s 4ms/step - loss: 0.0021\n",
            "Epoch 87/100\n",
            "132/132 [==============================] - 1s 4ms/step - loss: 0.0019\n",
            "Epoch 88/100\n",
            "132/132 [==============================] - 1s 4ms/step - loss: 0.0022\n",
            "Epoch 89/100\n",
            "132/132 [==============================] - 1s 4ms/step - loss: 0.0020\n",
            "Epoch 90/100\n",
            "132/132 [==============================] - 1s 4ms/step - loss: 0.0020\n",
            "Epoch 91/100\n",
            "132/132 [==============================] - 1s 4ms/step - loss: 0.0019\n",
            "Epoch 92/100\n",
            "132/132 [==============================] - 1s 4ms/step - loss: 0.0019\n",
            "Epoch 93/100\n",
            "132/132 [==============================] - 1s 4ms/step - loss: 0.0019\n",
            "Epoch 94/100\n",
            "132/132 [==============================] - 1s 5ms/step - loss: 0.0019\n",
            "Epoch 95/100\n",
            "132/132 [==============================] - 1s 4ms/step - loss: 0.0019\n",
            "Epoch 96/100\n",
            "132/132 [==============================] - 1s 4ms/step - loss: 0.0019\n",
            "Epoch 97/100\n",
            "132/132 [==============================] - 1s 4ms/step - loss: 0.0018\n",
            "Epoch 98/100\n",
            "132/132 [==============================] - 1s 4ms/step - loss: 0.0019\n",
            "Epoch 99/100\n",
            "132/132 [==============================] - 1s 4ms/step - loss: 0.0018\n",
            "Epoch 100/100\n",
            "132/132 [==============================] - 1s 4ms/step - loss: 0.0020\n"
          ]
        },
        {
          "output_type": "execute_result",
          "data": {
            "text/plain": [
              "<keras.callbacks.History at 0x7f7b43fe0490>"
            ]
          },
          "metadata": {},
          "execution_count": 216
        }
      ]
    },
    {
      "cell_type": "code",
      "source": [
        "Y_cnnlstm = model.predict(X_test)"
      ],
      "metadata": {
        "colab": {
          "base_uri": "https://localhost:8080/"
        },
        "id": "eJtd_-M1ZQdt",
        "outputId": "ec134487-92ec-4263-bc2a-b3b1f20d6d00"
      },
      "execution_count": 217,
      "outputs": [
        {
          "output_type": "stream",
          "name": "stdout",
          "text": [
            "65/65 [==============================] - 0s 2ms/step\n"
          ]
        }
      ]
    },
    {
      "cell_type": "code",
      "source": [
        "Y_cnnlstm.shape"
      ],
      "metadata": {
        "colab": {
          "base_uri": "https://localhost:8080/"
        },
        "id": "NZNiTKyAZeFM",
        "outputId": "53b15960-b294-497a-a8e7-d54913b70d73"
      },
      "execution_count": 218,
      "outputs": [
        {
          "output_type": "execute_result",
          "data": {
            "text/plain": [
              "(2071, 1)"
            ]
          },
          "metadata": {},
          "execution_count": 218
        }
      ]
    },
    {
      "cell_type": "code",
      "source": [
        "import matplotlib.pyplot as plt"
      ],
      "metadata": {
        "id": "4HFPHIm9eHbN"
      },
      "execution_count": 219,
      "outputs": []
    },
    {
      "cell_type": "code",
      "source": [
        "plt.scatter(y_test,Y_cnnlstm)"
      ],
      "metadata": {
        "colab": {
          "base_uri": "https://localhost:8080/",
          "height": 285
        },
        "id": "5F0x6XJid_es",
        "outputId": "55201112-0703-47b6-fe1e-191c9df502f5"
      },
      "execution_count": 220,
      "outputs": [
        {
          "output_type": "execute_result",
          "data": {
            "text/plain": [
              "<matplotlib.collections.PathCollection at 0x7f7b41ec3cd0>"
            ]
          },
          "metadata": {},
          "execution_count": 220
        },
        {
          "output_type": "display_data",
          "data": {
            "text/plain": [
              "<Figure size 432x288 with 1 Axes>"
            ],
            "image/png": "[encoded data removed]"
          },
          "metadata": {
            "needs_background": "light"
          }
        }
      ]
    },
    {
      "cell_type": "markdown",
      "source": [
        "### Stacked LSTM and Staked AutoLSTM ,LSTM+MLP"
      ],
      "metadata": {
        "id": "rZRbM0ZJky60"
      }
    },
    {
      "cell_type": "code",
      "source": [],
      "metadata": {
        "id": "s1enRBsYk9WT"
      },
      "execution_count": null,
      "outputs": []
    }
  ]
}