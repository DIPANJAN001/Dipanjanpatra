{
  "nbformat": 4,
  "nbformat_minor": 0,
  "metadata": {
    "colab": {
      "provenance": [],
      "collapsed_sections": [],
      "authorship_tag": "ABX9TyOmRI4xNKwv6z6k1LZJyy2J",
      "include_colab_link": true
    },
    "kernelspec": {
      "name": "python3",
      "display_name": "Python 3"
    },
    "language_info": {
      "name": "python"
    },
    "accelerator": "GPU"
  },
  "cells": [
    {
      "cell_type": "markdown",
      "metadata": {
        "id": "view-in-github",
        "colab_type": "text"
      },
      "source": [
        "<a href=\"https://colab.research.google.com/github/DIPANJAN001/Dipanjanpatra/blob/master/fianl_for_3rdsem.ipynb\" target=\"_parent\"><img src=\"https://colab.research.google.com/assets/colab-badge.svg\" alt=\"Open In Colab\"/></a>"
      ]
    },
    {
      "cell_type": "code",
      "execution_count": 9,
      "metadata": {
        "id": "Fw_IVUhIych7"
      },
      "outputs": [],
      "source": [
        "import pandas as pd\n",
        "weather_data=pd.read_excel(\"/content/pv_02.xlsx\") "
      ]
    },
    {
      "cell_type": "code",
      "source": [
        "weather_input1=weather_data.drop('power_normed',axis=1)\n",
        "weather_input=weather_input1.drop('time_idx',axis=1)\n",
        "weather_input.head()\n",
        "solpow=weather_data['power_normed']\n",
        "solpow"
      ],
      "metadata": {
        "colab": {
          "base_uri": "https://localhost:8080/"
        },
        "id": "EoROs78k0KFH",
        "outputId": "c33a1a3c-9152-4a28-86ca-4ea1363460bc"
      },
      "execution_count": 10,
      "outputs": [
        {
          "output_type": "execute_result",
          "data": {
            "text/plain": [
              "0       0.000000\n",
              "1       0.000000\n",
              "2       0.000000\n",
              "3       0.014560\n",
              "4       0.152064\n",
              "          ...   \n",
              "6273    0.110155\n",
              "6274    0.254311\n",
              "6275    0.003055\n",
              "6276    0.000000\n",
              "6277    0.000000\n",
              "Name: power_normed, Length: 6278, dtype: float64"
            ]
          },
          "metadata": {},
          "execution_count": 10
        }
      ]
    },
    {
      "cell_type": "markdown",
      "source": [
        "### MLP"
      ],
      "metadata": {
        "id": "icMqlH9T0YKO"
      }
    },
    {
      "cell_type": "code",
      "source": [
        "from sklearn.model_selection import train_test_split\n",
        "X_train, X_test, y_train, y_test = train_test_split(weather_input,solpow, test_size=0.33, random_state=42,shuffle=False)"
      ],
      "metadata": {
        "id": "IM6gsWHM0aGm"
      },
      "execution_count": 11,
      "outputs": []
    },
    {
      "cell_type": "markdown",
      "source": [
        "Feature selection"
      ],
      "metadata": {
        "id": "VxzqXUx-1JJ-"
      }
    },
    {
      "cell_type": "code",
      "source": [
        "!pip install boruta"
      ],
      "metadata": {
        "colab": {
          "base_uri": "https://localhost:8080/"
        },
        "id": "myepUqNK1TOP",
        "outputId": "8b1f6d60-7fe0-42c8-a664-c7ac7528e038"
      },
      "execution_count": 12,
      "outputs": [
        {
          "output_type": "stream",
          "name": "stdout",
          "text": [
            "Looking in indexes: https://pypi.org/simple, https://us-python.pkg.dev/colab-wheels/public/simple/\n",
            "Collecting boruta\n",
            "  Downloading Boruta-0.3-py3-none-any.whl (56 kB)\n",
            "\u001b[K     |████████████████████████████████| 56 kB 4.9 MB/s \n",
            "\u001b[?25hRequirement already satisfied: numpy>=1.10.4 in /usr/local/lib/python3.7/dist-packages (from boruta) (1.21.6)\n",
            "Requirement already satisfied: scipy>=0.17.0 in /usr/local/lib/python3.7/dist-packages (from boruta) (1.7.3)\n",
            "Requirement already satisfied: scikit-learn>=0.17.1 in /usr/local/lib/python3.7/dist-packages (from boruta) (1.0.2)\n",
            "Requirement already satisfied: threadpoolctl>=2.0.0 in /usr/local/lib/python3.7/dist-packages (from scikit-learn>=0.17.1->boruta) (3.1.0)\n",
            "Requirement already satisfied: joblib>=0.11 in /usr/local/lib/python3.7/dist-packages (from scikit-learn>=0.17.1->boruta) (1.1.0)\n",
            "Installing collected packages: boruta\n",
            "Successfully installed boruta-0.3\n"
          ]
        }
      ]
    },
    {
      "cell_type": "code",
      "source": [
        "from sklearn.ensemble import RandomForestRegressor\n",
        "from boruta import BorutaPy\n",
        "import numpy as np\n"
      ],
      "metadata": {
        "id": "AX_bJ_B31Ms2"
      },
      "execution_count": 13,
      "outputs": []
    },
    {
      "cell_type": "code",
      "source": [
        "rf_all_features = RandomForestRegressor(random_state=1, n_estimators=1000, max_depth=5)\n",
        "rf_all_features.fit(X_train, y_train)"
      ],
      "metadata": {
        "colab": {
          "base_uri": "https://localhost:8080/"
        },
        "id": "kjGvZvQL1dzu",
        "outputId": "f1d97499-b048-4a86-eb1f-9ea45ab7adce"
      },
      "execution_count": 14,
      "outputs": [
        {
          "output_type": "execute_result",
          "data": {
            "text/plain": [
              "RandomForestRegressor(max_depth=5, n_estimators=1000, random_state=1)"
            ]
          },
          "metadata": {},
          "execution_count": 14
        }
      ]
    },
    {
      "cell_type": "code",
      "source": [
        "rfc = RandomForestRegressor(random_state=1, n_estimators=100, max_depth=3)\n",
        "boruta_selector = BorutaPy(rfc, n_estimators='auto', verbose=2, random_state=1)\n",
        "boruta_selector.fit(np.array(X_train), np.array(y_train))"
      ],
      "metadata": {
        "colab": {
          "base_uri": "https://localhost:8080/"
        },
        "id": "ossEy0-u1tOA",
        "outputId": "23d285a3-e3db-4891-b562-2d602f4a4ade"
      },
      "execution_count": 15,
      "outputs": [
        {
          "output_type": "stream",
          "name": "stdout",
          "text": [
            "Iteration: \t1 / 100\n",
            "Confirmed: \t0\n",
            "Tentative: \t49\n",
            "Rejected: \t0\n",
            "Iteration: \t2 / 100\n",
            "Confirmed: \t0\n",
            "Tentative: \t49\n",
            "Rejected: \t0\n",
            "Iteration: \t3 / 100\n",
            "Confirmed: \t0\n",
            "Tentative: \t49\n",
            "Rejected: \t0\n",
            "Iteration: \t4 / 100\n",
            "Confirmed: \t0\n",
            "Tentative: \t49\n",
            "Rejected: \t0\n",
            "Iteration: \t5 / 100\n",
            "Confirmed: \t0\n",
            "Tentative: \t49\n",
            "Rejected: \t0\n",
            "Iteration: \t6 / 100\n",
            "Confirmed: \t0\n",
            "Tentative: \t49\n",
            "Rejected: \t0\n",
            "Iteration: \t7 / 100\n",
            "Confirmed: \t0\n",
            "Tentative: \t49\n",
            "Rejected: \t0\n",
            "Iteration: \t8 / 100\n",
            "Confirmed: \t5\n",
            "Tentative: \t13\n",
            "Rejected: \t31\n",
            "Iteration: \t9 / 100\n",
            "Confirmed: \t5\n",
            "Tentative: \t13\n",
            "Rejected: \t31\n",
            "Iteration: \t10 / 100\n",
            "Confirmed: \t5\n",
            "Tentative: \t13\n",
            "Rejected: \t31\n",
            "Iteration: \t11 / 100\n",
            "Confirmed: \t5\n",
            "Tentative: \t13\n",
            "Rejected: \t31\n",
            "Iteration: \t12 / 100\n",
            "Confirmed: \t7\n",
            "Tentative: \t9\n",
            "Rejected: \t33\n",
            "Iteration: \t13 / 100\n",
            "Confirmed: \t7\n",
            "Tentative: \t9\n",
            "Rejected: \t33\n",
            "Iteration: \t14 / 100\n",
            "Confirmed: \t7\n",
            "Tentative: \t9\n",
            "Rejected: \t33\n",
            "Iteration: \t15 / 100\n",
            "Confirmed: \t7\n",
            "Tentative: \t9\n",
            "Rejected: \t33\n",
            "Iteration: \t16 / 100\n",
            "Confirmed: \t8\n",
            "Tentative: \t8\n",
            "Rejected: \t33\n",
            "Iteration: \t17 / 100\n",
            "Confirmed: \t8\n",
            "Tentative: \t8\n",
            "Rejected: \t33\n",
            "Iteration: \t18 / 100\n",
            "Confirmed: \t8\n",
            "Tentative: \t8\n",
            "Rejected: \t33\n",
            "Iteration: \t19 / 100\n",
            "Confirmed: \t9\n",
            "Tentative: \t7\n",
            "Rejected: \t33\n",
            "Iteration: \t20 / 100\n",
            "Confirmed: \t9\n",
            "Tentative: \t7\n",
            "Rejected: \t33\n",
            "Iteration: \t21 / 100\n",
            "Confirmed: \t9\n",
            "Tentative: \t7\n",
            "Rejected: \t33\n",
            "Iteration: \t22 / 100\n",
            "Confirmed: \t9\n",
            "Tentative: \t7\n",
            "Rejected: \t33\n",
            "Iteration: \t23 / 100\n",
            "Confirmed: \t9\n",
            "Tentative: \t7\n",
            "Rejected: \t33\n",
            "Iteration: \t24 / 100\n",
            "Confirmed: \t9\n",
            "Tentative: \t7\n",
            "Rejected: \t33\n",
            "Iteration: \t25 / 100\n",
            "Confirmed: \t9\n",
            "Tentative: \t7\n",
            "Rejected: \t33\n",
            "Iteration: \t26 / 100\n",
            "Confirmed: \t9\n",
            "Tentative: \t7\n",
            "Rejected: \t33\n",
            "Iteration: \t27 / 100\n",
            "Confirmed: \t9\n",
            "Tentative: \t7\n",
            "Rejected: \t33\n",
            "Iteration: \t28 / 100\n",
            "Confirmed: \t9\n",
            "Tentative: \t7\n",
            "Rejected: \t33\n",
            "Iteration: \t29 / 100\n",
            "Confirmed: \t10\n",
            "Tentative: \t6\n",
            "Rejected: \t33\n",
            "Iteration: \t30 / 100\n",
            "Confirmed: \t10\n",
            "Tentative: \t6\n",
            "Rejected: \t33\n",
            "Iteration: \t31 / 100\n",
            "Confirmed: \t10\n",
            "Tentative: \t6\n",
            "Rejected: \t33\n",
            "Iteration: \t32 / 100\n",
            "Confirmed: \t10\n",
            "Tentative: \t6\n",
            "Rejected: \t33\n",
            "Iteration: \t33 / 100\n",
            "Confirmed: \t10\n",
            "Tentative: \t6\n",
            "Rejected: \t33\n",
            "Iteration: \t34 / 100\n",
            "Confirmed: \t11\n",
            "Tentative: \t4\n",
            "Rejected: \t34\n",
            "Iteration: \t35 / 100\n",
            "Confirmed: \t11\n",
            "Tentative: \t4\n",
            "Rejected: \t34\n",
            "Iteration: \t36 / 100\n",
            "Confirmed: \t11\n",
            "Tentative: \t4\n",
            "Rejected: \t34\n",
            "Iteration: \t37 / 100\n",
            "Confirmed: \t12\n",
            "Tentative: \t3\n",
            "Rejected: \t34\n",
            "Iteration: \t38 / 100\n",
            "Confirmed: \t12\n",
            "Tentative: \t3\n",
            "Rejected: \t34\n",
            "Iteration: \t39 / 100\n",
            "Confirmed: \t12\n",
            "Tentative: \t3\n",
            "Rejected: \t34\n",
            "Iteration: \t40 / 100\n",
            "Confirmed: \t12\n",
            "Tentative: \t3\n",
            "Rejected: \t34\n",
            "Iteration: \t41 / 100\n",
            "Confirmed: \t12\n",
            "Tentative: \t3\n",
            "Rejected: \t34\n",
            "Iteration: \t42 / 100\n",
            "Confirmed: \t12\n",
            "Tentative: \t3\n",
            "Rejected: \t34\n",
            "Iteration: \t43 / 100\n",
            "Confirmed: \t12\n",
            "Tentative: \t3\n",
            "Rejected: \t34\n",
            "Iteration: \t44 / 100\n",
            "Confirmed: \t12\n",
            "Tentative: \t3\n",
            "Rejected: \t34\n",
            "Iteration: \t45 / 100\n",
            "Confirmed: \t12\n",
            "Tentative: \t3\n",
            "Rejected: \t34\n",
            "Iteration: \t46 / 100\n",
            "Confirmed: \t12\n",
            "Tentative: \t3\n",
            "Rejected: \t34\n",
            "Iteration: \t47 / 100\n",
            "Confirmed: \t12\n",
            "Tentative: \t3\n",
            "Rejected: \t34\n",
            "Iteration: \t48 / 100\n",
            "Confirmed: \t12\n",
            "Tentative: \t3\n",
            "Rejected: \t34\n",
            "Iteration: \t49 / 100\n",
            "Confirmed: \t12\n",
            "Tentative: \t3\n",
            "Rejected: \t34\n",
            "Iteration: \t50 / 100\n",
            "Confirmed: \t12\n",
            "Tentative: \t3\n",
            "Rejected: \t34\n",
            "Iteration: \t51 / 100\n",
            "Confirmed: \t12\n",
            "Tentative: \t3\n",
            "Rejected: \t34\n",
            "Iteration: \t52 / 100\n",
            "Confirmed: \t12\n",
            "Tentative: \t3\n",
            "Rejected: \t34\n",
            "Iteration: \t53 / 100\n",
            "Confirmed: \t12\n",
            "Tentative: \t3\n",
            "Rejected: \t34\n",
            "Iteration: \t54 / 100\n",
            "Confirmed: \t12\n",
            "Tentative: \t3\n",
            "Rejected: \t34\n",
            "Iteration: \t55 / 100\n",
            "Confirmed: \t12\n",
            "Tentative: \t3\n",
            "Rejected: \t34\n",
            "Iteration: \t56 / 100\n",
            "Confirmed: \t12\n",
            "Tentative: \t3\n",
            "Rejected: \t34\n",
            "Iteration: \t57 / 100\n",
            "Confirmed: \t13\n",
            "Tentative: \t2\n",
            "Rejected: \t34\n",
            "Iteration: \t58 / 100\n",
            "Confirmed: \t13\n",
            "Tentative: \t2\n",
            "Rejected: \t34\n",
            "Iteration: \t59 / 100\n",
            "Confirmed: \t13\n",
            "Tentative: \t2\n",
            "Rejected: \t34\n",
            "Iteration: \t60 / 100\n",
            "Confirmed: \t13\n",
            "Tentative: \t2\n",
            "Rejected: \t34\n",
            "Iteration: \t61 / 100\n",
            "Confirmed: \t13\n",
            "Tentative: \t2\n",
            "Rejected: \t34\n",
            "Iteration: \t62 / 100\n",
            "Confirmed: \t13\n",
            "Tentative: \t2\n",
            "Rejected: \t34\n",
            "Iteration: \t63 / 100\n",
            "Confirmed: \t13\n",
            "Tentative: \t2\n",
            "Rejected: \t34\n",
            "Iteration: \t64 / 100\n",
            "Confirmed: \t13\n",
            "Tentative: \t2\n",
            "Rejected: \t34\n",
            "Iteration: \t65 / 100\n",
            "Confirmed: \t13\n",
            "Tentative: \t2\n",
            "Rejected: \t34\n",
            "Iteration: \t66 / 100\n",
            "Confirmed: \t13\n",
            "Tentative: \t2\n",
            "Rejected: \t34\n",
            "Iteration: \t67 / 100\n",
            "Confirmed: \t13\n",
            "Tentative: \t2\n",
            "Rejected: \t34\n",
            "Iteration: \t68 / 100\n",
            "Confirmed: \t13\n",
            "Tentative: \t2\n",
            "Rejected: \t34\n",
            "Iteration: \t69 / 100\n",
            "Confirmed: \t13\n",
            "Tentative: \t2\n",
            "Rejected: \t34\n",
            "Iteration: \t70 / 100\n",
            "Confirmed: \t13\n",
            "Tentative: \t2\n",
            "Rejected: \t34\n",
            "Iteration: \t71 / 100\n",
            "Confirmed: \t13\n",
            "Tentative: \t2\n",
            "Rejected: \t34\n",
            "Iteration: \t72 / 100\n",
            "Confirmed: \t13\n",
            "Tentative: \t2\n",
            "Rejected: \t34\n",
            "Iteration: \t73 / 100\n",
            "Confirmed: \t13\n",
            "Tentative: \t2\n",
            "Rejected: \t34\n",
            "Iteration: \t74 / 100\n",
            "Confirmed: \t13\n",
            "Tentative: \t2\n",
            "Rejected: \t34\n",
            "Iteration: \t75 / 100\n",
            "Confirmed: \t13\n",
            "Tentative: \t2\n",
            "Rejected: \t34\n",
            "Iteration: \t76 / 100\n",
            "Confirmed: \t13\n",
            "Tentative: \t2\n",
            "Rejected: \t34\n",
            "Iteration: \t77 / 100\n",
            "Confirmed: \t13\n",
            "Tentative: \t2\n",
            "Rejected: \t34\n",
            "Iteration: \t78 / 100\n",
            "Confirmed: \t13\n",
            "Tentative: \t2\n",
            "Rejected: \t34\n",
            "Iteration: \t79 / 100\n",
            "Confirmed: \t13\n",
            "Tentative: \t2\n",
            "Rejected: \t34\n",
            "Iteration: \t80 / 100\n",
            "Confirmed: \t13\n",
            "Tentative: \t2\n",
            "Rejected: \t34\n",
            "Iteration: \t81 / 100\n",
            "Confirmed: \t13\n",
            "Tentative: \t2\n",
            "Rejected: \t34\n",
            "Iteration: \t82 / 100\n",
            "Confirmed: \t13\n",
            "Tentative: \t2\n",
            "Rejected: \t34\n",
            "Iteration: \t83 / 100\n",
            "Confirmed: \t13\n",
            "Tentative: \t2\n",
            "Rejected: \t34\n",
            "Iteration: \t84 / 100\n",
            "Confirmed: \t13\n",
            "Tentative: \t2\n",
            "Rejected: \t34\n",
            "Iteration: \t85 / 100\n",
            "Confirmed: \t13\n",
            "Tentative: \t2\n",
            "Rejected: \t34\n",
            "Iteration: \t86 / 100\n",
            "Confirmed: \t13\n",
            "Tentative: \t2\n",
            "Rejected: \t34\n",
            "Iteration: \t87 / 100\n",
            "Confirmed: \t13\n",
            "Tentative: \t2\n",
            "Rejected: \t34\n",
            "Iteration: \t88 / 100\n",
            "Confirmed: \t14\n",
            "Tentative: \t1\n",
            "Rejected: \t34\n",
            "Iteration: \t89 / 100\n",
            "Confirmed: \t14\n",
            "Tentative: \t1\n",
            "Rejected: \t34\n",
            "Iteration: \t90 / 100\n",
            "Confirmed: \t14\n",
            "Tentative: \t1\n",
            "Rejected: \t34\n",
            "Iteration: \t91 / 100\n",
            "Confirmed: \t14\n",
            "Tentative: \t1\n",
            "Rejected: \t34\n",
            "Iteration: \t92 / 100\n",
            "Confirmed: \t14\n",
            "Tentative: \t1\n",
            "Rejected: \t34\n",
            "Iteration: \t93 / 100\n",
            "Confirmed: \t14\n",
            "Tentative: \t1\n",
            "Rejected: \t34\n",
            "Iteration: \t94 / 100\n",
            "Confirmed: \t14\n",
            "Tentative: \t1\n",
            "Rejected: \t34\n",
            "Iteration: \t95 / 100\n",
            "Confirmed: \t14\n",
            "Tentative: \t1\n",
            "Rejected: \t34\n",
            "Iteration: \t96 / 100\n",
            "Confirmed: \t14\n",
            "Tentative: \t1\n",
            "Rejected: \t34\n",
            "Iteration: \t97 / 100\n",
            "Confirmed: \t14\n",
            "Tentative: \t1\n",
            "Rejected: \t34\n",
            "Iteration: \t98 / 100\n",
            "Confirmed: \t14\n",
            "Tentative: \t1\n",
            "Rejected: \t34\n",
            "Iteration: \t99 / 100\n",
            "Confirmed: \t14\n",
            "Tentative: \t1\n",
            "Rejected: \t34\n",
            "\n",
            "\n",
            "BorutaPy finished running.\n",
            "\n",
            "Iteration: \t100 / 100\n",
            "Confirmed: \t14\n",
            "Tentative: \t1\n",
            "Rejected: \t34\n"
          ]
        },
        {
          "output_type": "execute_result",
          "data": {
            "text/plain": [
              "BorutaPy(estimator=RandomForestRegressor(max_depth=3, n_estimators=182,\n",
              "                                         random_state=RandomState(MT19937) at 0x7F4B923DD050),\n",
              "         n_estimators='auto',\n",
              "         random_state=RandomState(MT19937) at 0x7F4B923DD050, verbose=2)"
            ]
          },
          "metadata": {},
          "execution_count": 15
        }
      ]
    },
    {
      "cell_type": "code",
      "source": [
        "selected_rf_features = pd.DataFrame({'Feature':list(X_train.columns),\n",
        "                                      'Ranking':boruta_selector.ranking_})\n",
        "selected_rf_features.sort_values(by='Ranking')"
      ],
      "metadata": {
        "colab": {
          "base_uri": "https://localhost:8080/",
          "height": 1000
        },
        "id": "NlVs0xRJ4fL0",
        "outputId": "eea85663-13bd-4e0c-c16c-176091381569"
      },
      "execution_count": 16,
      "outputs": [
        {
          "output_type": "execute_result",
          "data": {
            "text/plain": [
              "                             Feature  Ranking\n",
              "0                        hour_of_day        1\n",
              "18               clearsky_global_agg        1\n",
              "19                            Albedo        1\n",
              "20                 WindComponentUat0        1\n",
              "10          sunposition_solarAzimuth        1\n",
              "17               clearsky_direct_agg        1\n",
              "29             RelativeHumidityAt950        1\n",
              "28            RelativeHumidityAt1000        1\n",
              "34                SurfacePressureAt0        1\n",
              "35           SolarRadiationGlobalAt0        1\n",
              "36           SolarRadiationDirectAt0        1\n",
              "37          SolarRadiationDiffuseAt0        1\n",
              "1                    hour_of_day_cos        1\n",
              "30               RelativeHumidityAt0        1\n",
              "16              clearsky_diffuse_agg        2\n",
              "22               WindComponentUat100        3\n",
              "25                    TemperatureAt0        4\n",
              "24            DewpointTemperatureAt0        5\n",
              "44                    UpperWindSpeed        6\n",
              "48             UpperWindDirectionSin        7\n",
              "32                      SnowDepthAt0        8\n",
              "39                    LowerWindSpeed        9\n",
              "45                UpperWindDirection       10\n",
              "40                LowerWindDirection       12\n",
              "27           PotentialVorticityAt950       12\n",
              "21                 WindComponentVat0       12\n",
              "13                  clearsky_diffuse       12\n",
              "23               WindComponentVat100       18\n",
              "26          PotentialVorticityAt1000       18\n",
              "11             sunposition_extraTerr       18\n",
              "31                    SnowDensityAt0       18\n",
              "4                  month_of_year_cos       18\n",
              "47             UpperWindDirectionCos       18\n",
              "38                TotalCloudCoverAt0       18\n",
              "43             LowerWindDirectionSin       29\n",
              "42             LowerWindDirectionCos       29\n",
              "46            UpperWindDirectionMath       29\n",
              "41            LowerWindDirectionMath       29\n",
              "14                   clearsky_direct       29\n",
              "3                      month_of_year       29\n",
              "5                  month_of_year_sin       29\n",
              "15                   clearsky_global       29\n",
              "6                     season_of_year       29\n",
              "7                 season_of_year_cos       29\n",
              "8                 season_of_year_sin       29\n",
              "9                 sunposition_thetaZ       29\n",
              "12           sunposition_solarHeight       29\n",
              "2                    hour_of_day_sin       29\n",
              "33  SnowfallPlusStratiformSurfaceAt0       29"
            ],
            "text/html": [
              "\n",
              "  <div id=\"df-f199f889-02c4-4885-808d-72bf820906e3\">\n",
              "    <div class=\"colab-df-container\">\n",
              "      <div>\n",
              "<style scoped>\n",
              "    .dataframe tbody tr th:only-of-type {\n",
              "        vertical-align: middle;\n",
              "    }\n",
              "\n",
              "    .dataframe tbody tr th {\n",
              "        vertical-align: top;\n",
              "    }\n",
              "\n",
              "    .dataframe thead th {\n",
              "        text-align: right;\n",
              "    }\n",
              "</style>\n",
              "<table border=\"1\" class=\"dataframe\">\n",
              "  <thead>\n",
              "    <tr style=\"text-align: right;\">\n",
              "      <th></th>\n",
              "      <th>Feature</th>\n",
              "      <th>Ranking</th>\n",
              "    </tr>\n",
              "  </thead>\n",
              "  <tbody>\n",
              "    <tr>\n",
              "      <th>0</th>\n",
              "      <td>hour_of_day</td>\n",
              "      <td>1</td>\n",
              "    </tr>\n",
              "    <tr>\n",
              "      <th>18</th>\n",
              "      <td>clearsky_global_agg</td>\n",
              "      <td>1</td>\n",
              "    </tr>\n",
              "    <tr>\n",
              "      <th>19</th>\n",
              "      <td>Albedo</td>\n",
              "      <td>1</td>\n",
              "    </tr>\n",
              "    <tr>\n",
              "      <th>20</th>\n",
              "      <td>WindComponentUat0</td>\n",
              "      <td>1</td>\n",
              "    </tr>\n",
              "    <tr>\n",
              "      <th>10</th>\n",
              "      <td>sunposition_solarAzimuth</td>\n",
              "      <td>1</td>\n",
              "    </tr>\n",
              "    <tr>\n",
              "      <th>17</th>\n",
              "      <td>clearsky_direct_agg</td>\n",
              "      <td>1</td>\n",
              "    </tr>\n",
              "    <tr>\n",
              "      <th>29</th>\n",
              "      <td>RelativeHumidityAt950</td>\n",
              "      <td>1</td>\n",
              "    </tr>\n",
              "    <tr>\n",
              "      <th>28</th>\n",
              "      <td>RelativeHumidityAt1000</td>\n",
              "      <td>1</td>\n",
              "    </tr>\n",
              "    <tr>\n",
              "      <th>34</th>\n",
              "      <td>SurfacePressureAt0</td>\n",
              "      <td>1</td>\n",
              "    </tr>\n",
              "    <tr>\n",
              "      <th>35</th>\n",
              "      <td>SolarRadiationGlobalAt0</td>\n",
              "      <td>1</td>\n",
              "    </tr>\n",
              "    <tr>\n",
              "      <th>36</th>\n",
              "      <td>SolarRadiationDirectAt0</td>\n",
              "      <td>1</td>\n",
              "    </tr>\n",
              "    <tr>\n",
              "      <th>37</th>\n",
              "      <td>SolarRadiationDiffuseAt0</td>\n",
              "      <td>1</td>\n",
              "    </tr>\n",
              "    <tr>\n",
              "      <th>1</th>\n",
              "      <td>hour_of_day_cos</td>\n",
              "      <td>1</td>\n",
              "    </tr>\n",
              "    <tr>\n",
              "      <th>30</th>\n",
              "      <td>RelativeHumidityAt0</td>\n",
              "      <td>1</td>\n",
              "    </tr>\n",
              "    <tr>\n",
              "      <th>16</th>\n",
              "      <td>clearsky_diffuse_agg</td>\n",
              "      <td>2</td>\n",
              "    </tr>\n",
              "    <tr>\n",
              "      <th>22</th>\n",
              "      <td>WindComponentUat100</td>\n",
              "      <td>3</td>\n",
              "    </tr>\n",
              "    <tr>\n",
              "      <th>25</th>\n",
              "      <td>TemperatureAt0</td>\n",
              "      <td>4</td>\n",
              "    </tr>\n",
              "    <tr>\n",
              "      <th>24</th>\n",
              "      <td>DewpointTemperatureAt0</td>\n",
              "      <td>5</td>\n",
              "    </tr>\n",
              "    <tr>\n",
              "      <th>44</th>\n",
              "      <td>UpperWindSpeed</td>\n",
              "      <td>6</td>\n",
              "    </tr>\n",
              "    <tr>\n",
              "      <th>48</th>\n",
              "      <td>UpperWindDirectionSin</td>\n",
              "      <td>7</td>\n",
              "    </tr>\n",
              "    <tr>\n",
              "      <th>32</th>\n",
              "      <td>SnowDepthAt0</td>\n",
              "      <td>8</td>\n",
              "    </tr>\n",
              "    <tr>\n",
              "      <th>39</th>\n",
              "      <td>LowerWindSpeed</td>\n",
              "      <td>9</td>\n",
              "    </tr>\n",
              "    <tr>\n",
              "      <th>45</th>\n",
              "      <td>UpperWindDirection</td>\n",
              "      <td>10</td>\n",
              "    </tr>\n",
              "    <tr>\n",
              "      <th>40</th>\n",
              "      <td>LowerWindDirection</td>\n",
              "      <td>12</td>\n",
              "    </tr>\n",
              "    <tr>\n",
              "      <th>27</th>\n",
              "      <td>PotentialVorticityAt950</td>\n",
              "      <td>12</td>\n",
              "    </tr>\n",
              "    <tr>\n",
              "      <th>21</th>\n",
              "      <td>WindComponentVat0</td>\n",
              "      <td>12</td>\n",
              "    </tr>\n",
              "    <tr>\n",
              "      <th>13</th>\n",
              "      <td>clearsky_diffuse</td>\n",
              "      <td>12</td>\n",
              "    </tr>\n",
              "    <tr>\n",
              "      <th>23</th>\n",
              "      <td>WindComponentVat100</td>\n",
              "      <td>18</td>\n",
              "    </tr>\n",
              "    <tr>\n",
              "      <th>26</th>\n",
              "      <td>PotentialVorticityAt1000</td>\n",
              "      <td>18</td>\n",
              "    </tr>\n",
              "    <tr>\n",
              "      <th>11</th>\n",
              "      <td>sunposition_extraTerr</td>\n",
              "      <td>18</td>\n",
              "    </tr>\n",
              "    <tr>\n",
              "      <th>31</th>\n",
              "      <td>SnowDensityAt0</td>\n",
              "      <td>18</td>\n",
              "    </tr>\n",
              "    <tr>\n",
              "      <th>4</th>\n",
              "      <td>month_of_year_cos</td>\n",
              "      <td>18</td>\n",
              "    </tr>\n",
              "    <tr>\n",
              "      <th>47</th>\n",
              "      <td>UpperWindDirectionCos</td>\n",
              "      <td>18</td>\n",
              "    </tr>\n",
              "    <tr>\n",
              "      <th>38</th>\n",
              "      <td>TotalCloudCoverAt0</td>\n",
              "      <td>18</td>\n",
              "    </tr>\n",
              "    <tr>\n",
              "      <th>43</th>\n",
              "      <td>LowerWindDirectionSin</td>\n",
              "      <td>29</td>\n",
              "    </tr>\n",
              "    <tr>\n",
              "      <th>42</th>\n",
              "      <td>LowerWindDirectionCos</td>\n",
              "      <td>29</td>\n",
              "    </tr>\n",
              "    <tr>\n",
              "      <th>46</th>\n",
              "      <td>UpperWindDirectionMath</td>\n",
              "      <td>29</td>\n",
              "    </tr>\n",
              "    <tr>\n",
              "      <th>41</th>\n",
              "      <td>LowerWindDirectionMath</td>\n",
              "      <td>29</td>\n",
              "    </tr>\n",
              "    <tr>\n",
              "      <th>14</th>\n",
              "      <td>clearsky_direct</td>\n",
              "      <td>29</td>\n",
              "    </tr>\n",
              "    <tr>\n",
              "      <th>3</th>\n",
              "      <td>month_of_year</td>\n",
              "      <td>29</td>\n",
              "    </tr>\n",
              "    <tr>\n",
              "      <th>5</th>\n",
              "      <td>month_of_year_sin</td>\n",
              "      <td>29</td>\n",
              "    </tr>\n",
              "    <tr>\n",
              "      <th>15</th>\n",
              "      <td>clearsky_global</td>\n",
              "      <td>29</td>\n",
              "    </tr>\n",
              "    <tr>\n",
              "      <th>6</th>\n",
              "      <td>season_of_year</td>\n",
              "      <td>29</td>\n",
              "    </tr>\n",
              "    <tr>\n",
              "      <th>7</th>\n",
              "      <td>season_of_year_cos</td>\n",
              "      <td>29</td>\n",
              "    </tr>\n",
              "    <tr>\n",
              "      <th>8</th>\n",
              "      <td>season_of_year_sin</td>\n",
              "      <td>29</td>\n",
              "    </tr>\n",
              "    <tr>\n",
              "      <th>9</th>\n",
              "      <td>sunposition_thetaZ</td>\n",
              "      <td>29</td>\n",
              "    </tr>\n",
              "    <tr>\n",
              "      <th>12</th>\n",
              "      <td>sunposition_solarHeight</td>\n",
              "      <td>29</td>\n",
              "    </tr>\n",
              "    <tr>\n",
              "      <th>2</th>\n",
              "      <td>hour_of_day_sin</td>\n",
              "      <td>29</td>\n",
              "    </tr>\n",
              "    <tr>\n",
              "      <th>33</th>\n",
              "      <td>SnowfallPlusStratiformSurfaceAt0</td>\n",
              "      <td>29</td>\n",
              "    </tr>\n",
              "  </tbody>\n",
              "</table>\n",
              "</div>\n",
              "      <button class=\"colab-df-convert\" onclick=\"convertToInteractive('df-f199f889-02c4-4885-808d-72bf820906e3')\"\n",
              "              title=\"Convert this dataframe to an interactive table.\"\n",
              "              style=\"display:none;\">\n",
              "        \n",
              "  <svg xmlns=\"http://www.w3.org/2000/svg\" height=\"24px\"viewBox=\"0 0 24 24\"\n",
              "       width=\"24px\">\n",
              "    <path d=\"M0 0h24v24H0V0z\" fill=\"none\"/>\n",
              "    <path d=\"M18.56 5.44l.94 2.06.94-2.06 2.06-.94-2.06-.94-.94-2.06-.94 2.06-2.06.94zm-11 1L8.5 8.5l.94-2.06 2.06-.94-2.06-.94L8.5 2.5l-.94 2.06-2.06.94zm10 10l.94 2.06.94-2.06 2.06-.94-2.06-.94-.94-2.06-.94 2.06-2.06.94z\"/><path d=\"M17.41 7.96l-1.37-1.37c-.4-.4-.92-.59-1.43-.59-.52 0-1.04.2-1.43.59L10.3 9.45l-7.72 7.72c-.78.78-.78 2.05 0 2.83L4 21.41c.39.39.9.59 1.41.59.51 0 1.02-.2 1.41-.59l7.78-7.78 2.81-2.81c.8-.78.8-2.07 0-2.86zM5.41 20L4 18.59l7.72-7.72 1.47 1.35L5.41 20z\"/>\n",
              "  </svg>\n",
              "      </button>\n",
              "      \n",
              "  <style>\n",
              "    .colab-df-container {\n",
              "      display:flex;\n",
              "      flex-wrap:wrap;\n",
              "      gap: 12px;\n",
              "    }\n",
              "\n",
              "    .colab-df-convert {\n",
              "      background-color: #E8F0FE;\n",
              "      border: none;\n",
              "      border-radius: 50%;\n",
              "      cursor: pointer;\n",
              "      display: none;\n",
              "      fill: #1967D2;\n",
              "      height: 32px;\n",
              "      padding: 0 0 0 0;\n",
              "      width: 32px;\n",
              "    }\n",
              "\n",
              "    .colab-df-convert:hover {\n",
              "      background-color: #E2EBFA;\n",
              "      box-shadow: 0px 1px 2px rgba(60, 64, 67, 0.3), 0px 1px 3px 1px rgba(60, 64, 67, 0.15);\n",
              "      fill: #174EA6;\n",
              "    }\n",
              "\n",
              "    [theme=dark] .colab-df-convert {\n",
              "      background-color: #3B4455;\n",
              "      fill: #D2E3FC;\n",
              "    }\n",
              "\n",
              "    [theme=dark] .colab-df-convert:hover {\n",
              "      background-color: #434B5C;\n",
              "      box-shadow: 0px 1px 3px 1px rgba(0, 0, 0, 0.15);\n",
              "      filter: drop-shadow(0px 1px 2px rgba(0, 0, 0, 0.3));\n",
              "      fill: #FFFFFF;\n",
              "    }\n",
              "  </style>\n",
              "\n",
              "      <script>\n",
              "        const buttonEl =\n",
              "          document.querySelector('#df-f199f889-02c4-4885-808d-72bf820906e3 button.colab-df-convert');\n",
              "        buttonEl.style.display =\n",
              "          google.colab.kernel.accessAllowed ? 'block' : 'none';\n",
              "\n",
              "        async function convertToInteractive(key) {\n",
              "          const element = document.querySelector('#df-f199f889-02c4-4885-808d-72bf820906e3');\n",
              "          const dataTable =\n",
              "            await google.colab.kernel.invokeFunction('convertToInteractive',\n",
              "                                                     [key], {});\n",
              "          if (!dataTable) return;\n",
              "\n",
              "          const docLinkHtml = 'Like what you see? Visit the ' +\n",
              "            '<a target=\"_blank\" href=https://colab.research.google.com/notebooks/data_table.ipynb>data table notebook</a>'\n",
              "            + ' to learn more about interactive tables.';\n",
              "          element.innerHTML = '';\n",
              "          dataTable['output_type'] = 'display_data';\n",
              "          await google.colab.output.renderOutput(dataTable, element);\n",
              "          const docLink = document.createElement('div');\n",
              "          docLink.innerHTML = docLinkHtml;\n",
              "          element.appendChild(docLink);\n",
              "        }\n",
              "      </script>\n",
              "    </div>\n",
              "  </div>\n",
              "  "
            ]
          },
          "metadata": {},
          "execution_count": 16
        }
      ]
    },
    {
      "cell_type": "code",
      "source": [
        "X_important_train = boruta_selector.transform(np.array(X_train))\n",
        "X_important_test = boruta_selector.transform(np.array(X_test))"
      ],
      "metadata": {
        "id": "yL2oZdWx4f1_"
      },
      "execution_count": 17,
      "outputs": []
    },
    {
      "cell_type": "code",
      "source": [
        "from sklearn.datasets import make_classification\n",
        "from sklearn.datasets import make_classification\n",
        "from sklearn.preprocessing import MinMaxScaler\n",
        "from sklearn.model_selection import train_test_split\n",
        "from keras.layers import LeakyReLU\n",
        "from keras.models import Model\n",
        "from keras.layers import Input\n",
        "from keras.layers import Dense\n",
        "from keras.layers import BatchNormalization\n",
        "from keras.models import load_model"
      ],
      "metadata": {
        "id": "o4lMRVSj7Kvi"
      },
      "execution_count": 18,
      "outputs": []
    },
    {
      "cell_type": "code",
      "source": [
        "n_inputs=X_important_train.shape[1]"
      ],
      "metadata": {
        "id": "PIHSDs6H7L0Y"
      },
      "execution_count": 19,
      "outputs": []
    },
    {
      "cell_type": "code",
      "source": [
        "input_data_shape= Input(shape=(n_inputs,))\n",
        "# encoder level 1\n",
        "encoder= Dense(n_inputs*2)(input_data_shape)\n",
        "encoder = BatchNormalization()(encoder)\n",
        "encoder= LeakyReLU()(encoder)\n",
        "# encoder level 2\n",
        "encoder= Dense(n_inputs)(encoder)\n",
        "encoder= BatchNormalization()(encoder)\n",
        "encoder= LeakyReLU()(encoder)\n",
        "# bottleneck\n",
        "#n_bottleneck = round(float(n_inputs) / 2.0)\n",
        "n_bottleneck = 5\n",
        "bottleneck = Dense(n_bottleneck)(encoder)\n",
        "# define decoder, level 1\n",
        "decoder = Dense(n_inputs)(bottleneck)\n",
        "decoder = BatchNormalization()(decoder)\n",
        "decoder = LeakyReLU()(decoder)\n",
        "# decoder level 2\n",
        "decoder = Dense(n_inputs*2)(decoder)\n",
        "decoder = BatchNormalization()(decoder)\n",
        "decoder = LeakyReLU()(decoder)"
      ],
      "metadata": {
        "id": "31vPvkvK7O9y"
      },
      "execution_count": 20,
      "outputs": []
    },
    {
      "cell_type": "code",
      "source": [
        "# output layer\n",
        "output = Dense(n_inputs, activation='linear')(decoder)\n",
        "# define autoencoder model\n",
        "model = Model(inputs=input_data_shape, outputs=output)\n",
        "# compile autoencoder model\n",
        "model.compile(optimizer='adam', loss='mse')"
      ],
      "metadata": {
        "id": "lRwnnBqZ7Vpn"
      },
      "execution_count": 21,
      "outputs": []
    },
    {
      "cell_type": "code",
      "source": [
        "history = model.fit(X_important_train, X_important_train, epochs=50, batch_size=16, verbose=2)"
      ],
      "metadata": {
        "colab": {
          "base_uri": "https://localhost:8080/"
        },
        "id": "rq3UbShm7aM_",
        "outputId": "eb1fb559-421f-4c96-93da-a6c8b31c7b32"
      },
      "execution_count": 22,
      "outputs": [
        {
          "output_type": "stream",
          "name": "stdout",
          "text": [
            "Epoch 1/50\n",
            "263/263 - 5s - loss: 0.1438 - 5s/epoch - 18ms/step\n",
            "Epoch 2/50\n",
            "263/263 - 1s - loss: 0.0194 - 1s/epoch - 4ms/step\n",
            "Epoch 3/50\n",
            "263/263 - 1s - loss: 0.0157 - 1s/epoch - 4ms/step\n",
            "Epoch 4/50\n",
            "263/263 - 1s - loss: 0.0131 - 1s/epoch - 4ms/step\n",
            "Epoch 5/50\n",
            "263/263 - 1s - loss: 0.0128 - 1s/epoch - 4ms/step\n",
            "Epoch 6/50\n",
            "263/263 - 1s - loss: 0.0115 - 1s/epoch - 4ms/step\n",
            "Epoch 7/50\n",
            "263/263 - 1s - loss: 0.0107 - 1s/epoch - 4ms/step\n",
            "Epoch 8/50\n",
            "263/263 - 1s - loss: 0.0111 - 1s/epoch - 4ms/step\n",
            "Epoch 9/50\n",
            "263/263 - 1s - loss: 0.0095 - 1s/epoch - 4ms/step\n",
            "Epoch 10/50\n",
            "263/263 - 1s - loss: 0.0096 - 1s/epoch - 4ms/step\n",
            "Epoch 11/50\n",
            "263/263 - 1s - loss: 0.0089 - 1s/epoch - 4ms/step\n",
            "Epoch 12/50\n",
            "263/263 - 1s - loss: 0.0087 - 1s/epoch - 4ms/step\n",
            "Epoch 13/50\n",
            "263/263 - 1s - loss: 0.0082 - 1s/epoch - 4ms/step\n",
            "Epoch 14/50\n",
            "263/263 - 1s - loss: 0.0078 - 1s/epoch - 4ms/step\n",
            "Epoch 15/50\n",
            "263/263 - 1s - loss: 0.0079 - 1s/epoch - 4ms/step\n",
            "Epoch 16/50\n",
            "263/263 - 1s - loss: 0.0074 - 1s/epoch - 4ms/step\n",
            "Epoch 17/50\n",
            "263/263 - 1s - loss: 0.0072 - 1s/epoch - 4ms/step\n",
            "Epoch 18/50\n",
            "263/263 - 1s - loss: 0.0073 - 1s/epoch - 4ms/step\n",
            "Epoch 19/50\n",
            "263/263 - 1s - loss: 0.0072 - 1s/epoch - 4ms/step\n",
            "Epoch 20/50\n",
            "263/263 - 1s - loss: 0.0068 - 1s/epoch - 4ms/step\n",
            "Epoch 21/50\n",
            "263/263 - 1s - loss: 0.0067 - 1s/epoch - 4ms/step\n",
            "Epoch 22/50\n",
            "263/263 - 1s - loss: 0.0063 - 1s/epoch - 4ms/step\n",
            "Epoch 23/50\n",
            "263/263 - 1s - loss: 0.0065 - 1s/epoch - 4ms/step\n",
            "Epoch 24/50\n",
            "263/263 - 1s - loss: 0.0062 - 1s/epoch - 4ms/step\n",
            "Epoch 25/50\n",
            "263/263 - 1s - loss: 0.0061 - 1s/epoch - 4ms/step\n",
            "Epoch 26/50\n",
            "263/263 - 1s - loss: 0.0062 - 1s/epoch - 4ms/step\n",
            "Epoch 27/50\n",
            "263/263 - 1s - loss: 0.0058 - 1s/epoch - 4ms/step\n",
            "Epoch 28/50\n",
            "263/263 - 1s - loss: 0.0058 - 1s/epoch - 4ms/step\n",
            "Epoch 29/50\n",
            "263/263 - 1s - loss: 0.0057 - 1s/epoch - 4ms/step\n",
            "Epoch 30/50\n",
            "263/263 - 1s - loss: 0.0055 - 1s/epoch - 4ms/step\n",
            "Epoch 31/50\n",
            "263/263 - 1s - loss: 0.0055 - 1s/epoch - 4ms/step\n",
            "Epoch 32/50\n",
            "263/263 - 1s - loss: 0.0054 - 1s/epoch - 4ms/step\n",
            "Epoch 33/50\n",
            "263/263 - 1s - loss: 0.0056 - 1s/epoch - 4ms/step\n",
            "Epoch 34/50\n",
            "263/263 - 1s - loss: 0.0053 - 1s/epoch - 4ms/step\n",
            "Epoch 35/50\n",
            "263/263 - 1s - loss: 0.0053 - 1s/epoch - 4ms/step\n",
            "Epoch 36/50\n",
            "263/263 - 1s - loss: 0.0053 - 1s/epoch - 4ms/step\n",
            "Epoch 37/50\n",
            "263/263 - 1s - loss: 0.0053 - 1s/epoch - 4ms/step\n",
            "Epoch 38/50\n",
            "263/263 - 1s - loss: 0.0051 - 1s/epoch - 4ms/step\n",
            "Epoch 39/50\n",
            "263/263 - 1s - loss: 0.0052 - 1s/epoch - 4ms/step\n",
            "Epoch 40/50\n",
            "263/263 - 1s - loss: 0.0053 - 1s/epoch - 4ms/step\n",
            "Epoch 41/50\n",
            "263/263 - 1s - loss: 0.0049 - 1s/epoch - 4ms/step\n",
            "Epoch 42/50\n",
            "263/263 - 1s - loss: 0.0049 - 1s/epoch - 4ms/step\n",
            "Epoch 43/50\n",
            "263/263 - 1s - loss: 0.0050 - 1s/epoch - 4ms/step\n",
            "Epoch 44/50\n",
            "263/263 - 1s - loss: 0.0049 - 1s/epoch - 4ms/step\n",
            "Epoch 45/50\n",
            "263/263 - 1s - loss: 0.0047 - 1s/epoch - 4ms/step\n",
            "Epoch 46/50\n",
            "263/263 - 1s - loss: 0.0049 - 1s/epoch - 4ms/step\n",
            "Epoch 47/50\n",
            "263/263 - 1s - loss: 0.0049 - 1s/epoch - 4ms/step\n",
            "Epoch 48/50\n",
            "263/263 - 1s - loss: 0.0048 - 1s/epoch - 4ms/step\n",
            "Epoch 49/50\n",
            "263/263 - 1s - loss: 0.0048 - 1s/epoch - 4ms/step\n",
            "Epoch 50/50\n",
            "263/263 - 1s - loss: 0.0047 - 1s/epoch - 4ms/step\n"
          ]
        }
      ]
    },
    {
      "cell_type": "code",
      "source": [
        "encoder = Model(inputs=input_data_shape, outputs=bottleneck)\n",
        "# save the encoder to file\n",
        "encoder.save('encoder.h5')"
      ],
      "metadata": {
        "colab": {
          "base_uri": "https://localhost:8080/"
        },
        "id": "ruLJ4thd7-Nv",
        "outputId": "ab563088-4b5d-4e32-d183-485ad05ae955"
      },
      "execution_count": 23,
      "outputs": [
        {
          "output_type": "stream",
          "name": "stderr",
          "text": [
            "WARNING:tensorflow:Compiled the loaded model, but the compiled metrics have yet to be built. `model.compile_metrics` will be empty until you train or evaluate the model.\n"
          ]
        }
      ]
    },
    {
      "cell_type": "code",
      "source": [
        "encoder = load_model('encoder.h5')\n",
        "\n",
        "# encode the train data\n",
        "X_train_final = encoder.predict(X_important_train)\n",
        "# encode the test data\n",
        "X_test_final = encoder.predict(X_important_test)"
      ],
      "metadata": {
        "colab": {
          "base_uri": "https://localhost:8080/"
        },
        "id": "BlLCHvu47x44",
        "outputId": "c800c9d4-4c2e-46c2-c920-d1a34797fd46"
      },
      "execution_count": 24,
      "outputs": [
        {
          "output_type": "stream",
          "name": "stderr",
          "text": [
            "WARNING:tensorflow:No training configuration found in the save file, so the model was *not* compiled. Compile it manually.\n"
          ]
        }
      ]
    },
    {
      "cell_type": "code",
      "source": [
        "X_train_final.shape"
      ],
      "metadata": {
        "colab": {
          "base_uri": "https://localhost:8080/"
        },
        "id": "1kZulZRd4gBn",
        "outputId": "6a2d58a0-4679-4a8e-a690-c089d48dc27c"
      },
      "execution_count": 25,
      "outputs": [
        {
          "output_type": "execute_result",
          "data": {
            "text/plain": [
              "(4206, 5)"
            ]
          },
          "metadata": {},
          "execution_count": 25
        }
      ]
    },
    {
      "cell_type": "code",
      "source": [
        "import numpy\n",
        "from sklearn.model_selection import GridSearchCV\n",
        "from keras.models import Sequential\n",
        "from keras.layers import Dense\n",
        "from keras.wrappers.scikit_learn import KerasRegressor"
      ],
      "metadata": {
        "id": "_MSJIFLY00kP"
      },
      "execution_count": 26,
      "outputs": []
    },
    {
      "cell_type": "code",
      "source": [
        "from keras.models import Sequential\n",
        "from keras.layers import Dense, Activation, Flatten\n",
        "def create_model():\n",
        "      model = Sequential()\n",
        "      model.add(Dense(8, kernel_initializer='normal',input_dim =X_train_final.shape[1], activation='relu'))\n",
        "\n",
        "\n",
        "      model.add(Dense(32, kernel_initializer='normal',activation='relu'))\n",
        "      model.add(Dense(64, kernel_initializer='normal',activation='relu'))\n",
        "      model.add(Dense(16, kernel_initializer='normal',activation='relu'))\n",
        "\n",
        "      model.add(Dense(1, kernel_initializer='normal',activation='linear'))\n",
        "\n",
        "\n",
        "      model.compile(loss='mean_absolute_error', optimizer='adam', metrics=['mean_squared_error'])\n",
        "      return model\n",
        "#MLP_model.summary()"
      ],
      "metadata": {
        "id": "FteFUlL11Dj_"
      },
      "execution_count": 4,
      "outputs": []
    },
    {
      "cell_type": "code",
      "source": [
        "seed = 7\n",
        "numpy.random.seed(seed)"
      ],
      "metadata": {
        "id": "9ChvJnAN4wgg"
      },
      "execution_count": 5,
      "outputs": []
    },
    {
      "cell_type": "code",
      "source": [
        "model = KerasRegressor(build_fn=create_model, verbose=0)"
      ],
      "metadata": {
        "colab": {
          "base_uri": "https://localhost:8080/"
        },
        "id": "jxa3y-ws43Pg",
        "outputId": "8ae19bbe-9722-46bc-e874-b510fe7c6894"
      },
      "execution_count": 6,
      "outputs": [
        {
          "output_type": "stream",
          "name": "stderr",
          "text": [
            "/usr/local/lib/python3.7/dist-packages/ipykernel_launcher.py:1: DeprecationWarning: KerasRegressor is deprecated, use Sci-Keras (https://github.com/adriangb/scikeras) instead. See https://www.adriangb.com/scikeras/stable/migration.html for help migrating.\n",
            "  \"\"\"Entry point for launching an IPython kernel.\n"
          ]
        }
      ]
    },
    {
      "cell_type": "code",
      "source": [
        "batch_size = [16,32,64]\n",
        "epochs = [80,100,120]"
      ],
      "metadata": {
        "id": "EtVAWmyP46o4"
      },
      "execution_count": 7,
      "outputs": []
    },
    {
      "cell_type": "code",
      "source": [
        "param_grid = dict(batch_size=batch_size, epochs=epochs)\n",
        "grid = GridSearchCV(estimator=model, param_grid=param_grid, n_jobs=-1, cv=3)\n",
        "grid_result = grid.fit(X_train_final, y_train)"
      ],
      "metadata": {
        "id": "jquYn_pj4-ei",
        "colab": {
          "base_uri": "https://localhost:8080/",
          "height": 207
        },
        "outputId": "bdf82ae7-a9f7-4a70-9d5b-8106d03e115f"
      },
      "execution_count": 8,
      "outputs": [
        {
          "output_type": "error",
          "ename": "NameError",
          "evalue": "ignored",
          "traceback": [
            "\u001b[0;31m---------------------------------------------------------------------------\u001b[0m",
            "\u001b[0;31mNameError\u001b[0m                                 Traceback (most recent call last)",
            "\u001b[0;32m<ipython-input-8-3f7a401eef79>\u001b[0m in \u001b[0;36m<module>\u001b[0;34m\u001b[0m\n\u001b[1;32m      1\u001b[0m \u001b[0mparam_grid\u001b[0m \u001b[0;34m=\u001b[0m \u001b[0mdict\u001b[0m\u001b[0;34m(\u001b[0m\u001b[0mbatch_size\u001b[0m\u001b[0;34m=\u001b[0m\u001b[0mbatch_size\u001b[0m\u001b[0;34m,\u001b[0m \u001b[0mepochs\u001b[0m\u001b[0;34m=\u001b[0m\u001b[0mepochs\u001b[0m\u001b[0;34m)\u001b[0m\u001b[0;34m\u001b[0m\u001b[0;34m\u001b[0m\u001b[0m\n\u001b[1;32m      2\u001b[0m \u001b[0mgrid\u001b[0m \u001b[0;34m=\u001b[0m \u001b[0mGridSearchCV\u001b[0m\u001b[0;34m(\u001b[0m\u001b[0mestimator\u001b[0m\u001b[0;34m=\u001b[0m\u001b[0mmodel\u001b[0m\u001b[0;34m,\u001b[0m \u001b[0mparam_grid\u001b[0m\u001b[0;34m=\u001b[0m\u001b[0mparam_grid\u001b[0m\u001b[0;34m,\u001b[0m \u001b[0mn_jobs\u001b[0m\u001b[0;34m=\u001b[0m\u001b[0;34m-\u001b[0m\u001b[0;36m1\u001b[0m\u001b[0;34m,\u001b[0m \u001b[0mcv\u001b[0m\u001b[0;34m=\u001b[0m\u001b[0;36m3\u001b[0m\u001b[0;34m)\u001b[0m\u001b[0;34m\u001b[0m\u001b[0;34m\u001b[0m\u001b[0m\n\u001b[0;32m----> 3\u001b[0;31m \u001b[0mgrid_result\u001b[0m \u001b[0;34m=\u001b[0m \u001b[0mgrid\u001b[0m\u001b[0;34m.\u001b[0m\u001b[0mfit\u001b[0m\u001b[0;34m(\u001b[0m\u001b[0mX_train_final\u001b[0m\u001b[0;34m,\u001b[0m \u001b[0my_train\u001b[0m\u001b[0;34m)\u001b[0m\u001b[0;34m\u001b[0m\u001b[0;34m\u001b[0m\u001b[0m\n\u001b[0m",
            "\u001b[0;31mNameError\u001b[0m: name 'X_train_final' is not defined"
          ]
        }
      ]
    },
    {
      "cell_type": "code",
      "source": [
        "print(\"Best: %f using %s\" % (grid_result.best_score_, grid_result.best_params_))"
      ],
      "metadata": {
        "id": "7OfgiUg_63-m"
      },
      "execution_count": null,
      "outputs": []
    },
    {
      "cell_type": "code",
      "source": [
        "def create_model( optimizer='adam'):\n",
        "      model = Sequential()\n",
        "      model.add(Dense(8, kernel_initializer='normal',input_dim =X_train_final.shape[1], activation='relu'))\n",
        "\n",
        "\n",
        "      model.add(Dense(32, kernel_initializer='normal',activation='relu'))\n",
        "      model.add(Dense(64, kernel_initializer='normal',activation='relu'))\n",
        "      model.add(Dense(16, kernel_initializer='normal',activation='relu'))\n",
        "\n",
        "      model.add(Dense(1, kernel_initializer='normal',activation='linear'))\n",
        "\n",
        "\n",
        "      model.compile(loss='mean_absolute_error',optimizer=optimizer, metrics=['mean_squared_error'])\n",
        "      return model"
      ],
      "metadata": {
        "id": "OgJEyP4b-t9t"
      },
      "execution_count": null,
      "outputs": []
    },
    {
      "cell_type": "code",
      "source": [
        "seed = 7\n",
        "numpy.random.seed(seed)"
      ],
      "metadata": {
        "id": "zHUa9ip9-3lw"
      },
      "execution_count": null,
      "outputs": []
    },
    {
      "cell_type": "code",
      "source": [
        "model = KerasRegressor(build_fn=create_model, epochs=120, batch_size=64, verbose=0)"
      ],
      "metadata": {
        "id": "QaVgNHJF-57B"
      },
      "execution_count": null,
      "outputs": []
    },
    {
      "cell_type": "code",
      "source": [
        "optimizer = ['SGD', 'Adagrad', 'Adam']"
      ],
      "metadata": {
        "id": "k9wbMbfP_JBx"
      },
      "execution_count": null,
      "outputs": []
    },
    {
      "cell_type": "code",
      "source": [
        "param_grid = dict(optimizer=optimizer)\n",
        "grid = GridSearchCV(estimator=model, param_grid=param_grid, n_jobs=-1, cv=3)\n",
        "grid_result = grid.fit(X_train_final, y_train)"
      ],
      "metadata": {
        "id": "VG5O7G4j_Bvi"
      },
      "execution_count": null,
      "outputs": []
    },
    {
      "cell_type": "code",
      "source": [
        "print(\"Best: %f using %s\" % (grid_result.best_score_, grid_result.best_params_))"
      ],
      "metadata": {
        "id": "yl65sqFj_ne5"
      },
      "execution_count": null,
      "outputs": []
    },
    {
      "cell_type": "code",
      "source": [
        "def create_model(init_mode='uniform'):\n",
        "      model = Sequential()\n",
        "      model.add(Dense(8, kernel_initializer=init_mode,input_dim =X_train_final.shape[1], activation='relu'))\n",
        "\n",
        "\n",
        "      model.add(Dense(32, kernel_initializer=init_mode,activation='relu'))\n",
        "      model.add(Dense(64, kernel_initializer=init_mode,activation='relu'))\n",
        "      model.add(Dense(16, kernel_initializer=init_mode,activation='relu'))\n",
        "\n",
        "      model.add(Dense(1, kernel_initializer=init_mode,activation='linear'))\n",
        "\n",
        "\n",
        "      model.compile(loss='mean_absolute_error',optimizer='adam', metrics=['mean_squared_error'])\n",
        "      return model"
      ],
      "metadata": {
        "id": "GMxBdHLx_scH"
      },
      "execution_count": null,
      "outputs": []
    },
    {
      "cell_type": "code",
      "source": [
        "seed = 7\n",
        "numpy.random.seed(seed)"
      ],
      "metadata": {
        "id": "gEwaBhkx_v9u"
      },
      "execution_count": null,
      "outputs": []
    },
    {
      "cell_type": "code",
      "source": [
        "init_mode = ['uniform', 'lecun_uniform', 'normal', 'zero', 'glorot_normal', 'glorot_uniform', 'he_normal', 'he_uniform']"
      ],
      "metadata": {
        "id": "ttB4SeD0_wm0"
      },
      "execution_count": null,
      "outputs": []
    },
    {
      "cell_type": "code",
      "source": [
        "model = KerasRegressor(build_fn=create_model, epochs=120, batch_size=64, verbose=0)"
      ],
      "metadata": {
        "id": "oZjMbDvF_-Nx"
      },
      "execution_count": null,
      "outputs": []
    },
    {
      "cell_type": "code",
      "source": [
        "param_grid = dict(init_mode=init_mode)\n",
        "grid = GridSearchCV(estimator=model, param_grid=param_grid, n_jobs=-1, cv=3)\n",
        "grid_result = grid.fit(X_train_final, y_train)\n",
        "print(\"Best: %f using %s\" % (grid_result.best_score_, grid_result.best_params_))\n"
      ],
      "metadata": {
        "id": "aUZERbS8ADqw"
      },
      "execution_count": null,
      "outputs": []
    },
    {
      "cell_type": "code",
      "source": [
        "def create_model(activation='relu'):\n",
        "      model = Sequential()\n",
        "      model.add(Dense(8, kernel_initializer='uniform',input_dim =X_train_final.shape[1], activation=activation))\n",
        "\n",
        "\n",
        "      model.add(Dense(32, kernel_initializer='uniform',activation=activation))\n",
        "      model.add(Dense(64, kernel_initializer='uniform',activation=activation))\n",
        "      model.add(Dense(16, kernel_initializer='uniform',activation=activation))\n",
        "\n",
        "      model.add(Dense(1, kernel_initializer='uniform',activation='linear'))\n",
        "\n",
        "\n",
        "      model.compile(loss='mean_absolute_error',optimizer='adam', metrics=['mean_squared_error'])\n",
        "      return model"
      ],
      "metadata": {
        "id": "SS1xAJn-BL4O"
      },
      "execution_count": null,
      "outputs": []
    },
    {
      "cell_type": "code",
      "source": [
        "seed = 7\n",
        "numpy.random.seed(seed)"
      ],
      "metadata": {
        "id": "yk4TBwiHBY95"
      },
      "execution_count": null,
      "outputs": []
    },
    {
      "cell_type": "code",
      "source": [
        "model = KerasRegressor(build_fn=create_model, epochs=120, batch_size=64, verbose=0)"
      ],
      "metadata": {
        "id": "XvVNjUgLBcqZ"
      },
      "execution_count": null,
      "outputs": []
    },
    {
      "cell_type": "code",
      "source": [
        "activation = ['relu','tanh','sigmoid']"
      ],
      "metadata": {
        "id": "EPWF1d2oBfxX"
      },
      "execution_count": null,
      "outputs": []
    },
    {
      "cell_type": "code",
      "source": [
        "param_grid = dict(activation=activation)\n",
        "grid = GridSearchCV(estimator=model, param_grid=param_grid, n_jobs=-1, cv=3)\n",
        "grid_result = grid.fit(X_train_final, y_train)"
      ],
      "metadata": {
        "id": "KilhfWbeBiOJ"
      },
      "execution_count": null,
      "outputs": []
    },
    {
      "cell_type": "code",
      "source": [
        "print(\"Best: %f using %s\" % (grid_result.best_score_, grid_result.best_params_))"
      ],
      "metadata": {
        "id": "ElQQYtd8CU1E"
      },
      "execution_count": null,
      "outputs": []
    },
    {
      "cell_type": "code",
      "source": [
        "from keras.layers import Dropout"
      ],
      "metadata": {
        "id": "3blhhRYZDfLZ"
      },
      "execution_count": 28,
      "outputs": []
    },
    {
      "cell_type": "code",
      "source": [
        "\n",
        "model = Sequential()\n",
        "model.add(Dense(8, kernel_initializer='uniform',input_dim =X_train_final.shape[1], activation='relu'))\n",
        "\n",
        "\n",
        "model.add(Dense(32, kernel_initializer='uniform',activation='relu'))\n",
        "model.add(Dropout(0.2))\n",
        "model.add(Dense(64, kernel_initializer='uniform',activation='relu'))\n",
        "model.add(Dropout(0.2))\n",
        "model.add(Dense(16, kernel_initializer='uniform',activation='relu'))\n",
        "model.add(Dropout(0.2))\n",
        "\n",
        "model.add(Dense(1, kernel_initializer='uniform',activation='linear'))\n",
        "\n",
        "\n",
        "model.compile(loss='mean_absolute_error',optimizer='adam', metrics=['mean_squared_error'])\n",
        "      "
      ],
      "metadata": {
        "id": "zeGyu5sICdum"
      },
      "execution_count": 29,
      "outputs": []
    },
    {
      "cell_type": "code",
      "source": [
        "model.summary()"
      ],
      "metadata": {
        "id": "6ws5fuXZC1aK"
      },
      "execution_count": null,
      "outputs": []
    },
    {
      "cell_type": "code",
      "source": [
        "history=model.fit(X_train_final,y_train, epochs=120, batch_size=64, validation_split = 0.2)"
      ],
      "metadata": {
        "colab": {
          "base_uri": "https://localhost:8080/"
        },
        "id": "VKse8ld7C9Cv",
        "outputId": "cd94431a-37e8-49e8-9620-c92c51c3253d"
      },
      "execution_count": 30,
      "outputs": [
        {
          "output_type": "stream",
          "name": "stdout",
          "text": [
            "Epoch 1/120\n",
            "53/53 [==============================] - 1s 6ms/step - loss: 0.0933 - mean_squared_error: 0.0344 - val_loss: 0.0646 - val_mean_squared_error: 0.0213\n",
            "Epoch 2/120\n",
            "53/53 [==============================] - 0s 4ms/step - loss: 0.0545 - mean_squared_error: 0.0139 - val_loss: 0.0334 - val_mean_squared_error: 0.0049\n",
            "Epoch 3/120\n",
            "53/53 [==============================] - 0s 4ms/step - loss: 0.0404 - mean_squared_error: 0.0071 - val_loss: 0.0314 - val_mean_squared_error: 0.0045\n",
            "Epoch 4/120\n",
            "53/53 [==============================] - 0s 4ms/step - loss: 0.0381 - mean_squared_error: 0.0064 - val_loss: 0.0310 - val_mean_squared_error: 0.0042\n",
            "Epoch 5/120\n",
            "53/53 [==============================] - 0s 4ms/step - loss: 0.0386 - mean_squared_error: 0.0065 - val_loss: 0.0306 - val_mean_squared_error: 0.0042\n",
            "Epoch 6/120\n",
            "53/53 [==============================] - 0s 3ms/step - loss: 0.0376 - mean_squared_error: 0.0061 - val_loss: 0.0302 - val_mean_squared_error: 0.0041\n",
            "Epoch 7/120\n",
            "53/53 [==============================] - 0s 4ms/step - loss: 0.0378 - mean_squared_error: 0.0062 - val_loss: 0.0301 - val_mean_squared_error: 0.0040\n",
            "Epoch 8/120\n",
            "53/53 [==============================] - 0s 4ms/step - loss: 0.0378 - mean_squared_error: 0.0061 - val_loss: 0.0318 - val_mean_squared_error: 0.0046\n",
            "Epoch 9/120\n",
            "53/53 [==============================] - 0s 4ms/step - loss: 0.0382 - mean_squared_error: 0.0064 - val_loss: 0.0313 - val_mean_squared_error: 0.0045\n",
            "Epoch 10/120\n",
            "53/53 [==============================] - 0s 4ms/step - loss: 0.0382 - mean_squared_error: 0.0065 - val_loss: 0.0300 - val_mean_squared_error: 0.0040\n",
            "Epoch 11/120\n",
            "53/53 [==============================] - 0s 4ms/step - loss: 0.0364 - mean_squared_error: 0.0059 - val_loss: 0.0307 - val_mean_squared_error: 0.0042\n",
            "Epoch 12/120\n",
            "53/53 [==============================] - 0s 4ms/step - loss: 0.0388 - mean_squared_error: 0.0065 - val_loss: 0.0301 - val_mean_squared_error: 0.0039\n",
            "Epoch 13/120\n",
            "53/53 [==============================] - 0s 4ms/step - loss: 0.0376 - mean_squared_error: 0.0063 - val_loss: 0.0308 - val_mean_squared_error: 0.0044\n",
            "Epoch 14/120\n",
            "53/53 [==============================] - 0s 4ms/step - loss: 0.0374 - mean_squared_error: 0.0062 - val_loss: 0.0313 - val_mean_squared_error: 0.0045\n",
            "Epoch 15/120\n",
            "53/53 [==============================] - 0s 3ms/step - loss: 0.0375 - mean_squared_error: 0.0063 - val_loss: 0.0304 - val_mean_squared_error: 0.0040\n",
            "Epoch 16/120\n",
            "53/53 [==============================] - 0s 4ms/step - loss: 0.0368 - mean_squared_error: 0.0059 - val_loss: 0.0300 - val_mean_squared_error: 0.0040\n",
            "Epoch 17/120\n",
            "53/53 [==============================] - 0s 4ms/step - loss: 0.0385 - mean_squared_error: 0.0065 - val_loss: 0.0304 - val_mean_squared_error: 0.0042\n",
            "Epoch 18/120\n",
            "53/53 [==============================] - 0s 5ms/step - loss: 0.0363 - mean_squared_error: 0.0057 - val_loss: 0.0302 - val_mean_squared_error: 0.0041\n",
            "Epoch 19/120\n",
            "53/53 [==============================] - 0s 4ms/step - loss: 0.0373 - mean_squared_error: 0.0061 - val_loss: 0.0303 - val_mean_squared_error: 0.0042\n",
            "Epoch 20/120\n",
            "53/53 [==============================] - 0s 4ms/step - loss: 0.0368 - mean_squared_error: 0.0060 - val_loss: 0.0309 - val_mean_squared_error: 0.0045\n",
            "Epoch 21/120\n",
            "53/53 [==============================] - 0s 4ms/step - loss: 0.0364 - mean_squared_error: 0.0058 - val_loss: 0.0297 - val_mean_squared_error: 0.0040\n",
            "Epoch 22/120\n",
            "53/53 [==============================] - 0s 4ms/step - loss: 0.0375 - mean_squared_error: 0.0061 - val_loss: 0.0307 - val_mean_squared_error: 0.0044\n",
            "Epoch 23/120\n",
            "53/53 [==============================] - 0s 4ms/step - loss: 0.0361 - mean_squared_error: 0.0057 - val_loss: 0.0300 - val_mean_squared_error: 0.0040\n",
            "Epoch 24/120\n",
            "53/53 [==============================] - 0s 4ms/step - loss: 0.0368 - mean_squared_error: 0.0063 - val_loss: 0.0302 - val_mean_squared_error: 0.0041\n",
            "Epoch 25/120\n",
            "53/53 [==============================] - 0s 4ms/step - loss: 0.0373 - mean_squared_error: 0.0061 - val_loss: 0.0295 - val_mean_squared_error: 0.0039\n",
            "Epoch 26/120\n",
            "53/53 [==============================] - 0s 3ms/step - loss: 0.0362 - mean_squared_error: 0.0059 - val_loss: 0.0299 - val_mean_squared_error: 0.0039\n",
            "Epoch 27/120\n",
            "53/53 [==============================] - 0s 4ms/step - loss: 0.0372 - mean_squared_error: 0.0063 - val_loss: 0.0294 - val_mean_squared_error: 0.0039\n",
            "Epoch 28/120\n",
            "53/53 [==============================] - 0s 4ms/step - loss: 0.0377 - mean_squared_error: 0.0065 - val_loss: 0.0294 - val_mean_squared_error: 0.0040\n",
            "Epoch 29/120\n",
            "53/53 [==============================] - 0s 4ms/step - loss: 0.0366 - mean_squared_error: 0.0058 - val_loss: 0.0296 - val_mean_squared_error: 0.0041\n",
            "Epoch 30/120\n",
            "53/53 [==============================] - 0s 4ms/step - loss: 0.0354 - mean_squared_error: 0.0054 - val_loss: 0.0291 - val_mean_squared_error: 0.0037\n",
            "Epoch 31/120\n",
            "53/53 [==============================] - 0s 3ms/step - loss: 0.0354 - mean_squared_error: 0.0057 - val_loss: 0.0291 - val_mean_squared_error: 0.0039\n",
            "Epoch 32/120\n",
            "53/53 [==============================] - 0s 4ms/step - loss: 0.0365 - mean_squared_error: 0.0060 - val_loss: 0.0297 - val_mean_squared_error: 0.0040\n",
            "Epoch 33/120\n",
            "53/53 [==============================] - 0s 4ms/step - loss: 0.0363 - mean_squared_error: 0.0059 - val_loss: 0.0293 - val_mean_squared_error: 0.0040\n",
            "Epoch 34/120\n",
            "53/53 [==============================] - 0s 3ms/step - loss: 0.0366 - mean_squared_error: 0.0060 - val_loss: 0.0292 - val_mean_squared_error: 0.0040\n",
            "Epoch 35/120\n",
            "53/53 [==============================] - 0s 4ms/step - loss: 0.0355 - mean_squared_error: 0.0058 - val_loss: 0.0289 - val_mean_squared_error: 0.0038\n",
            "Epoch 36/120\n",
            "53/53 [==============================] - 0s 3ms/step - loss: 0.0349 - mean_squared_error: 0.0054 - val_loss: 0.0290 - val_mean_squared_error: 0.0039\n",
            "Epoch 37/120\n",
            "53/53 [==============================] - 0s 5ms/step - loss: 0.0373 - mean_squared_error: 0.0062 - val_loss: 0.0289 - val_mean_squared_error: 0.0038\n",
            "Epoch 38/120\n",
            "53/53 [==============================] - 0s 3ms/step - loss: 0.0356 - mean_squared_error: 0.0058 - val_loss: 0.0291 - val_mean_squared_error: 0.0040\n",
            "Epoch 39/120\n",
            "53/53 [==============================] - 0s 4ms/step - loss: 0.0361 - mean_squared_error: 0.0059 - val_loss: 0.0289 - val_mean_squared_error: 0.0039\n",
            "Epoch 40/120\n",
            "53/53 [==============================] - 0s 3ms/step - loss: 0.0359 - mean_squared_error: 0.0057 - val_loss: 0.0288 - val_mean_squared_error: 0.0037\n",
            "Epoch 41/120\n",
            "53/53 [==============================] - 0s 4ms/step - loss: 0.0361 - mean_squared_error: 0.0058 - val_loss: 0.0287 - val_mean_squared_error: 0.0036\n",
            "Epoch 42/120\n",
            "53/53 [==============================] - 0s 4ms/step - loss: 0.0356 - mean_squared_error: 0.0057 - val_loss: 0.0286 - val_mean_squared_error: 0.0038\n",
            "Epoch 43/120\n",
            "53/53 [==============================] - 0s 4ms/step - loss: 0.0363 - mean_squared_error: 0.0060 - val_loss: 0.0285 - val_mean_squared_error: 0.0038\n",
            "Epoch 44/120\n",
            "53/53 [==============================] - 0s 4ms/step - loss: 0.0357 - mean_squared_error: 0.0056 - val_loss: 0.0286 - val_mean_squared_error: 0.0038\n",
            "Epoch 45/120\n",
            "53/53 [==============================] - 0s 3ms/step - loss: 0.0353 - mean_squared_error: 0.0056 - val_loss: 0.0284 - val_mean_squared_error: 0.0038\n",
            "Epoch 46/120\n",
            "53/53 [==============================] - 0s 4ms/step - loss: 0.0350 - mean_squared_error: 0.0056 - val_loss: 0.0282 - val_mean_squared_error: 0.0037\n",
            "Epoch 47/120\n",
            "53/53 [==============================] - 0s 4ms/step - loss: 0.0355 - mean_squared_error: 0.0056 - val_loss: 0.0289 - val_mean_squared_error: 0.0040\n",
            "Epoch 48/120\n",
            "53/53 [==============================] - 0s 3ms/step - loss: 0.0365 - mean_squared_error: 0.0061 - val_loss: 0.0282 - val_mean_squared_error: 0.0036\n",
            "Epoch 49/120\n",
            "53/53 [==============================] - 0s 4ms/step - loss: 0.0357 - mean_squared_error: 0.0057 - val_loss: 0.0280 - val_mean_squared_error: 0.0036\n",
            "Epoch 50/120\n",
            "53/53 [==============================] - 0s 4ms/step - loss: 0.0345 - mean_squared_error: 0.0053 - val_loss: 0.0290 - val_mean_squared_error: 0.0039\n",
            "Epoch 51/120\n",
            "53/53 [==============================] - 0s 4ms/step - loss: 0.0367 - mean_squared_error: 0.0060 - val_loss: 0.0284 - val_mean_squared_error: 0.0038\n",
            "Epoch 52/120\n",
            "53/53 [==============================] - 0s 5ms/step - loss: 0.0359 - mean_squared_error: 0.0058 - val_loss: 0.0284 - val_mean_squared_error: 0.0038\n",
            "Epoch 53/120\n",
            "53/53 [==============================] - 0s 4ms/step - loss: 0.0361 - mean_squared_error: 0.0058 - val_loss: 0.0286 - val_mean_squared_error: 0.0039\n",
            "Epoch 54/120\n",
            "53/53 [==============================] - 0s 4ms/step - loss: 0.0360 - mean_squared_error: 0.0059 - val_loss: 0.0280 - val_mean_squared_error: 0.0037\n",
            "Epoch 55/120\n",
            "53/53 [==============================] - 0s 4ms/step - loss: 0.0351 - mean_squared_error: 0.0055 - val_loss: 0.0281 - val_mean_squared_error: 0.0036\n",
            "Epoch 56/120\n",
            "53/53 [==============================] - 0s 4ms/step - loss: 0.0356 - mean_squared_error: 0.0057 - val_loss: 0.0282 - val_mean_squared_error: 0.0036\n",
            "Epoch 57/120\n",
            "53/53 [==============================] - 0s 4ms/step - loss: 0.0351 - mean_squared_error: 0.0054 - val_loss: 0.0278 - val_mean_squared_error: 0.0036\n",
            "Epoch 58/120\n",
            "53/53 [==============================] - 0s 4ms/step - loss: 0.0351 - mean_squared_error: 0.0056 - val_loss: 0.0289 - val_mean_squared_error: 0.0040\n",
            "Epoch 59/120\n",
            "53/53 [==============================] - 0s 4ms/step - loss: 0.0346 - mean_squared_error: 0.0052 - val_loss: 0.0278 - val_mean_squared_error: 0.0035\n",
            "Epoch 60/120\n",
            "53/53 [==============================] - 0s 5ms/step - loss: 0.0351 - mean_squared_error: 0.0055 - val_loss: 0.0278 - val_mean_squared_error: 0.0037\n",
            "Epoch 61/120\n",
            "53/53 [==============================] - 0s 5ms/step - loss: 0.0357 - mean_squared_error: 0.0058 - val_loss: 0.0284 - val_mean_squared_error: 0.0036\n",
            "Epoch 62/120\n",
            "53/53 [==============================] - 0s 5ms/step - loss: 0.0353 - mean_squared_error: 0.0055 - val_loss: 0.0282 - val_mean_squared_error: 0.0036\n",
            "Epoch 63/120\n",
            "53/53 [==============================] - 0s 4ms/step - loss: 0.0342 - mean_squared_error: 0.0053 - val_loss: 0.0283 - val_mean_squared_error: 0.0036\n",
            "Epoch 64/120\n",
            "53/53 [==============================] - 0s 4ms/step - loss: 0.0353 - mean_squared_error: 0.0055 - val_loss: 0.0282 - val_mean_squared_error: 0.0036\n",
            "Epoch 65/120\n",
            "53/53 [==============================] - 0s 4ms/step - loss: 0.0351 - mean_squared_error: 0.0055 - val_loss: 0.0275 - val_mean_squared_error: 0.0035\n",
            "Epoch 66/120\n",
            "53/53 [==============================] - 0s 3ms/step - loss: 0.0347 - mean_squared_error: 0.0056 - val_loss: 0.0283 - val_mean_squared_error: 0.0038\n",
            "Epoch 67/120\n",
            "53/53 [==============================] - 0s 4ms/step - loss: 0.0353 - mean_squared_error: 0.0056 - val_loss: 0.0278 - val_mean_squared_error: 0.0037\n",
            "Epoch 68/120\n",
            "53/53 [==============================] - 0s 4ms/step - loss: 0.0359 - mean_squared_error: 0.0058 - val_loss: 0.0280 - val_mean_squared_error: 0.0038\n",
            "Epoch 69/120\n",
            "53/53 [==============================] - 0s 3ms/step - loss: 0.0359 - mean_squared_error: 0.0059 - val_loss: 0.0273 - val_mean_squared_error: 0.0035\n",
            "Epoch 70/120\n",
            "53/53 [==============================] - 0s 4ms/step - loss: 0.0355 - mean_squared_error: 0.0057 - val_loss: 0.0281 - val_mean_squared_error: 0.0036\n",
            "Epoch 71/120\n",
            "53/53 [==============================] - 0s 4ms/step - loss: 0.0361 - mean_squared_error: 0.0058 - val_loss: 0.0280 - val_mean_squared_error: 0.0036\n",
            "Epoch 72/120\n",
            "53/53 [==============================] - 0s 4ms/step - loss: 0.0345 - mean_squared_error: 0.0054 - val_loss: 0.0280 - val_mean_squared_error: 0.0036\n",
            "Epoch 73/120\n",
            "53/53 [==============================] - 0s 4ms/step - loss: 0.0351 - mean_squared_error: 0.0056 - val_loss: 0.0280 - val_mean_squared_error: 0.0036\n",
            "Epoch 74/120\n",
            "53/53 [==============================] - 0s 4ms/step - loss: 0.0352 - mean_squared_error: 0.0057 - val_loss: 0.0275 - val_mean_squared_error: 0.0036\n",
            "Epoch 75/120\n",
            "53/53 [==============================] - 0s 4ms/step - loss: 0.0343 - mean_squared_error: 0.0055 - val_loss: 0.0275 - val_mean_squared_error: 0.0035\n",
            "Epoch 76/120\n",
            "53/53 [==============================] - 0s 4ms/step - loss: 0.0346 - mean_squared_error: 0.0054 - val_loss: 0.0285 - val_mean_squared_error: 0.0036\n",
            "Epoch 77/120\n",
            "53/53 [==============================] - 0s 4ms/step - loss: 0.0349 - mean_squared_error: 0.0056 - val_loss: 0.0280 - val_mean_squared_error: 0.0036\n",
            "Epoch 78/120\n",
            "53/53 [==============================] - 0s 4ms/step - loss: 0.0350 - mean_squared_error: 0.0056 - val_loss: 0.0280 - val_mean_squared_error: 0.0037\n",
            "Epoch 79/120\n",
            "53/53 [==============================] - 0s 3ms/step - loss: 0.0349 - mean_squared_error: 0.0055 - val_loss: 0.0276 - val_mean_squared_error: 0.0036\n",
            "Epoch 80/120\n",
            "53/53 [==============================] - 0s 4ms/step - loss: 0.0349 - mean_squared_error: 0.0055 - val_loss: 0.0274 - val_mean_squared_error: 0.0036\n",
            "Epoch 81/120\n",
            "53/53 [==============================] - 0s 4ms/step - loss: 0.0357 - mean_squared_error: 0.0059 - val_loss: 0.0270 - val_mean_squared_error: 0.0035\n",
            "Epoch 82/120\n",
            "53/53 [==============================] - 0s 4ms/step - loss: 0.0356 - mean_squared_error: 0.0059 - val_loss: 0.0277 - val_mean_squared_error: 0.0037\n",
            "Epoch 83/120\n",
            "53/53 [==============================] - 0s 4ms/step - loss: 0.0360 - mean_squared_error: 0.0058 - val_loss: 0.0280 - val_mean_squared_error: 0.0036\n",
            "Epoch 84/120\n",
            "53/53 [==============================] - 0s 4ms/step - loss: 0.0341 - mean_squared_error: 0.0053 - val_loss: 0.0285 - val_mean_squared_error: 0.0036\n",
            "Epoch 85/120\n",
            "53/53 [==============================] - 0s 4ms/step - loss: 0.0343 - mean_squared_error: 0.0051 - val_loss: 0.0273 - val_mean_squared_error: 0.0035\n",
            "Epoch 86/120\n",
            "53/53 [==============================] - 0s 4ms/step - loss: 0.0352 - mean_squared_error: 0.0055 - val_loss: 0.0291 - val_mean_squared_error: 0.0041\n",
            "Epoch 87/120\n",
            "53/53 [==============================] - 0s 3ms/step - loss: 0.0347 - mean_squared_error: 0.0054 - val_loss: 0.0280 - val_mean_squared_error: 0.0036\n",
            "Epoch 88/120\n",
            "53/53 [==============================] - 0s 4ms/step - loss: 0.0343 - mean_squared_error: 0.0052 - val_loss: 0.0279 - val_mean_squared_error: 0.0037\n",
            "Epoch 89/120\n",
            "53/53 [==============================] - 0s 4ms/step - loss: 0.0355 - mean_squared_error: 0.0057 - val_loss: 0.0275 - val_mean_squared_error: 0.0035\n",
            "Epoch 90/120\n",
            "53/53 [==============================] - 0s 4ms/step - loss: 0.0350 - mean_squared_error: 0.0054 - val_loss: 0.0278 - val_mean_squared_error: 0.0037\n",
            "Epoch 91/120\n",
            "53/53 [==============================] - 0s 4ms/step - loss: 0.0350 - mean_squared_error: 0.0055 - val_loss: 0.0278 - val_mean_squared_error: 0.0035\n",
            "Epoch 92/120\n",
            "53/53 [==============================] - 0s 4ms/step - loss: 0.0357 - mean_squared_error: 0.0057 - val_loss: 0.0281 - val_mean_squared_error: 0.0035\n",
            "Epoch 93/120\n",
            "53/53 [==============================] - 0s 4ms/step - loss: 0.0358 - mean_squared_error: 0.0056 - val_loss: 0.0276 - val_mean_squared_error: 0.0035\n",
            "Epoch 94/120\n",
            "53/53 [==============================] - 0s 5ms/step - loss: 0.0346 - mean_squared_error: 0.0054 - val_loss: 0.0281 - val_mean_squared_error: 0.0036\n",
            "Epoch 95/120\n",
            "53/53 [==============================] - 0s 5ms/step - loss: 0.0349 - mean_squared_error: 0.0054 - val_loss: 0.0272 - val_mean_squared_error: 0.0035\n",
            "Epoch 96/120\n",
            "53/53 [==============================] - 0s 4ms/step - loss: 0.0348 - mean_squared_error: 0.0055 - val_loss: 0.0275 - val_mean_squared_error: 0.0035\n",
            "Epoch 97/120\n",
            "53/53 [==============================] - 0s 4ms/step - loss: 0.0333 - mean_squared_error: 0.0050 - val_loss: 0.0271 - val_mean_squared_error: 0.0035\n",
            "Epoch 98/120\n",
            "53/53 [==============================] - 0s 5ms/step - loss: 0.0348 - mean_squared_error: 0.0053 - val_loss: 0.0274 - val_mean_squared_error: 0.0035\n",
            "Epoch 99/120\n",
            "53/53 [==============================] - 0s 4ms/step - loss: 0.0341 - mean_squared_error: 0.0053 - val_loss: 0.0277 - val_mean_squared_error: 0.0036\n",
            "Epoch 100/120\n",
            "53/53 [==============================] - 0s 4ms/step - loss: 0.0343 - mean_squared_error: 0.0054 - val_loss: 0.0284 - val_mean_squared_error: 0.0039\n",
            "Epoch 101/120\n",
            "53/53 [==============================] - 0s 4ms/step - loss: 0.0341 - mean_squared_error: 0.0052 - val_loss: 0.0274 - val_mean_squared_error: 0.0035\n",
            "Epoch 102/120\n",
            "53/53 [==============================] - 0s 4ms/step - loss: 0.0352 - mean_squared_error: 0.0057 - val_loss: 0.0279 - val_mean_squared_error: 0.0037\n",
            "Epoch 103/120\n",
            "53/53 [==============================] - 0s 4ms/step - loss: 0.0351 - mean_squared_error: 0.0056 - val_loss: 0.0276 - val_mean_squared_error: 0.0036\n",
            "Epoch 104/120\n",
            "53/53 [==============================] - 0s 4ms/step - loss: 0.0350 - mean_squared_error: 0.0056 - val_loss: 0.0272 - val_mean_squared_error: 0.0035\n",
            "Epoch 105/120\n",
            "53/53 [==============================] - 0s 4ms/step - loss: 0.0347 - mean_squared_error: 0.0055 - val_loss: 0.0280 - val_mean_squared_error: 0.0036\n",
            "Epoch 106/120\n",
            "53/53 [==============================] - 0s 4ms/step - loss: 0.0356 - mean_squared_error: 0.0057 - val_loss: 0.0281 - val_mean_squared_error: 0.0037\n",
            "Epoch 107/120\n",
            "53/53 [==============================] - 0s 4ms/step - loss: 0.0341 - mean_squared_error: 0.0053 - val_loss: 0.0274 - val_mean_squared_error: 0.0035\n",
            "Epoch 108/120\n",
            "53/53 [==============================] - 0s 4ms/step - loss: 0.0340 - mean_squared_error: 0.0053 - val_loss: 0.0277 - val_mean_squared_error: 0.0035\n",
            "Epoch 109/120\n",
            "53/53 [==============================] - 0s 5ms/step - loss: 0.0347 - mean_squared_error: 0.0056 - val_loss: 0.0273 - val_mean_squared_error: 0.0034\n",
            "Epoch 110/120\n",
            "53/53 [==============================] - 0s 4ms/step - loss: 0.0341 - mean_squared_error: 0.0052 - val_loss: 0.0286 - val_mean_squared_error: 0.0037\n",
            "Epoch 111/120\n",
            "53/53 [==============================] - 0s 4ms/step - loss: 0.0358 - mean_squared_error: 0.0059 - val_loss: 0.0272 - val_mean_squared_error: 0.0035\n",
            "Epoch 112/120\n",
            "53/53 [==============================] - 0s 4ms/step - loss: 0.0348 - mean_squared_error: 0.0055 - val_loss: 0.0274 - val_mean_squared_error: 0.0036\n",
            "Epoch 113/120\n",
            "53/53 [==============================] - 0s 5ms/step - loss: 0.0342 - mean_squared_error: 0.0053 - val_loss: 0.0277 - val_mean_squared_error: 0.0036\n",
            "Epoch 114/120\n",
            "53/53 [==============================] - 0s 4ms/step - loss: 0.0364 - mean_squared_error: 0.0060 - val_loss: 0.0279 - val_mean_squared_error: 0.0039\n",
            "Epoch 115/120\n",
            "53/53 [==============================] - 0s 4ms/step - loss: 0.0348 - mean_squared_error: 0.0054 - val_loss: 0.0279 - val_mean_squared_error: 0.0037\n",
            "Epoch 116/120\n",
            "53/53 [==============================] - 0s 3ms/step - loss: 0.0342 - mean_squared_error: 0.0051 - val_loss: 0.0281 - val_mean_squared_error: 0.0039\n",
            "Epoch 117/120\n",
            "53/53 [==============================] - 0s 4ms/step - loss: 0.0337 - mean_squared_error: 0.0050 - val_loss: 0.0280 - val_mean_squared_error: 0.0036\n",
            "Epoch 118/120\n",
            "53/53 [==============================] - 0s 4ms/step - loss: 0.0343 - mean_squared_error: 0.0053 - val_loss: 0.0282 - val_mean_squared_error: 0.0036\n",
            "Epoch 119/120\n",
            "53/53 [==============================] - 0s 4ms/step - loss: 0.0347 - mean_squared_error: 0.0054 - val_loss: 0.0274 - val_mean_squared_error: 0.0035\n",
            "Epoch 120/120\n",
            "53/53 [==============================] - 0s 4ms/step - loss: 0.0339 - mean_squared_error: 0.0053 - val_loss: 0.0273 - val_mean_squared_error: 0.0036\n"
          ]
        }
      ]
    },
    {
      "cell_type": "code",
      "source": [
        "import matplotlib.pyplot as plt\n",
        "plt.plot(history.history['loss'])\n",
        "plt.plot(history.history['val_loss'])\n",
        "#plt.plot(history.history['mean_absolute_error'])\n",
        "plt.title('model loss')\n",
        "plt.ylabel('loss')\n",
        "plt.xlabel('epoch')\n",
        "plt.legend(['train', 'val'], loc='upper left')\n",
        "plt.show()"
      ],
      "metadata": {
        "colab": {
          "base_uri": "https://localhost:8080/",
          "height": 295
        },
        "id": "LcctnnCgDGPR",
        "outputId": "3ba94b2c-bc8c-4e9a-806e-2c8519ec3ac5"
      },
      "execution_count": 31,
      "outputs": [
        {
          "output_type": "display_data",
          "data": {
            "text/plain": [
              "<Figure size 432x288 with 1 Axes>"
            ],
            "image/png": "[encoded data removed]"
          },
          "metadata": {
            "needs_background": "light"
          }
        }
      ]
    },
    {
      "cell_type": "code",
      "source": [
        "ypred=model.predict(X_test_final)"
      ],
      "metadata": {
        "id": "sEnItgVqD44-"
      },
      "execution_count": 32,
      "outputs": []
    },
    {
      "cell_type": "code",
      "source": [
        "plt.scatter(y_test,ypred)"
      ],
      "metadata": {
        "colab": {
          "base_uri": "https://localhost:8080/",
          "height": 283
        },
        "id": "9IGfPv7zECUa",
        "outputId": "82d6d4bd-3ee1-48ce-8ca1-cf87b8d249b5"
      },
      "execution_count": 33,
      "outputs": [
        {
          "output_type": "execute_result",
          "data": {
            "text/plain": [
              "<matplotlib.collections.PathCollection at 0x7f4b1411dc50>"
            ]
          },
          "metadata": {},
          "execution_count": 33
        },
        {
          "output_type": "display_data",
          "data": {
            "text/plain": [
              "<Figure size 432x288 with 1 Axes>"
            ],
            "image/png": "[encoded data removed]"
          },
          "metadata": {
            "needs_background": "light"
          }
        }
      ]
    },
    {
      "cell_type": "code",
      "source": [
        "weather_data_graph=weather_data.tail(y_test.shape[0])"
      ],
      "metadata": {
        "id": "6mvQWXpnI4sw"
      },
      "execution_count": 34,
      "outputs": []
    },
    {
      "cell_type": "code",
      "source": [
        "weather_data_graph['predicted']=ypred"
      ],
      "metadata": {
        "colab": {
          "base_uri": "https://localhost:8080/"
        },
        "id": "CRR_tPBMJHNf",
        "outputId": "b573f5df-614a-443e-f11d-31d06af19110"
      },
      "execution_count": 35,
      "outputs": [
        {
          "output_type": "stream",
          "name": "stderr",
          "text": [
            "/usr/local/lib/python3.7/dist-packages/ipykernel_launcher.py:1: SettingWithCopyWarning: \n",
            "A value is trying to be set on a copy of a slice from a DataFrame.\n",
            "Try using .loc[row_indexer,col_indexer] = value instead\n",
            "\n",
            "See the caveats in the documentation: https://pandas.pydata.org/pandas-docs/stable/user_guide/indexing.html#returning-a-view-versus-a-copy\n",
            "  \"\"\"Entry point for launching an IPython kernel.\n"
          ]
        }
      ]
    },
    {
      "cell_type": "code",
      "source": [
        "from plotly.subplots import make_subplots\n",
        "import plotly.graph_objects as go\n",
        "fig = make_subplots(rows=1, cols=1)\n",
        "fig.add_trace(\n",
        "    go.Scatter(x=weather_data_graph.reset_index()['time_idx'], y=weather_data_graph.reset_index()['power_normed'],name='Actual generated solar power'),row=1,col=1\n",
        ")\n",
        "fig.add_trace(\n",
        "    go.Scatter(x=weather_data_graph.reset_index()['time_idx'], y=weather_data_graph.reset_index()['predicted'],name='Predicted generated solar power by MLP with RMSE'),row=1,col=1\n",
        ")\n"
      ],
      "metadata": {
        "colab": {
          "base_uri": "https://localhost:8080/",
          "height": 542
        },
        "id": "-21IfTPmJME3",
        "outputId": "7748e3d3-3605-402b-a4a0-285d1ec6d6cd"
      },
      "execution_count": 36,
      "outputs": [
        {
          "output_type": "display_data",
          "data": {
            "text/html": [
              "<html>\n",
              "<head><meta charset=\"utf-8\" /></head>\n",
              "<body>\n",
              "    <div>            <script src=\"https://cdnjs.cloudflare.com/ajax/libs/mathjax/2.7.5/MathJax.js?config=TeX-AMS-MML_SVG\"></script><script type=\"text/javascript\">if (window.MathJax) {MathJax.Hub.Config({SVG: {font: \"STIX-Web\"}});}</script>                <script type=\"text/javascript\">window.PlotlyConfig = {MathJaxConfig: 'local'};</script>\n",
              "        <script src=\"https://cdn.plot.ly/plotly-2.8.3.min.js\"></script>                <div id=\"07307121-882e-41e1-9e68-1b9817525f1d\" class=\"plotly-graph-div\" style=\"height:525px; width:100%;\"></div>            <script type=\"text/javascript\">                                    window.PLOTLYENV=window.PLOTLYENV || {};                                    if (document.getElementById(\"07307121-882e-41e1-9e68-1b9817525f1d\")) {                    Plotly.newPlot(                        \"07307121-882e-41e1-9e68-1b9817525f1d\",                        [{\"name\":\"Actual generated solar power\",\"x\":[4207.0,4208.0,4209.0,4210.0,4211.0,4212.0,4213.0,4214.0,4215.0,4216.0,4217.0,4218.0,4219.0,4220.0,4221.0,4222.0,4223.0,4224.0,4225.0,4226.0,4227.0,4228.0,4229.0,4230.0,4231.0,4232.0,4233.0,4234.0,4235.0,4236.0,4237.0,4238.0,4239.0,4240.0,4241.0,4242.0,4243.0,4244.0,4245.0,4246.0,4247.0,4248.0,4249.0,4250.0,4251.0,4252.0,4253.0,4254.0,4255.0,4256.0,4257.0,4258.0,4259.0,4260.0,4261.0,4262.0,4263.0,4264.0,4265.0,4266.0,4267.0,4268.0,4269.0,4270.0,4271.0,4272.0,4273.0,4274.0,4275.0,4276.0,4277.0,4278.0,4279.0,4280.0,4281.0,4282.0,4283.0,4284.0,4285.0,4286.0,4287.0,4288.0,4289.0,4290.0,4291.0,4292.0,4293.0,4294.0,4295.0,4296.0,4297.0,4298.0,4299.0,4300.0,4301.0,4302.0,4303.0,4304.0,4305.0,4306.0,4307.0,4308.0,4309.0,4310.0,4311.0,4312.0,4313.0,4314.0,4315.0,4316.0,4317.0,4318.0,4319.0,4320.0,4321.0,4322.0,4323.0,4324.0,4325.0,4326.0,4327.0,4328.0,4329.0,4330.0,4331.0,4332.0,4333.0,4334.0,4335.0,4336.0,4337.0,4338.0,4339.0,4340.0,4341.0,4342.0,4343.0,4344.0,4345.0,4346.0,4347.0,4348.0,4349.0,4350.0,4351.0,4352.0,4353.0,4354.0,4355.0,4356.0,4357.0,4358.0,4359.0,4360.0,4361.0,4362.0,4363.0,4364.0,4365.0,4366.0,4367.0,4368.0,4369.0,4370.0,4371.0,4372.0,4373.0,4374.0,4375.0,4376.0,4377.0,4378.0,4379.0,4380.0,4381.0,4382.0,4383.0,4384.0,4385.0,4386.0,4387.0,4388.0,4389.0,4390.0,4391.0,4392.0,4393.0,4394.0,4395.0,4396.0,4397.0,4398.0,4399.0,4400.0,4401.0,4402.0,4403.0,4404.0,4405.0,4406.0,4407.0,4408.0,4409.0,4410.0,4411.0,4412.0,4413.0,4414.0,4415.0,4416.0,4417.0,4418.0,4419.0,4420.0,4421.0,4422.0,4423.0,4424.0,4425.0,4426.0,4427.0,4428.0,4429.0,4430.0,4431.0,4432.0,4433.0,4434.0,4435.0,4436.0,4437.0,4438.0,4439.0,4440.0,4441.0,4442.0,4443.0,4444.0,4445.0,4446.0,4447.0,4448.0,4449.0,4450.0,4451.0,4452.0,4453.0,4454.0,4455.0,4456.0,4457.0,4458.0,4459.0,4460.0,4461.0,4462.0,4463.0,4464.0,4465.0,4466.0,4467.0,4468.0,4469.0,4470.0,4471.0,4472.0,4473.0,4474.0,4475.0,4476.0,4477.0,4478.0,4479.0,4480.0,4481.0,4482.0,4483.0,4484.0,4485.0,4486.0,4487.0,4488.0,4489.0,4490.0,4491.0,4492.0,4493.0,4494.0,4495.0,4496.0,4497.0,4498.0,4499.0,4500.0,4501.0,4502.0,4503.0,4504.0,4505.0,4506.0,4507.0,4508.0,4509.0,4510.0,4511.0,4512.0,4513.0,4514.0,4515.0,4516.0,4517.0,4518.0,4519.0,4520.0,4521.0,4522.0,4523.0,4524.0,4525.0,4526.0,4527.0,4528.0,4529.0,4530.0,4531.0,4532.0,4533.0,4534.0,4535.0,4536.0,4537.0,4538.0,4539.0,4540.0,4541.0,4542.0,4543.0,4544.0,4545.0,4546.0,4547.0,4548.0,4549.0,4550.0,4551.0,4552.0,4553.0,4554.0,4555.0,4556.0,4557.0,4558.0,4559.0,4560.0,4561.0,4562.0,4563.0,4564.0,4565.0,4566.0,4567.0,4568.0,4569.0,4570.0,4571.0,4572.0,4573.0,4574.0,4575.0,4576.0,4577.0,4578.0,4579.0,4580.0,4581.0,4582.0,4583.0,4584.0,4585.0,4586.0,4587.0,4588.0,4589.0,4590.0,4591.0,4592.0,4593.0,4594.0,4595.0,4596.0,4597.0,4598.0,4599.0,4600.0,4601.0,4602.0,4603.0,4604.0,4605.0,4606.0,4607.0,4608.0,4609.0,4610.0,4611.0,4612.0,4613.0,4614.0,4615.0,4616.0,4617.0,4618.0,4619.0,4620.0,4621.0,4622.0,4623.0,4624.0,4625.0,4626.0,4627.0,4628.0,4629.0,4630.0,4631.0,4632.0,4633.0,4634.0,4635.0,4636.0,4637.0,4638.0,4639.0,4640.0,4641.0,4642.0,4643.0,4644.0,4645.0,4646.0,4647.0,4648.0,4649.0,4650.0,4651.0,4652.0,4653.0,4654.0,4655.0,4656.0,4657.0,4658.0,4659.0,4660.0,4661.0,4662.0,4663.0,4664.0,4665.0,4666.0,4667.0,4668.0,4669.0,4670.0,4671.0,4672.0,4673.0,4674.0,4675.0,4676.0,4677.0,4678.0,4679.0,4680.0,4681.0,4682.0,4683.0,4684.0,4685.0,4686.0,4687.0,4688.0,4689.0,4690.0,4691.0,4692.0,4693.0,4694.0,4695.0,4696.0,4697.0,4698.0,4699.0,4700.0,4701.0,4702.0,4703.0,4704.0,4705.0,4706.0,4707.0,4708.0,4709.0,4710.0,4711.0,4712.0,4713.0,4714.0,4715.0,4716.0,4717.0,4718.0,4719.0,4720.0,4721.0,4722.0,4723.0,4724.0,4725.0,4726.0,4727.0,4728.0,4729.0,4730.0,4731.0,4732.0,4733.0,4734.0,4735.0,4736.0,4737.0,4738.0,4739.0,4740.0,4741.0,4742.0,4743.0,4744.0,4745.0,4746.0,4747.0,4748.0,4749.0,4750.0,4751.0,4752.0,4753.0,4754.0,4755.0,4756.0,4757.0,4758.0,4759.0,4760.0,4761.0,4762.0,4763.0,4764.0,4765.0,4766.0,4767.0,4768.0,4769.0,4770.0,4771.0,4772.0,4773.0,4774.0,4775.0,4776.0,4777.0,4778.0,4779.0,4780.0,4781.0,4782.0,4783.0,4784.0,4785.0,4786.0,4787.0,4788.0,4789.0,4790.0,4791.0,4792.0,4793.0,4794.0,4795.0,4796.0,4797.0,4798.0,4799.0,4800.0,4801.0,4802.0,4803.0,4804.0,4805.0,4806.0,4807.0,4808.0,4809.0,4810.0,4811.0,4812.0,4813.0,4814.0,4815.0,4816.0,4817.0,4818.0,4819.0,4820.0,4821.0,4822.0,4823.0,4824.0,4825.0,4826.0,4827.0,4828.0,4829.0,4830.0,4831.0,4832.0,4833.0,4834.0,4835.0,4836.0,4837.0,4838.0,4839.0,4840.0,4841.0,4842.0,4843.0,4844.0,4845.0,4846.0,4847.0,4848.0,4849.0,4850.0,4851.0,4852.0,4853.0,4854.0,4855.0,4856.0,4857.0,4858.0,4859.0,4860.0,4861.0,4862.0,4863.0,4864.0,4865.0,4866.0,4867.0,4868.0,4869.0,4870.0,4871.0,4872.0,4873.0,4874.0,4875.0,4876.0,4877.0,4878.0,4879.0,4880.0,4881.0,4882.0,4883.0,4884.0,4885.0,4886.0,4887.0,4888.0,4889.0,4890.0,4891.0,4892.0,4893.0,4894.0,4895.0,4896.0,4897.0,4898.0,4899.0,4900.0,4901.0,4902.0,4903.0,4904.0,4905.0,4906.0,4907.0,4908.0,4909.0,4910.0,4911.0,4912.0,4913.0,4914.0,4915.0,4916.0,4917.0,4918.0,4919.0,4920.0,4921.0,4922.0,4923.0,4924.0,4925.0,4926.0,4927.0,4928.0,4929.0,4930.0,4931.0,4932.0,4933.0,4934.0,4935.0,4936.0,4937.0,4938.0,4939.0,4940.0,4941.0,4942.0,4943.0,4944.0,4945.0,4946.0,4947.0,4948.0,4949.0,4950.0,4951.0,4952.0,4953.0,4954.0,4955.0,4956.0,4957.0,4958.0,4959.0,4960.0,4961.0,4962.0,4963.0,4964.0,4965.0,4966.0,4967.0,4968.0,4969.0,4970.0,4971.0,4972.0,4973.0,4974.0,4975.0,4976.0,4977.0,4978.0,4979.0,4980.0,4981.0,4982.0,4983.0,4984.0,4985.0,4986.0,4987.0,4988.0,4989.0,4990.0,4991.0,4992.0,4993.0,4994.0,4995.0,4996.0,4997.0,4998.0,4999.0,5000.0,5001.0,5002.0,5003.0,5004.0,5005.0,5006.0,5007.0,5008.0,5009.0,5010.0,5011.0,5012.0,5013.0,5014.0,5015.0,5016.0,5017.0,5018.0,5019.0,5020.0,5021.0,5022.0,5023.0,5024.0,5025.0,5026.0,5027.0,5028.0,5029.0,5030.0,5031.0,5032.0,5033.0,5034.0,5035.0,5036.0,5037.0,5038.0,5039.0,5040.0,5041.0,5042.0,5043.0,5044.0,5045.0,5046.0,5047.0,5048.0,5049.0,5050.0,5051.0,5052.0,5053.0,5054.0,5055.0,5056.0,5057.0,5058.0,5059.0,5060.0,5061.0,5062.0,5063.0,5064.0,5065.0,5066.0,5067.0,5068.0,5069.0,5070.0,5071.0,5072.0,5073.0,5074.0,5075.0,5076.0,5077.0,5078.0,5079.0,5080.0,5081.0,5082.0,5083.0,5084.0,5085.0,5086.0,5087.0,5088.0,5089.0,5090.0,5091.0,5092.0,5093.0,5094.0,5095.0,5096.0,5097.0,5098.0,5099.0,5100.0,5101.0,5102.0,5103.0,5104.0,5105.0,5106.0,5107.0,5108.0,5109.0,5110.0,5111.0,5112.0,5113.0,5114.0,5115.0,5116.0,5117.0,5118.0,5119.0,5120.0,5121.0,5122.0,5123.0,5124.0,5125.0,5126.0,5127.0,5128.0,5129.0,5130.0,5131.0,5132.0,5133.0,5134.0,5135.0,5136.0,5137.0,5138.0,5139.0,5140.0,5141.0,5142.0,5143.0,5144.0,5145.0,5146.0,5147.0,5148.0,5149.0,5150.0,5151.0,5152.0,5153.0,5154.0,5155.0,5156.0,5157.0,5158.0,5159.0,5160.0,5161.0,5162.0,5163.0,5164.0,5165.0,5166.0,5167.0,5168.0,5169.0,5170.0,5171.0,5172.0,5173.0,5174.0,5175.0,5176.0,5177.0,5178.0,5179.0,5180.0,5181.0,5182.0,5183.0,5184.0,5185.0,5186.0,5187.0,5188.0,5189.0,5190.0,5191.0,5192.0,5193.0,5194.0,5195.0,5196.0,5197.0,5198.0,5199.0,5200.0,5201.0,5202.0,5203.0,5204.0,5205.0,5206.0,5207.0,5208.0,5209.0,5210.0,5211.0,5212.0,5213.0,5214.0,5215.0,5216.0,5217.0,5218.0,5219.0,5220.0,5221.0,5222.0,5223.0,5224.0,5225.0,5226.0,5227.0,5228.0,5229.0,5230.0,5231.0,5232.0,5233.0,5234.0,5235.0,5236.0,5237.0,5238.0,5239.0,5240.0,5241.0,5242.0,5243.0,5244.0,5245.0,5246.0,5247.0,5248.0,5249.0,5250.0,5251.0,5252.0,5253.0,5254.0,5255.0,5256.0,5257.0,5258.0,5259.0,5260.0,5261.0,5262.0,5263.0,5264.0,5265.0,5266.0,5267.0,5268.0,5269.0,5270.0,5271.0,5272.0,5273.0,5274.0,5275.0,5276.0,5277.0,5278.0,5279.0,5280.0,5281.0,5282.0,5283.0,5284.0,5285.0,5286.0,5287.0,5288.0,5289.0,5290.0,5291.0,5292.0,5293.0,5294.0,5295.0,5296.0,5297.0,5298.0,5299.0,5300.0,5301.0,5302.0,5303.0,5304.0,5305.0,5306.0,5307.0,5308.0,5309.0,5310.0,5311.0,5312.0,5313.0,5314.0,5315.0,5316.0,5317.0,5318.0,5319.0,5320.0,5321.0,5322.0,5323.0,5324.0,5325.0,5326.0,5327.0,5328.0,5329.0,5330.0,5331.0,5332.0,5333.0,5334.0,5335.0,5336.0,5337.0,5338.0,5339.0,5340.0,5341.0,5342.0,5343.0,5344.0,5345.0,5346.0,5347.0,5348.0,5349.0,5350.0,5351.0,5352.0,5353.0,5354.0,5355.0,5356.0,5357.0,5358.0,5359.0,5360.0,5361.0,5362.0,5363.0,5364.0,5365.0,5366.0,5367.0,5368.0,5369.0,5370.0,5371.0,5372.0,5373.0,5374.0,5375.0,5376.0,5377.0,5378.0,5379.0,5380.0,5381.0,5382.0,5383.0,5384.0,5385.0,5386.0,5387.0,5388.0,5389.0,5390.0,5391.0,5392.0,5393.0,5394.0,5395.0,5396.0,5397.0,5398.0,5399.0,5400.0,5401.0,5402.0,5403.0,5404.0,5405.0,5406.0,5407.0,5408.0,5409.0,5410.0,5411.0,5412.0,5413.0,5414.0,5415.0,5416.0,5417.0,5418.0,5419.0,5420.0,5421.0,5422.0,5423.0,5424.0,5425.0,5426.0,5427.0,5428.0,5429.0,5430.0,5431.0,5432.0,5433.0,5434.0,5435.0,5436.0,5437.0,5438.0,5439.0,5440.0,5441.0,5442.0,5443.0,5444.0,5445.0,5446.0,5447.0,5448.0,5449.0,5450.0,5451.0,5452.0,5453.0,5454.0,5455.0,5456.0,5457.0,5458.0,5459.0,5460.0,5461.0,5462.0,5463.0,5464.0,5465.0,5466.0,5467.0,5468.0,5469.0,5470.0,5471.0,5472.0,5473.0,5474.0,5475.0,5476.0,5477.0,5478.0,5479.0,5480.0,5481.0,5482.0,5483.0,5484.0,5485.0,5486.0,5487.0,5488.0,5489.0,5490.0,5491.0,5492.0,5493.0,5494.0,5495.0,5496.0,5497.0,5498.0,5499.0,5500.0,5501.0,5502.0,5503.0,5504.0,5505.0,5506.0,5507.0,5508.0,5509.0,5510.0,5511.0,5512.0,5513.0,5514.0,5515.0,5516.0,5517.0,5518.0,5519.0,5520.0,5521.0,5522.0,5523.0,5524.0,5525.0,5526.0,5527.0,5528.0,5529.0,5530.0,5531.0,5532.0,5533.0,5534.0,5535.0,5536.0,5537.0,5538.0,5539.0,5540.0,5541.0,5542.0,5543.0,5544.0,5545.0,5546.0,5547.0,5548.0,5549.0,5550.0,5551.0,5552.0,5553.0,5554.0,5555.0,5556.0,5557.0,5558.0,5559.0,5560.0,5561.0,5562.0,5563.0,5564.0,5565.0,5566.0,5567.0,5568.0,5569.0,5570.0,5571.0,5572.0,5573.0,5574.0,5575.0,5576.0,5577.0,5578.0,5579.0,5580.0,5581.0,5582.0,5583.0,5584.0,5585.0,5586.0,5587.0,5588.0,5589.0,5590.0,5591.0,5592.0,5593.0,5594.0,5595.0,5596.0,5597.0,5598.0,5599.0,5600.0,5601.0,5602.0,5603.0,5604.0,5605.0,5606.0,5607.0,5608.0,5609.0,5610.0,5611.0,5612.0,5613.0,5614.0,5615.0,5616.0,5617.0,5618.0,5619.0,5620.0,5621.0,5622.0,5623.0,5624.0,5625.0,5626.0,5627.0,5628.0,5629.0,5630.0,5631.0,5632.0,5633.0,5634.0,5635.0,5636.0,5637.0,5638.0,5639.0,5640.0,5641.0,5642.0,5643.0,5644.0,5645.0,5646.0,5647.0,5648.0,5649.0,5650.0,5651.0,5652.0,5653.0,5654.0,5655.0,5656.0,5657.0,5658.0,5659.0,5660.0,5661.0,5662.0,5663.0,5664.0,5665.0,5666.0,5667.0,5668.0,5669.0,5670.0,5671.0,5672.0,5673.0,5674.0,5675.0,5676.0,5677.0,5678.0,5679.0,5680.0,5681.0,5682.0,5683.0,5684.0,5685.0,5686.0,5687.0,5688.0,5689.0,5690.0,5691.0,5692.0,5693.0,5694.0,5695.0,5696.0,5697.0,5698.0,5699.0,5700.0,5701.0,5702.0,5703.0,5704.0,5705.0,5706.0,5707.0,5708.0,5709.0,5710.0,5711.0,5712.0,5713.0,5714.0,5715.0,5716.0,5717.0,5718.0,5719.0,5720.0,5721.0,5722.0,5723.0,5724.0,5725.0,5726.0,5727.0,5728.0,5729.0,5730.0,5731.0,5732.0,5733.0,5734.0,5735.0,5736.0,5737.0,5738.0,5739.0,5740.0,5741.0,5742.0,5743.0,5744.0,5745.0,5746.0,5747.0,5748.0,5749.0,5750.0,5751.0,5752.0,5753.0,5754.0,5755.0,5756.0,5757.0,5758.0,5759.0,5760.0,5761.0,5762.0,5763.0,5764.0,5765.0,5766.0,5767.0,5768.0,5769.0,5770.0,5771.0,5772.0,5773.0,5774.0,5775.0,5776.0,5777.0,5778.0,5779.0,5780.0,5781.0,5782.0,5783.0,5784.0,5785.0,5786.0,5787.0,5788.0,5789.0,5790.0,5791.0,5792.0,5793.0,5794.0,5795.0,5796.0,5797.0,5798.0,5799.0,5800.0,5801.0,5802.0,5803.0,5804.0,5805.0,5806.0,5807.0,5808.0,5809.0,5810.0,5811.0,5812.0,5813.0,5814.0,5815.0,5816.0,5817.0,5818.0,5819.0,5820.0,5821.0,5822.0,5823.0,5824.0,5825.0,5826.0,5827.0,5828.0,5829.0,5830.0,5831.0,5832.0,5833.0,5834.0,5835.0,5836.0,5837.0,5838.0,5839.0,5840.0,5841.0,5842.0,5843.0,5844.0,5845.0,5846.0,5847.0,5848.0,5849.0,5850.0,5851.0,5852.0,5853.0,5854.0,5855.0,5856.0,5857.0,5858.0,5859.0,5860.0,5861.0,5862.0,5863.0,5864.0,5865.0,5866.0,5867.0,5868.0,5869.0,5870.0,5871.0,5872.0,5873.0,5874.0,5875.0,5876.0,5877.0,5878.0,5879.0,5880.0,5881.0,5882.0,5883.0,5884.0,5885.0,5886.0,5887.0,5888.0,5889.0,5890.0,5891.0,5892.0,5893.0,5894.0,5895.0,5896.0,5897.0,5898.0,5899.0,5900.0,5901.0,5902.0,5903.0,5904.0,5905.0,5906.0,5907.0,5908.0,5909.0,5910.0,5911.0,5912.0,5913.0,5914.0,5915.0,5916.0,5917.0,5918.0,5919.0,5920.0,5921.0,5922.0,5923.0,5924.0,5925.0,5926.0,5927.0,5928.0,5929.0,5930.0,5931.0,5932.0,5933.0,5934.0,5935.0,5936.0,5937.0,5938.0,5939.0,5940.0,5941.0,5942.0,5943.0,5944.0,5945.0,5946.0,5947.0,5948.0,5949.0,5950.0,5951.0,5952.0,5953.0,5954.0,5955.0,5956.0,5957.0,5958.0,5959.0,5960.0,5961.0,5962.0,5963.0,5964.0,5965.0,5966.0,5967.0,5968.0,5969.0,5970.0,5971.0,5972.0,5973.0,5974.0,5975.0,5976.0,5977.0,5978.0,5979.0,5980.0,5981.0,5982.0,5983.0,5984.0,5985.0,5986.0,5987.0,5988.0,5989.0,5990.0,5991.0,5992.0,5993.0,5994.0,5995.0,5996.0,5997.0,5998.0,5999.0,6000.0,6001.0,6002.0,6003.0,6004.0,6005.0,6006.0,6007.0,6008.0,6009.0,6010.0,6011.0,6012.0,6013.0,6014.0,6015.0,6016.0,6017.0,6018.0,6019.0,6020.0,6021.0,6022.0,6023.0,6024.0,6025.0,6026.0,6027.0,6028.0,6029.0,6030.0,6031.0,6032.0,6033.0,6034.0,6035.0,6036.0,6037.0,6038.0,6039.0,6040.0,6041.0,6042.0,6043.0,6044.0,6045.0,6046.0,6047.0,6048.0,6049.0,6050.0,6051.0,6052.0,6053.0,6054.0,6055.0,6056.0,6057.0,6058.0,6059.0,6060.0,6061.0,6062.0,6063.0,6064.0,6065.0,6066.0,6067.0,6068.0,6069.0,6070.0,6071.0,6072.0,6073.0,6074.0,6075.0,6076.0,6077.0,6078.0,6079.0,6080.0,6081.0,6082.0,6083.0,6084.0,6085.0,6086.0,6087.0,6088.0,6089.0,6090.0,6091.0,6092.0,6093.0,6094.0,6095.0,6096.0,6097.0,6098.0,6099.0,6100.0,6101.0,6102.0,6103.0,6104.0,6105.0,6106.0,6107.0,6108.0,6109.0,6110.0,6111.0,6112.0,6113.0,6114.0,6115.0,6116.0,6117.0,6118.0,6119.0,6120.0,6121.0,6122.0,6123.0,6124.0,6125.0,6126.0,6127.0,6128.0,6129.0,6130.0,6131.0,6132.0,6133.0,6134.0,6135.0,6136.0,6137.0,6138.0,6139.0,6140.0,6141.0,6142.0,6143.0,6144.0,6145.0,6146.0,6147.0,6148.0,6149.0,6150.0,6151.0,6152.0,6153.0,6154.0,6155.0,6156.0,6157.0,6158.0,6159.0,6160.0,6161.0,6162.0,6163.0,6164.0,6165.0,6166.0,6167.0,6168.0,6169.0,6170.0,6171.0,6172.0,6173.0,6174.0,6175.0,6176.0,6177.0,6178.0,6179.0,6180.0,6181.0,6182.0,6183.0,6184.0,6185.0,6186.0,6187.0,6188.0,6189.0,6190.0,6191.0,6192.0,6193.0,6194.0,6195.0,6196.0,6197.0,6198.0,6199.0,6200.0,6201.0,6202.0,6203.0,6204.0,6205.0,6206.0,6207.0,6208.0,6209.0,6210.0,6211.0,6212.0,6213.0,6214.0,6215.0,6216.0,6217.0,6218.0,6219.0,6220.0,6221.0,6222.0,6223.0,6224.0,6225.0,6226.0,6227.0,6228.0,6229.0,6230.0,6231.0,6232.0,6233.0,6234.0,6235.0,6236.0,6237.0,6238.0,6239.0,6240.0,6241.0,6242.0,6243.0,6244.0,6245.0,6246.0,6247.0,6248.0,6249.0,6250.0,6251.0,6252.0,6253.0,6254.0,6255.0,6256.0,6257.0,6258.0,6259.0,6260.0,6261.0,6262.0,6263.0,6264.0,6265.0,6266.0,6267.0,6268.0,6269.0,6270.0,6271.0,6272.0,6273.0,6274.0,6275.0,6276.0,6277.0,6278.0],\"y\":[0.18316775151308,0.0,0.0,0.0,0.0073940847322142,0.28111796277264,0.26139088729017,0.2585931254996,0.13031003768414,0.0,0.0,0.0,0.0077937649880096,0.30090213543451,0.63269384492406,0.56446271554185,0.17193388146626,1.4274294849834e-05,0.0,0.0,0.0078936850519584,0.33053557154277,0.64895226675802,0.54563492063492,0.12006109398196,0.0,0.0,0.0,0.010648623957976,0.29123843782117,0.47790339157246,0.35464485554414,0.070043964828137,0.0,0.0,0.0,0.0074369076167637,0.092825739408473,0.15788797533402,0.28669921205892,0.1553328765559,2.8548589699669e-05,0.0,0.0,0.0099063606257851,0.33997088043851,0.6943445243805,0.61934737923947,0.19203208861482,0.00014274294849834,0.0,0.0,0.011762018956264,0.33957120018271,0.68011305241521,0.59962030375699,0.19679970309467,7.1371474249172e-05,0.0,0.0,0.017614479844696,0.28487210231815,0.67221936736325,0.60059095580678,0.18837786913326,0.00028548589699669,0.0,0.0,0.012589928057554,0.15036542194816,0.66593867762933,0.60157588215142,0.19121845380838,0.00048532602489437,0.0,0.0,0.011105401393171,0.34154105287199,0.51197613337901,0.61449411899052,0.19570058239123,0.00062806897339271,0.0,0.0,0.015002283887176,0.34747915952952,0.66612424346237,0.60233241977846,0.19474420463629,0.00048532602489437,0.0,0.0,0.015045106771725,0.33962829736211,0.65803071828252,0.5778234555213,0.17398937992463,9.9920063948841e-05,0.0,0.0,0.0047961630695444,0.044407331277835,0.16553899737353,0.22533401849949,0.060151878497202,0.00055669749914354,0.0,0.0,0.0098492634463857,0.12841155646911,0.33715884435309,0.44525807925088,0.073512618476647,0.0,0.0,0.0,0.0015987210231815,0.048118647938792,0.077780632636748,0.088928856914468,0.023780975219824,0.0,0.0,0.0,0.023210003425831,0.33967112024666,0.45740550416809,0.34191218453808,0.12736953294507,0.00089928057553957,0.0,0.0,0.021625556697499,0.2889830992349,0.42443188306498,0.39260020554985,0.11920463629097,0.00042822884549503,0.0,0.0,0.019669978303072,0.15844467283316,0.17447470594953,0.10358855772525,0.058296220166724,0.00042822884549503,0.0,0.0,0.009306840242092,0.077438049560352,0.25363994518671,0.2282602489437,0.038854630581249,0.00028548589699669,0.0,0.0,0.022995889003083,0.33437535685737,0.35216112824026,0.20480758250542,0.093553728445815,0.00099920063948841,0.0,0.0,0.014417037798333,0.088914582619619,0.14073027292452,0.12311579307982,0.056640401964143,9.9920063948841e-05,0.0,0.0,0.020554984583762,0.22973050131324,0.58310494461574,0.46418579422177,0.11636405161585,0.0,0.0,0.0,0.0084075596665525,0.15603231700354,0.43382436907617,0.35011990407674,0.14044478702752,0.0016129953180313,0.0,0.0,0.019355943816375,0.3228988237981,0.39007365536143,0.38706177914811,0.17267614479845,0.0015130752540824,0.0,0.0,0.018399566061437,0.2892114879525,0.41750885006281,0.28285942674432,0.10413098092954,0.0018271097407788,0.0,0.0,0.022953066118534,0.3493062692703,0.52326710060523,0.32252769213201,0.077338129496403,0.0,0.0,0.0,0.011290967226219,0.089842411784858,0.4396197327852,0.39462715541852,0.16010049103574,0.0015701724334818,0.0,0.0,0.023038711887633,0.33571714057326,0.66184195500742,0.58301929884664,0.19899794450154,0.002840584675117,0.0,0.0,0.024865821628412,0.28694187507137,0.54123843782117,0.54474991435423,0.17004967454608,0.0025265501884207,0.0,0.0,0.029604887518557,0.28624243462373,0.55871017471737,0.30738266529633,0.06469110425945,0.0025265501884207,0.0,0.0,0.024337672718968,0.37335845609227,0.63316489665411,0.24471851090556,0.07668151193331,0.0028691332648167,0.0,0.0,0.027920520726276,0.35504453579993,0.41903619961174,0.16579593468083,0.040353431540482,0.0010848464085874,0.0,0.0,0.00021411442274752,0.05604088158045,0.32703836930456,0.4442588786114,0.19089014502684,0.004225191275551,0.0,0.0,0.028891172776065,0.25923546876784,0.3404562064634,0.30888146625557,0.021968139773895,0.0,0.0,0.0,0.021768299645997,0.31524780175859,0.43112652734955,0.2454464999429,0.15511876213315,0.0030689733927144,0.0,0.0,0.03358741578166,0.30886719196072,0.61744889802444,0.58920006851662,0.22704693388147,0.0032402649309124,0.0,0.0,0.028206006623273,0.28758421833961,0.33516044307411,0.39200068516615,0.14359940618933,0.0038540596094553,0.0,0.0,0.023880895283773,0.24212058924289,0.43410985497316,0.33072113737581,0.14990864451296,0.0128896882494,0.0,0.0,0.023210003425831,0.32095751969853,0.53375870731986,0.35620075368277,0.11349491835103,0.0039254310837045,0.0,0.0,0.033858627383807,0.33434680826767,0.55836759164097,0.46982414068745,0.12627041224164,0.0020126755738267,0.0,0.0,0.025950668036999,0.20102489437022,0.35802786342355,0.22319287427201,0.060051958433253,0.0054242320429371,0.0,0.0,0.027777777777778,0.27422347836017,0.54941760877013,0.27012675573827,0.046891058581706,0.0029405047390659,0.0,0.0,0.030504168094096,0.14165810208976,0.23555441361197,0.17818602261048,0.10077652163983,0.00689448441247,0.0,0.0,0.027106885919836,0.17554527806326,0.20994632865136,0.24758764417038,0.093582277035514,0.0023695329450725,0.0,0.0,0.032816603859769,0.18633664496974,0.32531117962773,0.43553728445815,0.18359598035857,0.0046248715313464,0.0,0.0,0.017800045677744,0.27897681854516,0.43472364965171,0.13462087472879,0.17304727646454,0.0069230330021697,0.0,0.0,0.037983898595409,0.20019698526893,0.14574055041681,0.16933595980359,0.17319001941304,0.004739065890145,0.0,0.0,0.037684138403563,0.27052643599406,0.40687450039968,0.41007194244604,0.15617505995204,0.0062521411442275,0.0,0.0,0.037784058467512,0.22477732100034,0.39549788740436,0.24057896539911,0.067603060408816,0.0012704122416353,0.0,0.0,0.0086930455635492,0.13951695786228,0.32963629096723,0.27089756766016,0.18723592554528,0.0046676944158959,0.0,0.0,0.031232157131438,0.20623501199041,0.57845152449469,0.61964713943131,0.23626812835446,0.0084789311408016,0.0,0.0,0.015630352860569,0.15467625899281,0.23789539796734,0.50592383236268,0.17039225762247,0.0070515016558182,0.0,0.0,0.031332077195387,0.38128068973393,0.67024951467398,0.60984069886948,0.22925944958319,0.0047247915952952,0.0,0.0,0.027192531688935,0.3659500970652,0.64514103003312,0.54115279205207,0.20466483955693,0.0045820486467968,0.0,0.0,0.028634235468768,0.12512846865365,0.35654333675916,0.59860682882266,0.23114365650337,0.0098349891515359,0.0,0.0,0.037313006737467,0.36076852803472,0.66212744090442,0.61633550302615,0.2331277834875,0.0051387461459404,0.0,0.0,0.036570743405276,0.26391743747859,0.67250485326025,0.49710231814548,0.23428400137033,0.0081791709489551,0.0,0.0,0.03709889231472,0.24040767386091,0.57506851661528,0.34763617677287,0.23170035400251,0.0095209546648396,0.0,0.0,0.03103231700354,0.38616249857257,0.60822770355144,0.52089756766016,0.1465970081078,0.0078223135777093,0.0,0.0,0.033573141486811,0.36917608770127,0.58035000570972,0.41438277949069,0.19585759963458,0.0092069201781432,0.0,0.0,0.032602489437022,0.36350919264588,0.64132979330821,0.48011590727418,0.22571942446043,0.0012704122416353,0.0,0.0,0.0061379467854288,0.1810551558753,0.40728845495033,0.56990122187964,0.21068859198356,0.0081220737695558,0.0,0.0,0.039896654105287,0.37973906589015,0.67518842069202,0.6210460203266,0.23341326938449,0.0074797305013132,0.0,0.0,0.022995889003083,0.29998858056412,0.46077423775266,0.44271725476761,0.13202295306612,0.0090213543450954,0.0,0.0,0.034343953408702,0.39270012561379,0.50087073198584,0.33137775493891,0.20329450725134,0.0067945643485212,0.0,0.0,0.030875299760192,0.38884606600434,0.68348178599977,0.53542879981729,0.21973849491835,0.009049902934795,0.0,0.0,0.0060237524266301,0.067003540025123,0.1508364736782,0.33387575653763,0.20426515930113,0.010163297933082,0.0,0.0,0.0068373872330707,0.14943759278292,0.22646168779262,0.21123101518785,0.060437364394199,0.0,0.0,0.0,0.01378896882494,0.14083019298847,0.17397510562978,0.37394370218111,0.11365193559438,0.0066232728103232,0.0,0.0,0.0086930455635492,0.092097750371132,0.30499885805641,0.45209546648396,0.18078394427315,0.0096208747287884,0.0,0.0,0.021468539454151,0.10845609226904,0.13938848920863,0.11183910014845,0.030504168094096,0.0,0.0,0.0,0.022938791823684,0.10301758593125,0.40693159757908,0.4179085303186,0.12214514103003,0.0045535000570972,0.0,0.0,0.021996688363595,0.13574854402193,0.48378440105059,0.61929028206007,0.25052814890944,0.0068659358227704,0.0,0.0,0.032816603859769,0.32084332533973,0.62588500628069,0.42608770126756,0.22606200753683,0.009049902934795,0.0,0.0,0.036870503597122,0.35457348406989,0.53938277949069,0.3878611396597,0.17321856800274,0.010891286970424,0.0,0.0,0.0070800502455179,0.29827566518214,0.50278348749572,0.49664554071029,0.24187792623044,0.010777092611625,0.0,0.0,0.033330478474363,0.37893970537855,0.56676087701268,0.45903277378098,0.22599063606258,0.012190247801759,0.0,0.0,0.029647710403106,0.28541452552244,0.65246374329108,0.55706863080964,0.2287455749686,0.0099920063948841,0.0,0.0,0.028862624186365,0.38543450953523,0.69335959803586,0.64214342811465,0.25251227589357,0.0060237524266301,0.0,0.0,0.025222678999657,0.37431483384721,0.67538826081992,0.62437193102661,0.2455035971223,0.0073798104373644,0.0,0.0,0.027891972136576,0.35552986182483,0.65724563206578,0.60404533516044,0.23144341669522,0.012361539339957,0.0,0.0,0.031474820143885,0.35193273952267,0.65029405047391,0.59365364850976,0.23972250770812,0.0069658558867192,0.0,0.0,0.031717483156332,0.34395340870161,0.65900137033231,0.49269156103688,0.2456463400708,0.0057097179399338,0.0,0.0,0.03193159757908,0.33887175973507,0.62464314262875,0.42368961973279,0.22283601690077,0.0041680940961516,0.0,0.0,0.028562863994519,0.38279376498801,0.69777035514446,0.65587529976019,0.26076281831678,0.0058381865935823,0.0,0.0,0.032959346808268,0.3021011762019,0.5688591983556,0.29048190019413,0.063534886376613,0.013460660043394,0.0,0.0,0.014531232157131,0.27525122758936,0.24804442160557,0.18295363709033,0.078922576224735,0.0056097978759849,0.0,0.0,0.027492291880781,0.25064234326824,0.3791252712116,0.40718853488638,0.21278691332648,0.0097493433824369,0.0,0.0,0.027834874957177,0.38670492177686,0.70967511704922,0.66332648167181,0.26093410985497,0.0051101975562407,0.0,0.0,0.032987895397967,0.35221822541966,0.67297590499029,0.61816261276693,0.24393342468882,0.0074940047961631,0.0,0.0,0.029890373415553,0.34670834760763,0.60298903734156,0.34165524723079,0.079736211031175,0.003968253968254,0.0,0.0,0.017857142857143,0.070971793993377,0.072270754824712,0.16089985154733,0.040838757565376,0.0012846865364851,0.0,0.0,0.010591526778577,0.058924289140116,0.26081991549617,0.52686422290739,0.13790396254425,0.00018556583304785,0.0,0.0,0.031731757451182,0.25977789197214,0.60487324426173,0.44834132693845,0.15975790795935,0.0093211145369419,0.0,0.0,0.024052186821971,0.34842126298961,0.59960602946214,0.61152506566176,0.24721651250428,0.0056240721708348,0.0,0.0,0.021839671120247,0.27081192189106,0.63542023524038,0.6164068745004,0.23856628982528,0.0073655361425146,0.0,0.0,0.017029233755852,0.30302900536713,0.54045335160443,0.47216512504282,0.19254596322942,0.0067089185794222,0.0,0.0,0.012718396711202,0.27516558182026,0.32956491949298,0.17368961973279,0.04051044878383,0.0018699326253283,0.0,0.0,0.014873815233527,0.075439648281375,0.18109797875985,0.28251684366792,0.087330135891287,0.0042965627498002,0.0,0.0,0.023224277720681,0.25889288569145,0.55267214799589,0.60491606714628,0.25155589813863,0.004824711659244,0.0,0.0,0.029533516044307,0.32986467968482,0.48399851547334,0.26662955350006,0.19617163412127,0.0084932054356515,0.0,0.0,0.009221194472993,0.29504967454608,0.59392486011191,0.33792965627498,0.11303814091584,0.0059952038369305,0.0,0.0,0.019370218111225,0.31811693502341,0.44053328765559,0.43191161356629,0.18536599291995,0.0027834874957177,0.0,0.0,0.010491606714628,0.10087644170378,0.27836302386662,0.19171805412813,0.10928400137033,0.0025550987781204,0.0,0.0,0.021811122530547,0.36988980244376,0.55559837844011,0.20646340070801,0.037541395455065,0.0016129953180313,0.0,0.0,0.0058381865935823,0.098920863309353,0.28338757565376,0.35685737124586,0.15950097065205,0.0045820486467968,0.0,0.0,0.015930113052415,0.29644855544136,0.50459632294165,0.2928514331392,0.068245403677058,0.00042822884549503,0.0,0.0,0.0096779719081877,0.14317117734384,0.5346865364851,0.39451296105972,0.17837158844353,0.0055527006965856,0.0,0.0,0.017942788626242,0.35597236496517,0.38192303300217,0.25171291538198,0.13079536370903,0.0045249514673975,0.0,0.0,0.018770697727532,0.31747459175517,0.64735354573484,0.57042937078908,0.24773038711888,0.0047818887746945,0.0,0.0,0.016315519013361,0.35949811579308,0.69137547105173,0.62682710974078,0.21518499486125,0.0021125956377755,0.0,0.0,0.019184652278177,0.35976932739523,0.6770726276122,0.5860739979445,0.22509135548704,0.0037398652506566,0.0,0.0,0.016115678885463,0.3490207833733,0.67301872787484,0.6332790910129,0.23025865022268,0.0020412241635263,0.0,0.0,0.013617677286742,0.031117962772639,0.13856058010734,0.10086216740893,0.13750428228845,0.0026978417266187,0.0,0.0,0.015715998629668,0.29071028891173,0.47514845266644,0.60510163297933,0.20442217654448,0.0033687335845609,0.0,0.0,0.012818316775151,0.26501655818203,0.61059723649652,0.60895569258879,0.19217483156332,0.0022981614708233,0.0,0.0,0.013446385748544,0.34027064063035,0.66305527006966,0.61435137604202,0.2280604088158,0.0051672947356401,0.0,0.0,0.01640116478246,0.22340698869476,0.39131551901336,0.40828765558981,0.13656217882837,0.002326710060523,0.0,0.0,0.0075368276807126,0.18198298504054,0.41336930455635,0.45462201667238,0.19595751969853,0.0020554984583762,0.0,0.0,0.0026978417266187,0.044578622816033,0.22157987895398,0.37144570058239,0.065247801758593,0.00067089185794222,0.0,0.0,0.011833390430513,0.3361596437136,0.68396711202467,0.61727760648624,0.20106771725477,0.001898481215028,0.0,0.0,0.015287769784173,0.29155247230787,0.50909272581934,0.56968710745689,0.20397967340413,0.0024694530090214,0.0,0.0,0.015887290167866,0.30008850062807,0.57147139431312,0.56087986753454,0.12866849377641,0.0015701724334818,0.0,0.0,0.0047247915952952,0.18286799132123,0.37759792166267,0.28959689391344,0.10925545278063,0.00024266301244719,0.0,0.0,0.0083790110768528,0.15900137033231,0.20009706520498,0.23953694187507,0.040182140002284,0.0,0.0,0.0,0.0021982414068745,0.054756195043965,0.11934737923947,0.14828137490008,0.053357314148681,0.0,0.0,0.0,0.00022838871759735,0.077209660842754,0.12602774922919,0.1552186821971,0.026150508164897,0.0,0.0,0.0,0.012275893570858,0.10089071599863,0.41301244718511,0.19187507137147,0.061136804841841,0.0,0.0,0.0,0.011276692931369,0.2929941760877,0.50706577595067,0.4740778805527,0.1720623501199,0.0010134749343382,0.0,0.0,0.010220395112481,0.33991378325911,0.68862053214571,0.54031060865593,0.076153363023867,0.00062806897339271,0.0,0.0,0.012318716455407,0.33623101518785,0.61807696699783,0.56713200867877,0.19353088957406,0.00074226333219139,0.0,0.0,0.012561379467854,0.33153477218225,0.64741064291424,0.60120475048533,0.19477275322599,0.0004996003197442,0.0,0.0,0.0099063606257851,0.31791709489551,0.59630866735183,0.19367363252255,0.0089928057553957,0.0,0.0,0.0,0.011419435879868,0.18830649765902,0.18112652734955,0.36583590270641,0.10565833047847,0.00014274294849834,0.0,0.0,0.00089928057553957,0.029562064634007,0.41855087358684,0.54593468082677,0.13450668036999,0.0,0.0,0.0,0.010077652163983,0.33064976590156,0.67073484069887,0.60837044649994,0.14899508964257,0.00075653762704122,0.0,0.0,0.00068516615279205,0.026407445472194,0.2544964028777,0.31212173118648,0.031431997259335,0.0,0.0,0.0,0.0012989608313349,0.079165239237182,0.20970366563892,0.3232699554642,0.15658901450268,5.7097179399338e-05,0.0,0.0,0.003968253968254,0.23494061893342,0.60924117848578,0.6164354230901,0.18164040196414,2.8548589699669e-05,0.0,0.0,0.0088500628068973,0.32412641315519,0.65820200982071,0.54283715884435,0.16014331392029,0.0,0.0,0.0,0.0081506223592555,0.32591070001142,0.66222736096837,0.6038312207377,0.16184195500742,0.0,0.0,0.0,0.0010991207034373,0.021397167979902,0.120532145712,0.10855601233299,0.1118248258536,0.0,0.0,0.0,0.0010562978188877,0.10580107342697,0.5301044878383,0.39285714285714,0.10768528034715,0.0,0.0,0.0,0.0069087587073199,0.28724163526322,0.52782060066233,0.53548589699669,0.17732956491949,0.0,0.0,0.0,0.0072085188991664,0.29356514788169,0.17140573255681,0.2502569373073,0.096936736325226,0.0,0.0,0.0,0.0019984012789768,0.045335160443074,0.14725362567089,0.11343782117163,0.029062464314263,0.0,0.0,0.0,0.0044535799931483,0.19749914354231,0.3876327509421,0.18024152106886,0.042180541281261,0.0,0.0,0.0,0.00022838871759735,0.056697499143542,0.21103117505995,0.10551558752998,0.018214000228389,0.0,0.0,0.0,0.0032973621103118,0.11766301244719,0.32531117962773,0.58100662327281,0.16897910243234,0.0,0.0,0.0,0.0024837273038712,0.29192360397396,0.47022382094325,0.42153420121046,0.15670320886148,0.0,0.0,0.0,0.0059238323626813,0.33608827223935,0.69622873130067,0.54781888774695,0.14435594381638,0.0,0.0,0.0,0.0054099577480872,0.32127155418522,0.53672776064862,0.49651707205664,0.14415610368848,0.0,0.0,0.0,0.00037113166609569,0.11793422404933,0.49170663469225,0.20447927372388,0.016172776064862,0.0,0.0,0.0,0.00071371474249172,0.065947242206235,0.078265958661642,0.18422404933196,0.1289539796734,0.0,0.0,0.0,0.00075653762704122,0.13651935594382,0.40050816489665,0.23869475847893,0.1033173461231,0.0,0.0,0.0,0.0017414639716798,0.038497773210003,0.27740664611168,0.42471736896197,0.10999771611282,0.0,0.0,0.0,0.0,0.0258650222679,0.11801986981843,0.2327566518214,0.0079507822313578,0.0,0.0,0.0,1.4274294849834e-05,0.024252026949869,0.11452266758022,0.11516501084846,0.047961630695444,0.0,0.0,0.0,0.0028263103802672,0.11662098892315,0.45904704807583,0.42483156332077,0.082690990065091,0.0,0.0,0.0,0.00065661756309238,0.1332790910129,0.25503882608199,0.25766529633436,0.044978303071828,0.0,0.0,0.0,0.0036399451867078,0.18573712458605,0.4047904533516,0.4098007308439,0.11656389174375,0.0,0.0,0.0,0.0018271097407788,0.15734555212972,0.5643627954779,0.26805698298504,0.050388260819916,0.0,0.0,0.0,0.0,0.01380324311979,0.13055270069659,0.34892086330935,0.042637318716455,0.0,0.0,0.0,8.5645769099007e-05,0.045849035057668,0.085131894484412,0.04659129838986,0.0056811693502341,0.0,0.0,0.0,0.0030404248030147,0.15136462258764,0.47069487267329,0.44797019527235,0.062435765673176,0.0,0.0,0.0,0.00074226333219139,0.08620246659815,0.37919664268585,0.45477903391572,0.039083019298847,0.0,0.0,0.0,0.00098492634463857,0.21120246659815,0.54085303186023,0.27679285143314,0.03879753340185,0.0,0.0,0.0,0.0016272696128811,0.30788226561608,0.63293650793651,0.54970309466712,0.10918408130638,0.0,0.0,0.0,0.0014845266643828,0.31207890830193,0.65560408815804,0.57336987552815,0.1116820829051,0.0,0.0,0.0,0.0012561379467854,0.30532716683796,0.61085417380381,0.48349891515359,0.10725705150166,0.0,0.0,0.0,0.0010991207034373,0.30372844581478,0.67558810094781,0.56549046477104,0.10468767842869,0.0,0.0,0.0,0.0009135548703894,0.30131608998515,0.66145654904648,0.56033744433025,0.10231814548361,0.0,0.0,0.0,0.00077081192189106,0.30222964485554,0.65897282174261,0.55001712915382,0.096437136005481,0.0,0.0,0.0,0.0010562978188877,0.18922005252941,0.48910871302958,0.24047904533516,0.028391572456321,0.0,0.0,0.0,0.0,0.043336759164097,0.11116820829051,0.21518499486125,0.022310722850291,0.0,0.0,0.0,2.8548589699669e-05,0.059295420806212,0.080906703208861,0.11249571771155,0.0091783715884435,0.0,0.0,0.0,1.4274294849834e-05,0.072641886490807,0.074825853602832,0.077780632636748,0.02065490464771,0.0,0.0,0.0,0.0,0.050473906589015,0.092768642229074,0.097093753568574,0.0011419435879868,0.0,0.0,0.0,4.2822884549503e-05,0.15616078565719,0.37314434166952,0.1117106314948,0.0078508621674089,0.0,0.0,0.0,0.0,0.052372387804042,0.04480701153363,0.071785428799817,0.014859540938678,0.0,0.0,0.0,0.0,0.14455578394427,0.19892657302729,0.094181797419207,0.013060979787598,0.0,0.0,0.0,1.4274294849834e-05,0.24668836359484,0.62592782916524,0.5087073198584,0.067146282973621,0.0,0.0,0.0,2.8548589699669e-05,0.25503882608199,0.44498686764874,0.30114479844696,0.019313120931826,0.0,0.0,0.0,0.0,0.0,0.0,0.0,0.0,0.0,0.0,0.0,0.0,0.0,0.0,0.0,0.0,0.0,0.027106885919836,0.10493034144113,0.036699212058924,0.00077081192189106,0.0,0.0,0.0,0.0,0.0,0.0,0.0,0.0,0.0,0.0,0.0,0.0,0.0,0.0,0.0,0.0,0.0,0.038012447185109,0.11455121616992,0.18645083932854,0.0075225533858627,0.0,0.0,0.0,0.0,0.020883293365308,0.12405789653991,0.095951809980587,0.0018556583304785,0.0,0.0,0.0,0.0,0.0,0.0,0.0,0.0,0.0,0.11560751398881,0.26081991549617,0.1076710060523,0.0070372273609684,0.0,0.0,0.0,0.0,0.016815119333105,0.061350919264588,0.038640516158502,0.0019270298047276,0.0,0.0,0.0,0.0,0.052886262418637,0.21185908416124,0.083961402306726,0.013489208633094,0.0,0.0,0.0,0.0,0.029162384378212,0.28619961173918,0.22921662669864,0.010948384149823,0.0,0.0,0.0,0.0,0.010505881009478,0.068017014959461,0.077852004110997,0.020155304327966,0.0,0.0,0.0,0.0,0.070343725019984,0.44721365764531,0.42157702409501,0.029904647710403,0.0,0.0,0.0,0.0,0.03702752084047,0.13029576338929,0.17535971223022,0.012604202352404,0.0,0.0,0.0,0.0,0.0,0.0,0.0,0.0,0.0,0.0,0.0,0.0,0.0,0.0,0.0,0.0,0.0,0.0,0.0,0.0,0.0,0.0,0.0,0.0,0.0,0.0,0.0,0.0,0.023081534772182,0.095480758250542,0.14242891401165,0.014488409272582,0.0,0.0,0.0,0.0,0.0,0.0,0.0,0.0,0.0,0.0,0.0,0.0,0.0,0.0,0.0,0.0,0.0,0.0,0.0,0.0,0.0,0.0,0.0,0.0,0.0,0.0,0.0,0.0,0.0,0.0,0.0,0.0,0.0,0.0,0.0,0.0,0.0,0.0,0.0,0.0,0.0,0.0,0.0,0.0,0.0,0.0,0.0,0.0,0.0,0.0,0.0,0.0,0.023995089642572,0.053614251455978,0.030932396939591,0.00022838871759735,0.0,0.0,0.0,0.0,0.010420235240379,0.091769441589585,0.20008279091013,0.0017842868562293,0.0,0.0,0.0,0.0,0.017785771382894,0.25196985268928,0.18573712458605,0.0079222336416581,0.0,0.0,0.0,0.0,0.017171976704351,0.04824711659244,0.01465970081078,0.0,0.0,0.0,0.0,0.0,0.049017928514331,0.11796277263903,0.034743633664497,2.8548589699669e-05,0.0,0.0,0.0,0.0,0.00072798903734156,0.021154504967455,0.029205207262761,0.00054242320429371,0.0,0.0,0.0,0.0,0.0032830878154619,0.025536713486354,0.019384492406075,0.0,0.0,0.0,0.0,0.0,8.5645769099007e-05,0.02329564919493,0.022053785542994,0.0,0.0,0.0,0.0,0.0,0.01120532145712,0.065590384834989,0.045863309352518,0.00062806897339271,0.0,0.0,0.0,0.0,0.0012561379467854,0.071157359826425,0.025979216626699,0.0,0.0,0.0,0.0,0.0,0.0016558182025808,0.022781774580336,0.0067517414639717,0.0,0.0,0.0,0.0,0.0,0.0031974420463629,0.068031289254311,0.17614479844696,0.0011990407673861,0.0,0.0,0.0,0.0,0.089471280118762,0.42524551787142,0.13217997030947,0.0013275094210346,0.0,0.0,0.0,0.0,0.0011133949982871,0.033715884435309,0.11493662213087,0.0036827680712573,0.0,0.0,0.0,0.0,0.011005481329222,0.049217768642229,0.033858627383807,0.0008707319858399,0.0,0.0,0.0,0.0,0.0051672947356401,0.060266072856001,0.043265387689848,0.0055384264017358,0.0,0.0,0.0,0.0,0.039596893913441,0.24831563320772,0.14486981843097,0.0025265501884207,0.0,0.0,0.0,2.8548589699669e-05,0.014117277606486,0.086416581020898,0.039354230900993,2.8548589699669e-05,0.0,0.0,0.0,0.0,0.0048960831334932,0.2283173461231,0.29554927486582,0.0031974420463629,0.0,0.0,0.0,0.0,0.0011419435879868,0.030732556811694,0.013945986068288,2.8548589699669e-05,0.0,0.0,0.0,0.0,0.0017414639716798,0.015773095809067,0.012318716455407,0.0,0.0,0.0,0.0,0.0,0.001898481215028,0.036570743405276,0.019669978303072,0.0,0.0,0.0,0.0,0.0,0.0026835674317689,0.038711887632751,0.021083133493205,0.0,0.0,0.0,0.0,0.0,0.0080507022953066,0.19375927829165,0.26219024780176,0.00069944044764189,0.0,0.0,0.0,0.0,0.00069944044764189,0.012989608313349,0.036014045906132,0.00025693730729702,0.0,0.0,0.0,0.0,0.023052986182483,0.20409386776293,0.071071714057326,4.2822884549503e-05,0.0,0.0,0.0,0.0,0.0040396254425031,0.068830649765902,0.23004453579993,0.0,0.0,0.0,0.0,0.0,0.047319287427201,0.42301872787484,0.20169578622816,0.00058524608884321,0.0,0.0,0.0,0.0,0.047961630695444,0.41256994404476,0.25983498915154,0.00061379467854288,1.4274294849834e-05,0.0,0.0,0.0,0.010905561265273,0.26484526664383,0.14915210688592,0.0019413040995775,0.0,0.0,0.0,0.0,0.017999885805641,0.057925088500628,0.032202809181226,0.0,0.0,0.0,0.0,0.0,0.0074940047961631,0.069173232842298,0.015416238437821,0.0,0.0,0.0,0.0,0.0,0.0016843667922805,0.018485211830536,0.0062235925545278,0.0,0.0,0.0,0.0,0.0,1.4274294849834e-05,0.027249628868334,0.012118876327509,0.0,0.0,0.0,0.0,0.0,0.0095352289596894,0.10143313920292,0.2673575425374,0.0013417837158844,0.0,0.0,0.0,0.0,0.0082933653077538,0.25766529633436,0.15718853488638,0.00034258307639603,0.0,0.0,0.0,0.0,0.0,0.014088729016787,0.011447984469567,0.0,0.0,0.0,0.0,0.0,0.0011562178828366,0.079450725134178,0.1117106314948,0.00069944044764189,0.0,0.0,0.0,0.0,7.1371474249172e-05,0.017143428114651,0.012332990750257,0.0,0.0,0.0,0.0,0.0,0.0059238323626813,0.05254367934224,0.11034029918922,0.0023124357656732,0.0,0.0,0.0,0.0,0.0077223935137604,0.075982071485669,0.057511133949983,2.8548589699669e-05,0.0,0.0,0.0,0.0,0.0033401849948613,0.061636405161585,0.11280975219824,0.00015701724334818,0.0,0.0,0.0,0.0,0.0043536599291995,0.059952038369305,0.04653420121046,0.00019984012789768,0.0,0.0,0.0,0.0,0.0,0.085831334932054,0.21143085531575,0.0016843667922805,0.0,0.0,0.0,0.0,0.0089499828708462,0.15907274180655,0.062235925545278,0.0020840470480758,0.0,0.0,0.0,0.0,0.00067089185794222,0.050302615050816,0.052443759278292,0.00032830878154619,0.0,0.0,0.0,0.0,0.0090213543450954,0.32482585360283,0.1899908644513,0.002241064291424,0.0,0.0,0.0,0.0,0.014317117734384,0.27435194701382,0.15735982642457,0.002241064291424,0.0,0.00017129153819801,0.0044678542879982,0.063463514902364,0.05003140344867,0.00092782916523924,0.0,0.0,0.0,0.0,0.027849149252027,0.14327109740779,0.015701724334818,0.0,0.0,0.0,0.0,0.0,0.013703323055841,0.27773495489323,0.23111510791367,0.0016843667922805,0.0,0.0,0.0,0.0,0.0020412241635263,0.11015473335617,0.25431083704465,0.0030546990978646,0.0,0.0],\"type\":\"scatter\",\"xaxis\":\"x\",\"yaxis\":\"y\"},{\"name\":\"Predicted generated solar power by MLP with RMSE\",\"x\":[4207.0,4208.0,4209.0,4210.0,4211.0,4212.0,4213.0,4214.0,4215.0,4216.0,4217.0,4218.0,4219.0,4220.0,4221.0,4222.0,4223.0,4224.0,4225.0,4226.0,4227.0,4228.0,4229.0,4230.0,4231.0,4232.0,4233.0,4234.0,4235.0,4236.0,4237.0,4238.0,4239.0,4240.0,4241.0,4242.0,4243.0,4244.0,4245.0,4246.0,4247.0,4248.0,4249.0,4250.0,4251.0,4252.0,4253.0,4254.0,4255.0,4256.0,4257.0,4258.0,4259.0,4260.0,4261.0,4262.0,4263.0,4264.0,4265.0,4266.0,4267.0,4268.0,4269.0,4270.0,4271.0,4272.0,4273.0,4274.0,4275.0,4276.0,4277.0,4278.0,4279.0,4280.0,4281.0,4282.0,4283.0,4284.0,4285.0,4286.0,4287.0,4288.0,4289.0,4290.0,4291.0,4292.0,4293.0,4294.0,4295.0,4296.0,4297.0,4298.0,4299.0,4300.0,4301.0,4302.0,4303.0,4304.0,4305.0,4306.0,4307.0,4308.0,4309.0,4310.0,4311.0,4312.0,4313.0,4314.0,4315.0,4316.0,4317.0,4318.0,4319.0,4320.0,4321.0,4322.0,4323.0,4324.0,4325.0,4326.0,4327.0,4328.0,4329.0,4330.0,4331.0,4332.0,4333.0,4334.0,4335.0,4336.0,4337.0,4338.0,4339.0,4340.0,4341.0,4342.0,4343.0,4344.0,4345.0,4346.0,4347.0,4348.0,4349.0,4350.0,4351.0,4352.0,4353.0,4354.0,4355.0,4356.0,4357.0,4358.0,4359.0,4360.0,4361.0,4362.0,4363.0,4364.0,4365.0,4366.0,4367.0,4368.0,4369.0,4370.0,4371.0,4372.0,4373.0,4374.0,4375.0,4376.0,4377.0,4378.0,4379.0,4380.0,4381.0,4382.0,4383.0,4384.0,4385.0,4386.0,4387.0,4388.0,4389.0,4390.0,4391.0,4392.0,4393.0,4394.0,4395.0,4396.0,4397.0,4398.0,4399.0,4400.0,4401.0,4402.0,4403.0,4404.0,4405.0,4406.0,4407.0,4408.0,4409.0,4410.0,4411.0,4412.0,4413.0,4414.0,4415.0,4416.0,4417.0,4418.0,4419.0,4420.0,4421.0,4422.0,4423.0,4424.0,4425.0,4426.0,4427.0,4428.0,4429.0,4430.0,4431.0,4432.0,4433.0,4434.0,4435.0,4436.0,4437.0,4438.0,4439.0,4440.0,4441.0,4442.0,4443.0,4444.0,4445.0,4446.0,4447.0,4448.0,4449.0,4450.0,4451.0,4452.0,4453.0,4454.0,4455.0,4456.0,4457.0,4458.0,4459.0,4460.0,4461.0,4462.0,4463.0,4464.0,4465.0,4466.0,4467.0,4468.0,4469.0,4470.0,4471.0,4472.0,4473.0,4474.0,4475.0,4476.0,4477.0,4478.0,4479.0,4480.0,4481.0,4482.0,4483.0,4484.0,4485.0,4486.0,4487.0,4488.0,4489.0,4490.0,4491.0,4492.0,4493.0,4494.0,4495.0,4496.0,4497.0,4498.0,4499.0,4500.0,4501.0,4502.0,4503.0,4504.0,4505.0,4506.0,4507.0,4508.0,4509.0,4510.0,4511.0,4512.0,4513.0,4514.0,4515.0,4516.0,4517.0,4518.0,4519.0,4520.0,4521.0,4522.0,4523.0,4524.0,4525.0,4526.0,4527.0,4528.0,4529.0,4530.0,4531.0,4532.0,4533.0,4534.0,4535.0,4536.0,4537.0,4538.0,4539.0,4540.0,4541.0,4542.0,4543.0,4544.0,4545.0,4546.0,4547.0,4548.0,4549.0,4550.0,4551.0,4552.0,4553.0,4554.0,4555.0,4556.0,4557.0,4558.0,4559.0,4560.0,4561.0,4562.0,4563.0,4564.0,4565.0,4566.0,4567.0,4568.0,4569.0,4570.0,4571.0,4572.0,4573.0,4574.0,4575.0,4576.0,4577.0,4578.0,4579.0,4580.0,4581.0,4582.0,4583.0,4584.0,4585.0,4586.0,4587.0,4588.0,4589.0,4590.0,4591.0,4592.0,4593.0,4594.0,4595.0,4596.0,4597.0,4598.0,4599.0,4600.0,4601.0,4602.0,4603.0,4604.0,4605.0,4606.0,4607.0,4608.0,4609.0,4610.0,4611.0,4612.0,4613.0,4614.0,4615.0,4616.0,4617.0,4618.0,4619.0,4620.0,4621.0,4622.0,4623.0,4624.0,4625.0,4626.0,4627.0,4628.0,4629.0,4630.0,4631.0,4632.0,4633.0,4634.0,4635.0,4636.0,4637.0,4638.0,4639.0,4640.0,4641.0,4642.0,4643.0,4644.0,4645.0,4646.0,4647.0,4648.0,4649.0,4650.0,4651.0,4652.0,4653.0,4654.0,4655.0,4656.0,4657.0,4658.0,4659.0,4660.0,4661.0,4662.0,4663.0,4664.0,4665.0,4666.0,4667.0,4668.0,4669.0,4670.0,4671.0,4672.0,4673.0,4674.0,4675.0,4676.0,4677.0,4678.0,4679.0,4680.0,4681.0,4682.0,4683.0,4684.0,4685.0,4686.0,4687.0,4688.0,4689.0,4690.0,4691.0,4692.0,4693.0,4694.0,4695.0,4696.0,4697.0,4698.0,4699.0,4700.0,4701.0,4702.0,4703.0,4704.0,4705.0,4706.0,4707.0,4708.0,4709.0,4710.0,4711.0,4712.0,4713.0,4714.0,4715.0,4716.0,4717.0,4718.0,4719.0,4720.0,4721.0,4722.0,4723.0,4724.0,4725.0,4726.0,4727.0,4728.0,4729.0,4730.0,4731.0,4732.0,4733.0,4734.0,4735.0,4736.0,4737.0,4738.0,4739.0,4740.0,4741.0,4742.0,4743.0,4744.0,4745.0,4746.0,4747.0,4748.0,4749.0,4750.0,4751.0,4752.0,4753.0,4754.0,4755.0,4756.0,4757.0,4758.0,4759.0,4760.0,4761.0,4762.0,4763.0,4764.0,4765.0,4766.0,4767.0,4768.0,4769.0,4770.0,4771.0,4772.0,4773.0,4774.0,4775.0,4776.0,4777.0,4778.0,4779.0,4780.0,4781.0,4782.0,4783.0,4784.0,4785.0,4786.0,4787.0,4788.0,4789.0,4790.0,4791.0,4792.0,4793.0,4794.0,4795.0,4796.0,4797.0,4798.0,4799.0,4800.0,4801.0,4802.0,4803.0,4804.0,4805.0,4806.0,4807.0,4808.0,4809.0,4810.0,4811.0,4812.0,4813.0,4814.0,4815.0,4816.0,4817.0,4818.0,4819.0,4820.0,4821.0,4822.0,4823.0,4824.0,4825.0,4826.0,4827.0,4828.0,4829.0,4830.0,4831.0,4832.0,4833.0,4834.0,4835.0,4836.0,4837.0,4838.0,4839.0,4840.0,4841.0,4842.0,4843.0,4844.0,4845.0,4846.0,4847.0,4848.0,4849.0,4850.0,4851.0,4852.0,4853.0,4854.0,4855.0,4856.0,4857.0,4858.0,4859.0,4860.0,4861.0,4862.0,4863.0,4864.0,4865.0,4866.0,4867.0,4868.0,4869.0,4870.0,4871.0,4872.0,4873.0,4874.0,4875.0,4876.0,4877.0,4878.0,4879.0,4880.0,4881.0,4882.0,4883.0,4884.0,4885.0,4886.0,4887.0,4888.0,4889.0,4890.0,4891.0,4892.0,4893.0,4894.0,4895.0,4896.0,4897.0,4898.0,4899.0,4900.0,4901.0,4902.0,4903.0,4904.0,4905.0,4906.0,4907.0,4908.0,4909.0,4910.0,4911.0,4912.0,4913.0,4914.0,4915.0,4916.0,4917.0,4918.0,4919.0,4920.0,4921.0,4922.0,4923.0,4924.0,4925.0,4926.0,4927.0,4928.0,4929.0,4930.0,4931.0,4932.0,4933.0,4934.0,4935.0,4936.0,4937.0,4938.0,4939.0,4940.0,4941.0,4942.0,4943.0,4944.0,4945.0,4946.0,4947.0,4948.0,4949.0,4950.0,4951.0,4952.0,4953.0,4954.0,4955.0,4956.0,4957.0,4958.0,4959.0,4960.0,4961.0,4962.0,4963.0,4964.0,4965.0,4966.0,4967.0,4968.0,4969.0,4970.0,4971.0,4972.0,4973.0,4974.0,4975.0,4976.0,4977.0,4978.0,4979.0,4980.0,4981.0,4982.0,4983.0,4984.0,4985.0,4986.0,4987.0,4988.0,4989.0,4990.0,4991.0,4992.0,4993.0,4994.0,4995.0,4996.0,4997.0,4998.0,4999.0,5000.0,5001.0,5002.0,5003.0,5004.0,5005.0,5006.0,5007.0,5008.0,5009.0,5010.0,5011.0,5012.0,5013.0,5014.0,5015.0,5016.0,5017.0,5018.0,5019.0,5020.0,5021.0,5022.0,5023.0,5024.0,5025.0,5026.0,5027.0,5028.0,5029.0,5030.0,5031.0,5032.0,5033.0,5034.0,5035.0,5036.0,5037.0,5038.0,5039.0,5040.0,5041.0,5042.0,5043.0,5044.0,5045.0,5046.0,5047.0,5048.0,5049.0,5050.0,5051.0,5052.0,5053.0,5054.0,5055.0,5056.0,5057.0,5058.0,5059.0,5060.0,5061.0,5062.0,5063.0,5064.0,5065.0,5066.0,5067.0,5068.0,5069.0,5070.0,5071.0,5072.0,5073.0,5074.0,5075.0,5076.0,5077.0,5078.0,5079.0,5080.0,5081.0,5082.0,5083.0,5084.0,5085.0,5086.0,5087.0,5088.0,5089.0,5090.0,5091.0,5092.0,5093.0,5094.0,5095.0,5096.0,5097.0,5098.0,5099.0,5100.0,5101.0,5102.0,5103.0,5104.0,5105.0,5106.0,5107.0,5108.0,5109.0,5110.0,5111.0,5112.0,5113.0,5114.0,5115.0,5116.0,5117.0,5118.0,5119.0,5120.0,5121.0,5122.0,5123.0,5124.0,5125.0,5126.0,5127.0,5128.0,5129.0,5130.0,5131.0,5132.0,5133.0,5134.0,5135.0,5136.0,5137.0,5138.0,5139.0,5140.0,5141.0,5142.0,5143.0,5144.0,5145.0,5146.0,5147.0,5148.0,5149.0,5150.0,5151.0,5152.0,5153.0,5154.0,5155.0,5156.0,5157.0,5158.0,5159.0,5160.0,5161.0,5162.0,5163.0,5164.0,5165.0,5166.0,5167.0,5168.0,5169.0,5170.0,5171.0,5172.0,5173.0,5174.0,5175.0,5176.0,5177.0,5178.0,5179.0,5180.0,5181.0,5182.0,5183.0,5184.0,5185.0,5186.0,5187.0,5188.0,5189.0,5190.0,5191.0,5192.0,5193.0,5194.0,5195.0,5196.0,5197.0,5198.0,5199.0,5200.0,5201.0,5202.0,5203.0,5204.0,5205.0,5206.0,5207.0,5208.0,5209.0,5210.0,5211.0,5212.0,5213.0,5214.0,5215.0,5216.0,5217.0,5218.0,5219.0,5220.0,5221.0,5222.0,5223.0,5224.0,5225.0,5226.0,5227.0,5228.0,5229.0,5230.0,5231.0,5232.0,5233.0,5234.0,5235.0,5236.0,5237.0,5238.0,5239.0,5240.0,5241.0,5242.0,5243.0,5244.0,5245.0,5246.0,5247.0,5248.0,5249.0,5250.0,5251.0,5252.0,5253.0,5254.0,5255.0,5256.0,5257.0,5258.0,5259.0,5260.0,5261.0,5262.0,5263.0,5264.0,5265.0,5266.0,5267.0,5268.0,5269.0,5270.0,5271.0,5272.0,5273.0,5274.0,5275.0,5276.0,5277.0,5278.0,5279.0,5280.0,5281.0,5282.0,5283.0,5284.0,5285.0,5286.0,5287.0,5288.0,5289.0,5290.0,5291.0,5292.0,5293.0,5294.0,5295.0,5296.0,5297.0,5298.0,5299.0,5300.0,5301.0,5302.0,5303.0,5304.0,5305.0,5306.0,5307.0,5308.0,5309.0,5310.0,5311.0,5312.0,5313.0,5314.0,5315.0,5316.0,5317.0,5318.0,5319.0,5320.0,5321.0,5322.0,5323.0,5324.0,5325.0,5326.0,5327.0,5328.0,5329.0,5330.0,5331.0,5332.0,5333.0,5334.0,5335.0,5336.0,5337.0,5338.0,5339.0,5340.0,5341.0,5342.0,5343.0,5344.0,5345.0,5346.0,5347.0,5348.0,5349.0,5350.0,5351.0,5352.0,5353.0,5354.0,5355.0,5356.0,5357.0,5358.0,5359.0,5360.0,5361.0,5362.0,5363.0,5364.0,5365.0,5366.0,5367.0,5368.0,5369.0,5370.0,5371.0,5372.0,5373.0,5374.0,5375.0,5376.0,5377.0,5378.0,5379.0,5380.0,5381.0,5382.0,5383.0,5384.0,5385.0,5386.0,5387.0,5388.0,5389.0,5390.0,5391.0,5392.0,5393.0,5394.0,5395.0,5396.0,5397.0,5398.0,5399.0,5400.0,5401.0,5402.0,5403.0,5404.0,5405.0,5406.0,5407.0,5408.0,5409.0,5410.0,5411.0,5412.0,5413.0,5414.0,5415.0,5416.0,5417.0,5418.0,5419.0,5420.0,5421.0,5422.0,5423.0,5424.0,5425.0,5426.0,5427.0,5428.0,5429.0,5430.0,5431.0,5432.0,5433.0,5434.0,5435.0,5436.0,5437.0,5438.0,5439.0,5440.0,5441.0,5442.0,5443.0,5444.0,5445.0,5446.0,5447.0,5448.0,5449.0,5450.0,5451.0,5452.0,5453.0,5454.0,5455.0,5456.0,5457.0,5458.0,5459.0,5460.0,5461.0,5462.0,5463.0,5464.0,5465.0,5466.0,5467.0,5468.0,5469.0,5470.0,5471.0,5472.0,5473.0,5474.0,5475.0,5476.0,5477.0,5478.0,5479.0,5480.0,5481.0,5482.0,5483.0,5484.0,5485.0,5486.0,5487.0,5488.0,5489.0,5490.0,5491.0,5492.0,5493.0,5494.0,5495.0,5496.0,5497.0,5498.0,5499.0,5500.0,5501.0,5502.0,5503.0,5504.0,5505.0,5506.0,5507.0,5508.0,5509.0,5510.0,5511.0,5512.0,5513.0,5514.0,5515.0,5516.0,5517.0,5518.0,5519.0,5520.0,5521.0,5522.0,5523.0,5524.0,5525.0,5526.0,5527.0,5528.0,5529.0,5530.0,5531.0,5532.0,5533.0,5534.0,5535.0,5536.0,5537.0,5538.0,5539.0,5540.0,5541.0,5542.0,5543.0,5544.0,5545.0,5546.0,5547.0,5548.0,5549.0,5550.0,5551.0,5552.0,5553.0,5554.0,5555.0,5556.0,5557.0,5558.0,5559.0,5560.0,5561.0,5562.0,5563.0,5564.0,5565.0,5566.0,5567.0,5568.0,5569.0,5570.0,5571.0,5572.0,5573.0,5574.0,5575.0,5576.0,5577.0,5578.0,5579.0,5580.0,5581.0,5582.0,5583.0,5584.0,5585.0,5586.0,5587.0,5588.0,5589.0,5590.0,5591.0,5592.0,5593.0,5594.0,5595.0,5596.0,5597.0,5598.0,5599.0,5600.0,5601.0,5602.0,5603.0,5604.0,5605.0,5606.0,5607.0,5608.0,5609.0,5610.0,5611.0,5612.0,5613.0,5614.0,5615.0,5616.0,5617.0,5618.0,5619.0,5620.0,5621.0,5622.0,5623.0,5624.0,5625.0,5626.0,5627.0,5628.0,5629.0,5630.0,5631.0,5632.0,5633.0,5634.0,5635.0,5636.0,5637.0,5638.0,5639.0,5640.0,5641.0,5642.0,5643.0,5644.0,5645.0,5646.0,5647.0,5648.0,5649.0,5650.0,5651.0,5652.0,5653.0,5654.0,5655.0,5656.0,5657.0,5658.0,5659.0,5660.0,5661.0,5662.0,5663.0,5664.0,5665.0,5666.0,5667.0,5668.0,5669.0,5670.0,5671.0,5672.0,5673.0,5674.0,5675.0,5676.0,5677.0,5678.0,5679.0,5680.0,5681.0,5682.0,5683.0,5684.0,5685.0,5686.0,5687.0,5688.0,5689.0,5690.0,5691.0,5692.0,5693.0,5694.0,5695.0,5696.0,5697.0,5698.0,5699.0,5700.0,5701.0,5702.0,5703.0,5704.0,5705.0,5706.0,5707.0,5708.0,5709.0,5710.0,5711.0,5712.0,5713.0,5714.0,5715.0,5716.0,5717.0,5718.0,5719.0,5720.0,5721.0,5722.0,5723.0,5724.0,5725.0,5726.0,5727.0,5728.0,5729.0,5730.0,5731.0,5732.0,5733.0,5734.0,5735.0,5736.0,5737.0,5738.0,5739.0,5740.0,5741.0,5742.0,5743.0,5744.0,5745.0,5746.0,5747.0,5748.0,5749.0,5750.0,5751.0,5752.0,5753.0,5754.0,5755.0,5756.0,5757.0,5758.0,5759.0,5760.0,5761.0,5762.0,5763.0,5764.0,5765.0,5766.0,5767.0,5768.0,5769.0,5770.0,5771.0,5772.0,5773.0,5774.0,5775.0,5776.0,5777.0,5778.0,5779.0,5780.0,5781.0,5782.0,5783.0,5784.0,5785.0,5786.0,5787.0,5788.0,5789.0,5790.0,5791.0,5792.0,5793.0,5794.0,5795.0,5796.0,5797.0,5798.0,5799.0,5800.0,5801.0,5802.0,5803.0,5804.0,5805.0,5806.0,5807.0,5808.0,5809.0,5810.0,5811.0,5812.0,5813.0,5814.0,5815.0,5816.0,5817.0,5818.0,5819.0,5820.0,5821.0,5822.0,5823.0,5824.0,5825.0,5826.0,5827.0,5828.0,5829.0,5830.0,5831.0,5832.0,5833.0,5834.0,5835.0,5836.0,5837.0,5838.0,5839.0,5840.0,5841.0,5842.0,5843.0,5844.0,5845.0,5846.0,5847.0,5848.0,5849.0,5850.0,5851.0,5852.0,5853.0,5854.0,5855.0,5856.0,5857.0,5858.0,5859.0,5860.0,5861.0,5862.0,5863.0,5864.0,5865.0,5866.0,5867.0,5868.0,5869.0,5870.0,5871.0,5872.0,5873.0,5874.0,5875.0,5876.0,5877.0,5878.0,5879.0,5880.0,5881.0,5882.0,5883.0,5884.0,5885.0,5886.0,5887.0,5888.0,5889.0,5890.0,5891.0,5892.0,5893.0,5894.0,5895.0,5896.0,5897.0,5898.0,5899.0,5900.0,5901.0,5902.0,5903.0,5904.0,5905.0,5906.0,5907.0,5908.0,5909.0,5910.0,5911.0,5912.0,5913.0,5914.0,5915.0,5916.0,5917.0,5918.0,5919.0,5920.0,5921.0,5922.0,5923.0,5924.0,5925.0,5926.0,5927.0,5928.0,5929.0,5930.0,5931.0,5932.0,5933.0,5934.0,5935.0,5936.0,5937.0,5938.0,5939.0,5940.0,5941.0,5942.0,5943.0,5944.0,5945.0,5946.0,5947.0,5948.0,5949.0,5950.0,5951.0,5952.0,5953.0,5954.0,5955.0,5956.0,5957.0,5958.0,5959.0,5960.0,5961.0,5962.0,5963.0,5964.0,5965.0,5966.0,5967.0,5968.0,5969.0,5970.0,5971.0,5972.0,5973.0,5974.0,5975.0,5976.0,5977.0,5978.0,5979.0,5980.0,5981.0,5982.0,5983.0,5984.0,5985.0,5986.0,5987.0,5988.0,5989.0,5990.0,5991.0,5992.0,5993.0,5994.0,5995.0,5996.0,5997.0,5998.0,5999.0,6000.0,6001.0,6002.0,6003.0,6004.0,6005.0,6006.0,6007.0,6008.0,6009.0,6010.0,6011.0,6012.0,6013.0,6014.0,6015.0,6016.0,6017.0,6018.0,6019.0,6020.0,6021.0,6022.0,6023.0,6024.0,6025.0,6026.0,6027.0,6028.0,6029.0,6030.0,6031.0,6032.0,6033.0,6034.0,6035.0,6036.0,6037.0,6038.0,6039.0,6040.0,6041.0,6042.0,6043.0,6044.0,6045.0,6046.0,6047.0,6048.0,6049.0,6050.0,6051.0,6052.0,6053.0,6054.0,6055.0,6056.0,6057.0,6058.0,6059.0,6060.0,6061.0,6062.0,6063.0,6064.0,6065.0,6066.0,6067.0,6068.0,6069.0,6070.0,6071.0,6072.0,6073.0,6074.0,6075.0,6076.0,6077.0,6078.0,6079.0,6080.0,6081.0,6082.0,6083.0,6084.0,6085.0,6086.0,6087.0,6088.0,6089.0,6090.0,6091.0,6092.0,6093.0,6094.0,6095.0,6096.0,6097.0,6098.0,6099.0,6100.0,6101.0,6102.0,6103.0,6104.0,6105.0,6106.0,6107.0,6108.0,6109.0,6110.0,6111.0,6112.0,6113.0,6114.0,6115.0,6116.0,6117.0,6118.0,6119.0,6120.0,6121.0,6122.0,6123.0,6124.0,6125.0,6126.0,6127.0,6128.0,6129.0,6130.0,6131.0,6132.0,6133.0,6134.0,6135.0,6136.0,6137.0,6138.0,6139.0,6140.0,6141.0,6142.0,6143.0,6144.0,6145.0,6146.0,6147.0,6148.0,6149.0,6150.0,6151.0,6152.0,6153.0,6154.0,6155.0,6156.0,6157.0,6158.0,6159.0,6160.0,6161.0,6162.0,6163.0,6164.0,6165.0,6166.0,6167.0,6168.0,6169.0,6170.0,6171.0,6172.0,6173.0,6174.0,6175.0,6176.0,6177.0,6178.0,6179.0,6180.0,6181.0,6182.0,6183.0,6184.0,6185.0,6186.0,6187.0,6188.0,6189.0,6190.0,6191.0,6192.0,6193.0,6194.0,6195.0,6196.0,6197.0,6198.0,6199.0,6200.0,6201.0,6202.0,6203.0,6204.0,6205.0,6206.0,6207.0,6208.0,6209.0,6210.0,6211.0,6212.0,6213.0,6214.0,6215.0,6216.0,6217.0,6218.0,6219.0,6220.0,6221.0,6222.0,6223.0,6224.0,6225.0,6226.0,6227.0,6228.0,6229.0,6230.0,6231.0,6232.0,6233.0,6234.0,6235.0,6236.0,6237.0,6238.0,6239.0,6240.0,6241.0,6242.0,6243.0,6244.0,6245.0,6246.0,6247.0,6248.0,6249.0,6250.0,6251.0,6252.0,6253.0,6254.0,6255.0,6256.0,6257.0,6258.0,6259.0,6260.0,6261.0,6262.0,6263.0,6264.0,6265.0,6266.0,6267.0,6268.0,6269.0,6270.0,6271.0,6272.0,6273.0,6274.0,6275.0,6276.0,6277.0,6278.0],\"y\":[0.16998696327209473,-2.10132566280663e-06,-2.10132566280663e-06,-2.10132566280663e-06,-2.10132566280663e-06,0.23017503321170807,0.3714061677455902,0.3409399390220642,0.11175547540187836,-2.10132566280663e-06,-2.10132566280663e-06,-2.10132566280663e-06,-2.10132566280663e-06,0.23059187829494476,0.5036805868148804,0.44549378752708435,0.14699657261371613,-2.10132566280663e-06,-2.10132566280663e-06,-2.10132566280663e-06,0.0033132119569927454,0.27348825335502625,0.5945574641227722,0.5384624004364014,0.15608306229114532,-2.10132566280663e-06,-2.10132566280663e-06,-2.10132566280663e-06,-2.10132566280663e-06,0.2186766415834427,0.46997150778770447,0.4505878984928131,0.12086030095815659,-2.10132566280663e-06,-2.10132566280663e-06,-2.10132566280663e-06,0.01729394868016243,0.1423407644033432,0.30935075879096985,0.3866373598575592,0.14782750606536865,0.0006104054627940059,-2.10132566280663e-06,-2.10132566280663e-06,0.024666301906108856,0.33628731966018677,0.6051250696182251,0.5290465950965881,0.19557514786720276,0.0025268332101404667,-2.10132566280663e-06,-2.10132566280663e-06,0.023152142763137817,0.33143070340156555,0.5802217721939087,0.4547290802001953,0.16460572183132172,0.0010143216932192445,-2.10132566280663e-06,-2.10132566280663e-06,0.0223253034055233,0.3065744638442993,0.6040292382240295,0.5470978021621704,0.19218221306800842,-2.10132566280663e-06,-2.10132566280663e-06,-2.10132566280663e-06,0.013387827202677727,0.3239762783050537,0.6270553469657898,0.5608364939689636,0.19869782030582428,-2.10132566280663e-06,-2.10132566280663e-06,-2.10132566280663e-06,0.0028924194630235434,0.3286229074001312,0.6295345425605774,0.5480795502662659,0.18268896639347076,-2.10132566280663e-06,-2.10132566280663e-06,-2.10132566280663e-06,0.009859444573521614,0.29587724804878235,0.6035823822021484,0.5292290449142456,0.1692246049642563,-2.10132566280663e-06,-2.10132566280663e-06,-2.10132566280663e-06,0.0052232625894248486,0.2999509871006012,0.5964534878730774,0.5233740210533142,0.13826967775821686,-2.10132566280663e-06,-2.10132566280663e-06,-2.10132566280663e-06,-2.10132566280663e-06,0.08468888700008392,0.1601576954126358,0.15217377245426178,0.04854895919561386,-2.10132566280663e-06,-2.10132566280663e-06,-2.10132566280663e-06,-2.10132566280663e-06,0.12191136181354523,0.28384169936180115,0.3844550549983978,0.12138678133487701,-2.10132566280663e-06,-2.10132566280663e-06,-2.10132566280663e-06,-2.10132566280663e-06,0.056887976825237274,0.11154690384864807,0.10357074439525604,0.04376223310828209,-2.10132566280663e-06,-2.10132566280663e-06,-2.10132566280663e-06,0.004625129513442516,0.2759658694267273,0.4356286823749542,0.4433720111846924,0.1876411885023117,0.004191262647509575,-2.10132566280663e-06,-2.10132566280663e-06,0.02397165074944496,0.2823322117328644,0.46259698271751404,0.3689822256565094,0.12778574228286743,-2.10132566280663e-06,-2.10132566280663e-06,-2.10132566280663e-06,0.005973379593342543,0.1450890451669693,0.2592909038066864,0.14379039406776428,0.040579911321401596,-2.10132566280663e-06,-2.10132566280663e-06,-2.10132566280663e-06,-2.10132566280663e-06,0.09217017889022827,0.11387062072753906,0.10699551552534103,0.04112257435917854,-2.10132566280663e-06,-2.10132566280663e-06,-2.10132566280663e-06,0.010830509476363659,0.2822612524032593,0.4772754907608032,0.29349130392074585,0.08847509324550629,-2.10132566280663e-06,-2.10132566280663e-06,-2.10132566280663e-06,-2.10132566280663e-06,0.05210459977388382,0.11684592068195343,0.10320080816745758,0.04389744997024536,-2.10132566280663e-06,-2.10132566280663e-06,-2.10132566280663e-06,-2.10132566280663e-06,0.20757201313972473,0.47896620631217957,0.48258349299430847,0.11944611370563507,-2.10132566280663e-06,-2.10132566280663e-06,-2.10132566280663e-06,0.004944486543536186,0.13628247380256653,0.3199343681335449,0.2414405792951584,0.12448149174451828,-2.10132566280663e-06,-2.10132566280663e-06,-2.10132566280663e-06,0.021114502102136612,0.27835968136787415,0.47702693939208984,0.4457891583442688,0.1598082035779953,-2.10132566280663e-06,-2.10132566280663e-06,-2.10132566280663e-06,0.01984667032957077,0.2646295130252838,0.4460698068141937,0.3864976763725281,0.15760725736618042,0.0017365021631121635,-2.10132566280663e-06,-2.10132566280663e-06,0.023860681802034378,0.31750062108039856,0.6154559254646301,0.5326576828956604,0.15367457270622253,0.00011443349649198353,-2.10132566280663e-06,-2.10132566280663e-06,-2.10132566280663e-06,0.11803882569074631,0.31532078981399536,0.3998301327228546,0.14803843200206757,-2.10132566280663e-06,-2.10132566280663e-06,-2.10132566280663e-06,0.007762095890939236,0.23269017040729523,0.512092113494873,0.5054348707199097,0.18929077684879303,-2.10132566280663e-06,-2.10132566280663e-06,-2.10132566280663e-06,0.027319539338350296,0.2722885012626648,0.5201525092124939,0.5221289992332458,0.17853306233882904,-2.10132566280663e-06,-2.10132566280663e-06,-2.10132566280663e-06,0.025026023387908936,0.2500487267971039,0.5236290097236633,0.3441547751426697,0.11269263923168182,-2.10132566280663e-06,-2.10132566280663e-06,-2.10132566280663e-06,0.021704696118831635,0.3191044330596924,0.6317141652107239,0.5644304752349854,0.1977214366197586,0.0016353479586541653,-2.10132566280663e-06,-2.10132566280663e-06,0.025028839707374573,0.2955193817615509,0.548655092716217,0.3780154287815094,0.07772565633058548,-2.10132566280663e-06,-2.10132566280663e-06,-2.10132566280663e-06,-2.10132566280663e-06,0.10329370945692062,0.20581673085689545,0.4381346106529236,0.1611991673707962,0.0010070939315482974,-2.10132566280663e-06,-2.10132566280663e-06,0.023360703140497208,0.29876214265823364,0.5441883206367493,0.4729287326335907,0.08859846740961075,-2.10132566280663e-06,-2.10132566280663e-06,-2.10132566280663e-06,0.028359103947877884,0.28103381395339966,0.48939529061317444,0.40931665897369385,0.1663597673177719,0.0002490145561750978,-2.10132566280663e-06,-2.10132566280663e-06,0.025505878031253815,0.2754504978656769,0.4793897569179535,0.5105361342430115,0.18305471539497375,0.0003541329933796078,-2.10132566280663e-06,-2.10132566280663e-06,0.01566886343061924,0.2516652047634125,0.364178866147995,0.4208124577999115,0.17615917325019836,0.003906442318111658,-2.10132566280663e-06,-2.10132566280663e-06,0.010878860019147396,0.17914219200611115,0.4052944481372833,0.41927385330200195,0.17135493457317352,-2.10132566280663e-06,-2.10132566280663e-06,-2.10132566280663e-06,0.02524770051240921,0.34117093682289124,0.47616851329803467,0.4132857024669647,0.18218843638896942,0.02024957910180092,-2.10132566280663e-06,-2.10132566280663e-06,0.028631245717406273,0.3436491787433624,0.46388885378837585,0.41434890031814575,0.18126150965690613,0.010188079439103603,-2.10132566280663e-06,-2.10132566280663e-06,0.028660716488957405,0.3134283721446991,0.350687712430954,0.37794336676597595,0.14272427558898926,-2.10132566280663e-06,-2.10132566280663e-06,-2.10132566280663e-06,0.02176596224308014,0.26283302903175354,0.4580410420894623,0.3846839964389801,0.12016181647777557,-2.10132566280663e-06,-2.10132566280663e-06,-2.10132566280663e-06,0.025112221017479897,0.13110218942165375,0.2279166728258133,0.4230923354625702,0.19298236072063446,0.006802598480135202,-2.10132566280663e-06,-2.10132566280663e-06,0.02270718291401863,0.3033038079738617,0.29665324091911316,0.3854890763759613,0.18525545299053192,0.006110404618084431,-2.10132566280663e-06,-2.10132566280663e-06,0.027047988027334213,0.3200088441371918,0.5590865015983582,0.5090370774269104,0.19063743948936462,0.010567544028162956,-2.10132566280663e-06,-2.10132566280663e-06,0.028368476778268814,0.21828369796276093,0.3594086170196533,0.2995198369026184,0.16361702978610992,0.0017292333068326116,-2.10132566280663e-06,-2.10132566280663e-06,0.023765482008457184,0.16797183454036713,0.2907868027687073,0.3126593232154846,0.15734191238880157,0.010028471238911152,-2.10132566280663e-06,-2.10132566280663e-06,0.017931977286934853,0.2389964610338211,0.38915103673934937,0.42051804065704346,0.1764393001794815,0.0035401450004428625,-2.10132566280663e-06,-2.10132566280663e-06,0.02631577104330063,0.21927690505981445,0.29407358169555664,0.24563898146152496,0.07204995304346085,-2.10132566280663e-06,-2.10132566280663e-06,-2.10132566280663e-06,0.0026695961132645607,0.11708123236894608,0.2550436556339264,0.22905953228473663,0.19668854773044586,0.00017146230675280094,-2.10132566280663e-06,-2.10132566280663e-06,0.022476524114608765,0.26175662875175476,0.5962023735046387,0.5718870162963867,0.2250111848115921,0.005827132146805525,-2.10132566280663e-06,-2.10132566280663e-06,0.020758308470249176,0.1355828195810318,0.284572035074234,0.36136290431022644,0.19921264052391052,0.00789153203368187,-2.10132566280663e-06,-2.10132566280663e-06,0.03137291967868805,0.37621209025382996,0.6570871472358704,0.5835543870925903,0.27318230271339417,0.020388631150126457,-2.10132566280663e-06,-2.10132566280663e-06,0.028912987560033798,0.3333483636379242,0.6431645750999451,0.5633397102355957,0.22516626119613647,0.004429765976965427,-2.10132566280663e-06,-2.10132566280663e-06,0.023519366979599,0.2974051535129547,0.5866501331329346,0.5578782558441162,0.23955969512462616,0.02178255282342434,-2.10132566280663e-06,-2.10132566280663e-06,0.03408277407288551,0.39658281207084656,0.6762519478797913,0.6030215620994568,0.3148365914821625,0.04631038382649422,-2.10132566280663e-06,-2.10132566280663e-06,0.03297191113233566,0.36379358172416687,0.6495060324668884,0.5635329484939575,0.28816521167755127,0.04555189236998558,-2.10132566280663e-06,-2.10132566280663e-06,0.03385806828737259,0.33449429273605347,0.5569631457328796,0.5255541205406189,0.23145641386508942,0.04576919972896576,-2.10132566280663e-06,-2.10132566280663e-06,0.03535616397857666,0.37119928002357483,0.6475697755813599,0.4954789876937866,0.23883050680160522,0.01486087217926979,-2.10132566280663e-06,-2.10132566280663e-06,0.03246799111366272,0.31782266497612,0.6322560906410217,0.4922841489315033,0.22728480398654938,0.01195310615003109,-2.10132566280663e-06,-2.10132566280663e-06,0.02833918295800686,0.30924731492996216,0.6189035177230835,0.5386539101600647,0.11680670827627182,-2.10132566280663e-06,-2.10132566280663e-06,-2.10132566280663e-06,-2.10132566280663e-06,0.10785526037216187,0.47826528549194336,0.5492517352104187,0.23033778369426727,0.012791560962796211,-2.10132566280663e-06,-2.10132566280663e-06,0.028165411204099655,0.3614453077316284,0.6470564007759094,0.5756597518920898,0.22553405165672302,0.011378822848200798,-2.10132566280663e-06,-2.10132566280663e-06,0.028529223054647446,0.3032158315181732,0.4415692389011383,0.3850347101688385,0.2140103578567505,0.00965443067252636,-2.10132566280663e-06,0.004882491659373045,0.03096936270594597,0.23419995605945587,0.3366008698940277,0.4729951322078705,0.3080390393733978,0.03186102211475372,-2.10132566280663e-06,-2.10132566280663e-06,0.031854040920734406,0.35763952136039734,0.6365119218826294,0.5846814513206482,0.2806249260902405,0.02208045870065689,-2.10132566280663e-06,-2.10132566280663e-06,0.002592533826828003,0.09893608093261719,0.160890132188797,0.2402394860982895,0.1945420503616333,0.010804742574691772,-2.10132566280663e-06,-2.10132566280663e-06,0.029175009578466415,0.21385136246681213,0.31196537613868713,0.4192834198474884,0.15145331621170044,0.004537590313702822,-2.10132566280663e-06,-2.10132566280663e-06,0.024619683623313904,0.20444688200950623,0.4032849073410034,0.3832378089427948,0.1710854172706604,0.013297433033585548,-2.10132566280663e-06,-2.10132566280663e-06,0.02021862380206585,0.11899861693382263,0.28564178943634033,0.33383655548095703,0.13608625531196594,-2.10132566280663e-06,-2.10132566280663e-06,-2.10132566280663e-06,0.023053165525197983,0.12393564730882645,0.211752250790596,0.14552165567874908,0.05920851230621338,-2.10132566280663e-06,-2.10132566280663e-06,-2.10132566280663e-06,0.005232275929301977,0.1316288709640503,0.2540535628795624,0.3973783552646637,0.17127282917499542,0.0021075003314763308,-2.10132566280663e-06,-2.10132566280663e-06,0.022919420152902603,0.27895915508270264,0.6025574207305908,0.5253874063491821,0.22480109333992004,0.006205299403518438,-2.10132566280663e-06,-2.10132566280663e-06,0.028729911893606186,0.29778537154197693,0.455597847700119,0.3977859914302826,0.20253600180149078,0.008077060803771019,-2.10132566280663e-06,-2.10132566280663e-06,0.028398210182785988,0.2870858609676361,0.5251466631889343,0.5204689502716064,0.19180312752723694,0.008885983377695084,-2.10132566280663e-06,-2.10132566280663e-06,0.0271817184984684,0.28053590655326843,0.517447829246521,0.42972299456596375,0.24252256751060486,0.009689669124782085,-2.10132566280663e-06,-2.10132566280663e-06,0.02881588786840439,0.3801443874835968,0.6618192791938782,0.5828155875205994,0.2531352937221527,0.024602223187685013,-2.10132566280663e-06,-2.10132566280663e-06,0.029160456731915474,0.2803654968738556,0.5340547561645508,0.4642600417137146,0.2175789624452591,0.008856505155563354,-2.10132566280663e-06,-2.10132566280663e-06,0.028582317754626274,0.37050876021385193,0.6639991402626038,0.6004500389099121,0.2929060459136963,0.02403804287314415,-2.10132566280663e-06,-2.10132566280663e-06,0.02938060089945793,0.3679608404636383,0.6583957076072693,0.5973512530326843,0.28672438859939575,0.03711913153529167,-2.10132566280663e-06,-2.10132566280663e-06,0.02846166118979454,0.3677632808685303,0.6668056845664978,0.6026751399040222,0.2988150715827942,0.0694088488817215,-2.10132566280663e-06,-2.10132566280663e-06,0.029846126213669777,0.3371140658855438,0.6502248048782349,0.5494142174720764,0.20141573250293732,0.006985206622630358,-2.10132566280663e-06,0.0004793431726284325,0.031578920781612396,0.4025067090988159,0.6779568195343018,0.55133056640625,0.2392355352640152,0.02247292548418045,-2.10132566280663e-06,-2.10132566280663e-06,0.03047369420528412,0.330057293176651,0.5655364394187927,0.492260605096817,0.18186281621456146,0.013640929013490677,-2.10132566280663e-06,-2.10132566280663e-06,0.027027785778045654,0.3085538446903229,0.6202163696289062,0.5987682938575745,0.312524676322937,0.020911365747451782,-2.10132566280663e-06,-2.10132566280663e-06,0.027784429490566254,0.38453638553619385,0.5304316878318787,0.4372428357601166,0.1813444048166275,0.00787280686199665,-2.10132566280663e-06,-2.10132566280663e-06,0.023474495857954025,0.2263510823249817,0.3143976032733917,0.3744980990886688,0.1581282615661621,0.005850011948496103,-2.10132566280663e-06,-2.10132566280663e-06,0.022617198526859283,0.23259492218494415,0.48514577746391296,0.5156555771827698,0.22086016833782196,0.020569054409861565,-2.10132566280663e-06,-2.10132566280663e-06,0.030128590762615204,0.4139101505279541,0.6860641241073608,0.6192352175712585,0.3323363959789276,0.04803356155753136,-2.10132566280663e-06,0.0019808709621429443,0.02796471305191517,0.3936412036418915,0.6699667572975159,0.6173397898674011,0.3116515576839447,0.03003106638789177,-2.10132566280663e-06,-2.10132566280663e-06,0.026304906234145164,0.3061237931251526,0.45969638228416443,0.34440290927886963,0.13483518362045288,0.011197902262210846,-2.10132566280663e-06,-2.10132566280663e-06,0.023298922926187515,0.12207168340682983,0.2559269964694977,0.27193912863731384,0.16540177166461945,0.004607184324413538,-2.10132566280663e-06,-2.10132566280663e-06,0.008663826622068882,0.12122703343629837,0.2513680160045624,0.2943846881389618,0.149390310049057,0.003949000965803862,-2.10132566280663e-06,-2.10132566280663e-06,0.022158708423376083,0.27201366424560547,0.5222774147987366,0.5110391974449158,0.19746136665344238,0.0038806048687547445,-2.10132566280663e-06,-2.10132566280663e-06,0.02556050568819046,0.30702510476112366,0.54942786693573,0.5391935110092163,0.26496341824531555,0.007919266819953918,-2.10132566280663e-06,0.002373711671680212,0.026945054531097412,0.2700795531272888,0.36564257740974426,0.5087853074073792,0.261724591255188,0.01652424782514572,-2.10132566280663e-06,-2.10132566280663e-06,0.02751292660832405,0.12754543125629425,0.43345001339912415,0.4409567713737488,0.17300325632095337,-2.10132566280663e-06,-2.10132566280663e-06,-2.10132566280663e-06,0.0033722759690135717,0.12110865861177444,0.4881603717803955,0.32508769631385803,0.17772991955280304,0.0035795096773654222,-2.10132566280663e-06,-2.10132566280663e-06,0.02452882006764412,0.2493182122707367,0.26369714736938477,0.3437590003013611,0.14868879318237305,0.00315566617064178,-2.10132566280663e-06,-2.10132566280663e-06,0.021175676956772804,0.2549922466278076,0.39307400584220886,0.530614972114563,0.23808200657367706,0.0015405957819893956,-2.10132566280663e-06,-2.10132566280663e-06,0.02341458573937416,0.26118960976600647,0.2837049067020416,0.36091598868370056,0.21321886777877808,0.00418650871142745,-2.10132566280663e-06,-2.10132566280663e-06,0.026095973327755928,0.19939522445201874,0.5057371854782104,0.5350183248519897,0.2257174551486969,0.010642210952937603,-2.10132566280663e-06,-2.10132566280663e-06,0.02648485079407692,0.30592402815818787,0.5614659786224365,0.4931100308895111,0.19528451561927795,0.005318294744938612,-2.10132566280663e-06,-2.10132566280663e-06,0.005178891122341156,0.14820538461208344,0.20341996848583221,0.11903441697359085,0.06685146689414978,-2.10132566280663e-06,-2.10132566280663e-06,-2.10132566280663e-06,0.024378541857004166,0.2846229374408722,0.41985514760017395,0.3542519807815552,0.09353911876678467,1.020020363284857e-06,-2.10132566280663e-06,-2.10132566280663e-06,-2.10132566280663e-06,0.11973221600055695,0.26982253789901733,0.3849314749240875,0.14841122925281525,0.010865961201488972,-2.10132566280663e-06,-2.10132566280663e-06,0.019066590815782547,0.1807410567998886,0.35966312885284424,0.39333397150039673,0.1515427529811859,-2.10132566280663e-06,-2.10132566280663e-06,-2.10132566280663e-06,0.008343327790498734,0.23445512354373932,0.46728983521461487,0.40357428789138794,0.1878730207681656,0.006851864047348499,-2.10132566280663e-06,-2.10132566280663e-06,0.02097858488559723,0.27457866072654724,0.4070297181606293,0.4785721004009247,0.177852064371109,7.530702714575455e-05,-2.10132566280663e-06,-2.10132566280663e-06,0.008186431601643562,0.3179943263530731,0.5930320024490356,0.5518661737442017,0.229171022772789,0.00632979953661561,-2.10132566280663e-06,-2.10132566280663e-06,0.025795653462409973,0.3155924379825592,0.6116930842399597,0.5234155654907227,0.1892443597316742,0.007684989832341671,-2.10132566280663e-06,-2.10132566280663e-06,0.025807172060012817,0.3287043571472168,0.6157965064048767,0.5109836459159851,0.2086300104856491,0.0035184284206479788,-2.10132566280663e-06,-2.10132566280663e-06,0.024195684120059013,0.3470647633075714,0.6404501795768738,0.577969491481781,0.22257211804389954,0.009094771929085255,-2.10132566280663e-06,-2.10132566280663e-06,0.023788440972566605,0.13049103319644928,0.16565898060798645,0.1574900597333908,0.16765767335891724,0.001232862239703536,-2.10132566280663e-06,-2.10132566280663e-06,0.01927262917160988,0.31635767221450806,0.6182379126548767,0.5710309743881226,0.22275006771087646,0.009842082858085632,-2.10132566280663e-06,-2.10132566280663e-06,0.024093324318528175,0.29799625277519226,0.573003888130188,0.544320285320282,0.18555541336536407,0.0043193320743739605,-2.10132566280663e-06,-2.10132566280663e-06,0.02427605539560318,0.30049020051956177,0.6160721778869629,0.5442051291465759,0.2031494528055191,0.0013203558046370745,-2.10132566280663e-06,-2.10132566280663e-06,0.012448027729988098,0.2363947480916977,0.5188807845115662,0.4046986997127533,0.18329694867134094,0.0016765010077506304,-2.10132566280663e-06,-2.10132566280663e-06,-2.10132566280663e-06,0.1383298635482788,0.5070158243179321,0.4564383924007416,0.1564577966928482,0.00031057806336320937,-2.10132566280663e-06,-2.10132566280663e-06,0.015270419418811798,0.20431257784366608,0.4732103943824768,0.4151611924171448,0.08122838288545609,-2.10132566280663e-06,-2.10132566280663e-06,-2.10132566280663e-06,0.012919096276164055,0.25771912932395935,0.573322057723999,0.5151414275169373,0.18556229770183563,-2.10132566280663e-06,-2.10132566280663e-06,-2.10132566280663e-06,0.01292788702994585,0.26615098118782043,0.5207061171531677,0.446987122297287,0.16227521002292633,-2.10132566280663e-06,-2.10132566280663e-06,-2.10132566280663e-06,0.02073131501674652,0.293774276971817,0.6021648049354553,0.5337877869606018,0.18477880954742432,0.006932604592293501,-2.10132566280663e-06,-2.10132566280663e-06,0.0017323392676189542,0.1765025407075882,0.38407883048057556,0.31862667202949524,0.12038051337003708,-2.10132566280663e-06,-2.10132566280663e-06,-2.10132566280663e-06,0.004515135660767555,0.12408722192049026,0.18314330279827118,0.25059983134269714,0.08470258861780167,-2.10132566280663e-06,-2.10132566280663e-06,-2.10132566280663e-06,-2.10132566280663e-06,0.05263565480709076,0.13497857749462128,0.11785869300365448,0.049501679837703705,-2.10132566280663e-06,-2.10132566280663e-06,-2.10132566280663e-06,0.001268087886273861,0.12526622414588928,0.25456503033638,0.33609136939048767,0.14249835908412933,9.467239578953013e-05,-2.10132566280663e-06,-2.10132566280663e-06,-2.10132566280663e-06,0.2006474882364273,0.3117420971393585,0.2753317058086395,0.14938685297966003,0.002137530129402876,-2.10132566280663e-06,-2.10132566280663e-06,0.003073058556765318,0.29961958527565,0.6009305119514465,0.5399848222732544,0.17575311660766602,0.00046922193723730743,-2.10132566280663e-06,-2.10132566280663e-06,0.016216617077589035,0.272882878780365,0.4327753484249115,0.47353318333625793,0.17192582786083221,0.0006936299614608288,-2.10132566280663e-06,-2.10132566280663e-06,0.0030745472759008408,0.2871248424053192,0.5928628444671631,0.48162248730659485,0.1771584451198578,0.012981792911887169,-2.10132566280663e-06,-2.10132566280663e-06,0.00879666768014431,0.32022151350975037,0.6087798476219177,0.5192977786064148,0.19529612362384796,0.012623157352209091,-2.10132566280663e-06,0.0013999141519889235,0.024760257452726364,0.2662762403488159,0.5625969767570496,0.41880375146865845,0.04191043600440025,-2.10132566280663e-06,-2.10132566280663e-06,-2.10132566280663e-06,-2.10132566280663e-06,0.10487666726112366,0.1700563132762909,0.4004238545894623,0.12281596660614014,-2.10132566280663e-06,-2.10132566280663e-06,-2.10132566280663e-06,-2.10132566280663e-06,0.21302460134029388,0.4800216853618622,0.47773513197898865,0.14582622051239014,0.003204667242243886,-2.10132566280663e-06,-2.10132566280663e-06,0.019607216119766235,0.2571015954017639,0.5484793782234192,0.5121440291404724,0.16403146088123322,0.004483856726437807,-2.10132566280663e-06,-2.10132566280663e-06,0.0007486012764275074,0.1262466460466385,0.19926339387893677,0.18528209626674652,0.05110478773713112,-2.10132566280663e-06,-2.10132566280663e-06,-2.10132566280663e-06,-2.10132566280663e-06,0.08384084701538086,0.14868836104869843,0.16671864688396454,0.045206766575574875,-2.10132566280663e-06,-2.10132566280663e-06,-2.10132566280663e-06,-2.10132566280663e-06,0.2534554600715637,0.5376240611076355,0.48259732127189636,0.1437535583972931,-2.10132566280663e-06,-2.10132566280663e-06,-2.10132566280663e-06,0.0004202329146210104,0.2562704384326935,0.535825252532959,0.48272809386253357,0.14202691614627838,-2.10132566280663e-06,-2.10132566280663e-06,-2.10132566280663e-06,0.019968640059232712,0.26381948590278625,0.5696565508842468,0.508946418762207,0.14063450694084167,-2.10132566280663e-06,-2.10132566280663e-06,-2.10132566280663e-06,-2.10132566280663e-06,0.043587978929281235,0.1089596077799797,0.15249252319335938,0.06664717197418213,-2.10132566280663e-06,-2.10132566280663e-06,-2.10132566280663e-06,-2.10132566280663e-06,0.22433452308177948,0.3782399594783783,0.33947187662124634,0.10871083289384842,-2.10132566280663e-06,-2.10132566280663e-06,-2.10132566280663e-06,-2.10132566280663e-06,0.21672646701335907,0.48035165667533875,0.4172322750091553,0.12085093557834625,-2.10132566280663e-06,-2.10132566280663e-06,-2.10132566280663e-06,-2.10132566280663e-06,0.21638812124729156,0.30584773421287537,0.325046181678772,0.10847161710262299,-2.10132566280663e-06,-2.10132566280663e-06,-2.10132566280663e-06,-2.10132566280663e-06,0.12085025012493134,0.2745753228664398,0.2852581739425659,0.09171231836080551,-2.10132566280663e-06,-2.10132566280663e-06,-2.10132566280663e-06,-2.10132566280663e-06,0.19115622341632843,0.4458836019039154,0.3594686985015869,0.11099806427955627,-2.10132566280663e-06,-2.10132566280663e-06,-2.10132566280663e-06,-2.10132566280663e-06,0.09694264084100723,0.23209162056446075,0.2692813575267792,0.08639831840991974,-2.10132566280663e-06,-2.10132566280663e-06,-2.10132566280663e-06,-2.10132566280663e-06,0.1825741082429886,0.2954222857952118,0.2797594964504242,0.11549508571624756,-2.10132566280663e-06,-2.10132566280663e-06,-2.10132566280663e-06,-2.10132566280663e-06,0.24812589585781097,0.3834144175052643,0.40643689036369324,0.13938452303409576,-2.10132566280663e-06,-2.10132566280663e-06,-2.10132566280663e-06,0.004958145786076784,0.25274717807769775,0.5539363622665405,0.48168689012527466,0.149447962641716,-2.10132566280663e-06,-2.10132566280663e-06,-2.10132566280663e-06,-2.10132566280663e-06,0.22804589569568634,0.5430541038513184,0.45118090510368347,0.13664104044437408,-2.10132566280663e-06,-2.10132566280663e-06,-2.10132566280663e-06,-2.10132566280663e-06,0.16119463741779327,0.4640694260597229,0.20841749012470245,0.03907035291194916,-2.10132566280663e-06,-2.10132566280663e-06,-2.10132566280663e-06,-2.10132566280663e-06,0.03861243277788162,0.11118356138467789,0.10520277172327042,0.02051542140543461,-2.10132566280663e-06,-2.10132566280663e-06,-2.10132566280663e-06,-2.10132566280663e-06,0.11599763482809067,0.2429078370332718,0.2658263146877289,0.06885072588920593,-2.10132566280663e-06,-2.10132566280663e-06,-2.10132566280663e-06,-2.10132566280663e-06,0.11008985340595245,0.2002134770154953,0.35805997252464294,0.08270521461963654,-2.10132566280663e-06,-2.10132566280663e-06,-2.10132566280663e-06,-2.10132566280663e-06,0.09200133383274078,0.12484313547611237,0.12126513570547104,0.0266072079539299,-2.10132566280663e-06,-2.10132566280663e-06,-2.10132566280663e-06,-2.10132566280663e-06,0.0335167795419693,0.10570664703845978,0.09962640702724457,0.01575039140880108,-2.10132566280663e-06,-2.10132566280663e-06,-2.10132566280663e-06,-2.10132566280663e-06,0.11674941331148148,0.36494752764701843,0.3887254297733307,0.05151711404323578,-2.10132566280663e-06,-2.10132566280663e-06,-2.10132566280663e-06,-2.10132566280663e-06,0.1015617772936821,0.2034454494714737,0.21484528481960297,0.032725606113672256,-2.10132566280663e-06,-2.10132566280663e-06,-2.10132566280663e-06,-2.10132566280663e-06,0.11334921419620514,0.2486313283443451,0.33007240295410156,0.05764400586485863,-2.10132566280663e-06,-2.10132566280663e-06,-2.10132566280663e-06,-2.10132566280663e-06,0.1928342878818512,0.3399604856967926,0.3368290066719055,0.06149841099977493,-2.10132566280663e-06,-2.10132566280663e-06,-2.10132566280663e-06,-2.10132566280663e-06,0.03171694651246071,0.09727147221565247,0.1376846879720688,0.003283480415120721,-2.10132566280663e-06,-2.10132566280663e-06,-2.10132566280663e-06,-2.10132566280663e-06,0.039502281695604324,0.16085617244243622,0.16310858726501465,0.01148287020623684,-2.10132566280663e-06,-2.10132566280663e-06,-2.10132566280663e-06,-2.10132566280663e-06,0.15028241276741028,0.3100690245628357,0.3365326523780823,0.04965711385011673,-2.10132566280663e-06,-2.10132566280663e-06,-2.10132566280663e-06,-2.10132566280663e-06,0.11493827402591705,0.33731791377067566,0.33861836791038513,0.06003948301076889,-2.10132566280663e-06,-2.10132566280663e-06,-2.10132566280663e-06,-2.10132566280663e-06,0.1485670655965805,0.4007316827774048,0.2649417817592621,0.07880481332540512,-2.10132566280663e-06,-2.10132566280663e-06,-2.10132566280663e-06,-2.10132566280663e-06,0.20379476249217987,0.5086630582809448,0.41710418462753296,0.12186162173748016,-2.10132566280663e-06,-2.10132566280663e-06,-2.10132566280663e-06,-2.10132566280663e-06,0.23619379103183746,0.5175614953041077,0.4267304539680481,0.12891241908073425,0.000667756306938827,-2.10132566280663e-06,-2.10132566280663e-06,-2.10132566280663e-06,0.22798359394073486,0.5125559568405151,0.4338877201080322,0.12268807739019394,0.00020594787201844156,-2.10132566280663e-06,-2.10132566280663e-06,-2.10132566280663e-06,0.22973434627056122,0.5146154761314392,0.4327470064163208,0.12521736323833466,-2.10132566280663e-06,-2.10132566280663e-06,-2.10132566280663e-06,0.004028380382806063,0.24161896109580994,0.523097813129425,0.43335986137390137,0.13617683947086334,0.0009871941292658448,-2.10132566280663e-06,-2.10132566280663e-06,-2.10132566280663e-06,0.21980677545070648,0.48945844173431396,0.4101807773113251,0.056584130972623825,-2.10132566280663e-06,-2.10132566280663e-06,-2.10132566280663e-06,-2.10132566280663e-06,0.1548307090997696,0.38707879185676575,0.27798205614089966,0.012184357270598412,-2.10132566280663e-06,-2.10132566280663e-06,-2.10132566280663e-06,-2.10132566280663e-06,0.09765296429395676,0.26511451601982117,0.20498578250408173,0.0163363516330719,-2.10132566280663e-06,-2.10132566280663e-06,-2.10132566280663e-06,-2.10132566280663e-06,0.1029001921415329,0.15307782590389252,0.1285911202430725,0.006666011177003384,-2.10132566280663e-06,-2.10132566280663e-06,-2.10132566280663e-06,-2.10132566280663e-06,0.031144071370363235,0.11327951401472092,0.09614809602499008,0.0005419037770479918,-2.10132566280663e-06,-2.10132566280663e-06,-2.10132566280663e-06,-2.10132566280663e-06,0.03167567774653435,0.11825262010097504,0.10264591872692108,0.007500303443521261,-2.10132566280663e-06,-2.10132566280663e-06,-2.10132566280663e-06,-2.10132566280663e-06,0.08691729605197906,0.3657616376876831,0.30713918805122375,0.041315775364637375,-2.10132566280663e-06,-2.10132566280663e-06,-2.10132566280663e-06,-2.10132566280663e-06,0.09025488793849945,0.15898697078227997,0.11215319484472275,-2.10132566280663e-06,-2.10132566280663e-06,-2.10132566280663e-06,-2.10132566280663e-06,-2.10132566280663e-06,0.09366679936647415,0.23261487483978271,0.16783389449119568,0.009566377848386765,-2.10132566280663e-06,-2.10132566280663e-06,-2.10132566280663e-06,-2.10132566280663e-06,0.16731494665145874,0.43343445658683777,0.31411248445510864,0.03361335024237633,-2.10132566280663e-06,-2.10132566280663e-06,-2.10132566280663e-06,0.0007147906580939889,0.17183946073055267,0.37561288475990295,0.2868657112121582,0.02544008009135723,-2.10132566280663e-06,-2.10132566280663e-06,-2.10132566280663e-06,-2.10132566280663e-06,2.616552956169471e-05,-2.10132566280663e-06,-2.10132566280663e-06,-2.10132566280663e-06,-2.10132566280663e-06,0.04687618836760521,0.14246705174446106,0.12440989166498184,0.0006941626779735088,-2.10132566280663e-06,-2.10132566280663e-06,-2.10132566280663e-06,-2.10132566280663e-06,0.032019756734371185,0.09178433567285538,0.04415566474199295,-2.10132566280663e-06,-2.10132566280663e-06,-2.10132566280663e-06,-2.10132566280663e-06,-2.10132566280663e-06,0.03127085417509079,0.10452130436897278,0.09180930256843567,-2.10132566280663e-06,-2.10132566280663e-06,-2.10132566280663e-06,-2.10132566280663e-06,-2.10132566280663e-06,0.0025028097443282604,-2.10132566280663e-06,-2.10132566280663e-06,-2.10132566280663e-06,-2.10132566280663e-06,0.09413056075572968,0.22747226059436798,0.1583288460969925,0.002634478500112891,-2.10132566280663e-06,-2.10132566280663e-06,-2.10132566280663e-06,-2.10132566280663e-06,0.13155396282672882,0.405115008354187,0.25333982706069946,0.003492491552606225,-2.10132566280663e-06,-2.10132566280663e-06,-2.10132566280663e-06,-2.10132566280663e-06,-2.10132566280663e-06,-2.10132566280663e-06,-2.10132566280663e-06,-2.10132566280663e-06,-2.10132566280663e-06,0.05100812390446663,0.21349139511585236,0.16298966109752655,-2.10132566280663e-06,-2.10132566280663e-06,-2.10132566280663e-06,-2.10132566280663e-06,-2.10132566280663e-06,0.02646668255329132,0.08493651449680328,0.047534793615341187,-2.10132566280663e-06,-2.10132566280663e-06,-2.10132566280663e-06,-2.10132566280663e-06,-2.10132566280663e-06,0.10119226574897766,0.23705001175403595,0.2323085218667984,-2.10132566280663e-06,-2.10132566280663e-06,-2.10132566280663e-06,-2.10132566280663e-06,-2.10132566280663e-06,0.09714450687170029,0.2640956938266754,0.14680461585521698,-2.10132566280663e-06,-2.10132566280663e-06,-2.10132566280663e-06,-2.10132566280663e-06,-2.10132566280663e-06,0.029364582151174545,0.10186674445867538,0.07626048475503922,-2.10132566280663e-06,-2.10132566280663e-06,-2.10132566280663e-06,-2.10132566280663e-06,-2.10132566280663e-06,0.09860707819461823,0.34954193234443665,0.2283564656972885,-2.10132566280663e-06,-2.10132566280663e-06,-2.10132566280663e-06,-2.10132566280663e-06,-2.10132566280663e-06,0.03565365448594093,0.27452486753463745,0.2048260122537613,-2.10132566280663e-06,-2.10132566280663e-06,-2.10132566280663e-06,-2.10132566280663e-06,-2.10132566280663e-06,0.1415354162454605,-2.10132566280663e-06,-2.10132566280663e-06,-2.10132566280663e-06,-2.10132566280663e-06,-2.10132566280663e-06,0.14371348917484283,-2.10132566280663e-06,-2.10132566280663e-06,-2.10132566280663e-06,-2.10132566280663e-06,-2.10132566280663e-06,0.22620108723640442,-2.10132566280663e-06,-2.10132566280663e-06,-2.10132566280663e-06,-2.10132566280663e-06,-2.10132566280663e-06,0.2227116972208023,-2.10132566280663e-06,-2.10132566280663e-06,-2.10132566280663e-06,-2.10132566280663e-06,-2.10132566280663e-06,0.04766055941581726,0.39387932419776917,0.2207682877779007,-2.10132566280663e-06,-2.10132566280663e-06,-2.10132566280663e-06,-2.10132566280663e-06,-2.10132566280663e-06,0.20648682117462158,-2.10132566280663e-06,-2.10132566280663e-06,-2.10132566280663e-06,-2.10132566280663e-06,-2.10132566280663e-06,0.14039652049541473,-2.10132566280663e-06,-2.10132566280663e-06,-2.10132566280663e-06,-2.10132566280663e-06,-2.10132566280663e-06,0.17250534892082214,-2.10132566280663e-06,-2.10132566280663e-06,-2.10132566280663e-06,-2.10132566280663e-06,-2.10132566280663e-06,0.16633762419223785,-2.10132566280663e-06,-2.10132566280663e-06,-2.10132566280663e-06,-2.10132566280663e-06,-2.10132566280663e-06,0.06839096546173096,-2.10132566280663e-06,-2.10132566280663e-06,-2.10132566280663e-06,-2.10132566280663e-06,-2.10132566280663e-06,0.07641363888978958,-2.10132566280663e-06,-2.10132566280663e-06,-2.10132566280663e-06,-2.10132566280663e-06,-2.10132566280663e-06,0.14104121923446655,-2.10132566280663e-06,-2.10132566280663e-06,-2.10132566280663e-06,-2.10132566280663e-06,-2.10132566280663e-06,0.1110498383641243,-2.10132566280663e-06,-2.10132566280663e-06,-2.10132566280663e-06,-2.10132566280663e-06,-2.10132566280663e-06,0.029549632221460342,0.2066659927368164,0.15170882642269135,-2.10132566280663e-06,-2.10132566280663e-06,-2.10132566280663e-06,-2.10132566280663e-06,-2.10132566280663e-06,0.029700227081775665,0.14687763154506683,0.12210293859243393,-2.10132566280663e-06,-2.10132566280663e-06,-2.10132566280663e-06,-2.10132566280663e-06,-2.10132566280663e-06,0.021429911255836487,0.10315938293933868,0.0728420615196228,-2.10132566280663e-06,-2.10132566280663e-06,-2.10132566280663e-06,-2.10132566280663e-06,-2.10132566280663e-06,0.02396857924759388,0.057678647339344025,0.028249531984329224,-2.10132566280663e-06,-2.10132566280663e-06,-2.10132566280663e-06,-2.10132566280663e-06,-2.10132566280663e-06,0.029320381581783295,0.16694070398807526,0.10706327855587006,-2.10132566280663e-06,-2.10132566280663e-06,-2.10132566280663e-06,-2.10132566280663e-06,-2.10132566280663e-06,0.013580214232206345,0.10841567814350128,0.12458920478820801,-2.10132566280663e-06,-2.10132566280663e-06,-2.10132566280663e-06,-2.10132566280663e-06,-2.10132566280663e-06,0.021072685718536377,0.0868283361196518,0.0406007282435894,-2.10132566280663e-06,-2.10132566280663e-06,-2.10132566280663e-06,-2.10132566280663e-06,-2.10132566280663e-06,-2.10132566280663e-06,0.032306332141160965,0.0259413905441761,-2.10132566280663e-06,-2.10132566280663e-06,-2.10132566280663e-06,-2.10132566280663e-06,-2.10132566280663e-06,0.014047129079699516,0.12470730394124985,0.11906114220619202,-2.10132566280663e-06,-2.10132566280663e-06,-2.10132566280663e-06,-2.10132566280663e-06,-2.10132566280663e-06,0.0032885281834751368,0.06141786277294159,0.024715621024370193,-2.10132566280663e-06,-2.10132566280663e-06,-2.10132566280663e-06,-2.10132566280663e-06,-2.10132566280663e-06,0.003123063361272216,0.035915907472372055,0.0168390441685915,-2.10132566280663e-06,-2.10132566280663e-06,-2.10132566280663e-06,-2.10132566280663e-06,-2.10132566280663e-06,0.0006003956077620387,0.09135258197784424,0.04830870032310486,-2.10132566280663e-06,-2.10132566280663e-06,-2.10132566280663e-06,-2.10132566280663e-06,-2.10132566280663e-06,0.018048930913209915,0.12332198768854141,0.0953790545463562,-2.10132566280663e-06,-2.10132566280663e-06,-2.10132566280663e-06,-2.10132566280663e-06,-2.10132566280663e-06,0.02811398357152939,0.15369538962841034,0.1344282478094101,-2.10132566280663e-06,-2.10132566280663e-06,-2.10132566280663e-06,-2.10132566280663e-06,-2.10132566280663e-06,0.02833586186170578,0.13962183892726898,0.0944395437836647,-2.10132566280663e-06,-2.10132566280663e-06,-2.10132566280663e-06,-2.10132566280663e-06,-2.10132566280663e-06,-2.10132566280663e-06,0.030761031433939934,0.017011523246765137,-2.10132566280663e-06,-2.10132566280663e-06,-2.10132566280663e-06,-2.10132566280663e-06,-2.10132566280663e-06,0.011294491589069366,0.13754409551620483,0.09932281076908112,-2.10132566280663e-06,-2.10132566280663e-06,-2.10132566280663e-06,-2.10132566280663e-06,-2.10132566280663e-06,0.012775219976902008,0.1326107382774353,0.11170951277017593,-2.10132566280663e-06,-2.10132566280663e-06,-2.10132566280663e-06,-2.10132566280663e-06,-2.10132566280663e-06,0.00534027349203825,0.12997572124004364,0.10551562160253525,-2.10132566280663e-06,-2.10132566280663e-06,-2.10132566280663e-06,-2.10132566280663e-06,-2.10132566280663e-06,-2.10132566280663e-06,0.03206317499279976,0.01450356561690569,-2.10132566280663e-06,-2.10132566280663e-06,-2.10132566280663e-06,-2.10132566280663e-06,-2.10132566280663e-06,-2.10132566280663e-06,0.03292613849043846,0.02084425278007984,-2.10132566280663e-06,-2.10132566280663e-06,-2.10132566280663e-06,-2.10132566280663e-06,-2.10132566280663e-06,-2.10132566280663e-06,0.03745123744010925,0.016489796340465546,-2.10132566280663e-06,-2.10132566280663e-06,-2.10132566280663e-06,-2.10132566280663e-06,-2.10132566280663e-06,0.01436690054833889,0.11608774960041046,0.09087736904621124,-2.10132566280663e-06,-2.10132566280663e-06,-2.10132566280663e-06,-2.10132566280663e-06,-2.10132566280663e-06,-2.10132566280663e-06,0.08294840157032013,0.052603043615818024,-2.10132566280663e-06,-2.10132566280663e-06,-2.10132566280663e-06,-2.10132566280663e-06,-2.10132566280663e-06,0.0044563403353095055,0.04651574045419693,0.05957835167646408,-2.10132566280663e-06,-2.10132566280663e-06,-2.10132566280663e-06,-2.10132566280663e-06,-2.10132566280663e-06,0.011303680948913097,0.11889789998531342,0.06389137357473373,-2.10132566280663e-06,-2.10132566280663e-06,-2.10132566280663e-06,-2.10132566280663e-06,-2.10132566280663e-06,0.01704247295856476,0.0821370780467987,0.07156987488269806,-2.10132566280663e-06,-2.10132566280663e-06,-2.10132566280663e-06,-2.10132566280663e-06,-2.10132566280663e-06,0.0167183056473732,0.18639786541461945,0.11802545934915543,-2.10132566280663e-06,-2.10132566280663e-06,-2.10132566280663e-06,-2.10132566280663e-06,-2.10132566280663e-06,0.024478968232870102,0.18899764120578766,0.11638837307691574,-2.10132566280663e-06,-2.10132566280663e-06,-2.10132566280663e-06,-2.10132566280663e-06,-2.10132566280663e-06,0.009275846183300018,0.1714121550321579,0.1361168622970581,-2.10132566280663e-06,-2.10132566280663e-06,-2.10132566280663e-06,-2.10132566280663e-06,-2.10132566280663e-06,0.019929923117160797,0.2028939127922058,0.1383875459432602,-2.10132566280663e-06,-2.10132566280663e-06,-2.10132566280663e-06,-2.10132566280663e-06,-2.10132566280663e-06,0.02254985272884369,0.06238771975040436,0.027247043326497078,-2.10132566280663e-06,-2.10132566280663e-06,-2.10132566280663e-06,-2.10132566280663e-06,-2.10132566280663e-06,-2.10132566280663e-06,0.03258611261844635,0.00918281078338623,-2.10132566280663e-06,-2.10132566280663e-06,-2.10132566280663e-06,-2.10132566280663e-06,-2.10132566280663e-06,-2.10132566280663e-06,0.035154543817043304,0.015986401587724686,-2.10132566280663e-06,-2.10132566280663e-06,-2.10132566280663e-06,-2.10132566280663e-06,-2.10132566280663e-06,0.002756572561338544,0.11440882831811905,0.0651039406657219,-2.10132566280663e-06,-2.10132566280663e-06,-2.10132566280663e-06,-2.10132566280663e-06,-2.10132566280663e-06,0.00429008062928915,0.09747499227523804,0.06162538379430771,-2.10132566280663e-06,-2.10132566280663e-06,-2.10132566280663e-06,-2.10132566280663e-06,-2.10132566280663e-06,-2.10132566280663e-06,0.035252854228019714,0.010519973933696747,-2.10132566280663e-06,-2.10132566280663e-06,-2.10132566280663e-06,-2.10132566280663e-06,-2.10132566280663e-06,-2.10132566280663e-06,0.06442616879940033,0.04595073685050011,-2.10132566280663e-06,-2.10132566280663e-06,-2.10132566280663e-06,-2.10132566280663e-06,-2.10132566280663e-06,-2.10132566280663e-06,0.04415455460548401,0.026427771896123886,-2.10132566280663e-06,-2.10132566280663e-06,-2.10132566280663e-06,-2.10132566280663e-06,-2.10132566280663e-06,0.0049817864783108234,0.13679587841033936,0.11049435287714005,-2.10132566280663e-06,-2.10132566280663e-06,-2.10132566280663e-06,-2.10132566280663e-06,-2.10132566280663e-06,0.00629280973225832,0.13153396546840668,0.10012681037187576,-2.10132566280663e-06,-2.10132566280663e-06,-2.10132566280663e-06,-2.10132566280663e-06,-2.10132566280663e-06,0.004850971512496471,0.10761678963899612,0.05897262692451477,-2.10132566280663e-06,-2.10132566280663e-06,-2.10132566280663e-06,-2.10132566280663e-06,-2.10132566280663e-06,0.007484224159270525,0.09106748551130295,0.10107368230819702,-2.10132566280663e-06,-2.10132566280663e-06,-2.10132566280663e-06,-2.10132566280663e-06,-2.10132566280663e-06,0.004217579960823059,0.05117174983024597,0.0678941160440445,-2.10132566280663e-06,-2.10132566280663e-06,-2.10132566280663e-06,-2.10132566280663e-06,-2.10132566280663e-06,-2.10132566280663e-06,0.05319112166762352,0.07447540014982224,-2.10132566280663e-06,-2.10132566280663e-06,-2.10132566280663e-06,-2.10132566280663e-06,-2.10132566280663e-06,0.0021330295130610466,0.056011803448200226,0.023512762039899826,-2.10132566280663e-06,-2.10132566280663e-06,-2.10132566280663e-06,-2.10132566280663e-06,-2.10132566280663e-06,0.009365597739815712,0.13503092527389526,0.09687720984220505,-2.10132566280663e-06,-2.10132566280663e-06,-2.10132566280663e-06,-2.10132566280663e-06,-2.10132566280663e-06,0.014805879443883896,0.17053255438804626,0.13500630855560303,-2.10132566280663e-06,-2.10132566280663e-06,-2.10132566280663e-06,0.003573131747543812,0.22501853108406067,0.1523110717535019,0.0010566140990704298,-2.10132566280663e-06,-2.10132566280663e-06,-2.10132566280663e-06,-2.10132566280663e-06,0.009967833757400513,0.1456507295370102,0.06889529526233673,-2.10132566280663e-06,-2.10132566280663e-06,-2.10132566280663e-06,-2.10132566280663e-06,-2.10132566280663e-06,-2.10132566280663e-06,0.09969823062419891,0.06030270457267761,-2.10132566280663e-06,-2.10132566280663e-06,-2.10132566280663e-06,-2.10132566280663e-06,-2.10132566280663e-06,0.001387026160955429,0.05261114239692688,0.07199157774448395,-2.10132566280663e-06,-2.10132566280663e-06,-2.10132566280663e-06],\"type\":\"scatter\",\"xaxis\":\"x\",\"yaxis\":\"y\"}],                        {\"template\":{\"data\":{\"bar\":[{\"error_x\":{\"color\":\"#2a3f5f\"},\"error_y\":{\"color\":\"#2a3f5f\"},\"marker\":{\"line\":{\"color\":\"#E5ECF6\",\"width\":0.5},\"pattern\":{\"fillmode\":\"overlay\",\"size\":10,\"solidity\":0.2}},\"type\":\"bar\"}],\"barpolar\":[{\"marker\":{\"line\":{\"color\":\"#E5ECF6\",\"width\":0.5},\"pattern\":{\"fillmode\":\"overlay\",\"size\":10,\"solidity\":0.2}},\"type\":\"barpolar\"}],\"carpet\":[{\"aaxis\":{\"endlinecolor\":\"#2a3f5f\",\"gridcolor\":\"white\",\"linecolor\":\"white\",\"minorgridcolor\":\"white\",\"startlinecolor\":\"#2a3f5f\"},\"baxis\":{\"endlinecolor\":\"#2a3f5f\",\"gridcolor\":\"white\",\"linecolor\":\"white\",\"minorgridcolor\":\"white\",\"startlinecolor\":\"#2a3f5f\"},\"type\":\"carpet\"}],\"choropleth\":[{\"colorbar\":{\"outlinewidth\":0,\"ticks\":\"\"},\"type\":\"choropleth\"}],\"contour\":[{\"colorbar\":{\"outlinewidth\":0,\"ticks\":\"\"},\"colorscale\":[[0.0,\"#0d0887\"],[0.1111111111111111,\"#46039f\"],[0.2222222222222222,\"#7201a8\"],[0.3333333333333333,\"#9c179e\"],[0.4444444444444444,\"#bd3786\"],[0.5555555555555556,\"#d8576b\"],[0.6666666666666666,\"#ed7953\"],[0.7777777777777778,\"#fb9f3a\"],[0.8888888888888888,\"#fdca26\"],[1.0,\"#f0f921\"]],\"type\":\"contour\"}],\"contourcarpet\":[{\"colorbar\":{\"outlinewidth\":0,\"ticks\":\"\"},\"type\":\"contourcarpet\"}],\"heatmap\":[{\"colorbar\":{\"outlinewidth\":0,\"ticks\":\"\"},\"colorscale\":[[0.0,\"#0d0887\"],[0.1111111111111111,\"#46039f\"],[0.2222222222222222,\"#7201a8\"],[0.3333333333333333,\"#9c179e\"],[0.4444444444444444,\"#bd3786\"],[0.5555555555555556,\"#d8576b\"],[0.6666666666666666,\"#ed7953\"],[0.7777777777777778,\"#fb9f3a\"],[0.8888888888888888,\"#fdca26\"],[1.0,\"#f0f921\"]],\"type\":\"heatmap\"}],\"heatmapgl\":[{\"colorbar\":{\"outlinewidth\":0,\"ticks\":\"\"},\"colorscale\":[[0.0,\"#0d0887\"],[0.1111111111111111,\"#46039f\"],[0.2222222222222222,\"#7201a8\"],[0.3333333333333333,\"#9c179e\"],[0.4444444444444444,\"#bd3786\"],[0.5555555555555556,\"#d8576b\"],[0.6666666666666666,\"#ed7953\"],[0.7777777777777778,\"#fb9f3a\"],[0.8888888888888888,\"#fdca26\"],[1.0,\"#f0f921\"]],\"type\":\"heatmapgl\"}],\"histogram\":[{\"marker\":{\"pattern\":{\"fillmode\":\"overlay\",\"size\":10,\"solidity\":0.2}},\"type\":\"histogram\"}],\"histogram2d\":[{\"colorbar\":{\"outlinewidth\":0,\"ticks\":\"\"},\"colorscale\":[[0.0,\"#0d0887\"],[0.1111111111111111,\"#46039f\"],[0.2222222222222222,\"#7201a8\"],[0.3333333333333333,\"#9c179e\"],[0.4444444444444444,\"#bd3786\"],[0.5555555555555556,\"#d8576b\"],[0.6666666666666666,\"#ed7953\"],[0.7777777777777778,\"#fb9f3a\"],[0.8888888888888888,\"#fdca26\"],[1.0,\"#f0f921\"]],\"type\":\"histogram2d\"}],\"histogram2dcontour\":[{\"colorbar\":{\"outlinewidth\":0,\"ticks\":\"\"},\"colorscale\":[[0.0,\"#0d0887\"],[0.1111111111111111,\"#46039f\"],[0.2222222222222222,\"#7201a8\"],[0.3333333333333333,\"#9c179e\"],[0.4444444444444444,\"#bd3786\"],[0.5555555555555556,\"#d8576b\"],[0.6666666666666666,\"#ed7953\"],[0.7777777777777778,\"#fb9f3a\"],[0.8888888888888888,\"#fdca26\"],[1.0,\"#f0f921\"]],\"type\":\"histogram2dcontour\"}],\"mesh3d\":[{\"colorbar\":{\"outlinewidth\":0,\"ticks\":\"\"},\"type\":\"mesh3d\"}],\"parcoords\":[{\"line\":{\"colorbar\":{\"outlinewidth\":0,\"ticks\":\"\"}},\"type\":\"parcoords\"}],\"pie\":[{\"automargin\":true,\"type\":\"pie\"}],\"scatter\":[{\"marker\":{\"colorbar\":{\"outlinewidth\":0,\"ticks\":\"\"}},\"type\":\"scatter\"}],\"scatter3d\":[{\"line\":{\"colorbar\":{\"outlinewidth\":0,\"ticks\":\"\"}},\"marker\":{\"colorbar\":{\"outlinewidth\":0,\"ticks\":\"\"}},\"type\":\"scatter3d\"}],\"scattercarpet\":[{\"marker\":{\"colorbar\":{\"outlinewidth\":0,\"ticks\":\"\"}},\"type\":\"scattercarpet\"}],\"scattergeo\":[{\"marker\":{\"colorbar\":{\"outlinewidth\":0,\"ticks\":\"\"}},\"type\":\"scattergeo\"}],\"scattergl\":[{\"marker\":{\"colorbar\":{\"outlinewidth\":0,\"ticks\":\"\"}},\"type\":\"scattergl\"}],\"scattermapbox\":[{\"marker\":{\"colorbar\":{\"outlinewidth\":0,\"ticks\":\"\"}},\"type\":\"scattermapbox\"}],\"scatterpolar\":[{\"marker\":{\"colorbar\":{\"outlinewidth\":0,\"ticks\":\"\"}},\"type\":\"scatterpolar\"}],\"scatterpolargl\":[{\"marker\":{\"colorbar\":{\"outlinewidth\":0,\"ticks\":\"\"}},\"type\":\"scatterpolargl\"}],\"scatterternary\":[{\"marker\":{\"colorbar\":{\"outlinewidth\":0,\"ticks\":\"\"}},\"type\":\"scatterternary\"}],\"surface\":[{\"colorbar\":{\"outlinewidth\":0,\"ticks\":\"\"},\"colorscale\":[[0.0,\"#0d0887\"],[0.1111111111111111,\"#46039f\"],[0.2222222222222222,\"#7201a8\"],[0.3333333333333333,\"#9c179e\"],[0.4444444444444444,\"#bd3786\"],[0.5555555555555556,\"#d8576b\"],[0.6666666666666666,\"#ed7953\"],[0.7777777777777778,\"#fb9f3a\"],[0.8888888888888888,\"#fdca26\"],[1.0,\"#f0f921\"]],\"type\":\"surface\"}],\"table\":[{\"cells\":{\"fill\":{\"color\":\"#EBF0F8\"},\"line\":{\"color\":\"white\"}},\"header\":{\"fill\":{\"color\":\"#C8D4E3\"},\"line\":{\"color\":\"white\"}},\"type\":\"table\"}]},\"layout\":{\"annotationdefaults\":{\"arrowcolor\":\"#2a3f5f\",\"arrowhead\":0,\"arrowwidth\":1},\"autotypenumbers\":\"strict\",\"coloraxis\":{\"colorbar\":{\"outlinewidth\":0,\"ticks\":\"\"}},\"colorscale\":{\"diverging\":[[0,\"#8e0152\"],[0.1,\"#c51b7d\"],[0.2,\"#de77ae\"],[0.3,\"#f1b6da\"],[0.4,\"#fde0ef\"],[0.5,\"#f7f7f7\"],[0.6,\"#e6f5d0\"],[0.7,\"#b8e186\"],[0.8,\"#7fbc41\"],[0.9,\"#4d9221\"],[1,\"#276419\"]],\"sequential\":[[0.0,\"#0d0887\"],[0.1111111111111111,\"#46039f\"],[0.2222222222222222,\"#7201a8\"],[0.3333333333333333,\"#9c179e\"],[0.4444444444444444,\"#bd3786\"],[0.5555555555555556,\"#d8576b\"],[0.6666666666666666,\"#ed7953\"],[0.7777777777777778,\"#fb9f3a\"],[0.8888888888888888,\"#fdca26\"],[1.0,\"#f0f921\"]],\"sequentialminus\":[[0.0,\"#0d0887\"],[0.1111111111111111,\"#46039f\"],[0.2222222222222222,\"#7201a8\"],[0.3333333333333333,\"#9c179e\"],[0.4444444444444444,\"#bd3786\"],[0.5555555555555556,\"#d8576b\"],[0.6666666666666666,\"#ed7953\"],[0.7777777777777778,\"#fb9f3a\"],[0.8888888888888888,\"#fdca26\"],[1.0,\"#f0f921\"]]},\"colorway\":[\"#636efa\",\"#EF553B\",\"#00cc96\",\"#ab63fa\",\"#FFA15A\",\"#19d3f3\",\"#FF6692\",\"#B6E880\",\"#FF97FF\",\"#FECB52\"],\"font\":{\"color\":\"#2a3f5f\"},\"geo\":{\"bgcolor\":\"white\",\"lakecolor\":\"white\",\"landcolor\":\"#E5ECF6\",\"showlakes\":true,\"showland\":true,\"subunitcolor\":\"white\"},\"hoverlabel\":{\"align\":\"left\"},\"hovermode\":\"closest\",\"mapbox\":{\"style\":\"light\"},\"paper_bgcolor\":\"white\",\"plot_bgcolor\":\"#E5ECF6\",\"polar\":{\"angularaxis\":{\"gridcolor\":\"white\",\"linecolor\":\"white\",\"ticks\":\"\"},\"bgcolor\":\"#E5ECF6\",\"radialaxis\":{\"gridcolor\":\"white\",\"linecolor\":\"white\",\"ticks\":\"\"}},\"scene\":{\"xaxis\":{\"backgroundcolor\":\"#E5ECF6\",\"gridcolor\":\"white\",\"gridwidth\":2,\"linecolor\":\"white\",\"showbackground\":true,\"ticks\":\"\",\"zerolinecolor\":\"white\"},\"yaxis\":{\"backgroundcolor\":\"#E5ECF6\",\"gridcolor\":\"white\",\"gridwidth\":2,\"linecolor\":\"white\",\"showbackground\":true,\"ticks\":\"\",\"zerolinecolor\":\"white\"},\"zaxis\":{\"backgroundcolor\":\"#E5ECF6\",\"gridcolor\":\"white\",\"gridwidth\":2,\"linecolor\":\"white\",\"showbackground\":true,\"ticks\":\"\",\"zerolinecolor\":\"white\"}},\"shapedefaults\":{\"line\":{\"color\":\"#2a3f5f\"}},\"ternary\":{\"aaxis\":{\"gridcolor\":\"white\",\"linecolor\":\"white\",\"ticks\":\"\"},\"baxis\":{\"gridcolor\":\"white\",\"linecolor\":\"white\",\"ticks\":\"\"},\"bgcolor\":\"#E5ECF6\",\"caxis\":{\"gridcolor\":\"white\",\"linecolor\":\"white\",\"ticks\":\"\"}},\"title\":{\"x\":0.05},\"xaxis\":{\"automargin\":true,\"gridcolor\":\"white\",\"linecolor\":\"white\",\"ticks\":\"\",\"title\":{\"standoff\":15},\"zerolinecolor\":\"white\",\"zerolinewidth\":2},\"yaxis\":{\"automargin\":true,\"gridcolor\":\"white\",\"linecolor\":\"white\",\"ticks\":\"\",\"title\":{\"standoff\":15},\"zerolinecolor\":\"white\",\"zerolinewidth\":2}}},\"xaxis\":{\"anchor\":\"y\",\"domain\":[0.0,1.0]},\"yaxis\":{\"anchor\":\"x\",\"domain\":[0.0,1.0]}},                        {\"responsive\": true}                    ).then(function(){\n",
              "                            \n",
              "var gd = document.getElementById('07307121-882e-41e1-9e68-1b9817525f1d');\n",
              "var x = new MutationObserver(function (mutations, observer) {{\n",
              "        var display = window.getComputedStyle(gd).display;\n",
              "        if (!display || display === 'none') {{\n",
              "            console.log([gd, 'removed!']);\n",
              "            Plotly.purge(gd);\n",
              "            observer.disconnect();\n",
              "        }}\n",
              "}});\n",
              "\n",
              "// Listen for the removal of the full notebook cells\n",
              "var notebookContainer = gd.closest('#notebook-container');\n",
              "if (notebookContainer) {{\n",
              "    x.observe(notebookContainer, {childList: true});\n",
              "}}\n",
              "\n",
              "// Listen for the clearing of the current output cell\n",
              "var outputEl = gd.closest('.output');\n",
              "if (outputEl) {{\n",
              "    x.observe(outputEl, {childList: true});\n",
              "}}\n",
              "\n",
              "                        })                };                            </script>        </div>\n",
              "</body>\n",
              "</html>"
            ]
          },
          "metadata": {}
        }
      ]
    },
    {
      "cell_type": "code",
      "source": [
        "def lstm_data_transform(x_data, y_data, num_steps=5):\n",
        "    \"\"\" Changes data to the format for LSTM training \n",
        "for sliding window approach \"\"\"\n",
        "    # Prepare the list for the transformed data\n",
        "    X, y = list(), list()\n",
        "    # Loop of the entire data set\n",
        "    for i in range(x_data.shape[0]):\n",
        "        # compute a new (sliding window) index\n",
        "        end_ix = i + num_steps\n",
        "        # if index is larger than the size of the dataset, we stop\n",
        "        if end_ix >= x_data.shape[0]:\n",
        "            break\n",
        "        # Get a sequence of data for x\n",
        "        seq_X = x_data[i:end_ix]\n",
        "        # Get only the last element of the sequency for y\n",
        "        seq_y = y_data[end_ix]\n",
        "        # Append the list with sequencies\n",
        "        X.append(seq_X)\n",
        "        y.append(seq_y)\n",
        "    # Make final arrays\n",
        "    x_array = np.array(X)\n",
        "    y_array = np.array(y)\n",
        "    return x_array, y_array"
      ],
      "metadata": {
        "id": "1xY3X2KaJwPQ"
      },
      "execution_count": 37,
      "outputs": []
    },
    {
      "cell_type": "code",
      "source": [
        "from sklearn.model_selection import train_test_split\n",
        "X_train, X_test, y_train, y_test = train_test_split(weather_input,solpow, test_size=0.01, random_state=42,shuffle=False)"
      ],
      "metadata": {
        "id": "EaMtsBy-Ko8N"
      },
      "execution_count": 38,
      "outputs": []
    },
    {
      "cell_type": "code",
      "source": [
        "rf_all_features = RandomForestRegressor(random_state=1, n_estimators=1000, max_depth=5)\n",
        "rf_all_features.fit(X_train, y_train)"
      ],
      "metadata": {
        "colab": {
          "base_uri": "https://localhost:8080/"
        },
        "id": "EamZ8oxMLMmq",
        "outputId": "b4cb1fbc-ed47-4bbd-cda3-dc654d0750fc"
      },
      "execution_count": 39,
      "outputs": [
        {
          "output_type": "execute_result",
          "data": {
            "text/plain": [
              "RandomForestRegressor(max_depth=5, n_estimators=1000, random_state=1)"
            ]
          },
          "metadata": {},
          "execution_count": 39
        }
      ]
    },
    {
      "cell_type": "code",
      "source": [
        "rfc = RandomForestRegressor(random_state=1, n_estimators=100, max_depth=3)\n",
        "boruta_selector = BorutaPy(rfc, n_estimators='auto', verbose=2, random_state=1)\n",
        "boruta_selector.fit(np.array(X_train), np.array(y_train))"
      ],
      "metadata": {
        "colab": {
          "base_uri": "https://localhost:8080/"
        },
        "id": "zTMTpv50LMru",
        "outputId": "10775451-db78-4803-dee4-d6cf2b84c31b"
      },
      "execution_count": 40,
      "outputs": [
        {
          "output_type": "stream",
          "name": "stdout",
          "text": [
            "Iteration: \t1 / 100\n",
            "Confirmed: \t0\n",
            "Tentative: \t49\n",
            "Rejected: \t0\n",
            "Iteration: \t2 / 100\n",
            "Confirmed: \t0\n",
            "Tentative: \t49\n",
            "Rejected: \t0\n",
            "Iteration: \t3 / 100\n",
            "Confirmed: \t0\n",
            "Tentative: \t49\n",
            "Rejected: \t0\n",
            "Iteration: \t4 / 100\n",
            "Confirmed: \t0\n",
            "Tentative: \t49\n",
            "Rejected: \t0\n",
            "Iteration: \t5 / 100\n",
            "Confirmed: \t0\n",
            "Tentative: \t49\n",
            "Rejected: \t0\n",
            "Iteration: \t6 / 100\n",
            "Confirmed: \t0\n",
            "Tentative: \t49\n",
            "Rejected: \t0\n",
            "Iteration: \t7 / 100\n",
            "Confirmed: \t0\n",
            "Tentative: \t49\n",
            "Rejected: \t0\n",
            "Iteration: \t8 / 100\n",
            "Confirmed: \t5\n",
            "Tentative: \t18\n",
            "Rejected: \t26\n",
            "Iteration: \t9 / 100\n",
            "Confirmed: \t5\n",
            "Tentative: \t18\n",
            "Rejected: \t26\n",
            "Iteration: \t10 / 100\n",
            "Confirmed: \t5\n",
            "Tentative: \t18\n",
            "Rejected: \t26\n",
            "Iteration: \t11 / 100\n",
            "Confirmed: \t5\n",
            "Tentative: \t18\n",
            "Rejected: \t26\n",
            "Iteration: \t12 / 100\n",
            "Confirmed: \t6\n",
            "Tentative: \t15\n",
            "Rejected: \t28\n",
            "Iteration: \t13 / 100\n",
            "Confirmed: \t6\n",
            "Tentative: \t15\n",
            "Rejected: \t28\n",
            "Iteration: \t14 / 100\n",
            "Confirmed: \t6\n",
            "Tentative: \t15\n",
            "Rejected: \t28\n",
            "Iteration: \t15 / 100\n",
            "Confirmed: \t6\n",
            "Tentative: \t15\n",
            "Rejected: \t28\n",
            "Iteration: \t16 / 100\n",
            "Confirmed: \t6\n",
            "Tentative: \t13\n",
            "Rejected: \t30\n",
            "Iteration: \t17 / 100\n",
            "Confirmed: \t6\n",
            "Tentative: \t13\n",
            "Rejected: \t30\n",
            "Iteration: \t18 / 100\n",
            "Confirmed: \t6\n",
            "Tentative: \t13\n",
            "Rejected: \t30\n",
            "Iteration: \t19 / 100\n",
            "Confirmed: \t7\n",
            "Tentative: \t12\n",
            "Rejected: \t30\n",
            "Iteration: \t20 / 100\n",
            "Confirmed: \t7\n",
            "Tentative: \t12\n",
            "Rejected: \t30\n",
            "Iteration: \t21 / 100\n",
            "Confirmed: \t7\n",
            "Tentative: \t12\n",
            "Rejected: \t30\n",
            "Iteration: \t22 / 100\n",
            "Confirmed: \t7\n",
            "Tentative: \t11\n",
            "Rejected: \t31\n",
            "Iteration: \t23 / 100\n",
            "Confirmed: \t7\n",
            "Tentative: \t11\n",
            "Rejected: \t31\n",
            "Iteration: \t24 / 100\n",
            "Confirmed: \t7\n",
            "Tentative: \t11\n",
            "Rejected: \t31\n",
            "Iteration: \t25 / 100\n",
            "Confirmed: \t7\n",
            "Tentative: \t11\n",
            "Rejected: \t31\n",
            "Iteration: \t26 / 100\n",
            "Confirmed: \t7\n",
            "Tentative: \t10\n",
            "Rejected: \t32\n",
            "Iteration: \t27 / 100\n",
            "Confirmed: \t7\n",
            "Tentative: \t10\n",
            "Rejected: \t32\n",
            "Iteration: \t28 / 100\n",
            "Confirmed: \t7\n",
            "Tentative: \t10\n",
            "Rejected: \t32\n",
            "Iteration: \t29 / 100\n",
            "Confirmed: \t7\n",
            "Tentative: \t10\n",
            "Rejected: \t32\n",
            "Iteration: \t30 / 100\n",
            "Confirmed: \t7\n",
            "Tentative: \t10\n",
            "Rejected: \t32\n",
            "Iteration: \t31 / 100\n",
            "Confirmed: \t7\n",
            "Tentative: \t10\n",
            "Rejected: \t32\n",
            "Iteration: \t32 / 100\n",
            "Confirmed: \t7\n",
            "Tentative: \t10\n",
            "Rejected: \t32\n",
            "Iteration: \t33 / 100\n",
            "Confirmed: \t7\n",
            "Tentative: \t10\n",
            "Rejected: \t32\n",
            "Iteration: \t34 / 100\n",
            "Confirmed: \t8\n",
            "Tentative: \t9\n",
            "Rejected: \t32\n",
            "Iteration: \t35 / 100\n",
            "Confirmed: \t8\n",
            "Tentative: \t9\n",
            "Rejected: \t32\n",
            "Iteration: \t36 / 100\n",
            "Confirmed: \t8\n",
            "Tentative: \t9\n",
            "Rejected: \t32\n",
            "Iteration: \t37 / 100\n",
            "Confirmed: \t8\n",
            "Tentative: \t9\n",
            "Rejected: \t32\n",
            "Iteration: \t38 / 100\n",
            "Confirmed: \t8\n",
            "Tentative: \t9\n",
            "Rejected: \t32\n",
            "Iteration: \t39 / 100\n",
            "Confirmed: \t8\n",
            "Tentative: \t9\n",
            "Rejected: \t32\n",
            "Iteration: \t40 / 100\n",
            "Confirmed: \t8\n",
            "Tentative: \t9\n",
            "Rejected: \t32\n",
            "Iteration: \t41 / 100\n",
            "Confirmed: \t8\n",
            "Tentative: \t9\n",
            "Rejected: \t32\n",
            "Iteration: \t42 / 100\n",
            "Confirmed: \t8\n",
            "Tentative: \t9\n",
            "Rejected: \t32\n",
            "Iteration: \t43 / 100\n",
            "Confirmed: \t9\n",
            "Tentative: \t8\n",
            "Rejected: \t32\n",
            "Iteration: \t44 / 100\n",
            "Confirmed: \t9\n",
            "Tentative: \t8\n",
            "Rejected: \t32\n",
            "Iteration: \t45 / 100\n",
            "Confirmed: \t9\n",
            "Tentative: \t8\n",
            "Rejected: \t32\n",
            "Iteration: \t46 / 100\n",
            "Confirmed: \t9\n",
            "Tentative: \t7\n",
            "Rejected: \t33\n",
            "Iteration: \t47 / 100\n",
            "Confirmed: \t9\n",
            "Tentative: \t7\n",
            "Rejected: \t33\n",
            "Iteration: \t48 / 100\n",
            "Confirmed: \t9\n",
            "Tentative: \t7\n",
            "Rejected: \t33\n",
            "Iteration: \t49 / 100\n",
            "Confirmed: \t9\n",
            "Tentative: \t7\n",
            "Rejected: \t33\n",
            "Iteration: \t50 / 100\n",
            "Confirmed: \t9\n",
            "Tentative: \t7\n",
            "Rejected: \t33\n",
            "Iteration: \t51 / 100\n",
            "Confirmed: \t9\n",
            "Tentative: \t7\n",
            "Rejected: \t33\n",
            "Iteration: \t52 / 100\n",
            "Confirmed: \t9\n",
            "Tentative: \t7\n",
            "Rejected: \t33\n",
            "Iteration: \t53 / 100\n",
            "Confirmed: \t9\n",
            "Tentative: \t7\n",
            "Rejected: \t33\n",
            "Iteration: \t54 / 100\n",
            "Confirmed: \t9\n",
            "Tentative: \t7\n",
            "Rejected: \t33\n",
            "Iteration: \t55 / 100\n",
            "Confirmed: \t9\n",
            "Tentative: \t7\n",
            "Rejected: \t33\n",
            "Iteration: \t56 / 100\n",
            "Confirmed: \t9\n",
            "Tentative: \t7\n",
            "Rejected: \t33\n",
            "Iteration: \t57 / 100\n",
            "Confirmed: \t9\n",
            "Tentative: \t7\n",
            "Rejected: \t33\n",
            "Iteration: \t58 / 100\n",
            "Confirmed: \t9\n",
            "Tentative: \t7\n",
            "Rejected: \t33\n",
            "Iteration: \t59 / 100\n",
            "Confirmed: \t9\n",
            "Tentative: \t6\n",
            "Rejected: \t34\n",
            "Iteration: \t60 / 100\n",
            "Confirmed: \t9\n",
            "Tentative: \t6\n",
            "Rejected: \t34\n",
            "Iteration: \t61 / 100\n",
            "Confirmed: \t9\n",
            "Tentative: \t6\n",
            "Rejected: \t34\n",
            "Iteration: \t62 / 100\n",
            "Confirmed: \t9\n",
            "Tentative: \t6\n",
            "Rejected: \t34\n",
            "Iteration: \t63 / 100\n",
            "Confirmed: \t9\n",
            "Tentative: \t6\n",
            "Rejected: \t34\n",
            "Iteration: \t64 / 100\n",
            "Confirmed: \t9\n",
            "Tentative: \t6\n",
            "Rejected: \t34\n",
            "Iteration: \t65 / 100\n",
            "Confirmed: \t9\n",
            "Tentative: \t6\n",
            "Rejected: \t34\n",
            "Iteration: \t66 / 100\n",
            "Confirmed: \t9\n",
            "Tentative: \t6\n",
            "Rejected: \t34\n",
            "Iteration: \t67 / 100\n",
            "Confirmed: \t9\n",
            "Tentative: \t5\n",
            "Rejected: \t35\n",
            "Iteration: \t68 / 100\n",
            "Confirmed: \t9\n",
            "Tentative: \t5\n",
            "Rejected: \t35\n",
            "Iteration: \t69 / 100\n",
            "Confirmed: \t9\n",
            "Tentative: \t5\n",
            "Rejected: \t35\n",
            "Iteration: \t70 / 100\n",
            "Confirmed: \t9\n",
            "Tentative: \t5\n",
            "Rejected: \t35\n",
            "Iteration: \t71 / 100\n",
            "Confirmed: \t9\n",
            "Tentative: \t5\n",
            "Rejected: \t35\n",
            "Iteration: \t72 / 100\n",
            "Confirmed: \t9\n",
            "Tentative: \t5\n",
            "Rejected: \t35\n",
            "Iteration: \t73 / 100\n",
            "Confirmed: \t9\n",
            "Tentative: \t5\n",
            "Rejected: \t35\n",
            "Iteration: \t74 / 100\n",
            "Confirmed: \t9\n",
            "Tentative: \t5\n",
            "Rejected: \t35\n",
            "Iteration: \t75 / 100\n",
            "Confirmed: \t9\n",
            "Tentative: \t5\n",
            "Rejected: \t35\n",
            "Iteration: \t76 / 100\n",
            "Confirmed: \t9\n",
            "Tentative: \t5\n",
            "Rejected: \t35\n",
            "Iteration: \t77 / 100\n",
            "Confirmed: \t9\n",
            "Tentative: \t5\n",
            "Rejected: \t35\n",
            "Iteration: \t78 / 100\n",
            "Confirmed: \t9\n",
            "Tentative: \t5\n",
            "Rejected: \t35\n",
            "Iteration: \t79 / 100\n",
            "Confirmed: \t9\n",
            "Tentative: \t5\n",
            "Rejected: \t35\n",
            "Iteration: \t80 / 100\n",
            "Confirmed: \t9\n",
            "Tentative: \t5\n",
            "Rejected: \t35\n",
            "Iteration: \t81 / 100\n",
            "Confirmed: \t9\n",
            "Tentative: \t5\n",
            "Rejected: \t35\n",
            "Iteration: \t82 / 100\n",
            "Confirmed: \t9\n",
            "Tentative: \t5\n",
            "Rejected: \t35\n",
            "Iteration: \t83 / 100\n",
            "Confirmed: \t9\n",
            "Tentative: \t5\n",
            "Rejected: \t35\n",
            "Iteration: \t84 / 100\n",
            "Confirmed: \t9\n",
            "Tentative: \t5\n",
            "Rejected: \t35\n",
            "Iteration: \t85 / 100\n",
            "Confirmed: \t9\n",
            "Tentative: \t5\n",
            "Rejected: \t35\n",
            "Iteration: \t86 / 100\n",
            "Confirmed: \t9\n",
            "Tentative: \t5\n",
            "Rejected: \t35\n",
            "Iteration: \t87 / 100\n",
            "Confirmed: \t9\n",
            "Tentative: \t5\n",
            "Rejected: \t35\n",
            "Iteration: \t88 / 100\n",
            "Confirmed: \t9\n",
            "Tentative: \t5\n",
            "Rejected: \t35\n",
            "Iteration: \t89 / 100\n",
            "Confirmed: \t9\n",
            "Tentative: \t5\n",
            "Rejected: \t35\n",
            "Iteration: \t90 / 100\n",
            "Confirmed: \t9\n",
            "Tentative: \t5\n",
            "Rejected: \t35\n",
            "Iteration: \t91 / 100\n",
            "Confirmed: \t9\n",
            "Tentative: \t5\n",
            "Rejected: \t35\n",
            "Iteration: \t92 / 100\n",
            "Confirmed: \t9\n",
            "Tentative: \t5\n",
            "Rejected: \t35\n",
            "Iteration: \t93 / 100\n",
            "Confirmed: \t9\n",
            "Tentative: \t5\n",
            "Rejected: \t35\n",
            "Iteration: \t94 / 100\n",
            "Confirmed: \t9\n",
            "Tentative: \t5\n",
            "Rejected: \t35\n",
            "Iteration: \t95 / 100\n",
            "Confirmed: \t9\n",
            "Tentative: \t5\n",
            "Rejected: \t35\n",
            "Iteration: \t96 / 100\n",
            "Confirmed: \t9\n",
            "Tentative: \t5\n",
            "Rejected: \t35\n",
            "Iteration: \t97 / 100\n",
            "Confirmed: \t9\n",
            "Tentative: \t5\n",
            "Rejected: \t35\n",
            "Iteration: \t98 / 100\n",
            "Confirmed: \t9\n",
            "Tentative: \t5\n",
            "Rejected: \t35\n",
            "Iteration: \t99 / 100\n",
            "Confirmed: \t9\n",
            "Tentative: \t5\n",
            "Rejected: \t35\n",
            "\n",
            "\n",
            "BorutaPy finished running.\n",
            "\n",
            "Iteration: \t100 / 100\n",
            "Confirmed: \t9\n",
            "Tentative: \t4\n",
            "Rejected: \t35\n"
          ]
        },
        {
          "output_type": "execute_result",
          "data": {
            "text/plain": [
              "BorutaPy(estimator=RandomForestRegressor(max_depth=3, n_estimators=176,\n",
              "                                         random_state=RandomState(MT19937) at 0x7F4AEF5908D0),\n",
              "         n_estimators='auto',\n",
              "         random_state=RandomState(MT19937) at 0x7F4AEF5908D0, verbose=2)"
            ]
          },
          "metadata": {},
          "execution_count": 40
        }
      ]
    },
    {
      "cell_type": "code",
      "source": [
        "X_important_train = boruta_selector.transform(np.array(X_train))\n",
        "X_important_test = boruta_selector.transform(np.array(X_test))"
      ],
      "metadata": {
        "id": "IapXXrCsLMt1"
      },
      "execution_count": 41,
      "outputs": []
    },
    {
      "cell_type": "code",
      "source": [
        "X_important_train.shape[1]"
      ],
      "metadata": {
        "colab": {
          "base_uri": "https://localhost:8080/"
        },
        "id": "ttb53I0ZNy9u",
        "outputId": "dc7957f1-3da7-4453-e515-ae64e7664d84"
      },
      "execution_count": 42,
      "outputs": [
        {
          "output_type": "execute_result",
          "data": {
            "text/plain": [
              "9"
            ]
          },
          "metadata": {},
          "execution_count": 42
        }
      ]
    },
    {
      "cell_type": "code",
      "source": [
        "n_inputs=X_important_train.shape[1]"
      ],
      "metadata": {
        "id": "RRDbSaqPRDas"
      },
      "execution_count": 43,
      "outputs": []
    },
    {
      "cell_type": "code",
      "source": [
        "input_data_shape= Input(shape=(n_inputs,))\n",
        "# encoder level 1\n",
        "encoder= Dense(n_inputs*2)(input_data_shape)\n",
        "encoder = BatchNormalization()(encoder)\n",
        "encoder= LeakyReLU()(encoder)\n",
        "# encoder level 2\n",
        "encoder= Dense(n_inputs)(encoder)\n",
        "encoder= BatchNormalization()(encoder)\n",
        "encoder= LeakyReLU()(encoder)\n",
        "# bottleneck\n",
        "#n_bottleneck = round(float(n_inputs) / 2.0)\n",
        "n_bottleneck = 5\n",
        "bottleneck = Dense(n_bottleneck)(encoder)\n",
        "# define decoder, level 1\n",
        "decoder = Dense(n_inputs)(bottleneck)\n",
        "decoder = BatchNormalization()(decoder)\n",
        "decoder = LeakyReLU()(decoder)\n",
        "# decoder level 2\n",
        "decoder = Dense(n_inputs*2)(decoder)\n",
        "decoder = BatchNormalization()(decoder)\n",
        "decoder = LeakyReLU()(decoder)"
      ],
      "metadata": {
        "id": "DeaobrDVRDiK"
      },
      "execution_count": 44,
      "outputs": []
    },
    {
      "cell_type": "code",
      "source": [
        "# output layer\n",
        "output = Dense(n_inputs, activation='linear')(decoder)\n",
        "# define autoencoder model\n",
        "model = Model(inputs=input_data_shape, outputs=output)\n",
        "# compile autoencoder model\n",
        "model.compile(optimizer='adam', loss='mse')"
      ],
      "metadata": {
        "id": "sM7_5xoLRdbm"
      },
      "execution_count": 45,
      "outputs": []
    },
    {
      "cell_type": "code",
      "source": [
        "history = model.fit(X_important_train, X_important_train, epochs=50, batch_size=16, verbose=2)"
      ],
      "metadata": {
        "colab": {
          "base_uri": "https://localhost:8080/"
        },
        "id": "bORXyzw0RhaT",
        "outputId": "a7c552a6-6be5-484b-c44e-529aed47f729"
      },
      "execution_count": 46,
      "outputs": [
        {
          "output_type": "stream",
          "name": "stdout",
          "text": [
            "Epoch 1/50\n",
            "389/389 - 5s - loss: 0.1183 - 5s/epoch - 12ms/step\n",
            "Epoch 2/50\n",
            "389/389 - 3s - loss: 0.0186 - 3s/epoch - 6ms/step\n",
            "Epoch 3/50\n",
            "389/389 - 2s - loss: 0.0146 - 2s/epoch - 4ms/step\n",
            "Epoch 4/50\n",
            "389/389 - 2s - loss: 0.0122 - 2s/epoch - 4ms/step\n",
            "Epoch 5/50\n",
            "389/389 - 2s - loss: 0.0111 - 2s/epoch - 4ms/step\n",
            "Epoch 6/50\n",
            "389/389 - 2s - loss: 0.0099 - 2s/epoch - 4ms/step\n",
            "Epoch 7/50\n",
            "389/389 - 2s - loss: 0.0090 - 2s/epoch - 4ms/step\n",
            "Epoch 8/50\n",
            "389/389 - 2s - loss: 0.0089 - 2s/epoch - 4ms/step\n",
            "Epoch 9/50\n",
            "389/389 - 2s - loss: 0.0083 - 2s/epoch - 4ms/step\n",
            "Epoch 10/50\n",
            "389/389 - 2s - loss: 0.0079 - 2s/epoch - 4ms/step\n",
            "Epoch 11/50\n",
            "389/389 - 2s - loss: 0.0072 - 2s/epoch - 4ms/step\n",
            "Epoch 12/50\n",
            "389/389 - 2s - loss: 0.0068 - 2s/epoch - 4ms/step\n",
            "Epoch 13/50\n",
            "389/389 - 2s - loss: 0.0066 - 2s/epoch - 4ms/step\n",
            "Epoch 14/50\n",
            "389/389 - 2s - loss: 0.0066 - 2s/epoch - 4ms/step\n",
            "Epoch 15/50\n",
            "389/389 - 2s - loss: 0.0063 - 2s/epoch - 4ms/step\n",
            "Epoch 16/50\n",
            "389/389 - 2s - loss: 0.0059 - 2s/epoch - 4ms/step\n",
            "Epoch 17/50\n",
            "389/389 - 2s - loss: 0.0059 - 2s/epoch - 4ms/step\n",
            "Epoch 18/50\n",
            "389/389 - 2s - loss: 0.0057 - 2s/epoch - 4ms/step\n",
            "Epoch 19/50\n",
            "389/389 - 2s - loss: 0.0056 - 2s/epoch - 4ms/step\n",
            "Epoch 20/50\n",
            "389/389 - 2s - loss: 0.0052 - 2s/epoch - 4ms/step\n",
            "Epoch 21/50\n",
            "389/389 - 2s - loss: 0.0053 - 2s/epoch - 4ms/step\n",
            "Epoch 22/50\n",
            "389/389 - 2s - loss: 0.0050 - 2s/epoch - 4ms/step\n",
            "Epoch 23/50\n",
            "389/389 - 2s - loss: 0.0047 - 2s/epoch - 4ms/step\n",
            "Epoch 24/50\n",
            "389/389 - 2s - loss: 0.0047 - 2s/epoch - 4ms/step\n",
            "Epoch 25/50\n",
            "389/389 - 2s - loss: 0.0047 - 2s/epoch - 4ms/step\n",
            "Epoch 26/50\n",
            "389/389 - 2s - loss: 0.0045 - 2s/epoch - 4ms/step\n",
            "Epoch 27/50\n",
            "389/389 - 2s - loss: 0.0046 - 2s/epoch - 4ms/step\n",
            "Epoch 28/50\n",
            "389/389 - 2s - loss: 0.0042 - 2s/epoch - 4ms/step\n",
            "Epoch 29/50\n",
            "389/389 - 2s - loss: 0.0043 - 2s/epoch - 4ms/step\n",
            "Epoch 30/50\n",
            "389/389 - 2s - loss: 0.0045 - 2s/epoch - 4ms/step\n",
            "Epoch 31/50\n",
            "389/389 - 2s - loss: 0.0042 - 2s/epoch - 4ms/step\n",
            "Epoch 32/50\n",
            "389/389 - 2s - loss: 0.0040 - 2s/epoch - 4ms/step\n",
            "Epoch 33/50\n",
            "389/389 - 2s - loss: 0.0044 - 2s/epoch - 4ms/step\n",
            "Epoch 34/50\n",
            "389/389 - 2s - loss: 0.0038 - 2s/epoch - 4ms/step\n",
            "Epoch 35/50\n",
            "389/389 - 2s - loss: 0.0038 - 2s/epoch - 4ms/step\n",
            "Epoch 36/50\n",
            "389/389 - 2s - loss: 0.0038 - 2s/epoch - 4ms/step\n",
            "Epoch 37/50\n",
            "389/389 - 2s - loss: 0.0037 - 2s/epoch - 4ms/step\n",
            "Epoch 38/50\n",
            "389/389 - 2s - loss: 0.0037 - 2s/epoch - 4ms/step\n",
            "Epoch 39/50\n",
            "389/389 - 2s - loss: 0.0035 - 2s/epoch - 4ms/step\n",
            "Epoch 40/50\n",
            "389/389 - 2s - loss: 0.0037 - 2s/epoch - 4ms/step\n",
            "Epoch 41/50\n",
            "389/389 - 2s - loss: 0.0038 - 2s/epoch - 4ms/step\n",
            "Epoch 42/50\n",
            "389/389 - 2s - loss: 0.0036 - 2s/epoch - 4ms/step\n",
            "Epoch 43/50\n",
            "389/389 - 2s - loss: 0.0035 - 2s/epoch - 4ms/step\n",
            "Epoch 44/50\n",
            "389/389 - 2s - loss: 0.0035 - 2s/epoch - 4ms/step\n",
            "Epoch 45/50\n",
            "389/389 - 2s - loss: 0.0035 - 2s/epoch - 4ms/step\n",
            "Epoch 46/50\n",
            "389/389 - 2s - loss: 0.0036 - 2s/epoch - 4ms/step\n",
            "Epoch 47/50\n",
            "389/389 - 2s - loss: 0.0033 - 2s/epoch - 4ms/step\n",
            "Epoch 48/50\n",
            "389/389 - 2s - loss: 0.0034 - 2s/epoch - 4ms/step\n",
            "Epoch 49/50\n",
            "389/389 - 2s - loss: 0.0031 - 2s/epoch - 4ms/step\n",
            "Epoch 50/50\n",
            "389/389 - 2s - loss: 0.0031 - 2s/epoch - 4ms/step\n"
          ]
        }
      ]
    },
    {
      "cell_type": "code",
      "source": [
        "encoder = Model(inputs=input_data_shape, outputs=bottleneck)\n",
        "# save the encoder to file\n",
        "encoder.save('encoder1.h5')"
      ],
      "metadata": {
        "colab": {
          "base_uri": "https://localhost:8080/"
        },
        "id": "8cngdIbTRJ9n",
        "outputId": "6ee53df8-607a-4592-edf9-706a0bc5cbdf"
      },
      "execution_count": 47,
      "outputs": [
        {
          "output_type": "stream",
          "name": "stderr",
          "text": [
            "WARNING:tensorflow:Compiled the loaded model, but the compiled metrics have yet to be built. `model.compile_metrics` will be empty until you train or evaluate the model.\n"
          ]
        }
      ]
    },
    {
      "cell_type": "code",
      "source": [
        "encoder = load_model('encoder1.h5')\n",
        "\n",
        "# encode the train data\n",
        "X_train_final = encoder.predict(X_important_train)\n",
        "# encode the test data\n",
        "X_test_final = encoder.predict(X_important_test)"
      ],
      "metadata": {
        "colab": {
          "base_uri": "https://localhost:8080/"
        },
        "id": "60AiKv3yRDmT",
        "outputId": "f1d82bc8-849e-41a8-9df1-a2e78c3585df"
      },
      "execution_count": 48,
      "outputs": [
        {
          "output_type": "stream",
          "name": "stderr",
          "text": [
            "WARNING:tensorflow:No training configuration found in the save file, so the model was *not* compiled. Compile it manually.\n"
          ]
        }
      ]
    },
    {
      "cell_type": "code",
      "source": [
        "X_train_final.shape"
      ],
      "metadata": {
        "colab": {
          "base_uri": "https://localhost:8080/"
        },
        "id": "JFgxbDJDR528",
        "outputId": "a00c541b-867e-4034-9c2b-bde47e04cc46"
      },
      "execution_count": 49,
      "outputs": [
        {
          "output_type": "execute_result",
          "data": {
            "text/plain": [
              "(6215, 5)"
            ]
          },
          "metadata": {},
          "execution_count": 49
        }
      ]
    },
    {
      "cell_type": "code",
      "source": [
        "import numpy as np\n",
        "num_steps = 3\n",
        "(x_train_transformed,\n",
        " y_train_transformed) = lstm_data_transform(X_train_final, y_train, num_steps=num_steps)\n",
        "assert x_train_transformed.shape[0] == y_train_transformed.shape[0]"
      ],
      "metadata": {
        "id": "6yShst4nLMzS"
      },
      "execution_count": 50,
      "outputs": []
    },
    {
      "cell_type": "code",
      "source": [
        "from sklearn.model_selection import train_test_split\n",
        "X_train_final_, X_test_final_, y_train_final, y_test_final = train_test_split(x_train_transformed,y_train_transformed, test_size=0.25, random_state=42,shuffle=False)"
      ],
      "metadata": {
        "id": "Wt4tiGMQLM15"
      },
      "execution_count": 51,
      "outputs": []
    },
    {
      "cell_type": "code",
      "source": [
        "X_train_final_.shape"
      ],
      "metadata": {
        "colab": {
          "base_uri": "https://localhost:8080/"
        },
        "id": "AilKGY3OSbY7",
        "outputId": "83d1c2b1-3562-4ecb-b509-1e49db915c7e"
      },
      "execution_count": 52,
      "outputs": [
        {
          "output_type": "execute_result",
          "data": {
            "text/plain": [
              "(4659, 3, 5)"
            ]
          },
          "metadata": {},
          "execution_count": 52
        }
      ]
    },
    {
      "cell_type": "code",
      "source": [
        "from keras.models import Sequential\n",
        "from keras.layers import Dense,SimpleRNN\n",
        "from keras.layers import LSTM\n",
        "from keras.layers import Dropout"
      ],
      "metadata": {
        "id": "mKrlwSVvLM36"
      },
      "execution_count": 53,
      "outputs": []
    },
    {
      "cell_type": "code",
      "source": [
        "regressor = Sequential()\n",
        "regressor.add(LSTM(units = 50, return_sequences = True, input_shape = (3,X_train_final_.shape[2])))\n",
        "regressor.add(Dropout(0.2))\n",
        "\n",
        "regressor.add(LSTM(units = 50, return_sequences = True))\n",
        "regressor.add(Dropout(0.25))\n",
        "\n",
        "regressor.add(LSTM(units = 50, return_sequences = True))\n",
        "regressor.add(Dropout(0.25))\n",
        "\n",
        "regressor.add(LSTM(units = 50))\n",
        "regressor.add(Dropout(0.25))\n",
        "\n",
        "regressor.add(Dense(units = 1))\n",
        "\n",
        "regressor.compile(optimizer = 'adam', loss = 'mean_squared_error')\n",
        "\n",
        "history=regressor.fit(X_train_final_, y_train_final, epochs = 100, batch_size = 32)"
      ],
      "metadata": {
        "colab": {
          "base_uri": "https://localhost:8080/"
        },
        "id": "CIq-AWZXLM6W",
        "outputId": "2c86fb5d-a37e-4915-aa2c-1f6f85a6b89b"
      },
      "execution_count": 54,
      "outputs": [
        {
          "output_type": "stream",
          "name": "stdout",
          "text": [
            "Epoch 1/100\n",
            "146/146 [==============================] - 8s 8ms/step - loss: 0.0143\n",
            "Epoch 2/100\n",
            "146/146 [==============================] - 1s 8ms/step - loss: 0.0083\n",
            "Epoch 3/100\n",
            "146/146 [==============================] - 1s 8ms/step - loss: 0.0073\n",
            "Epoch 4/100\n",
            "146/146 [==============================] - 1s 8ms/step - loss: 0.0070\n",
            "Epoch 5/100\n",
            "146/146 [==============================] - 1s 7ms/step - loss: 0.0066\n",
            "Epoch 6/100\n",
            "146/146 [==============================] - 1s 8ms/step - loss: 0.0060\n",
            "Epoch 7/100\n",
            "146/146 [==============================] - 1s 8ms/step - loss: 0.0058\n",
            "Epoch 8/100\n",
            "146/146 [==============================] - 1s 7ms/step - loss: 0.0058\n",
            "Epoch 9/100\n",
            "146/146 [==============================] - 1s 7ms/step - loss: 0.0057\n",
            "Epoch 10/100\n",
            "146/146 [==============================] - 1s 7ms/step - loss: 0.0055\n",
            "Epoch 11/100\n",
            "146/146 [==============================] - 1s 7ms/step - loss: 0.0055\n",
            "Epoch 12/100\n",
            "146/146 [==============================] - 1s 7ms/step - loss: 0.0054\n",
            "Epoch 13/100\n",
            "146/146 [==============================] - 1s 8ms/step - loss: 0.0054\n",
            "Epoch 14/100\n",
            "146/146 [==============================] - 1s 7ms/step - loss: 0.0053\n",
            "Epoch 15/100\n",
            "146/146 [==============================] - 1s 8ms/step - loss: 0.0053\n",
            "Epoch 16/100\n",
            "146/146 [==============================] - 1s 7ms/step - loss: 0.0057\n",
            "Epoch 17/100\n",
            "146/146 [==============================] - 1s 8ms/step - loss: 0.0052\n",
            "Epoch 18/100\n",
            "146/146 [==============================] - 1s 8ms/step - loss: 0.0054\n",
            "Epoch 19/100\n",
            "146/146 [==============================] - 1s 8ms/step - loss: 0.0051\n",
            "Epoch 20/100\n",
            "146/146 [==============================] - 1s 8ms/step - loss: 0.0050\n",
            "Epoch 21/100\n",
            "146/146 [==============================] - 1s 8ms/step - loss: 0.0052\n",
            "Epoch 22/100\n",
            "146/146 [==============================] - 1s 8ms/step - loss: 0.0051\n",
            "Epoch 23/100\n",
            "146/146 [==============================] - 1s 7ms/step - loss: 0.0050\n",
            "Epoch 24/100\n",
            "146/146 [==============================] - 1s 8ms/step - loss: 0.0050\n",
            "Epoch 25/100\n",
            "146/146 [==============================] - 1s 8ms/step - loss: 0.0051\n",
            "Epoch 26/100\n",
            "146/146 [==============================] - 1s 8ms/step - loss: 0.0052\n",
            "Epoch 27/100\n",
            "146/146 [==============================] - 1s 8ms/step - loss: 0.0051\n",
            "Epoch 28/100\n",
            "146/146 [==============================] - 1s 8ms/step - loss: 0.0050\n",
            "Epoch 29/100\n",
            "146/146 [==============================] - 1s 8ms/step - loss: 0.0051\n",
            "Epoch 30/100\n",
            "146/146 [==============================] - 1s 8ms/step - loss: 0.0051\n",
            "Epoch 31/100\n",
            "146/146 [==============================] - 1s 8ms/step - loss: 0.0049\n",
            "Epoch 32/100\n",
            "146/146 [==============================] - 1s 8ms/step - loss: 0.0051\n",
            "Epoch 33/100\n",
            "146/146 [==============================] - 1s 8ms/step - loss: 0.0049\n",
            "Epoch 34/100\n",
            "146/146 [==============================] - 1s 7ms/step - loss: 0.0051\n",
            "Epoch 35/100\n",
            "146/146 [==============================] - 1s 8ms/step - loss: 0.0049\n",
            "Epoch 36/100\n",
            "146/146 [==============================] - 1s 8ms/step - loss: 0.0051\n",
            "Epoch 37/100\n",
            "146/146 [==============================] - 1s 7ms/step - loss: 0.0050\n",
            "Epoch 38/100\n",
            "146/146 [==============================] - 1s 7ms/step - loss: 0.0049\n",
            "Epoch 39/100\n",
            "146/146 [==============================] - 1s 7ms/step - loss: 0.0048\n",
            "Epoch 40/100\n",
            "146/146 [==============================] - 1s 8ms/step - loss: 0.0049\n",
            "Epoch 41/100\n",
            "146/146 [==============================] - 1s 8ms/step - loss: 0.0049\n",
            "Epoch 42/100\n",
            "146/146 [==============================] - 1s 8ms/step - loss: 0.0048\n",
            "Epoch 43/100\n",
            "146/146 [==============================] - 1s 7ms/step - loss: 0.0049\n",
            "Epoch 44/100\n",
            "146/146 [==============================] - 1s 8ms/step - loss: 0.0049\n",
            "Epoch 45/100\n",
            "146/146 [==============================] - 1s 8ms/step - loss: 0.0048\n",
            "Epoch 46/100\n",
            "146/146 [==============================] - 1s 8ms/step - loss: 0.0050\n",
            "Epoch 47/100\n",
            "146/146 [==============================] - 1s 8ms/step - loss: 0.0048\n",
            "Epoch 48/100\n",
            "146/146 [==============================] - 1s 8ms/step - loss: 0.0050\n",
            "Epoch 49/100\n",
            "146/146 [==============================] - 1s 8ms/step - loss: 0.0050\n",
            "Epoch 50/100\n",
            "146/146 [==============================] - 1s 8ms/step - loss: 0.0049\n",
            "Epoch 51/100\n",
            "146/146 [==============================] - 1s 8ms/step - loss: 0.0048\n",
            "Epoch 52/100\n",
            "146/146 [==============================] - 1s 8ms/step - loss: 0.0047\n",
            "Epoch 53/100\n",
            "146/146 [==============================] - 1s 8ms/step - loss: 0.0049\n",
            "Epoch 54/100\n",
            "146/146 [==============================] - 1s 8ms/step - loss: 0.0048\n",
            "Epoch 55/100\n",
            "146/146 [==============================] - 1s 8ms/step - loss: 0.0049\n",
            "Epoch 56/100\n",
            "146/146 [==============================] - 1s 8ms/step - loss: 0.0049\n",
            "Epoch 57/100\n",
            "146/146 [==============================] - 1s 8ms/step - loss: 0.0049\n",
            "Epoch 58/100\n",
            "146/146 [==============================] - 1s 8ms/step - loss: 0.0049\n",
            "Epoch 59/100\n",
            "146/146 [==============================] - 1s 8ms/step - loss: 0.0047\n",
            "Epoch 60/100\n",
            "146/146 [==============================] - 1s 8ms/step - loss: 0.0048\n",
            "Epoch 61/100\n",
            "146/146 [==============================] - 1s 8ms/step - loss: 0.0047\n",
            "Epoch 62/100\n",
            "146/146 [==============================] - 1s 8ms/step - loss: 0.0046\n",
            "Epoch 63/100\n",
            "146/146 [==============================] - 1s 8ms/step - loss: 0.0048\n",
            "Epoch 64/100\n",
            "146/146 [==============================] - 1s 8ms/step - loss: 0.0049\n",
            "Epoch 65/100\n",
            "146/146 [==============================] - 1s 8ms/step - loss: 0.0047\n",
            "Epoch 66/100\n",
            "146/146 [==============================] - 1s 8ms/step - loss: 0.0046\n",
            "Epoch 67/100\n",
            "146/146 [==============================] - 1s 8ms/step - loss: 0.0046\n",
            "Epoch 68/100\n",
            "146/146 [==============================] - 1s 8ms/step - loss: 0.0048\n",
            "Epoch 69/100\n",
            "146/146 [==============================] - 1s 8ms/step - loss: 0.0046\n",
            "Epoch 70/100\n",
            "146/146 [==============================] - 1s 8ms/step - loss: 0.0046\n",
            "Epoch 71/100\n",
            "146/146 [==============================] - 1s 8ms/step - loss: 0.0047\n",
            "Epoch 72/100\n",
            "146/146 [==============================] - 1s 8ms/step - loss: 0.0046\n",
            "Epoch 73/100\n",
            "146/146 [==============================] - 1s 8ms/step - loss: 0.0048\n",
            "Epoch 74/100\n",
            "146/146 [==============================] - 1s 8ms/step - loss: 0.0047\n",
            "Epoch 75/100\n",
            "146/146 [==============================] - 1s 8ms/step - loss: 0.0046\n",
            "Epoch 76/100\n",
            "146/146 [==============================] - 1s 8ms/step - loss: 0.0046\n",
            "Epoch 77/100\n",
            "146/146 [==============================] - 1s 8ms/step - loss: 0.0047\n",
            "Epoch 78/100\n",
            "146/146 [==============================] - 1s 8ms/step - loss: 0.0046\n",
            "Epoch 79/100\n",
            "146/146 [==============================] - 1s 8ms/step - loss: 0.0047\n",
            "Epoch 80/100\n",
            "146/146 [==============================] - 1s 8ms/step - loss: 0.0045\n",
            "Epoch 81/100\n",
            "146/146 [==============================] - 1s 8ms/step - loss: 0.0046\n",
            "Epoch 82/100\n",
            "146/146 [==============================] - 1s 8ms/step - loss: 0.0046\n",
            "Epoch 83/100\n",
            "146/146 [==============================] - 1s 8ms/step - loss: 0.0047\n",
            "Epoch 84/100\n",
            "146/146 [==============================] - 1s 8ms/step - loss: 0.0045\n",
            "Epoch 85/100\n",
            "146/146 [==============================] - 1s 8ms/step - loss: 0.0046\n",
            "Epoch 86/100\n",
            "146/146 [==============================] - 1s 8ms/step - loss: 0.0047\n",
            "Epoch 87/100\n",
            "146/146 [==============================] - 1s 8ms/step - loss: 0.0046\n",
            "Epoch 88/100\n",
            "146/146 [==============================] - 1s 8ms/step - loss: 0.0045\n",
            "Epoch 89/100\n",
            "146/146 [==============================] - 1s 8ms/step - loss: 0.0045\n",
            "Epoch 90/100\n",
            "146/146 [==============================] - 1s 8ms/step - loss: 0.0046\n",
            "Epoch 91/100\n",
            "146/146 [==============================] - 1s 8ms/step - loss: 0.0046\n",
            "Epoch 92/100\n",
            "146/146 [==============================] - 1s 8ms/step - loss: 0.0045\n",
            "Epoch 93/100\n",
            "146/146 [==============================] - 1s 8ms/step - loss: 0.0044\n",
            "Epoch 94/100\n",
            "146/146 [==============================] - 1s 8ms/step - loss: 0.0045\n",
            "Epoch 95/100\n",
            "146/146 [==============================] - 1s 8ms/step - loss: 0.0046\n",
            "Epoch 96/100\n",
            "146/146 [==============================] - 1s 7ms/step - loss: 0.0045\n",
            "Epoch 97/100\n",
            "146/146 [==============================] - 1s 8ms/step - loss: 0.0046\n",
            "Epoch 98/100\n",
            "146/146 [==============================] - 1s 8ms/step - loss: 0.0046\n",
            "Epoch 99/100\n",
            "146/146 [==============================] - 1s 8ms/step - loss: 0.0045\n",
            "Epoch 100/100\n",
            "146/146 [==============================] - 1s 8ms/step - loss: 0.0044\n"
          ]
        }
      ]
    },
    {
      "cell_type": "code",
      "source": [
        "import matplotlib.pyplot as plt\n",
        "plt.plot(history.history['loss'])\n",
        "#plt.plot(history.history['val_loss'])\n",
        "#plt.plot(history.history['mean_absolute_error'])\n",
        "#plt.title('model loss')\n",
        "plt.ylabel('loss')\n",
        "plt.xlabel('epoch')\n",
        "#plt.legend(['train', 'val'], loc='upper left')\n",
        "plt.show()"
      ],
      "metadata": {
        "colab": {
          "base_uri": "https://localhost:8080/",
          "height": 279
        },
        "id": "uwHQlkHCKP1a",
        "outputId": "774ad9a0-448a-4c08-8675-fe9490cea35c"
      },
      "execution_count": 55,
      "outputs": [
        {
          "output_type": "display_data",
          "data": {
            "text/plain": [
              "<Figure size 432x288 with 1 Axes>"
            ],
            "image/png": "[encoded data removed]"
          },
          "metadata": {
            "needs_background": "light"
          }
        }
      ]
    },
    {
      "cell_type": "code",
      "source": [
        "ypred_lstm=regressor.predict(X_test_final_)"
      ],
      "metadata": {
        "id": "Gh3bizuwTgcM"
      },
      "execution_count": 56,
      "outputs": []
    },
    {
      "cell_type": "code",
      "source": [
        "plt.scatter(ypred_lstm,y_test_final)"
      ],
      "metadata": {
        "colab": {
          "base_uri": "https://localhost:8080/",
          "height": 283
        },
        "id": "66f01f2wTxyb",
        "outputId": "17eea459-e178-4666-b0c4-ffd7eff4356e"
      },
      "execution_count": 57,
      "outputs": [
        {
          "output_type": "execute_result",
          "data": {
            "text/plain": [
              "<matplotlib.collections.PathCollection at 0x7f4b0feb5750>"
            ]
          },
          "metadata": {},
          "execution_count": 57
        },
        {
          "output_type": "display_data",
          "data": {
            "text/plain": [
              "<Figure size 432x288 with 1 Axes>"
            ],
            "image/png": "[encoded data removed]"
          },
          "metadata": {
            "needs_background": "light"
          }
        }
      ]
    },
    {
      "cell_type": "code",
      "source": [
        "from keras.layers import concatenate\n",
        "from keras import Model"
      ],
      "metadata": {
        "id": "dyQuNCjAFRbd"
      },
      "execution_count": 58,
      "outputs": []
    },
    {
      "cell_type": "code",
      "source": [
        "def define_model():\n",
        "\n",
        "\n",
        "  # first\n",
        "  inputs1 = Input(shape=(3,5))\n",
        "  fe1_0 = LSTM(32, activation='relu',return_sequences = True)(inputs1)\n",
        "  fe1_1 = Dropout(0.2)(fe1_0)\n",
        "  fe1_2 = LSTM(16, activation='relu',return_sequences = True)(fe1_1)\n",
        "  fe1_3= Dropout(0.2)(fe1_2)\n",
        "  fe1_4=LSTM(8, activation='relu')(fe1_3)\n",
        "  out1_1=Dense(1, activation='linear')(fe1_4)\n",
        "\n",
        "\n",
        "\n",
        "  fe2_0 = LSTM(16, activation='relu',return_sequences = True)(inputs1)\n",
        "  fe2_1 = Dropout(0.5)(fe2_0)\n",
        "  fe2_2 = LSTM(16, activation='relu',return_sequences = True)(fe2_1)\n",
        "  fe2_3= Dropout(0.5)(fe2_2)\n",
        "  fe2_4=LSTM(8, activation='relu')(fe2_3)\n",
        "  out2_1=Dense(1, activation='linear')(fe2_4)\n",
        "\n",
        "  fe3_0 = LSTM(16, activation='relu',return_sequences = True)(inputs1)\n",
        "  fe3_1 = Dropout(0.5)(fe3_0)\n",
        "  fe3_2 = LSTM(8, activation='relu',return_sequences = True)(fe3_1)\n",
        "  fe3_3= Dropout(0.5)(fe3_2)\n",
        "  fe3_4=LSTM(8, activation='relu')(fe3_3)\n",
        "  out3_1=Dense(1, activation='linear')(fe3_4)\n",
        " \n",
        " \n",
        "\n",
        "  merged3 = concatenate([out1_1,out2_1,out3_1], name='concat3')\n",
        "  output1 = Dense(4, activation='relu')(merged3)\n",
        "  output = Dense(1, activation='linear')(output1 )\n",
        "  model = Model(inputs=[inputs1], outputs=[output])\n",
        "  model.compile(optimizer='adam',loss='mean_squared_error',metrics=['RootMeanSquaredError'])\n",
        "  return model"
      ],
      "metadata": {
        "id": "rmLZoOZcTyqI"
      },
      "execution_count": 79,
      "outputs": []
    },
    {
      "cell_type": "code",
      "source": [
        "mdl = define_model()"
      ],
      "metadata": {
        "id": "IzyTojbpL6R4",
        "colab": {
          "base_uri": "https://localhost:8080/"
        },
        "outputId": "24c964cb-2ffd-49ad-8b18-a3b6e3ba2700"
      },
      "execution_count": 80,
      "outputs": [
        {
          "output_type": "stream",
          "name": "stderr",
          "text": [
            "WARNING:tensorflow:Layer lstm_34 will not use cuDNN kernels since it doesn't meet the criteria. It will use a generic GPU kernel as fallback when running on GPU.\n",
            "WARNING:tensorflow:Layer lstm_35 will not use cuDNN kernels since it doesn't meet the criteria. It will use a generic GPU kernel as fallback when running on GPU.\n",
            "WARNING:tensorflow:Layer lstm_36 will not use cuDNN kernels since it doesn't meet the criteria. It will use a generic GPU kernel as fallback when running on GPU.\n",
            "WARNING:tensorflow:Layer lstm_37 will not use cuDNN kernels since it doesn't meet the criteria. It will use a generic GPU kernel as fallback when running on GPU.\n",
            "WARNING:tensorflow:Layer lstm_38 will not use cuDNN kernels since it doesn't meet the criteria. It will use a generic GPU kernel as fallback when running on GPU.\n",
            "WARNING:tensorflow:Layer lstm_39 will not use cuDNN kernels since it doesn't meet the criteria. It will use a generic GPU kernel as fallback when running on GPU.\n",
            "WARNING:tensorflow:Layer lstm_40 will not use cuDNN kernels since it doesn't meet the criteria. It will use a generic GPU kernel as fallback when running on GPU.\n",
            "WARNING:tensorflow:Layer lstm_41 will not use cuDNN kernels since it doesn't meet the criteria. It will use a generic GPU kernel as fallback when running on GPU.\n",
            "WARNING:tensorflow:Layer lstm_42 will not use cuDNN kernels since it doesn't meet the criteria. It will use a generic GPU kernel as fallback when running on GPU.\n"
          ]
        }
      ]
    },
    {
      "cell_type": "code",
      "source": [
        "history=mdl.fit(X_train_final_, y_train_final, epochs = 100, batch_size = 32)"
      ],
      "metadata": {
        "colab": {
          "base_uri": "https://localhost:8080/"
        },
        "id": "02CwqlZOMIxd",
        "outputId": "3db064b5-43cc-4809-8422-ae974e855f8c"
      },
      "execution_count": 81,
      "outputs": [
        {
          "output_type": "stream",
          "name": "stdout",
          "text": [
            "Epoch 1/100\n",
            "146/146 [==============================] - 17s 59ms/step - loss: 0.0232 - root_mean_squared_error: 0.1523\n",
            "Epoch 2/100\n",
            "146/146 [==============================] - 9s 59ms/step - loss: 0.0089 - root_mean_squared_error: 0.0944\n",
            "Epoch 3/100\n",
            "146/146 [==============================] - 8s 58ms/step - loss: 0.0072 - root_mean_squared_error: 0.0848\n",
            "Epoch 4/100\n",
            "146/146 [==============================] - 8s 58ms/step - loss: 0.0064 - root_mean_squared_error: 0.0800\n",
            "Epoch 5/100\n",
            "146/146 [==============================] - 9s 58ms/step - loss: 0.0061 - root_mean_squared_error: 0.0782\n",
            "Epoch 6/100\n",
            "146/146 [==============================] - 9s 59ms/step - loss: 0.0061 - root_mean_squared_error: 0.0782\n",
            "Epoch 7/100\n",
            "146/146 [==============================] - 8s 58ms/step - loss: 0.0057 - root_mean_squared_error: 0.0754\n",
            "Epoch 8/100\n",
            "146/146 [==============================] - 9s 59ms/step - loss: 0.0057 - root_mean_squared_error: 0.0754\n",
            "Epoch 9/100\n",
            "146/146 [==============================] - 9s 59ms/step - loss: 0.0054 - root_mean_squared_error: 0.0733\n",
            "Epoch 10/100\n",
            "146/146 [==============================] - 8s 58ms/step - loss: 0.0055 - root_mean_squared_error: 0.0744\n",
            "Epoch 11/100\n",
            "146/146 [==============================] - 8s 58ms/step - loss: 0.0054 - root_mean_squared_error: 0.0732\n",
            "Epoch 12/100\n",
            "146/146 [==============================] - 9s 61ms/step - loss: 0.0054 - root_mean_squared_error: 0.0732\n",
            "Epoch 13/100\n",
            "146/146 [==============================] - 9s 59ms/step - loss: 0.0054 - root_mean_squared_error: 0.0732\n",
            "Epoch 14/100\n",
            "146/146 [==============================] - 9s 60ms/step - loss: 0.0050 - root_mean_squared_error: 0.0705\n",
            "Epoch 15/100\n",
            "146/146 [==============================] - 9s 58ms/step - loss: 0.0054 - root_mean_squared_error: 0.0732\n",
            "Epoch 16/100\n",
            "146/146 [==============================] - 9s 59ms/step - loss: 0.0050 - root_mean_squared_error: 0.0710\n",
            "Epoch 17/100\n",
            "146/146 [==============================] - 9s 59ms/step - loss: 0.0051 - root_mean_squared_error: 0.0711\n",
            "Epoch 18/100\n",
            "146/146 [==============================] - 9s 58ms/step - loss: 0.0050 - root_mean_squared_error: 0.0705\n",
            "Epoch 19/100\n",
            "146/146 [==============================] - 8s 58ms/step - loss: 0.0049 - root_mean_squared_error: 0.0700\n",
            "Epoch 20/100\n",
            "146/146 [==============================] - 9s 60ms/step - loss: 0.0049 - root_mean_squared_error: 0.0698\n",
            "Epoch 21/100\n",
            "146/146 [==============================] - 9s 58ms/step - loss: 0.0049 - root_mean_squared_error: 0.0700\n",
            "Epoch 22/100\n",
            "146/146 [==============================] - 9s 59ms/step - loss: 0.0049 - root_mean_squared_error: 0.0697\n",
            "Epoch 23/100\n",
            "146/146 [==============================] - 9s 61ms/step - loss: 0.0049 - root_mean_squared_error: 0.0701\n",
            "Epoch 24/100\n",
            "146/146 [==============================] - 8s 58ms/step - loss: 0.0049 - root_mean_squared_error: 0.0703\n",
            "Epoch 25/100\n",
            "146/146 [==============================] - 8s 58ms/step - loss: 0.0047 - root_mean_squared_error: 0.0689\n",
            "Epoch 26/100\n",
            "146/146 [==============================] - 9s 59ms/step - loss: 0.0046 - root_mean_squared_error: 0.0680\n",
            "Epoch 27/100\n",
            "146/146 [==============================] - 9s 60ms/step - loss: 0.0049 - root_mean_squared_error: 0.0703\n",
            "Epoch 28/100\n",
            "146/146 [==============================] - 8s 57ms/step - loss: 0.0047 - root_mean_squared_error: 0.0685\n",
            "Epoch 29/100\n",
            "146/146 [==============================] - 8s 58ms/step - loss: 0.0047 - root_mean_squared_error: 0.0689\n",
            "Epoch 30/100\n",
            "146/146 [==============================] - 9s 59ms/step - loss: 0.0045 - root_mean_squared_error: 0.0672\n",
            "Epoch 31/100\n",
            "146/146 [==============================] - 9s 59ms/step - loss: 0.0046 - root_mean_squared_error: 0.0680\n",
            "Epoch 32/100\n",
            "146/146 [==============================] - 9s 59ms/step - loss: 0.0047 - root_mean_squared_error: 0.0684\n",
            "Epoch 33/100\n",
            "146/146 [==============================] - 9s 59ms/step - loss: 0.0048 - root_mean_squared_error: 0.0690\n",
            "Epoch 34/100\n",
            "146/146 [==============================] - 8s 58ms/step - loss: 0.0045 - root_mean_squared_error: 0.0669\n",
            "Epoch 35/100\n",
            "146/146 [==============================] - 9s 59ms/step - loss: 0.0046 - root_mean_squared_error: 0.0677\n",
            "Epoch 36/100\n",
            "146/146 [==============================] - 9s 59ms/step - loss: 0.0046 - root_mean_squared_error: 0.0680\n",
            "Epoch 37/100\n",
            "146/146 [==============================] - 9s 59ms/step - loss: 0.0046 - root_mean_squared_error: 0.0677\n",
            "Epoch 38/100\n",
            "146/146 [==============================] - 9s 58ms/step - loss: 0.0046 - root_mean_squared_error: 0.0679\n",
            "Epoch 39/100\n",
            "146/146 [==============================] - 8s 58ms/step - loss: 0.0046 - root_mean_squared_error: 0.0678\n",
            "Epoch 40/100\n",
            "146/146 [==============================] - 8s 58ms/step - loss: 0.0045 - root_mean_squared_error: 0.0674\n",
            "Epoch 41/100\n",
            "146/146 [==============================] - 9s 58ms/step - loss: 0.0045 - root_mean_squared_error: 0.0672\n",
            "Epoch 42/100\n",
            "146/146 [==============================] - 9s 58ms/step - loss: 0.0045 - root_mean_squared_error: 0.0671\n",
            "Epoch 43/100\n",
            "146/146 [==============================] - 9s 59ms/step - loss: 0.0045 - root_mean_squared_error: 0.0668\n",
            "Epoch 44/100\n",
            "146/146 [==============================] - 9s 58ms/step - loss: 0.0045 - root_mean_squared_error: 0.0668\n",
            "Epoch 45/100\n",
            "146/146 [==============================] - 9s 60ms/step - loss: 0.0045 - root_mean_squared_error: 0.0671\n",
            "Epoch 46/100\n",
            "146/146 [==============================] - 9s 60ms/step - loss: 0.0045 - root_mean_squared_error: 0.0669\n",
            "Epoch 47/100\n",
            "146/146 [==============================] - 9s 59ms/step - loss: 0.0045 - root_mean_squared_error: 0.0670\n",
            "Epoch 48/100\n",
            "146/146 [==============================] - 9s 59ms/step - loss: 0.0044 - root_mean_squared_error: 0.0663\n",
            "Epoch 49/100\n",
            "146/146 [==============================] - 8s 58ms/step - loss: 0.0044 - root_mean_squared_error: 0.0664\n",
            "Epoch 50/100\n",
            "146/146 [==============================] - 9s 58ms/step - loss: 0.0045 - root_mean_squared_error: 0.0670\n",
            "Epoch 51/100\n",
            "146/146 [==============================] - 9s 60ms/step - loss: 0.0044 - root_mean_squared_error: 0.0663\n",
            "Epoch 52/100\n",
            "146/146 [==============================] - 9s 59ms/step - loss: 0.0045 - root_mean_squared_error: 0.0668\n",
            "Epoch 53/100\n",
            "146/146 [==============================] - 8s 58ms/step - loss: 0.0044 - root_mean_squared_error: 0.0666\n",
            "Epoch 54/100\n",
            "146/146 [==============================] - 9s 58ms/step - loss: 0.0044 - root_mean_squared_error: 0.0662\n",
            "Epoch 55/100\n",
            "146/146 [==============================] - 9s 60ms/step - loss: 0.0044 - root_mean_squared_error: 0.0664\n",
            "Epoch 56/100\n",
            "146/146 [==============================] - 8s 58ms/step - loss: 0.0044 - root_mean_squared_error: 0.0660\n",
            "Epoch 57/100\n",
            "146/146 [==============================] - 8s 58ms/step - loss: 0.0044 - root_mean_squared_error: 0.0664\n",
            "Epoch 58/100\n",
            "146/146 [==============================] - 9s 60ms/step - loss: 0.0043 - root_mean_squared_error: 0.0656\n",
            "Epoch 59/100\n",
            "146/146 [==============================] - 9s 59ms/step - loss: 0.0043 - root_mean_squared_error: 0.0657\n",
            "Epoch 60/100\n",
            "146/146 [==============================] - 9s 59ms/step - loss: 0.0044 - root_mean_squared_error: 0.0662\n",
            "Epoch 61/100\n",
            "146/146 [==============================] - 8s 57ms/step - loss: 0.0043 - root_mean_squared_error: 0.0653\n",
            "Epoch 62/100\n",
            "146/146 [==============================] - 9s 60ms/step - loss: 0.0042 - root_mean_squared_error: 0.0647\n",
            "Epoch 63/100\n",
            "146/146 [==============================] - 9s 59ms/step - loss: 0.0043 - root_mean_squared_error: 0.0655\n",
            "Epoch 64/100\n",
            "146/146 [==============================] - 9s 61ms/step - loss: 0.0044 - root_mean_squared_error: 0.0663\n",
            "Epoch 65/100\n",
            "146/146 [==============================] - 9s 59ms/step - loss: 0.0043 - root_mean_squared_error: 0.0655\n",
            "Epoch 66/100\n",
            "146/146 [==============================] - 8s 58ms/step - loss: 0.0043 - root_mean_squared_error: 0.0654\n",
            "Epoch 67/100\n",
            "146/146 [==============================] - 8s 58ms/step - loss: 0.0043 - root_mean_squared_error: 0.0658\n",
            "Epoch 68/100\n",
            "146/146 [==============================] - 9s 59ms/step - loss: 0.0042 - root_mean_squared_error: 0.0652\n",
            "Epoch 69/100\n",
            "146/146 [==============================] - 9s 59ms/step - loss: 0.0043 - root_mean_squared_error: 0.0653\n",
            "Epoch 70/100\n",
            "146/146 [==============================] - 9s 58ms/step - loss: 0.0043 - root_mean_squared_error: 0.0656\n",
            "Epoch 71/100\n",
            "146/146 [==============================] - 9s 60ms/step - loss: 0.0042 - root_mean_squared_error: 0.0651\n",
            "Epoch 72/100\n",
            "146/146 [==============================] - 9s 59ms/step - loss: 0.0042 - root_mean_squared_error: 0.0647\n",
            "Epoch 73/100\n",
            "146/146 [==============================] - 9s 59ms/step - loss: 0.0042 - root_mean_squared_error: 0.0649\n",
            "Epoch 74/100\n",
            "146/146 [==============================] - 9s 60ms/step - loss: 0.0042 - root_mean_squared_error: 0.0649\n",
            "Epoch 75/100\n",
            "146/146 [==============================] - 9s 61ms/step - loss: 0.0043 - root_mean_squared_error: 0.0656\n",
            "Epoch 76/100\n",
            "146/146 [==============================] - 8s 58ms/step - loss: 0.0042 - root_mean_squared_error: 0.0644\n",
            "Epoch 77/100\n",
            "146/146 [==============================] - 9s 58ms/step - loss: 0.0041 - root_mean_squared_error: 0.0642\n",
            "Epoch 78/100\n",
            "146/146 [==============================] - 9s 60ms/step - loss: 0.0042 - root_mean_squared_error: 0.0650\n",
            "Epoch 79/100\n",
            "146/146 [==============================] - 9s 60ms/step - loss: 0.0042 - root_mean_squared_error: 0.0650\n",
            "Epoch 80/100\n",
            "146/146 [==============================] - 9s 58ms/step - loss: 0.0041 - root_mean_squared_error: 0.0639\n",
            "Epoch 81/100\n",
            "146/146 [==============================] - 9s 60ms/step - loss: 0.0042 - root_mean_squared_error: 0.0650\n",
            "Epoch 82/100\n",
            "146/146 [==============================] - 9s 58ms/step - loss: 0.0042 - root_mean_squared_error: 0.0649\n",
            "Epoch 83/100\n",
            "146/146 [==============================] - 9s 60ms/step - loss: 0.0041 - root_mean_squared_error: 0.0638\n",
            "Epoch 84/100\n",
            "146/146 [==============================] - 8s 58ms/step - loss: 0.0041 - root_mean_squared_error: 0.0640\n",
            "Epoch 85/100\n",
            "146/146 [==============================] - 9s 59ms/step - loss: 0.0041 - root_mean_squared_error: 0.0643\n",
            "Epoch 86/100\n",
            "146/146 [==============================] - 9s 61ms/step - loss: 0.0041 - root_mean_squared_error: 0.0644\n",
            "Epoch 87/100\n",
            "146/146 [==============================] - 9s 59ms/step - loss: 0.0040 - root_mean_squared_error: 0.0632\n",
            "Epoch 88/100\n",
            "146/146 [==============================] - 9s 59ms/step - loss: 0.0042 - root_mean_squared_error: 0.0649\n",
            "Epoch 89/100\n",
            "146/146 [==============================] - 8s 57ms/step - loss: 0.0041 - root_mean_squared_error: 0.0641\n",
            "Epoch 90/100\n",
            "146/146 [==============================] - 9s 60ms/step - loss: 0.0042 - root_mean_squared_error: 0.0646\n",
            "Epoch 91/100\n",
            "146/146 [==============================] - 8s 58ms/step - loss: 0.0042 - root_mean_squared_error: 0.0647\n",
            "Epoch 92/100\n",
            "146/146 [==============================] - 9s 59ms/step - loss: 0.0043 - root_mean_squared_error: 0.0652\n",
            "Epoch 93/100\n",
            "146/146 [==============================] - 9s 61ms/step - loss: 0.0041 - root_mean_squared_error: 0.0638\n",
            "Epoch 94/100\n",
            "146/146 [==============================] - 9s 58ms/step - loss: 0.0040 - root_mean_squared_error: 0.0635\n",
            "Epoch 95/100\n",
            "146/146 [==============================] - 9s 59ms/step - loss: 0.0041 - root_mean_squared_error: 0.0643\n",
            "Epoch 96/100\n",
            "146/146 [==============================] - 9s 60ms/step - loss: 0.0039 - root_mean_squared_error: 0.0628\n",
            "Epoch 97/100\n",
            "146/146 [==============================] - 9s 60ms/step - loss: 0.0041 - root_mean_squared_error: 0.0642\n",
            "Epoch 98/100\n",
            "146/146 [==============================] - 9s 60ms/step - loss: 0.0041 - root_mean_squared_error: 0.0640\n",
            "Epoch 99/100\n",
            "146/146 [==============================] - 9s 60ms/step - loss: 0.0041 - root_mean_squared_error: 0.0641\n",
            "Epoch 100/100\n",
            "146/146 [==============================] - 9s 60ms/step - loss: 0.0040 - root_mean_squared_error: 0.0632\n"
          ]
        }
      ]
    },
    {
      "cell_type": "code",
      "source": [
        "import matplotlib.pyplot as plt\n",
        "plt.plot(history.history['loss'])\n",
        "#plt.plot(history.history['val_loss'])\n",
        "#plt.plot(history.history['mean_absolute_error'])\n",
        "#plt.title('model loss')\n",
        "plt.ylabel('loss')\n",
        "plt.xlabel('epoch')\n",
        "#plt.legend(['train', 'val'], loc='upper left')\n",
        "plt.show()"
      ],
      "metadata": {
        "colab": {
          "base_uri": "https://localhost:8080/",
          "height": 279
        },
        "id": "1KVvy0z-KaTo",
        "outputId": "11dfbd28-81eb-41f2-a536-3efd050d7c0d"
      },
      "execution_count": 82,
      "outputs": [
        {
          "output_type": "display_data",
          "data": {
            "text/plain": [
              "<Figure size 432x288 with 1 Axes>"
            ],
            "image/png": "[encoded data removed]"
          },
          "metadata": {
            "needs_background": "light"
          }
        }
      ]
    },
    {
      "cell_type": "code",
      "source": [
        "y=mdl.predict(X_test_final_)"
      ],
      "metadata": {
        "id": "vmhUMR4MNiLe"
      },
      "execution_count": 83,
      "outputs": []
    },
    {
      "cell_type": "code",
      "source": [
        "plt.scatter(y,y_test_final)"
      ],
      "metadata": {
        "colab": {
          "base_uri": "https://localhost:8080/",
          "height": 283
        },
        "id": "N35qpOLLNnvc",
        "outputId": "75af9bc3-6e1b-4529-e08b-bd4f6f38b035"
      },
      "execution_count": 84,
      "outputs": [
        {
          "output_type": "execute_result",
          "data": {
            "text/plain": [
              "<matplotlib.collections.PathCollection at 0x7f4b0ec51490>"
            ]
          },
          "metadata": {},
          "execution_count": 84
        },
        {
          "output_type": "display_data",
          "data": {
            "text/plain": [
              "<Figure size 432x288 with 1 Axes>"
            ],
            "image/png": "[encoded data removed]"
          },
          "metadata": {
            "needs_background": "light"
          }
        }
      ]
    },
    {
      "cell_type": "code",
      "source": [
        "regressor1 = Sequential()\n",
        "regressor1.add(LSTM(units = 64, return_sequences = True, input_shape = (3,X_train_final_.shape[2])))\n",
        "regressor1.add(Dropout(0.2))\n",
        "\n",
        "regressor1.add(LSTM(units = 32, return_sequences = True))\n",
        "regressor1.add(Dropout(0.25))\n",
        "\n",
        "regressor1.add(LSTM(units = 16, return_sequences = True))\n",
        "regressor1.add(Dropout(0.25))\n",
        "\n",
        "regressor1.add(LSTM(units = 8))\n",
        "regressor1.add(Dropout(0.25))\n",
        "\n",
        "regressor1.add(Dense(units = 1))\n",
        "\n",
        "regressor1.compile(optimizer = 'adam', loss = 'mean_squared_error')\n",
        "\n",
        "regressor1.fit(X_train_final_, y_train_final, epochs = 100, batch_size = 32)"
      ],
      "metadata": {
        "colab": {
          "base_uri": "https://localhost:8080/"
        },
        "id": "bZD4RlFQPM5_",
        "outputId": "7d7e266f-55aa-46a9-f748-fd2170eb2e45"
      },
      "execution_count": 65,
      "outputs": [
        {
          "output_type": "stream",
          "name": "stdout",
          "text": [
            "Epoch 1/100\n",
            "146/146 [==============================] - 6s 7ms/step - loss: 0.0166\n",
            "Epoch 2/100\n",
            "146/146 [==============================] - 1s 7ms/step - loss: 0.0097\n",
            "Epoch 3/100\n",
            "146/146 [==============================] - 1s 7ms/step - loss: 0.0084\n",
            "Epoch 4/100\n",
            "146/146 [==============================] - 1s 7ms/step - loss: 0.0076\n",
            "Epoch 5/100\n",
            "146/146 [==============================] - 1s 7ms/step - loss: 0.0072\n",
            "Epoch 6/100\n",
            "146/146 [==============================] - 1s 8ms/step - loss: 0.0069\n",
            "Epoch 7/100\n",
            "146/146 [==============================] - 1s 8ms/step - loss: 0.0069\n",
            "Epoch 8/100\n",
            "146/146 [==============================] - 1s 7ms/step - loss: 0.0066\n",
            "Epoch 9/100\n",
            "146/146 [==============================] - 1s 7ms/step - loss: 0.0066\n",
            "Epoch 10/100\n",
            "146/146 [==============================] - 1s 7ms/step - loss: 0.0067\n",
            "Epoch 11/100\n",
            "146/146 [==============================] - 1s 7ms/step - loss: 0.0064\n",
            "Epoch 12/100\n",
            "146/146 [==============================] - 1s 7ms/step - loss: 0.0064\n",
            "Epoch 13/100\n",
            "146/146 [==============================] - 1s 7ms/step - loss: 0.0062\n",
            "Epoch 14/100\n",
            "146/146 [==============================] - 1s 7ms/step - loss: 0.0062\n",
            "Epoch 15/100\n",
            "146/146 [==============================] - 1s 7ms/step - loss: 0.0061\n",
            "Epoch 16/100\n",
            "146/146 [==============================] - 1s 7ms/step - loss: 0.0064\n",
            "Epoch 17/100\n",
            "146/146 [==============================] - 1s 7ms/step - loss: 0.0061\n",
            "Epoch 18/100\n",
            "146/146 [==============================] - 1s 7ms/step - loss: 0.0062\n",
            "Epoch 19/100\n",
            "146/146 [==============================] - 1s 7ms/step - loss: 0.0060\n",
            "Epoch 20/100\n",
            "146/146 [==============================] - 1s 7ms/step - loss: 0.0059\n",
            "Epoch 21/100\n",
            "146/146 [==============================] - 1s 7ms/step - loss: 0.0062\n",
            "Epoch 22/100\n",
            "146/146 [==============================] - 1s 7ms/step - loss: 0.0064\n",
            "Epoch 23/100\n",
            "146/146 [==============================] - 1s 7ms/step - loss: 0.0062\n",
            "Epoch 24/100\n",
            "146/146 [==============================] - 1s 7ms/step - loss: 0.0061\n",
            "Epoch 25/100\n",
            "146/146 [==============================] - 1s 7ms/step - loss: 0.0060\n",
            "Epoch 26/100\n",
            "146/146 [==============================] - 1s 7ms/step - loss: 0.0060\n",
            "Epoch 27/100\n",
            "146/146 [==============================] - 1s 7ms/step - loss: 0.0060\n",
            "Epoch 28/100\n",
            "146/146 [==============================] - 1s 7ms/step - loss: 0.0059\n",
            "Epoch 29/100\n",
            "146/146 [==============================] - 1s 7ms/step - loss: 0.0059\n",
            "Epoch 30/100\n",
            "146/146 [==============================] - 1s 7ms/step - loss: 0.0060\n",
            "Epoch 31/100\n",
            "146/146 [==============================] - 1s 7ms/step - loss: 0.0059\n",
            "Epoch 32/100\n",
            "146/146 [==============================] - 1s 7ms/step - loss: 0.0061\n",
            "Epoch 33/100\n",
            "146/146 [==============================] - 1s 7ms/step - loss: 0.0059\n",
            "Epoch 34/100\n",
            "146/146 [==============================] - 1s 7ms/step - loss: 0.0058\n",
            "Epoch 35/100\n",
            "146/146 [==============================] - 1s 8ms/step - loss: 0.0058\n",
            "Epoch 36/100\n",
            "146/146 [==============================] - 1s 8ms/step - loss: 0.0059\n",
            "Epoch 37/100\n",
            "146/146 [==============================] - 1s 7ms/step - loss: 0.0058\n",
            "Epoch 38/100\n",
            "146/146 [==============================] - 1s 7ms/step - loss: 0.0060\n",
            "Epoch 39/100\n",
            "146/146 [==============================] - 1s 7ms/step - loss: 0.0059\n",
            "Epoch 40/100\n",
            "146/146 [==============================] - 1s 7ms/step - loss: 0.0056\n",
            "Epoch 41/100\n",
            "146/146 [==============================] - 1s 7ms/step - loss: 0.0058\n",
            "Epoch 42/100\n",
            "146/146 [==============================] - 1s 7ms/step - loss: 0.0057\n",
            "Epoch 43/100\n",
            "146/146 [==============================] - 1s 7ms/step - loss: 0.0058\n",
            "Epoch 44/100\n",
            "146/146 [==============================] - 1s 7ms/step - loss: 0.0059\n",
            "Epoch 45/100\n",
            "146/146 [==============================] - 1s 7ms/step - loss: 0.0057\n",
            "Epoch 46/100\n",
            "146/146 [==============================] - 1s 7ms/step - loss: 0.0059\n",
            "Epoch 47/100\n",
            "146/146 [==============================] - 1s 8ms/step - loss: 0.0057\n",
            "Epoch 48/100\n",
            "146/146 [==============================] - 1s 8ms/step - loss: 0.0056\n",
            "Epoch 49/100\n",
            "146/146 [==============================] - 1s 7ms/step - loss: 0.0059\n",
            "Epoch 50/100\n",
            "146/146 [==============================] - 1s 8ms/step - loss: 0.0057\n",
            "Epoch 51/100\n",
            "146/146 [==============================] - 1s 8ms/step - loss: 0.0055\n",
            "Epoch 52/100\n",
            "146/146 [==============================] - 1s 7ms/step - loss: 0.0058\n",
            "Epoch 53/100\n",
            "146/146 [==============================] - 1s 7ms/step - loss: 0.0057\n",
            "Epoch 54/100\n",
            "146/146 [==============================] - 1s 7ms/step - loss: 0.0053\n",
            "Epoch 55/100\n",
            "146/146 [==============================] - 1s 7ms/step - loss: 0.0057\n",
            "Epoch 56/100\n",
            "146/146 [==============================] - 1s 8ms/step - loss: 0.0055\n",
            "Epoch 57/100\n",
            "146/146 [==============================] - 1s 7ms/step - loss: 0.0057\n",
            "Epoch 58/100\n",
            "146/146 [==============================] - 1s 7ms/step - loss: 0.0056\n",
            "Epoch 59/100\n",
            "146/146 [==============================] - 1s 7ms/step - loss: 0.0055\n",
            "Epoch 60/100\n",
            "146/146 [==============================] - 1s 8ms/step - loss: 0.0055\n",
            "Epoch 61/100\n",
            "146/146 [==============================] - 1s 7ms/step - loss: 0.0055\n",
            "Epoch 62/100\n",
            "146/146 [==============================] - 1s 7ms/step - loss: 0.0054\n",
            "Epoch 63/100\n",
            "146/146 [==============================] - 1s 8ms/step - loss: 0.0055\n",
            "Epoch 64/100\n",
            "146/146 [==============================] - 1s 7ms/step - loss: 0.0056\n",
            "Epoch 65/100\n",
            "146/146 [==============================] - 1s 7ms/step - loss: 0.0055\n",
            "Epoch 66/100\n",
            "146/146 [==============================] - 1s 7ms/step - loss: 0.0055\n",
            "Epoch 67/100\n",
            "146/146 [==============================] - 1s 7ms/step - loss: 0.0057\n",
            "Epoch 68/100\n",
            "146/146 [==============================] - 1s 7ms/step - loss: 0.0055\n",
            "Epoch 69/100\n",
            "146/146 [==============================] - 1s 7ms/step - loss: 0.0056\n",
            "Epoch 70/100\n",
            "146/146 [==============================] - 1s 7ms/step - loss: 0.0055\n",
            "Epoch 71/100\n",
            "146/146 [==============================] - 1s 7ms/step - loss: 0.0055\n",
            "Epoch 72/100\n",
            "146/146 [==============================] - 1s 7ms/step - loss: 0.0053\n",
            "Epoch 73/100\n",
            "146/146 [==============================] - 1s 7ms/step - loss: 0.0056\n",
            "Epoch 74/100\n",
            "146/146 [==============================] - 1s 7ms/step - loss: 0.0055\n",
            "Epoch 75/100\n",
            "146/146 [==============================] - 1s 7ms/step - loss: 0.0055\n",
            "Epoch 76/100\n",
            "146/146 [==============================] - 1s 7ms/step - loss: 0.0053\n",
            "Epoch 77/100\n",
            "146/146 [==============================] - 1s 7ms/step - loss: 0.0053\n",
            "Epoch 78/100\n",
            "146/146 [==============================] - 1s 8ms/step - loss: 0.0053\n",
            "Epoch 79/100\n",
            "146/146 [==============================] - 1s 8ms/step - loss: 0.0052\n",
            "Epoch 80/100\n",
            "146/146 [==============================] - 1s 7ms/step - loss: 0.0057\n",
            "Epoch 81/100\n",
            "146/146 [==============================] - 1s 7ms/step - loss: 0.0053\n",
            "Epoch 82/100\n",
            "146/146 [==============================] - 1s 7ms/step - loss: 0.0053\n",
            "Epoch 83/100\n",
            "146/146 [==============================] - 1s 7ms/step - loss: 0.0054\n",
            "Epoch 84/100\n",
            "146/146 [==============================] - 1s 7ms/step - loss: 0.0052\n",
            "Epoch 85/100\n",
            "146/146 [==============================] - 1s 7ms/step - loss: 0.0054\n",
            "Epoch 86/100\n",
            "146/146 [==============================] - 1s 7ms/step - loss: 0.0056\n",
            "Epoch 87/100\n",
            "146/146 [==============================] - 1s 7ms/step - loss: 0.0053\n",
            "Epoch 88/100\n",
            "146/146 [==============================] - 1s 7ms/step - loss: 0.0053\n",
            "Epoch 89/100\n",
            "146/146 [==============================] - 1s 7ms/step - loss: 0.0050\n",
            "Epoch 90/100\n",
            "146/146 [==============================] - 1s 7ms/step - loss: 0.0052\n",
            "Epoch 91/100\n",
            "146/146 [==============================] - 1s 7ms/step - loss: 0.0053\n",
            "Epoch 92/100\n",
            "146/146 [==============================] - 1s 7ms/step - loss: 0.0054\n",
            "Epoch 93/100\n",
            "146/146 [==============================] - 1s 7ms/step - loss: 0.0054\n",
            "Epoch 94/100\n",
            "146/146 [==============================] - 1s 7ms/step - loss: 0.0053\n",
            "Epoch 95/100\n",
            "146/146 [==============================] - 1s 7ms/step - loss: 0.0052\n",
            "Epoch 96/100\n",
            "146/146 [==============================] - 1s 7ms/step - loss: 0.0053\n",
            "Epoch 97/100\n",
            "146/146 [==============================] - 1s 8ms/step - loss: 0.0054\n",
            "Epoch 98/100\n",
            "146/146 [==============================] - 1s 8ms/step - loss: 0.0054\n",
            "Epoch 99/100\n",
            "146/146 [==============================] - 1s 7ms/step - loss: 0.0053\n",
            "Epoch 100/100\n",
            "146/146 [==============================] - 1s 7ms/step - loss: 0.0050\n"
          ]
        },
        {
          "output_type": "execute_result",
          "data": {
            "text/plain": [
              "<keras.callbacks.History at 0x7f4b0f11b850>"
            ]
          },
          "metadata": {},
          "execution_count": 65
        }
      ]
    },
    {
      "cell_type": "code",
      "source": [
        "regressor2 = Sequential()\n",
        "regressor2.add(LSTM(units = 50, return_sequences = True, input_shape = (3,X_train_final_.shape[2])))\n",
        "regressor2.add(Dropout(0.2))\n",
        "\n",
        "regressor2.add(LSTM(units = 50, return_sequences = True))\n",
        "regressor2.add(Dropout(0.25))\n",
        "\n",
        "regressor2.add(LSTM(units = 50, return_sequences = True))\n",
        "regressor2.add(Dropout(0.25))\n",
        "\n",
        "regressor2.add(LSTM(units = 50))\n",
        "regressor2.add(Dropout(0.25))\n",
        "\n",
        "regressor2.add(Dense(units = 1))\n",
        "\n",
        "regressor2.compile(optimizer = 'adam', loss = 'mean_squared_error')\n",
        "\n",
        "regressor2.fit(X_train_final_, y_train_final, epochs = 100, batch_size = 32)"
      ],
      "metadata": {
        "colab": {
          "base_uri": "https://localhost:8080/"
        },
        "id": "mjihx--lPTOy",
        "outputId": "0ca199e3-6d53-41ea-b02d-432c0c5e8e55"
      },
      "execution_count": 66,
      "outputs": [
        {
          "output_type": "stream",
          "name": "stdout",
          "text": [
            "Epoch 1/100\n",
            "146/146 [==============================] - 6s 8ms/step - loss: 0.0140\n",
            "Epoch 2/100\n",
            "146/146 [==============================] - 1s 8ms/step - loss: 0.0086\n",
            "Epoch 3/100\n",
            "146/146 [==============================] - 1s 7ms/step - loss: 0.0073\n",
            "Epoch 4/100\n",
            "146/146 [==============================] - 1s 8ms/step - loss: 0.0068\n",
            "Epoch 5/100\n",
            "146/146 [==============================] - 1s 8ms/step - loss: 0.0065\n",
            "Epoch 6/100\n",
            "146/146 [==============================] - 1s 8ms/step - loss: 0.0063\n",
            "Epoch 7/100\n",
            "146/146 [==============================] - 1s 7ms/step - loss: 0.0059\n",
            "Epoch 8/100\n",
            "146/146 [==============================] - 1s 7ms/step - loss: 0.0059\n",
            "Epoch 9/100\n",
            "146/146 [==============================] - 1s 7ms/step - loss: 0.0058\n",
            "Epoch 10/100\n",
            "146/146 [==============================] - 1s 7ms/step - loss: 0.0059\n",
            "Epoch 11/100\n",
            "146/146 [==============================] - 1s 8ms/step - loss: 0.0056\n",
            "Epoch 12/100\n",
            "146/146 [==============================] - 1s 7ms/step - loss: 0.0056\n",
            "Epoch 13/100\n",
            "146/146 [==============================] - 1s 8ms/step - loss: 0.0054\n",
            "Epoch 14/100\n",
            "146/146 [==============================] - 1s 8ms/step - loss: 0.0053\n",
            "Epoch 15/100\n",
            "146/146 [==============================] - 1s 8ms/step - loss: 0.0054\n",
            "Epoch 16/100\n",
            "146/146 [==============================] - 1s 8ms/step - loss: 0.0055\n",
            "Epoch 17/100\n",
            "146/146 [==============================] - 1s 8ms/step - loss: 0.0052\n",
            "Epoch 18/100\n",
            "146/146 [==============================] - 1s 8ms/step - loss: 0.0053\n",
            "Epoch 19/100\n",
            "146/146 [==============================] - 1s 8ms/step - loss: 0.0052\n",
            "Epoch 20/100\n",
            "146/146 [==============================] - 1s 8ms/step - loss: 0.0052\n",
            "Epoch 21/100\n",
            "146/146 [==============================] - 1s 8ms/step - loss: 0.0052\n",
            "Epoch 22/100\n",
            "146/146 [==============================] - 1s 8ms/step - loss: 0.0052\n",
            "Epoch 23/100\n",
            "146/146 [==============================] - 1s 8ms/step - loss: 0.0052\n",
            "Epoch 24/100\n",
            "146/146 [==============================] - 1s 7ms/step - loss: 0.0053\n",
            "Epoch 25/100\n",
            "146/146 [==============================] - 1s 8ms/step - loss: 0.0051\n",
            "Epoch 26/100\n",
            "146/146 [==============================] - 1s 8ms/step - loss: 0.0052\n",
            "Epoch 27/100\n",
            "146/146 [==============================] - 1s 8ms/step - loss: 0.0051\n",
            "Epoch 28/100\n",
            "146/146 [==============================] - 1s 8ms/step - loss: 0.0051\n",
            "Epoch 29/100\n",
            "146/146 [==============================] - 1s 8ms/step - loss: 0.0051\n",
            "Epoch 30/100\n",
            "146/146 [==============================] - 1s 8ms/step - loss: 0.0050\n",
            "Epoch 31/100\n",
            "146/146 [==============================] - 1s 8ms/step - loss: 0.0051\n",
            "Epoch 32/100\n",
            "146/146 [==============================] - 1s 8ms/step - loss: 0.0051\n",
            "Epoch 33/100\n",
            "146/146 [==============================] - 1s 8ms/step - loss: 0.0050\n",
            "Epoch 34/100\n",
            "146/146 [==============================] - 1s 8ms/step - loss: 0.0050\n",
            "Epoch 35/100\n",
            "146/146 [==============================] - 1s 8ms/step - loss: 0.0051\n",
            "Epoch 36/100\n",
            "146/146 [==============================] - 1s 8ms/step - loss: 0.0049\n",
            "Epoch 37/100\n",
            "146/146 [==============================] - 1s 8ms/step - loss: 0.0049\n",
            "Epoch 38/100\n",
            "146/146 [==============================] - 1s 8ms/step - loss: 0.0050\n",
            "Epoch 39/100\n",
            "146/146 [==============================] - 1s 8ms/step - loss: 0.0051\n",
            "Epoch 40/100\n",
            "146/146 [==============================] - 1s 8ms/step - loss: 0.0049\n",
            "Epoch 41/100\n",
            "146/146 [==============================] - 1s 7ms/step - loss: 0.0050\n",
            "Epoch 42/100\n",
            "146/146 [==============================] - 1s 8ms/step - loss: 0.0049\n",
            "Epoch 43/100\n",
            "146/146 [==============================] - 1s 8ms/step - loss: 0.0049\n",
            "Epoch 44/100\n",
            "146/146 [==============================] - 1s 7ms/step - loss: 0.0049\n",
            "Epoch 45/100\n",
            "146/146 [==============================] - 1s 8ms/step - loss: 0.0050\n",
            "Epoch 46/100\n",
            "146/146 [==============================] - 1s 8ms/step - loss: 0.0048\n",
            "Epoch 47/100\n",
            "146/146 [==============================] - 1s 8ms/step - loss: 0.0050\n",
            "Epoch 48/100\n",
            "146/146 [==============================] - 1s 8ms/step - loss: 0.0048\n",
            "Epoch 49/100\n",
            "146/146 [==============================] - 1s 8ms/step - loss: 0.0050\n",
            "Epoch 50/100\n",
            "146/146 [==============================] - 1s 8ms/step - loss: 0.0048\n",
            "Epoch 51/100\n",
            "146/146 [==============================] - 1s 8ms/step - loss: 0.0049\n",
            "Epoch 52/100\n",
            "146/146 [==============================] - 1s 8ms/step - loss: 0.0046\n",
            "Epoch 53/100\n",
            "146/146 [==============================] - 1s 8ms/step - loss: 0.0048\n",
            "Epoch 54/100\n",
            "146/146 [==============================] - 1s 8ms/step - loss: 0.0047\n",
            "Epoch 55/100\n",
            "146/146 [==============================] - 1s 8ms/step - loss: 0.0046\n",
            "Epoch 56/100\n",
            "146/146 [==============================] - 1s 8ms/step - loss: 0.0048\n",
            "Epoch 57/100\n",
            "146/146 [==============================] - 1s 8ms/step - loss: 0.0048\n",
            "Epoch 58/100\n",
            "146/146 [==============================] - 1s 8ms/step - loss: 0.0046\n",
            "Epoch 59/100\n",
            "146/146 [==============================] - 1s 8ms/step - loss: 0.0048\n",
            "Epoch 60/100\n",
            "146/146 [==============================] - 1s 8ms/step - loss: 0.0048\n",
            "Epoch 61/100\n",
            "146/146 [==============================] - 1s 8ms/step - loss: 0.0048\n",
            "Epoch 62/100\n",
            "146/146 [==============================] - 1s 8ms/step - loss: 0.0047\n",
            "Epoch 63/100\n",
            "146/146 [==============================] - 1s 8ms/step - loss: 0.0047\n",
            "Epoch 64/100\n",
            "146/146 [==============================] - 1s 8ms/step - loss: 0.0046\n",
            "Epoch 65/100\n",
            "146/146 [==============================] - 1s 8ms/step - loss: 0.0047\n",
            "Epoch 66/100\n",
            "146/146 [==============================] - 1s 8ms/step - loss: 0.0048\n",
            "Epoch 67/100\n",
            "146/146 [==============================] - 1s 8ms/step - loss: 0.0047\n",
            "Epoch 68/100\n",
            "146/146 [==============================] - 1s 8ms/step - loss: 0.0047\n",
            "Epoch 69/100\n",
            "146/146 [==============================] - 1s 8ms/step - loss: 0.0046\n",
            "Epoch 70/100\n",
            "146/146 [==============================] - 1s 8ms/step - loss: 0.0048\n",
            "Epoch 71/100\n",
            "146/146 [==============================] - 1s 8ms/step - loss: 0.0046\n",
            "Epoch 72/100\n",
            "146/146 [==============================] - 1s 8ms/step - loss: 0.0047\n",
            "Epoch 73/100\n",
            "146/146 [==============================] - 1s 8ms/step - loss: 0.0047\n",
            "Epoch 74/100\n",
            "146/146 [==============================] - 1s 8ms/step - loss: 0.0046\n",
            "Epoch 75/100\n",
            "146/146 [==============================] - 1s 8ms/step - loss: 0.0046\n",
            "Epoch 76/100\n",
            "146/146 [==============================] - 1s 8ms/step - loss: 0.0046\n",
            "Epoch 77/100\n",
            "146/146 [==============================] - 1s 8ms/step - loss: 0.0046\n",
            "Epoch 78/100\n",
            "146/146 [==============================] - 1s 8ms/step - loss: 0.0046\n",
            "Epoch 79/100\n",
            "146/146 [==============================] - 1s 8ms/step - loss: 0.0045\n",
            "Epoch 80/100\n",
            "146/146 [==============================] - 1s 7ms/step - loss: 0.0045\n",
            "Epoch 81/100\n",
            "146/146 [==============================] - 1s 8ms/step - loss: 0.0046\n",
            "Epoch 82/100\n",
            "146/146 [==============================] - 1s 8ms/step - loss: 0.0047\n",
            "Epoch 83/100\n",
            "146/146 [==============================] - 1s 8ms/step - loss: 0.0046\n",
            "Epoch 84/100\n",
            "146/146 [==============================] - 1s 7ms/step - loss: 0.0046\n",
            "Epoch 85/100\n",
            "146/146 [==============================] - 1s 8ms/step - loss: 0.0046\n",
            "Epoch 86/100\n",
            "146/146 [==============================] - 1s 8ms/step - loss: 0.0046\n",
            "Epoch 87/100\n",
            "146/146 [==============================] - 1s 8ms/step - loss: 0.0046\n",
            "Epoch 88/100\n",
            "146/146 [==============================] - 1s 8ms/step - loss: 0.0046\n",
            "Epoch 89/100\n",
            "146/146 [==============================] - 1s 7ms/step - loss: 0.0045\n",
            "Epoch 90/100\n",
            "146/146 [==============================] - 1s 8ms/step - loss: 0.0044\n",
            "Epoch 91/100\n",
            "146/146 [==============================] - 1s 8ms/step - loss: 0.0046\n",
            "Epoch 92/100\n",
            "146/146 [==============================] - 1s 8ms/step - loss: 0.0045\n",
            "Epoch 93/100\n",
            "146/146 [==============================] - 1s 8ms/step - loss: 0.0043\n",
            "Epoch 94/100\n",
            "146/146 [==============================] - 1s 7ms/step - loss: 0.0045\n",
            "Epoch 95/100\n",
            "146/146 [==============================] - 1s 8ms/step - loss: 0.0046\n",
            "Epoch 96/100\n",
            "146/146 [==============================] - 1s 8ms/step - loss: 0.0045\n",
            "Epoch 97/100\n",
            "146/146 [==============================] - 1s 8ms/step - loss: 0.0046\n",
            "Epoch 98/100\n",
            "146/146 [==============================] - 1s 8ms/step - loss: 0.0045\n",
            "Epoch 99/100\n",
            "146/146 [==============================] - 1s 8ms/step - loss: 0.0046\n",
            "Epoch 100/100\n",
            "146/146 [==============================] - 1s 8ms/step - loss: 0.0044\n"
          ]
        },
        {
          "output_type": "execute_result",
          "data": {
            "text/plain": [
              "<keras.callbacks.History at 0x7f4aee3f5550>"
            ]
          },
          "metadata": {},
          "execution_count": 66
        }
      ]
    },
    {
      "cell_type": "code",
      "source": [
        "regressor3 = Sequential()\n",
        "regressor3.add(LSTM(units = 100, return_sequences = True, input_shape = (3,X_train_final_.shape[2])))\n",
        "regressor3.add(Dropout(0.2))\n",
        "\n",
        "regressor3.add(LSTM(units = 50, return_sequences = True))\n",
        "regressor3.add(Dropout(0.25))\n",
        "\n",
        "regressor3.add(LSTM(units = 25, return_sequences = True))\n",
        "regressor3.add(Dropout(0.25))\n",
        "\n",
        "regressor3.add(LSTM(units = 12))\n",
        "regressor3.add(Dropout(0.25))\n",
        "\n",
        "regressor3.add(Dense(units = 1))\n",
        "\n",
        "regressor3.compile(optimizer = 'adam', loss = 'mean_squared_error')\n",
        "\n",
        "regressor3.fit(X_train_final_, y_train_final, epochs = 100, batch_size = 32)"
      ],
      "metadata": {
        "colab": {
          "base_uri": "https://localhost:8080/"
        },
        "id": "sH_4f4WsPUc-",
        "outputId": "d376cf5f-0cd9-421b-fc33-50b78ba2eb49"
      },
      "execution_count": 67,
      "outputs": [
        {
          "output_type": "stream",
          "name": "stdout",
          "text": [
            "Epoch 1/100\n",
            "146/146 [==============================] - 6s 8ms/step - loss: 0.0143\n",
            "Epoch 2/100\n",
            "146/146 [==============================] - 1s 8ms/step - loss: 0.0088\n",
            "Epoch 3/100\n",
            "146/146 [==============================] - 1s 8ms/step - loss: 0.0076\n",
            "Epoch 4/100\n",
            "146/146 [==============================] - 1s 8ms/step - loss: 0.0071\n",
            "Epoch 5/100\n",
            "146/146 [==============================] - 1s 8ms/step - loss: 0.0068\n",
            "Epoch 6/100\n",
            "146/146 [==============================] - 1s 8ms/step - loss: 0.0066\n",
            "Epoch 7/100\n",
            "146/146 [==============================] - 1s 8ms/step - loss: 0.0062\n",
            "Epoch 8/100\n",
            "146/146 [==============================] - 1s 7ms/step - loss: 0.0062\n",
            "Epoch 9/100\n",
            "146/146 [==============================] - 1s 8ms/step - loss: 0.0062\n",
            "Epoch 10/100\n",
            "146/146 [==============================] - 1s 7ms/step - loss: 0.0061\n",
            "Epoch 11/100\n",
            "146/146 [==============================] - 1s 7ms/step - loss: 0.0059\n",
            "Epoch 12/100\n",
            "146/146 [==============================] - 1s 8ms/step - loss: 0.0059\n",
            "Epoch 13/100\n",
            "146/146 [==============================] - 1s 8ms/step - loss: 0.0060\n",
            "Epoch 14/100\n",
            "146/146 [==============================] - 1s 8ms/step - loss: 0.0057\n",
            "Epoch 15/100\n",
            "146/146 [==============================] - 1s 7ms/step - loss: 0.0060\n",
            "Epoch 16/100\n",
            "146/146 [==============================] - 1s 8ms/step - loss: 0.0058\n",
            "Epoch 17/100\n",
            "146/146 [==============================] - 1s 7ms/step - loss: 0.0057\n",
            "Epoch 18/100\n",
            "146/146 [==============================] - 1s 8ms/step - loss: 0.0057\n",
            "Epoch 19/100\n",
            "146/146 [==============================] - 1s 8ms/step - loss: 0.0056\n",
            "Epoch 20/100\n",
            "146/146 [==============================] - 1s 8ms/step - loss: 0.0058\n",
            "Epoch 21/100\n",
            "146/146 [==============================] - 1s 7ms/step - loss: 0.0057\n",
            "Epoch 22/100\n",
            "146/146 [==============================] - 1s 8ms/step - loss: 0.0057\n",
            "Epoch 23/100\n",
            "146/146 [==============================] - 1s 8ms/step - loss: 0.0057\n",
            "Epoch 24/100\n",
            "146/146 [==============================] - 1s 7ms/step - loss: 0.0055\n",
            "Epoch 25/100\n",
            "146/146 [==============================] - 1s 8ms/step - loss: 0.0056\n",
            "Epoch 26/100\n",
            "146/146 [==============================] - 1s 7ms/step - loss: 0.0055\n",
            "Epoch 27/100\n",
            "146/146 [==============================] - 1s 7ms/step - loss: 0.0055\n",
            "Epoch 28/100\n",
            "146/146 [==============================] - 1s 8ms/step - loss: 0.0054\n",
            "Epoch 29/100\n",
            "146/146 [==============================] - 1s 7ms/step - loss: 0.0055\n",
            "Epoch 30/100\n",
            "146/146 [==============================] - 1s 7ms/step - loss: 0.0056\n",
            "Epoch 31/100\n",
            "146/146 [==============================] - 1s 8ms/step - loss: 0.0055\n",
            "Epoch 32/100\n",
            "146/146 [==============================] - 1s 7ms/step - loss: 0.0054\n",
            "Epoch 33/100\n",
            "146/146 [==============================] - 1s 8ms/step - loss: 0.0053\n",
            "Epoch 34/100\n",
            "146/146 [==============================] - 1s 8ms/step - loss: 0.0055\n",
            "Epoch 35/100\n",
            "146/146 [==============================] - 1s 8ms/step - loss: 0.0054\n",
            "Epoch 36/100\n",
            "146/146 [==============================] - 1s 8ms/step - loss: 0.0054\n",
            "Epoch 37/100\n",
            "146/146 [==============================] - 1s 8ms/step - loss: 0.0055\n",
            "Epoch 38/100\n",
            "146/146 [==============================] - 1s 8ms/step - loss: 0.0053\n",
            "Epoch 39/100\n",
            "146/146 [==============================] - 1s 7ms/step - loss: 0.0053\n",
            "Epoch 40/100\n",
            "146/146 [==============================] - 1s 7ms/step - loss: 0.0053\n",
            "Epoch 41/100\n",
            "146/146 [==============================] - 1s 8ms/step - loss: 0.0054\n",
            "Epoch 42/100\n",
            "146/146 [==============================] - 1s 8ms/step - loss: 0.0054\n",
            "Epoch 43/100\n",
            "146/146 [==============================] - 1s 8ms/step - loss: 0.0053\n",
            "Epoch 44/100\n",
            "146/146 [==============================] - 1s 7ms/step - loss: 0.0052\n",
            "Epoch 45/100\n",
            "146/146 [==============================] - 1s 8ms/step - loss: 0.0053\n",
            "Epoch 46/100\n",
            "146/146 [==============================] - 1s 8ms/step - loss: 0.0056\n",
            "Epoch 47/100\n",
            "146/146 [==============================] - 1s 8ms/step - loss: 0.0053\n",
            "Epoch 48/100\n",
            "146/146 [==============================] - 1s 8ms/step - loss: 0.0053\n",
            "Epoch 49/100\n",
            "146/146 [==============================] - 1s 8ms/step - loss: 0.0051\n",
            "Epoch 50/100\n",
            "146/146 [==============================] - 1s 8ms/step - loss: 0.0052\n",
            "Epoch 51/100\n",
            "146/146 [==============================] - 1s 8ms/step - loss: 0.0053\n",
            "Epoch 52/100\n",
            "146/146 [==============================] - 1s 7ms/step - loss: 0.0053\n",
            "Epoch 53/100\n",
            "146/146 [==============================] - 1s 8ms/step - loss: 0.0053\n",
            "Epoch 54/100\n",
            "146/146 [==============================] - 1s 8ms/step - loss: 0.0052\n",
            "Epoch 55/100\n",
            "146/146 [==============================] - 1s 8ms/step - loss: 0.0052\n",
            "Epoch 56/100\n",
            "146/146 [==============================] - 1s 8ms/step - loss: 0.0052\n",
            "Epoch 57/100\n",
            "146/146 [==============================] - 1s 7ms/step - loss: 0.0051\n",
            "Epoch 58/100\n",
            "146/146 [==============================] - 1s 8ms/step - loss: 0.0052\n",
            "Epoch 59/100\n",
            "146/146 [==============================] - 1s 7ms/step - loss: 0.0052\n",
            "Epoch 60/100\n",
            "146/146 [==============================] - 1s 8ms/step - loss: 0.0051\n",
            "Epoch 61/100\n",
            "146/146 [==============================] - 1s 8ms/step - loss: 0.0053\n",
            "Epoch 62/100\n",
            "146/146 [==============================] - 1s 8ms/step - loss: 0.0053\n",
            "Epoch 63/100\n",
            "146/146 [==============================] - 1s 8ms/step - loss: 0.0051\n",
            "Epoch 64/100\n",
            "146/146 [==============================] - 1s 8ms/step - loss: 0.0051\n",
            "Epoch 65/100\n",
            "146/146 [==============================] - 1s 8ms/step - loss: 0.0052\n",
            "Epoch 66/100\n",
            "146/146 [==============================] - 1s 8ms/step - loss: 0.0054\n",
            "Epoch 67/100\n",
            "146/146 [==============================] - 1s 8ms/step - loss: 0.0052\n",
            "Epoch 68/100\n",
            "146/146 [==============================] - 1s 10ms/step - loss: 0.0051\n",
            "Epoch 69/100\n",
            "146/146 [==============================] - 2s 13ms/step - loss: 0.0050\n",
            "Epoch 70/100\n",
            "146/146 [==============================] - 2s 12ms/step - loss: 0.0053\n",
            "Epoch 71/100\n",
            "146/146 [==============================] - 1s 8ms/step - loss: 0.0051\n",
            "Epoch 72/100\n",
            "146/146 [==============================] - 1s 8ms/step - loss: 0.0052\n",
            "Epoch 73/100\n",
            "146/146 [==============================] - 1s 8ms/step - loss: 0.0051\n",
            "Epoch 74/100\n",
            "146/146 [==============================] - 1s 8ms/step - loss: 0.0053\n",
            "Epoch 75/100\n",
            "146/146 [==============================] - 1s 8ms/step - loss: 0.0052\n",
            "Epoch 76/100\n",
            "146/146 [==============================] - 1s 8ms/step - loss: 0.0051\n",
            "Epoch 77/100\n",
            "146/146 [==============================] - 1s 8ms/step - loss: 0.0052\n",
            "Epoch 78/100\n",
            "146/146 [==============================] - 1s 8ms/step - loss: 0.0048\n",
            "Epoch 79/100\n",
            "146/146 [==============================] - 1s 8ms/step - loss: 0.0051\n",
            "Epoch 80/100\n",
            "146/146 [==============================] - 1s 8ms/step - loss: 0.0051\n",
            "Epoch 81/100\n",
            "146/146 [==============================] - 1s 8ms/step - loss: 0.0051\n",
            "Epoch 82/100\n",
            "146/146 [==============================] - 1s 8ms/step - loss: 0.0051\n",
            "Epoch 83/100\n",
            "146/146 [==============================] - 1s 10ms/step - loss: 0.0052\n",
            "Epoch 84/100\n",
            "146/146 [==============================] - 1s 10ms/step - loss: 0.0048\n",
            "Epoch 85/100\n",
            "146/146 [==============================] - 1s 8ms/step - loss: 0.0050\n",
            "Epoch 86/100\n",
            "146/146 [==============================] - 2s 12ms/step - loss: 0.0050\n",
            "Epoch 87/100\n",
            "146/146 [==============================] - 2s 12ms/step - loss: 0.0049\n",
            "Epoch 88/100\n",
            "146/146 [==============================] - 1s 8ms/step - loss: 0.0049\n",
            "Epoch 89/100\n",
            "146/146 [==============================] - 1s 8ms/step - loss: 0.0049\n",
            "Epoch 90/100\n",
            "146/146 [==============================] - 1s 8ms/step - loss: 0.0048\n",
            "Epoch 91/100\n",
            "146/146 [==============================] - 1s 8ms/step - loss: 0.0049\n",
            "Epoch 92/100\n",
            "146/146 [==============================] - 1s 8ms/step - loss: 0.0051\n",
            "Epoch 93/100\n",
            "146/146 [==============================] - 1s 8ms/step - loss: 0.0049\n",
            "Epoch 94/100\n",
            "146/146 [==============================] - 1s 8ms/step - loss: 0.0049\n",
            "Epoch 95/100\n",
            "146/146 [==============================] - 1s 8ms/step - loss: 0.0048\n",
            "Epoch 96/100\n",
            "146/146 [==============================] - 1s 8ms/step - loss: 0.0048\n",
            "Epoch 97/100\n",
            "146/146 [==============================] - 1s 8ms/step - loss: 0.0049\n",
            "Epoch 98/100\n",
            "146/146 [==============================] - 1s 8ms/step - loss: 0.0050\n",
            "Epoch 99/100\n",
            "146/146 [==============================] - 1s 8ms/step - loss: 0.0048\n",
            "Epoch 100/100\n",
            "146/146 [==============================] - 1s 8ms/step - loss: 0.0049\n"
          ]
        },
        {
          "output_type": "execute_result",
          "data": {
            "text/plain": [
              "<keras.callbacks.History at 0x7f4ad6f3d1d0>"
            ]
          },
          "metadata": {},
          "execution_count": 67
        }
      ]
    },
    {
      "cell_type": "code",
      "source": [
        "y1=regressor1.predict(X_test_final_)\n",
        "y2=regressor2.predict(X_test_final_)\n",
        "y3=regressor3.predict(X_test_final_)"
      ],
      "metadata": {
        "id": "pF5CNW3gPyi1"
      },
      "execution_count": 68,
      "outputs": []
    },
    {
      "cell_type": "code",
      "source": [
        "from sklearn.metrics import mean_squared_error\n",
        "from math import sqrt"
      ],
      "metadata": {
        "id": "Sgn7dnUHe174"
      },
      "execution_count": 69,
      "outputs": []
    },
    {
      "cell_type": "code",
      "source": [
        "rmse_1 = sqrt(mean_squared_error(y1,y_test_final))\n",
        "rmse_2 = sqrt(mean_squared_error(y2,y_test_final))\n",
        "rmse_3 = sqrt(mean_squared_error(y3,y_test_final))"
      ],
      "metadata": {
        "id": "8Dyi5536e6uv"
      },
      "execution_count": 70,
      "outputs": []
    },
    {
      "cell_type": "code",
      "source": [
        "y=(y1+1.2*y2+1.5*y3)/3"
      ],
      "metadata": {
        "id": "dHf7coN_R_Z4"
      },
      "execution_count": 71,
      "outputs": []
    },
    {
      "cell_type": "code",
      "source": [
        "plt.scatter(y,y_test_final)"
      ],
      "metadata": {
        "colab": {
          "base_uri": "https://localhost:8080/",
          "height": 283
        },
        "id": "kqseh2xBSJCO",
        "outputId": "165a9054-f11f-4c12-f654-d5943d7e57dc"
      },
      "execution_count": 72,
      "outputs": [
        {
          "output_type": "execute_result",
          "data": {
            "text/plain": [
              "<matplotlib.collections.PathCollection at 0x7f4abaa57d90>"
            ]
          },
          "metadata": {},
          "execution_count": 72
        },
        {
          "output_type": "display_data",
          "data": {
            "text/plain": [
              "<Figure size 432x288 with 1 Axes>"
            ],
            "image/png": "[encoded data removed]"
          },
          "metadata": {
            "needs_background": "light"
          }
        }
      ]
    },
    {
      "cell_type": "code",
      "source": [
        "rmse=sqrt(mean_squared_error(y,y_test_final))"
      ],
      "metadata": {
        "id": "zbrls0DBgDLJ"
      },
      "execution_count": null,
      "outputs": []
    },
    {
      "cell_type": "code",
      "source": [
        "print(rmse_1)\n",
        "print(rmse_2)\n",
        "print(rmse_3)\n",
        "print(rmse)"
      ],
      "metadata": {
        "id": "BwUDJOE_gJfx"
      },
      "execution_count": null,
      "outputs": []
    }
  ]
}