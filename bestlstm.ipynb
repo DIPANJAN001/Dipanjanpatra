{
  "nbformat": 4,
  "nbformat_minor": 0,
  "metadata": {
    "colab": {
      "provenance": [],
      "authorship_tag": "ABX9TyPHE3hX8nr0+0+kBEzAUKvZ",
      "include_colab_link": true
    },
    "kernelspec": {
      "name": "python3",
      "display_name": "Python 3"
    },
    "language_info": {
      "name": "python"
    }
  },
  "cells": [
    {
      "cell_type": "markdown",
      "metadata": {
        "id": "view-in-github",
        "colab_type": "text"
      },
      "source": [
        "<a href=\"https://colab.research.google.com/github/DIPANJAN001/Dipanjanpatra/blob/master/bestlstm.ipynb\" target=\"_parent\"><img src=\"https://colab.research.google.com/assets/colab-badge.svg\" alt=\"Open In Colab\"/></a>"
      ]
    },
    {
      "cell_type": "code",
      "execution_count": null,
      "metadata": {
        "id": "BwwfC3B5wxy4"
      },
      "outputs": [],
      "source": [
        "def define_model_():\n",
        "\n",
        "\n",
        "  # firs\n",
        "  fe1_0 = LSTM(34, activation='relu',return_sequences = True)(inputs1)\n",
        "  fe1_1 = Dropout(0.3)(fe1_0)\n",
        "  #fe1_2 = LSTM(16, activation='relu',return_sequences = True)(fe1_1)\n",
        "  #fe1_3= Dropout(0.2)(fe1_2)\n",
        "  fe1_4=LSTM(12, activation='relu')(fe1_1)\n",
        "  out1_1=Dense(1, activation='linear')(fe1_4)\n",
        "\n",
        "\n",
        "\n",
        "  fe2_0 = LSTM(40, activation='relu',return_sequences = True)(inputs1)\n",
        "  fe2_1 = Dropout(0.4)(fe2_0)\n",
        "  #fe2_2 = LSTM(16, activation='relu',return_sequences = True)(fe2_1)\n",
        "  #fe2_3= Dropout(0.5)(fe2_2)\n",
        "  fe2_4=LSTM(32, activation='relu')(fe2_1)\n",
        "  out2_1=Dense(1, activation='linear')(fe2_4)\n",
        "\n",
        "  fe3_0 = LSTM(24, activation='relu',return_sequences = True)(inputs1)\n",
        "  fe3_1 = Dropout(0.6)(fe3_0)\n",
        "  #fe3_2 = LSTM(8, activation='relu',return_sequences = True)(fe3_1)\n",
        "  #fe3_3= Dropout(0.5)(fe3_2)\n",
        "  fe3_4=LSTM(16, activation='relu')(fe3_1)\n",
        "  out3_1=Dense(1, activation='relu')(fe3_4)\n",
        " \n",
        " \n",
        "\n",
        "  output = layers.average([ out1_1, out2_1, out2_1])\n",
        "  \n",
        "\n",
        "  model = Model(inputs=[inputs1], outputs=[output])\n",
        "  model.compile(optimizer='adam',loss='mean_squared_error',metrics=['mse'])\n",
        " \n",
        "  return model\n",
        "mdl=define_model_()\n",
        "history=mdl.fit(X_train, y_train, epochs = 200,validation_split=0.2,batch_size = 32)\n",
        "import matplotlib.pyplot as plt\n",
        "plt.plot(history.history['loss'], label='train')\n",
        "plt.plot(history.history['val_loss'], label='')\n",
        "plt.legend()\n",
        "plt.show()\n",
        "y=mdl.predict(X_test)\n",
        "plt.scatter(y,y_test)\n",
        "plt.show()\n",
        "df = pd.DataFrame()\n",
        "df['time']=[i for i in range(len(y))]\n",
        "df['Actual']=y_test\n",
        "df['Predicted']=y\n",
        "plt.plot(df['time'],df['Actual'])\n",
        "plt.plot(df['time'],df['Predicted'])\n",
        "plt.show()"
      ]
    }
  ]
}