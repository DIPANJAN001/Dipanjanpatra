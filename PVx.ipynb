{
  "nbformat": 4,
  "nbformat_minor": 0,
  "metadata": {
    "colab": {
      "provenance": [],
      "authorship_tag": "ABX9TyNV7yLS9aHcqccTb7q7+Rgx",
      "include_colab_link": true
    },
    "kernelspec": {
      "name": "python3",
      "display_name": "Python 3"
    },
    "language_info": {
      "name": "python"
    }
  },
  "cells": [
    {
      "cell_type": "markdown",
      "metadata": {
        "id": "view-in-github",
        "colab_type": "text"
      },
      "source": [
        "<a href=\"https://colab.research.google.com/github/DIPANJAN001/Dipanjanpatra/blob/master/PVx.ipynb\" target=\"_parent\"><img src=\"https://colab.research.google.com/assets/colab-badge.svg\" alt=\"Open In Colab\"/></a>"
      ]
    },
    {
      "cell_type": "code",
      "execution_count": 105,
      "metadata": {
        "colab": {
          "base_uri": "https://localhost:8080/"
        },
        "id": "B57RdFK_WG53",
        "outputId": "aeafcc1c-8056-4bdd-e074-a0ae95078518"
      },
      "outputs": [
        {
          "output_type": "stream",
          "name": "stdout",
          "text": [
            "Looking in indexes: https://pypi.org/simple, https://us-python.pkg.dev/colab-wheels/public/simple/\n",
            "Requirement already satisfied: Boruta in /usr/local/lib/python3.7/dist-packages (0.3)\n",
            "Requirement already satisfied: scipy>=0.17.0 in /usr/local/lib/python3.7/dist-packages (from Boruta) (1.7.3)\n",
            "Requirement already satisfied: scikit-learn>=0.17.1 in /usr/local/lib/python3.7/dist-packages (from Boruta) (1.0.2)\n",
            "Requirement already satisfied: numpy>=1.10.4 in /usr/local/lib/python3.7/dist-packages (from Boruta) (1.21.6)\n",
            "Requirement already satisfied: joblib>=0.11 in /usr/local/lib/python3.7/dist-packages (from scikit-learn>=0.17.1->Boruta) (1.2.0)\n",
            "Requirement already satisfied: threadpoolctl>=2.0.0 in /usr/local/lib/python3.7/dist-packages (from scikit-learn>=0.17.1->Boruta) (3.1.0)\n"
          ]
        }
      ],
      "source": [
        "import pandas as pd\n",
        "import numpy as np\n",
        "import matplotlib.pyplot as plt\n",
        "!pip install Boruta\n",
        "import pandas as pd\n",
        "import numpy as np\n",
        "from sklearn.ensemble import RandomForestRegressor\n",
        "from boruta import BorutaPy\n",
        "from sklearn.model_selection import train_test_split\n",
        "from sklearn.metrics import accuracy_score\n",
        "from keras.models import Sequential\n",
        "from keras.layers import Dense\n",
        "from keras.layers import LSTM\n",
        "from keras.layers import Dropout\n",
        "from keras.layers import concatenate\n",
        "from keras import Model\n",
        "from keras.layers import Input"
      ]
    },
    {
      "cell_type": "code",
      "source": [
        "df=pd.read_excel(\"/content/pv_04.xlsx\")\n",
        "weather_input1=df.drop('power_normed',axis=1)\n",
        "weather_input=weather_input1.drop('time_idx',axis=1)\n",
        "solpow=df['power_normed']"
      ],
      "metadata": {
        "id": "yppt8YsWW7Q-"
      },
      "execution_count": 106,
      "outputs": []
    },
    {
      "cell_type": "code",
      "source": [
        "rfc = RandomForestRegressor(random_state=1, n_estimators=1000, max_depth=5)\n",
        "boruta_selector = BorutaPy(rfc, n_estimators='auto', verbose=2, random_state=1)\n",
        "boruta_selector.fit(np.array(weather_input), np.array(solpow)) "
      ],
      "metadata": {
        "colab": {
          "base_uri": "https://localhost:8080/"
        },
        "id": "27rOaZCAXZ8a",
        "outputId": "2f6cd8d9-1108-42df-a470-9bbf53558a6d"
      },
      "execution_count": 107,
      "outputs": [
        {
          "output_type": "stream",
          "name": "stdout",
          "text": [
            "Iteration: \t1 / 100\n",
            "Confirmed: \t0\n",
            "Tentative: \t49\n",
            "Rejected: \t0\n",
            "Iteration: \t2 / 100\n",
            "Confirmed: \t0\n",
            "Tentative: \t49\n",
            "Rejected: \t0\n",
            "Iteration: \t3 / 100\n",
            "Confirmed: \t0\n",
            "Tentative: \t49\n",
            "Rejected: \t0\n",
            "Iteration: \t4 / 100\n",
            "Confirmed: \t0\n",
            "Tentative: \t49\n",
            "Rejected: \t0\n",
            "Iteration: \t5 / 100\n",
            "Confirmed: \t0\n",
            "Tentative: \t49\n",
            "Rejected: \t0\n",
            "Iteration: \t6 / 100\n",
            "Confirmed: \t0\n",
            "Tentative: \t49\n",
            "Rejected: \t0\n",
            "Iteration: \t7 / 100\n",
            "Confirmed: \t0\n",
            "Tentative: \t49\n",
            "Rejected: \t0\n",
            "Iteration: \t8 / 100\n",
            "Confirmed: \t9\n",
            "Tentative: \t17\n",
            "Rejected: \t23\n",
            "Iteration: \t9 / 100\n",
            "Confirmed: \t9\n",
            "Tentative: \t17\n",
            "Rejected: \t23\n",
            "Iteration: \t10 / 100\n",
            "Confirmed: \t9\n",
            "Tentative: \t17\n",
            "Rejected: \t23\n",
            "Iteration: \t11 / 100\n",
            "Confirmed: \t9\n",
            "Tentative: \t17\n",
            "Rejected: \t23\n",
            "Iteration: \t12 / 100\n",
            "Confirmed: \t10\n",
            "Tentative: \t16\n",
            "Rejected: \t23\n",
            "Iteration: \t13 / 100\n",
            "Confirmed: \t10\n",
            "Tentative: \t16\n",
            "Rejected: \t23\n",
            "Iteration: \t14 / 100\n",
            "Confirmed: \t10\n",
            "Tentative: \t16\n",
            "Rejected: \t23\n",
            "Iteration: \t15 / 100\n",
            "Confirmed: \t10\n",
            "Tentative: \t16\n",
            "Rejected: \t23\n",
            "Iteration: \t16 / 100\n",
            "Confirmed: \t11\n",
            "Tentative: \t15\n",
            "Rejected: \t23\n",
            "Iteration: \t17 / 100\n",
            "Confirmed: \t11\n",
            "Tentative: \t15\n",
            "Rejected: \t23\n",
            "Iteration: \t18 / 100\n",
            "Confirmed: \t11\n",
            "Tentative: \t15\n",
            "Rejected: \t23\n",
            "Iteration: \t19 / 100\n",
            "Confirmed: \t12\n",
            "Tentative: \t14\n",
            "Rejected: \t23\n",
            "Iteration: \t20 / 100\n",
            "Confirmed: \t12\n",
            "Tentative: \t14\n",
            "Rejected: \t23\n",
            "Iteration: \t21 / 100\n",
            "Confirmed: \t12\n",
            "Tentative: \t14\n",
            "Rejected: \t23\n",
            "Iteration: \t22 / 100\n",
            "Confirmed: \t14\n",
            "Tentative: \t12\n",
            "Rejected: \t23\n",
            "Iteration: \t23 / 100\n",
            "Confirmed: \t14\n",
            "Tentative: \t12\n",
            "Rejected: \t23\n",
            "Iteration: \t24 / 100\n",
            "Confirmed: \t14\n",
            "Tentative: \t12\n",
            "Rejected: \t23\n",
            "Iteration: \t25 / 100\n",
            "Confirmed: \t14\n",
            "Tentative: \t12\n",
            "Rejected: \t23\n",
            "Iteration: \t26 / 100\n",
            "Confirmed: \t15\n",
            "Tentative: \t10\n",
            "Rejected: \t24\n",
            "Iteration: \t27 / 100\n",
            "Confirmed: \t15\n",
            "Tentative: \t10\n",
            "Rejected: \t24\n",
            "Iteration: \t28 / 100\n",
            "Confirmed: \t15\n",
            "Tentative: \t10\n",
            "Rejected: \t24\n",
            "Iteration: \t29 / 100\n",
            "Confirmed: \t15\n",
            "Tentative: \t10\n",
            "Rejected: \t24\n",
            "Iteration: \t30 / 100\n",
            "Confirmed: \t15\n",
            "Tentative: \t10\n",
            "Rejected: \t24\n",
            "Iteration: \t31 / 100\n",
            "Confirmed: \t15\n",
            "Tentative: \t10\n",
            "Rejected: \t24\n",
            "Iteration: \t32 / 100\n",
            "Confirmed: \t15\n",
            "Tentative: \t10\n",
            "Rejected: \t24\n",
            "Iteration: \t33 / 100\n",
            "Confirmed: \t15\n",
            "Tentative: \t10\n",
            "Rejected: \t24\n",
            "Iteration: \t34 / 100\n",
            "Confirmed: \t16\n",
            "Tentative: \t9\n",
            "Rejected: \t24\n",
            "Iteration: \t35 / 100\n",
            "Confirmed: \t16\n",
            "Tentative: \t9\n",
            "Rejected: \t24\n",
            "Iteration: \t36 / 100\n",
            "Confirmed: \t16\n",
            "Tentative: \t9\n",
            "Rejected: \t24\n",
            "Iteration: \t37 / 100\n",
            "Confirmed: \t16\n",
            "Tentative: \t9\n",
            "Rejected: \t24\n",
            "Iteration: \t38 / 100\n",
            "Confirmed: \t16\n",
            "Tentative: \t9\n",
            "Rejected: \t24\n",
            "Iteration: \t39 / 100\n",
            "Confirmed: \t16\n",
            "Tentative: \t9\n",
            "Rejected: \t24\n",
            "Iteration: \t40 / 100\n",
            "Confirmed: \t16\n",
            "Tentative: \t9\n",
            "Rejected: \t24\n",
            "Iteration: \t41 / 100\n",
            "Confirmed: \t16\n",
            "Tentative: \t9\n",
            "Rejected: \t24\n",
            "Iteration: \t42 / 100\n",
            "Confirmed: \t16\n",
            "Tentative: \t9\n",
            "Rejected: \t24\n",
            "Iteration: \t43 / 100\n",
            "Confirmed: \t16\n",
            "Tentative: \t9\n",
            "Rejected: \t24\n",
            "Iteration: \t44 / 100\n",
            "Confirmed: \t16\n",
            "Tentative: \t9\n",
            "Rejected: \t24\n",
            "Iteration: \t45 / 100\n",
            "Confirmed: \t16\n",
            "Tentative: \t9\n",
            "Rejected: \t24\n",
            "Iteration: \t46 / 100\n",
            "Confirmed: \t16\n",
            "Tentative: \t9\n",
            "Rejected: \t24\n",
            "Iteration: \t47 / 100\n",
            "Confirmed: \t16\n",
            "Tentative: \t9\n",
            "Rejected: \t24\n",
            "Iteration: \t48 / 100\n",
            "Confirmed: \t16\n",
            "Tentative: \t9\n",
            "Rejected: \t24\n",
            "Iteration: \t49 / 100\n",
            "Confirmed: \t16\n",
            "Tentative: \t9\n",
            "Rejected: \t24\n",
            "Iteration: \t50 / 100\n",
            "Confirmed: \t16\n",
            "Tentative: \t9\n",
            "Rejected: \t24\n",
            "Iteration: \t51 / 100\n",
            "Confirmed: \t16\n",
            "Tentative: \t9\n",
            "Rejected: \t24\n",
            "Iteration: \t52 / 100\n",
            "Confirmed: \t16\n",
            "Tentative: \t9\n",
            "Rejected: \t24\n",
            "Iteration: \t53 / 100\n",
            "Confirmed: \t16\n",
            "Tentative: \t9\n",
            "Rejected: \t24\n",
            "Iteration: \t54 / 100\n",
            "Confirmed: \t16\n",
            "Tentative: \t9\n",
            "Rejected: \t24\n",
            "Iteration: \t55 / 100\n",
            "Confirmed: \t16\n",
            "Tentative: \t9\n",
            "Rejected: \t24\n",
            "Iteration: \t56 / 100\n",
            "Confirmed: \t16\n",
            "Tentative: \t9\n",
            "Rejected: \t24\n",
            "Iteration: \t57 / 100\n",
            "Confirmed: \t16\n",
            "Tentative: \t9\n",
            "Rejected: \t24\n",
            "Iteration: \t58 / 100\n",
            "Confirmed: \t16\n",
            "Tentative: \t9\n",
            "Rejected: \t24\n",
            "Iteration: \t59 / 100\n",
            "Confirmed: \t16\n",
            "Tentative: \t9\n",
            "Rejected: \t24\n",
            "Iteration: \t60 / 100\n",
            "Confirmed: \t16\n",
            "Tentative: \t9\n",
            "Rejected: \t24\n",
            "Iteration: \t61 / 100\n",
            "Confirmed: \t16\n",
            "Tentative: \t9\n",
            "Rejected: \t24\n",
            "Iteration: \t62 / 100\n",
            "Confirmed: \t18\n",
            "Tentative: \t7\n",
            "Rejected: \t24\n",
            "Iteration: \t63 / 100\n",
            "Confirmed: \t18\n",
            "Tentative: \t7\n",
            "Rejected: \t24\n",
            "Iteration: \t64 / 100\n",
            "Confirmed: \t18\n",
            "Tentative: \t7\n",
            "Rejected: \t24\n",
            "Iteration: \t65 / 100\n",
            "Confirmed: \t18\n",
            "Tentative: \t7\n",
            "Rejected: \t24\n",
            "Iteration: \t66 / 100\n",
            "Confirmed: \t18\n",
            "Tentative: \t7\n",
            "Rejected: \t24\n",
            "Iteration: \t67 / 100\n",
            "Confirmed: \t18\n",
            "Tentative: \t7\n",
            "Rejected: \t24\n",
            "Iteration: \t68 / 100\n",
            "Confirmed: \t18\n",
            "Tentative: \t7\n",
            "Rejected: \t24\n",
            "Iteration: \t69 / 100\n",
            "Confirmed: \t18\n",
            "Tentative: \t7\n",
            "Rejected: \t24\n",
            "Iteration: \t70 / 100\n",
            "Confirmed: \t18\n",
            "Tentative: \t7\n",
            "Rejected: \t24\n",
            "Iteration: \t71 / 100\n",
            "Confirmed: \t18\n",
            "Tentative: \t7\n",
            "Rejected: \t24\n",
            "Iteration: \t72 / 100\n",
            "Confirmed: \t18\n",
            "Tentative: \t7\n",
            "Rejected: \t24\n",
            "Iteration: \t73 / 100\n",
            "Confirmed: \t18\n",
            "Tentative: \t7\n",
            "Rejected: \t24\n",
            "Iteration: \t74 / 100\n",
            "Confirmed: \t18\n",
            "Tentative: \t7\n",
            "Rejected: \t24\n",
            "Iteration: \t75 / 100\n",
            "Confirmed: \t18\n",
            "Tentative: \t7\n",
            "Rejected: \t24\n",
            "Iteration: \t76 / 100\n",
            "Confirmed: \t18\n",
            "Tentative: \t7\n",
            "Rejected: \t24\n",
            "Iteration: \t77 / 100\n",
            "Confirmed: \t18\n",
            "Tentative: \t7\n",
            "Rejected: \t24\n",
            "Iteration: \t78 / 100\n",
            "Confirmed: \t18\n",
            "Tentative: \t7\n",
            "Rejected: \t24\n",
            "Iteration: \t79 / 100\n",
            "Confirmed: \t18\n",
            "Tentative: \t7\n",
            "Rejected: \t24\n",
            "Iteration: \t80 / 100\n",
            "Confirmed: \t18\n",
            "Tentative: \t7\n",
            "Rejected: \t24\n",
            "Iteration: \t81 / 100\n",
            "Confirmed: \t18\n",
            "Tentative: \t7\n",
            "Rejected: \t24\n",
            "Iteration: \t82 / 100\n",
            "Confirmed: \t18\n",
            "Tentative: \t7\n",
            "Rejected: \t24\n",
            "Iteration: \t83 / 100\n",
            "Confirmed: \t18\n",
            "Tentative: \t7\n",
            "Rejected: \t24\n",
            "Iteration: \t84 / 100\n",
            "Confirmed: \t18\n",
            "Tentative: \t7\n",
            "Rejected: \t24\n",
            "Iteration: \t85 / 100\n",
            "Confirmed: \t18\n",
            "Tentative: \t7\n",
            "Rejected: \t24\n",
            "Iteration: \t86 / 100\n",
            "Confirmed: \t18\n",
            "Tentative: \t7\n",
            "Rejected: \t24\n",
            "Iteration: \t87 / 100\n",
            "Confirmed: \t18\n",
            "Tentative: \t7\n",
            "Rejected: \t24\n",
            "Iteration: \t88 / 100\n",
            "Confirmed: \t18\n",
            "Tentative: \t7\n",
            "Rejected: \t24\n",
            "Iteration: \t89 / 100\n",
            "Confirmed: \t18\n",
            "Tentative: \t7\n",
            "Rejected: \t24\n",
            "Iteration: \t90 / 100\n",
            "Confirmed: \t18\n",
            "Tentative: \t7\n",
            "Rejected: \t24\n",
            "Iteration: \t91 / 100\n",
            "Confirmed: \t18\n",
            "Tentative: \t7\n",
            "Rejected: \t24\n",
            "Iteration: \t92 / 100\n",
            "Confirmed: \t18\n",
            "Tentative: \t7\n",
            "Rejected: \t24\n",
            "Iteration: \t93 / 100\n",
            "Confirmed: \t18\n",
            "Tentative: \t7\n",
            "Rejected: \t24\n",
            "Iteration: \t94 / 100\n",
            "Confirmed: \t18\n",
            "Tentative: \t7\n",
            "Rejected: \t24\n",
            "Iteration: \t95 / 100\n",
            "Confirmed: \t18\n",
            "Tentative: \t7\n",
            "Rejected: \t24\n",
            "Iteration: \t96 / 100\n",
            "Confirmed: \t18\n",
            "Tentative: \t7\n",
            "Rejected: \t24\n",
            "Iteration: \t97 / 100\n",
            "Confirmed: \t18\n",
            "Tentative: \t7\n",
            "Rejected: \t24\n",
            "Iteration: \t98 / 100\n",
            "Confirmed: \t18\n",
            "Tentative: \t7\n",
            "Rejected: \t24\n",
            "Iteration: \t99 / 100\n",
            "Confirmed: \t18\n",
            "Tentative: \t7\n",
            "Rejected: \t24\n",
            "\n",
            "\n",
            "BorutaPy finished running.\n",
            "\n",
            "Iteration: \t100 / 100\n",
            "Confirmed: \t18\n",
            "Tentative: \t2\n",
            "Rejected: \t24\n"
          ]
        },
        {
          "output_type": "execute_result",
          "data": {
            "text/plain": [
              "BorutaPy(estimator=RandomForestRegressor(max_depth=5, n_estimators=141,\n",
              "                                         random_state=RandomState(MT19937) at 0x7F85BB7E9490),\n",
              "         n_estimators='auto',\n",
              "         random_state=RandomState(MT19937) at 0x7F85BB7E9490, verbose=2)"
            ]
          },
          "metadata": {},
          "execution_count": 107
        }
      ]
    },
    {
      "cell_type": "code",
      "source": [
        "def lstm_data_transform(x_data, y_data, num_steps):\n",
        "    \"\"\" Changes data to the format for LSTM training \n",
        "for sliding window approach \"\"\"\n",
        "    # Prepare the list for the transformed data\n",
        "    X, y = list(), list()\n",
        "    # Loop of the entire data set\n",
        "    for i in range(x_data.shape[0]):\n",
        "        # compute a new (sliding window) index\n",
        "        end_ix = i + num_steps\n",
        "        # if index is larger than the size of the dataset, we stop\n",
        "        if end_ix >= x_data.shape[0]:\n",
        "            break\n",
        "        # Get a sequence of data for x\n",
        "        seq_X = x_data[i:end_ix]\n",
        "        # Get only the last element of the sequency for y\n",
        "        seq_y = y_data[end_ix]\n",
        "        # Append the list with sequencies\n",
        "        X.append(seq_X)\n",
        "        y.append(seq_y)\n",
        "    # Make final arrays\n",
        "    x_array = np.array(X)\n",
        "    y_array = np.array(y)\n",
        "    return x_array, y_array"
      ],
      "metadata": {
        "id": "8haqeUkUXmPK"
      },
      "execution_count": 108,
      "outputs": []
    },
    {
      "cell_type": "code",
      "source": [
        "X_important_train = boruta_selector.transform(np.array(weather_input))\n",
        "num_steps = 3\n",
        "# training set\n",
        "(x_transformed_train,\n",
        " y_transformed_train) = lstm_data_transform(X_important_train,solpow , num_steps=num_steps)\n",
        "assert x_transformed_train.shape[0] == y_transformed_train.shape[0]\n",
        "from sklearn.model_selection import train_test_split\n",
        "X_train, X_test, y_train, y_test = train_test_split(x_transformed_train,y_transformed_train,test_size=0.4, random_state=42,shuffle=False)\n",
        "#X_train_,X_val,y_train_,y_val=train_test_split(X_train,y_train,test_size=0.2, random_state=42,shuffle=False)"
      ],
      "metadata": {
        "id": "fR8k9YUoXp3T"
      },
      "execution_count": 109,
      "outputs": []
    },
    {
      "cell_type": "code",
      "source": [
        "inputs1 = Input(shape=(X_train.shape[1],X_train.shape[2]))"
      ],
      "metadata": {
        "id": "qNg60ZpBYKpq"
      },
      "execution_count": 110,
      "outputs": []
    },
    {
      "cell_type": "code",
      "source": [
        "from keras.layers import Bidirectional\n",
        "from keras import layers"
      ],
      "metadata": {
        "id": "4_CBuAx_cITk"
      },
      "execution_count": 111,
      "outputs": []
    },
    {
      "cell_type": "code",
      "source": [
        "def get_model1(): \n",
        "    #inputs1 = Input(shape=(X_train.shape[1],X_train.shape[2]))\n",
        "    fe1_0 = Bidirectional(LSTM(32, activation='relu',return_sequences = True))(inputs1)#32\n",
        "    fe1_1 = Dropout(0.2)(fe1_0)\n",
        "    fe1_2 = Bidirectional(LSTM(16, activation='relu',return_sequences = True))(fe1_1)#16\n",
        "    fe1_3= Dropout(0.2)(fe1_2)\n",
        "    fe1_4=Bidirectional(LSTM(8, activation='relu'))(fe1_3)#8\n",
        "    out1_1=Dense(1, activation='linear')(fe1_4)\n",
        "    return Model(inputs1, out1_1)\n",
        "def get_model2(): \n",
        "    #inputs1 = Input(shape=(X_train.shape[1],X_train.shape[2]))\n",
        "    fe2_0 = Bidirectional(LSTM(16, activation='relu',return_sequences = True))(inputs1)#16,16,8\n",
        "    fe2_1 = Dropout(0.5)(fe2_0)\n",
        "    fe2_2 = Bidirectional(LSTM(16, activation='relu',return_sequences = True))(fe2_1)\n",
        "    fe2_3= Dropout(0.5)(fe2_2)\n",
        "    fe2_4=Bidirectional(LSTM(8, activation='relu'))(fe2_3)\n",
        "    out2_1=Dense(1, activation='linear')(fe2_4)\n",
        "    return Model(inputs1, out2_1)\n",
        "def get_model3(): \n",
        "    #inputs1 = Input(shape=(X_train.shape[1],X_train.shape[2]))\n",
        "    fe3_0 = Bidirectional(LSTM(16, activation='relu',return_sequences = True))(inputs1)#16,8,8\n",
        "    fe3_1 = Dropout(0.5)(fe3_0)\n",
        "    fe3_2 = Bidirectional(LSTM(8, activation='relu',return_sequences = True))(fe3_1)\n",
        "    fe3_3= Dropout(0.5)(fe3_2)\n",
        "    fe3_4=Bidirectional(LSTM(8, activation='relu'))(fe3_3)\n",
        "    out3_1=Dense(1, activation='linear')(fe3_4)\n",
        "    return Model(inputs1, out3_1)\n",
        "model1 = get_model1() \n",
        "model2 = get_model2() \n",
        "model3 = get_model3()\n",
        "y1 = model1(inputs1) \n",
        "y2 = model2(inputs1) \n",
        "y3 = model3(inputs1)\n",
        "outputs = layers.average([y1, y2, y3]) \n",
        "ensemble_model = Model(inputs=inputs1, outputs=outputs)\n",
        "ensemble_model.compile(optimizer='Adam',loss='mean_squared_error',metrics=['RootMeanSquaredError'])\n",
        "history=ensemble_model.fit(X_train, y_train, epochs = 200, batch_size = 64)"
      ],
      "metadata": {
        "colab": {
          "base_uri": "https://localhost:8080/"
        },
        "id": "goWTvO-lb73P",
        "outputId": "d8054d0f-ca43-4b77-8719-10e3854b9156"
      },
      "execution_count": null,
      "outputs": [
        {
          "output_type": "stream",
          "name": "stdout",
          "text": [
            "Epoch 1/200\n",
            "57/57 [==============================] - 30s 29ms/step - loss: 0.0217 - root_mean_squared_error: 0.1473\n",
            "Epoch 2/200\n",
            "57/57 [==============================] - 2s 32ms/step - loss: 0.0131 - root_mean_squared_error: 0.1145\n",
            "Epoch 3/200\n",
            "57/57 [==============================] - 2s 33ms/step - loss: 0.0075 - root_mean_squared_error: 0.0867\n",
            "Epoch 4/200\n",
            "57/57 [==============================] - 2s 31ms/step - loss: 0.0055 - root_mean_squared_error: 0.0740\n",
            "Epoch 5/200\n",
            "57/57 [==============================] - 2s 31ms/step - loss: 0.0050 - root_mean_squared_error: 0.0709\n",
            "Epoch 6/200\n",
            "57/57 [==============================] - 2s 32ms/step - loss: 0.0045 - root_mean_squared_error: 0.0669\n",
            "Epoch 7/200\n",
            "57/57 [==============================] - 2s 29ms/step - loss: 0.0041 - root_mean_squared_error: 0.0640\n",
            "Epoch 8/200\n",
            "57/57 [==============================] - 2s 31ms/step - loss: 0.0038 - root_mean_squared_error: 0.0618\n",
            "Epoch 9/200\n",
            "57/57 [==============================] - 2s 29ms/step - loss: 0.0037 - root_mean_squared_error: 0.0611\n",
            "Epoch 10/200\n",
            "57/57 [==============================] - 2s 33ms/step - loss: 0.0035 - root_mean_squared_error: 0.0596\n",
            "Epoch 11/200\n",
            "57/57 [==============================] - 2s 30ms/step - loss: 0.0033 - root_mean_squared_error: 0.0578\n",
            "Epoch 12/200\n",
            "57/57 [==============================] - 2s 29ms/step - loss: 0.0030 - root_mean_squared_error: 0.0549\n",
            "Epoch 13/200\n",
            "57/57 [==============================] - 3s 49ms/step - loss: 0.0032 - root_mean_squared_error: 0.0568\n",
            "Epoch 14/200\n",
            "57/57 [==============================] - 2s 36ms/step - loss: 0.0033 - root_mean_squared_error: 0.0575\n",
            "Epoch 15/200\n",
            "57/57 [==============================] - 2s 34ms/step - loss: 0.0030 - root_mean_squared_error: 0.0547\n",
            "Epoch 16/200\n",
            "57/57 [==============================] - 2s 34ms/step - loss: 0.0030 - root_mean_squared_error: 0.0549\n",
            "Epoch 17/200\n",
            "57/57 [==============================] - 2s 33ms/step - loss: 0.0031 - root_mean_squared_error: 0.0552\n",
            "Epoch 18/200\n",
            "57/57 [==============================] - 2s 29ms/step - loss: 0.0028 - root_mean_squared_error: 0.0533\n",
            "Epoch 19/200\n",
            "57/57 [==============================] - 2s 29ms/step - loss: 0.0028 - root_mean_squared_error: 0.0531\n",
            "Epoch 20/200\n",
            "57/57 [==============================] - 2s 32ms/step - loss: 0.0029 - root_mean_squared_error: 0.0539\n",
            "Epoch 21/200\n",
            "57/57 [==============================] - 2s 32ms/step - loss: 0.0028 - root_mean_squared_error: 0.0527\n",
            "Epoch 22/200\n",
            "57/57 [==============================] - 2s 31ms/step - loss: 0.0027 - root_mean_squared_error: 0.0521\n",
            "Epoch 23/200\n",
            "57/57 [==============================] - 2s 30ms/step - loss: 0.0027 - root_mean_squared_error: 0.0521\n",
            "Epoch 24/200\n",
            "57/57 [==============================] - 2s 34ms/step - loss: 0.0025 - root_mean_squared_error: 0.0504\n",
            "Epoch 25/200\n",
            "57/57 [==============================] - 2s 34ms/step - loss: 0.0027 - root_mean_squared_error: 0.0519\n",
            "Epoch 26/200\n",
            "57/57 [==============================] - 2s 34ms/step - loss: 0.0026 - root_mean_squared_error: 0.0506\n",
            "Epoch 27/200\n",
            "57/57 [==============================] - 2s 34ms/step - loss: 0.0024 - root_mean_squared_error: 0.0492\n",
            "Epoch 28/200\n",
            "57/57 [==============================] - 2s 31ms/step - loss: 0.0027 - root_mean_squared_error: 0.0519\n",
            "Epoch 29/200\n",
            "57/57 [==============================] - 2s 31ms/step - loss: 0.0025 - root_mean_squared_error: 0.0505\n",
            "Epoch 30/200\n",
            "57/57 [==============================] - 2s 31ms/step - loss: 0.0025 - root_mean_squared_error: 0.0499\n",
            "Epoch 31/200\n",
            "57/57 [==============================] - 2s 36ms/step - loss: 0.0024 - root_mean_squared_error: 0.0494\n",
            "Epoch 32/200\n",
            "57/57 [==============================] - 2s 35ms/step - loss: 0.0024 - root_mean_squared_error: 0.0494\n",
            "Epoch 33/200\n",
            "57/57 [==============================] - 2s 31ms/step - loss: 0.0025 - root_mean_squared_error: 0.0501\n",
            "Epoch 34/200\n",
            "57/57 [==============================] - 2s 31ms/step - loss: 0.0025 - root_mean_squared_error: 0.0495\n",
            "Epoch 35/200\n",
            "57/57 [==============================] - 2s 32ms/step - loss: 0.0025 - root_mean_squared_error: 0.0501\n",
            "Epoch 36/200\n",
            "57/57 [==============================] - 2s 32ms/step - loss: 0.0025 - root_mean_squared_error: 0.0498\n",
            "Epoch 37/200\n",
            "57/57 [==============================] - 2s 31ms/step - loss: 0.0025 - root_mean_squared_error: 0.0498\n",
            "Epoch 38/200\n",
            "57/57 [==============================] - 2s 32ms/step - loss: 0.0024 - root_mean_squared_error: 0.0493\n",
            "Epoch 39/200\n",
            "57/57 [==============================] - 2s 35ms/step - loss: 0.0025 - root_mean_squared_error: 0.0501\n",
            "Epoch 40/200\n",
            "57/57 [==============================] - 2s 29ms/step - loss: 0.0024 - root_mean_squared_error: 0.0489\n",
            "Epoch 41/200\n",
            "57/57 [==============================] - 2s 32ms/step - loss: 0.0023 - root_mean_squared_error: 0.0476\n",
            "Epoch 42/200\n",
            "57/57 [==============================] - 2s 30ms/step - loss: 0.0023 - root_mean_squared_error: 0.0481\n",
            "Epoch 43/200\n",
            "57/57 [==============================] - 2s 32ms/step - loss: 0.0023 - root_mean_squared_error: 0.0482\n",
            "Epoch 44/200\n",
            "57/57 [==============================] - 2s 34ms/step - loss: 0.0022 - root_mean_squared_error: 0.0473\n",
            "Epoch 45/200\n",
            "57/57 [==============================] - 2s 30ms/step - loss: 0.0025 - root_mean_squared_error: 0.0495\n",
            "Epoch 46/200\n",
            "57/57 [==============================] - 2s 33ms/step - loss: 0.0023 - root_mean_squared_error: 0.0482\n",
            "Epoch 47/200\n",
            "57/57 [==============================] - 2s 34ms/step - loss: 0.0022 - root_mean_squared_error: 0.0472\n",
            "Epoch 48/200\n",
            "57/57 [==============================] - 2s 35ms/step - loss: 0.0023 - root_mean_squared_error: 0.0475\n",
            "Epoch 49/200\n",
            "57/57 [==============================] - 2s 31ms/step - loss: 0.0022 - root_mean_squared_error: 0.0470\n",
            "Epoch 50/200\n",
            "57/57 [==============================] - 2s 29ms/step - loss: 0.0023 - root_mean_squared_error: 0.0475\n",
            "Epoch 51/200\n",
            "57/57 [==============================] - 2s 29ms/step - loss: 0.0023 - root_mean_squared_error: 0.0475\n",
            "Epoch 52/200\n",
            "57/57 [==============================] - 2s 29ms/step - loss: 0.0021 - root_mean_squared_error: 0.0463\n",
            "Epoch 53/200\n",
            "57/57 [==============================] - 2s 35ms/step - loss: 0.0022 - root_mean_squared_error: 0.0473\n",
            "Epoch 54/200\n",
            "57/57 [==============================] - 2s 33ms/step - loss: 0.0022 - root_mean_squared_error: 0.0468\n",
            "Epoch 55/200\n",
            "57/57 [==============================] - 2s 31ms/step - loss: 0.0022 - root_mean_squared_error: 0.0467\n",
            "Epoch 56/200\n",
            "57/57 [==============================] - 2s 34ms/step - loss: 0.0021 - root_mean_squared_error: 0.0462\n",
            "Epoch 57/200\n",
            "57/57 [==============================] - 2s 32ms/step - loss: 0.0024 - root_mean_squared_error: 0.0488\n",
            "Epoch 58/200\n",
            "57/57 [==============================] - 2s 34ms/step - loss: 0.0022 - root_mean_squared_error: 0.0465\n",
            "Epoch 59/200\n",
            "57/57 [==============================] - 2s 31ms/step - loss: 0.0022 - root_mean_squared_error: 0.0469\n",
            "Epoch 60/200\n",
            "57/57 [==============================] - 2s 30ms/step - loss: 0.0023 - root_mean_squared_error: 0.0481\n",
            "Epoch 61/200\n",
            "57/57 [==============================] - 2s 29ms/step - loss: 0.0022 - root_mean_squared_error: 0.0464\n",
            "Epoch 62/200\n",
            "57/57 [==============================] - 2s 30ms/step - loss: 0.0020 - root_mean_squared_error: 0.0452\n",
            "Epoch 63/200\n",
            "57/57 [==============================] - 2s 31ms/step - loss: 0.0022 - root_mean_squared_error: 0.0465\n",
            "Epoch 64/200\n",
            "57/57 [==============================] - 2s 30ms/step - loss: 0.0021 - root_mean_squared_error: 0.0459\n",
            "Epoch 65/200\n",
            "57/57 [==============================] - 2s 29ms/step - loss: 0.0021 - root_mean_squared_error: 0.0459\n",
            "Epoch 66/200\n",
            "57/57 [==============================] - 2s 29ms/step - loss: 0.0020 - root_mean_squared_error: 0.0451\n",
            "Epoch 67/200\n",
            "57/57 [==============================] - 2s 32ms/step - loss: 0.0021 - root_mean_squared_error: 0.0460\n",
            "Epoch 68/200\n",
            "57/57 [==============================] - 2s 32ms/step - loss: 0.0020 - root_mean_squared_error: 0.0447\n",
            "Epoch 69/200\n",
            "57/57 [==============================] - 2s 29ms/step - loss: 0.0020 - root_mean_squared_error: 0.0453\n",
            "Epoch 70/200\n",
            "57/57 [==============================] - 2s 30ms/step - loss: 0.0021 - root_mean_squared_error: 0.0458\n",
            "Epoch 71/200\n",
            "57/57 [==============================] - 2s 32ms/step - loss: 0.0020 - root_mean_squared_error: 0.0451\n",
            "Epoch 72/200\n",
            "57/57 [==============================] - 2s 30ms/step - loss: 0.0020 - root_mean_squared_error: 0.0451\n",
            "Epoch 73/200\n",
            " 1/57 [..............................] - ETA: 1s - loss: 0.0016 - root_mean_squared_error: 0.0405"
          ]
        }
      ]
    },
    {
      "cell_type": "code",
      "source": [
        "y_en_=ensemble_model.predict(X_test)\n",
        "plt.scatter(y_en_,y_test)\n",
        "plt.show()"
      ],
      "metadata": {
        "colab": {
          "base_uri": "https://localhost:8080/",
          "height": 1000
        },
        "id": "Rqm5Zz_nWILI",
        "outputId": "9d0c6bc2-4c7c-46e4-ea79-01e886ea42fb"
      },
      "execution_count": 159,
      "outputs": [
        {
          "output_type": "error",
          "ename": "InvalidArgumentError",
          "evalue": "ignored",
          "traceback": [
            "\u001b[0;31m---------------------------------------------------------------------------\u001b[0m",
            "\u001b[0;31mInvalidArgumentError\u001b[0m                      Traceback (most recent call last)",
            "\u001b[0;32m<ipython-input-159-b1b4c4de4843>\u001b[0m in \u001b[0;36m<module>\u001b[0;34m\u001b[0m\n\u001b[0;32m----> 1\u001b[0;31m \u001b[0my_en_\u001b[0m\u001b[0;34m=\u001b[0m\u001b[0mensemble_model\u001b[0m\u001b[0;34m.\u001b[0m\u001b[0mpredict\u001b[0m\u001b[0;34m(\u001b[0m\u001b[0mX_test\u001b[0m\u001b[0;34m)\u001b[0m\u001b[0;34m\u001b[0m\u001b[0;34m\u001b[0m\u001b[0m\n\u001b[0m\u001b[1;32m      2\u001b[0m \u001b[0mplt\u001b[0m\u001b[0;34m.\u001b[0m\u001b[0mscatter\u001b[0m\u001b[0;34m(\u001b[0m\u001b[0my_en_\u001b[0m\u001b[0;34m,\u001b[0m\u001b[0my_test\u001b[0m\u001b[0;34m)\u001b[0m\u001b[0;34m\u001b[0m\u001b[0;34m\u001b[0m\u001b[0m\n\u001b[1;32m      3\u001b[0m \u001b[0mplt\u001b[0m\u001b[0;34m.\u001b[0m\u001b[0mshow\u001b[0m\u001b[0;34m(\u001b[0m\u001b[0;34m)\u001b[0m\u001b[0;34m\u001b[0m\u001b[0;34m\u001b[0m\u001b[0m\n",
            "\u001b[0;32m/usr/local/lib/python3.7/dist-packages/keras/utils/traceback_utils.py\u001b[0m in \u001b[0;36merror_handler\u001b[0;34m(*args, **kwargs)\u001b[0m\n\u001b[1;32m     65\u001b[0m     \u001b[0;32mexcept\u001b[0m \u001b[0mException\u001b[0m \u001b[0;32mas\u001b[0m \u001b[0me\u001b[0m\u001b[0;34m:\u001b[0m  \u001b[0;31m# pylint: disable=broad-except\u001b[0m\u001b[0;34m\u001b[0m\u001b[0;34m\u001b[0m\u001b[0m\n\u001b[1;32m     66\u001b[0m       \u001b[0mfiltered_tb\u001b[0m \u001b[0;34m=\u001b[0m \u001b[0m_process_traceback_frames\u001b[0m\u001b[0;34m(\u001b[0m\u001b[0me\u001b[0m\u001b[0;34m.\u001b[0m\u001b[0m__traceback__\u001b[0m\u001b[0;34m)\u001b[0m\u001b[0;34m\u001b[0m\u001b[0;34m\u001b[0m\u001b[0m\n\u001b[0;32m---> 67\u001b[0;31m       \u001b[0;32mraise\u001b[0m \u001b[0me\u001b[0m\u001b[0;34m.\u001b[0m\u001b[0mwith_traceback\u001b[0m\u001b[0;34m(\u001b[0m\u001b[0mfiltered_tb\u001b[0m\u001b[0;34m)\u001b[0m \u001b[0;32mfrom\u001b[0m \u001b[0;32mNone\u001b[0m\u001b[0;34m\u001b[0m\u001b[0;34m\u001b[0m\u001b[0m\n\u001b[0m\u001b[1;32m     68\u001b[0m     \u001b[0;32mfinally\u001b[0m\u001b[0;34m:\u001b[0m\u001b[0;34m\u001b[0m\u001b[0;34m\u001b[0m\u001b[0m\n\u001b[1;32m     69\u001b[0m       \u001b[0;32mdel\u001b[0m \u001b[0mfiltered_tb\u001b[0m\u001b[0;34m\u001b[0m\u001b[0;34m\u001b[0m\u001b[0m\n",
            "\u001b[0;32m/usr/local/lib/python3.7/dist-packages/tensorflow/python/eager/execute.py\u001b[0m in \u001b[0;36mquick_execute\u001b[0;34m(op_name, num_outputs, inputs, attrs, ctx, name)\u001b[0m\n\u001b[1;32m     53\u001b[0m     \u001b[0mctx\u001b[0m\u001b[0;34m.\u001b[0m\u001b[0mensure_initialized\u001b[0m\u001b[0;34m(\u001b[0m\u001b[0;34m)\u001b[0m\u001b[0;34m\u001b[0m\u001b[0;34m\u001b[0m\u001b[0m\n\u001b[1;32m     54\u001b[0m     tensors = pywrap_tfe.TFE_Py_Execute(ctx._handle, device_name, op_name,\n\u001b[0;32m---> 55\u001b[0;31m                                         inputs, attrs, num_outputs)\n\u001b[0m\u001b[1;32m     56\u001b[0m   \u001b[0;32mexcept\u001b[0m \u001b[0mcore\u001b[0m\u001b[0;34m.\u001b[0m\u001b[0m_NotOkStatusException\u001b[0m \u001b[0;32mas\u001b[0m \u001b[0me\u001b[0m\u001b[0;34m:\u001b[0m\u001b[0;34m\u001b[0m\u001b[0;34m\u001b[0m\u001b[0m\n\u001b[1;32m     57\u001b[0m     \u001b[0;32mif\u001b[0m \u001b[0mname\u001b[0m \u001b[0;32mis\u001b[0m \u001b[0;32mnot\u001b[0m \u001b[0;32mNone\u001b[0m\u001b[0;34m:\u001b[0m\u001b[0;34m\u001b[0m\u001b[0;34m\u001b[0m\u001b[0m\n",
            "\u001b[0;31mInvalidArgumentError\u001b[0m: Graph execution error:\n\nDetected at node 'model_80/model_77/bidirectional_139/forward_lstm_139/TensorArrayUnstack/TensorListFromTensor' defined at (most recent call last):\n    File \"/usr/lib/python3.7/runpy.py\", line 193, in _run_module_as_main\n      \"__main__\", mod_spec)\n    File \"/usr/lib/python3.7/runpy.py\", line 85, in _run_code\n      exec(code, run_globals)\n    File \"/usr/local/lib/python3.7/dist-packages/ipykernel_launcher.py\", line 16, in <module>\n      app.launch_new_instance()\n    File \"/usr/local/lib/python3.7/dist-packages/traitlets/config/application.py\", line 846, in launch_instance\n      app.start()\n    File \"/usr/local/lib/python3.7/dist-packages/ipykernel/kernelapp.py\", line 612, in start\n      self.io_loop.start()\n    File \"/usr/local/lib/python3.7/dist-packages/tornado/platform/asyncio.py\", line 149, in start\n      self.asyncio_loop.run_forever()\n    File \"/usr/lib/python3.7/asyncio/base_events.py\", line 541, in run_forever\n      self._run_once()\n    File \"/usr/lib/python3.7/asyncio/base_events.py\", line 1786, in _run_once\n      handle._run()\n    File \"/usr/lib/python3.7/asyncio/events.py\", line 88, in _run\n      self._context.run(self._callback, *self._args)\n    File \"/usr/local/lib/python3.7/dist-packages/tornado/ioloop.py\", line 690, in <lambda>\n      lambda f: self._run_callback(functools.partial(callback, future))\n    File \"/usr/local/lib/python3.7/dist-packages/tornado/ioloop.py\", line 743, in _run_callback\n      ret = callback()\n    File \"/usr/local/lib/python3.7/dist-packages/tornado/gen.py\", line 787, in inner\n      self.run()\n    File \"/usr/local/lib/python3.7/dist-packages/tornado/gen.py\", line 748, in run\n      yielded = self.gen.send(value)\n    File \"/usr/local/lib/python3.7/dist-packages/ipykernel/kernelbase.py\", line 365, in process_one\n      yield gen.maybe_future(dispatch(*args))\n    File \"/usr/local/lib/python3.7/dist-packages/tornado/gen.py\", line 209, in wrapper\n      yielded = next(result)\n    File \"/usr/local/lib/python3.7/dist-packages/ipykernel/kernelbase.py\", line 268, in dispatch_shell\n      yield gen.maybe_future(handler(stream, idents, msg))\n    File \"/usr/local/lib/python3.7/dist-packages/tornado/gen.py\", line 209, in wrapper\n      yielded = next(result)\n    File \"/usr/local/lib/python3.7/dist-packages/ipykernel/kernelbase.py\", line 545, in execute_request\n      user_expressions, allow_stdin,\n    File \"/usr/local/lib/python3.7/dist-packages/tornado/gen.py\", line 209, in wrapper\n      yielded = next(result)\n    File \"/usr/local/lib/python3.7/dist-packages/ipykernel/ipkernel.py\", line 306, in do_execute\n      res = shell.run_cell(code, store_history=store_history, silent=silent)\n    File \"/usr/local/lib/python3.7/dist-packages/ipykernel/zmqshell.py\", line 536, in run_cell\n      return super(ZMQInteractiveShell, self).run_cell(*args, **kwargs)\n    File \"/usr/local/lib/python3.7/dist-packages/IPython/core/interactiveshell.py\", line 2855, in run_cell\n      raw_cell, store_history, silent, shell_futures)\n    File \"/usr/local/lib/python3.7/dist-packages/IPython/core/interactiveshell.py\", line 2881, in _run_cell\n      return runner(coro)\n    File \"/usr/local/lib/python3.7/dist-packages/IPython/core/async_helpers.py\", line 68, in _pseudo_sync_runner\n      coro.send(None)\n    File \"/usr/local/lib/python3.7/dist-packages/IPython/core/interactiveshell.py\", line 3058, in run_cell_async\n      interactivity=interactivity, compiler=compiler, result=result)\n    File \"/usr/local/lib/python3.7/dist-packages/IPython/core/interactiveshell.py\", line 3249, in run_ast_nodes\n      if (await self.run_code(code, result,  async_=asy)):\n    File \"/usr/local/lib/python3.7/dist-packages/IPython/core/interactiveshell.py\", line 3326, in run_code\n      exec(code_obj, self.user_global_ns, self.user_ns)\n    File \"<ipython-input-159-b1b4c4de4843>\", line 1, in <module>\n      y_en_=ensemble_model.predict(X_test)\n    File \"/usr/local/lib/python3.7/dist-packages/keras/utils/traceback_utils.py\", line 64, in error_handler\n      return fn(*args, **kwargs)\n    File \"/usr/local/lib/python3.7/dist-packages/keras/engine/training.py\", line 2033, in predict\n      tmp_batch_outputs = self.predict_function(iterator)\n    File \"/usr/local/lib/python3.7/dist-packages/keras/engine/training.py\", line 1845, in predict_function\n      return step_function(self, iterator)\n    File \"/usr/local/lib/python3.7/dist-packages/keras/engine/training.py\", line 1834, in step_function\n      outputs = model.distribute_strategy.run(run_step, args=(data,))\n    File \"/usr/local/lib/python3.7/dist-packages/keras/engine/training.py\", line 1823, in run_step\n      outputs = model.predict_step(data)\n    File \"/usr/local/lib/python3.7/dist-packages/keras/engine/training.py\", line 1791, in predict_step\n      return self(x, training=False)\n    File \"/usr/local/lib/python3.7/dist-packages/keras/utils/traceback_utils.py\", line 64, in error_handler\n      return fn(*args, **kwargs)\n    File \"/usr/local/lib/python3.7/dist-packages/keras/engine/training.py\", line 490, in __call__\n      return super().__call__(*args, **kwargs)\n    File \"/usr/local/lib/python3.7/dist-packages/keras/utils/traceback_utils.py\", line 64, in error_handler\n      return fn(*args, **kwargs)\n    File \"/usr/local/lib/python3.7/dist-packages/keras/engine/base_layer.py\", line 1014, in __call__\n      outputs = call_fn(inputs, *args, **kwargs)\n    File \"/usr/local/lib/python3.7/dist-packages/keras/utils/traceback_utils.py\", line 92, in error_handler\n      return fn(*args, **kwargs)\n    File \"/usr/local/lib/python3.7/dist-packages/keras/engine/functional.py\", line 459, in call\n      inputs, training=training, mask=mask)\n    File \"/usr/local/lib/python3.7/dist-packages/keras/engine/functional.py\", line 596, in _run_internal_graph\n      outputs = node.layer(*args, **kwargs)\n    File \"/usr/local/lib/python3.7/dist-packages/keras/utils/traceback_utils.py\", line 64, in error_handler\n      return fn(*args, **kwargs)\n    File \"/usr/local/lib/python3.7/dist-packages/keras/engine/training.py\", line 490, in __call__\n      return super().__call__(*args, **kwargs)\n    File \"/usr/local/lib/python3.7/dist-packages/keras/utils/traceback_utils.py\", line 64, in error_handler\n      return fn(*args, **kwargs)\n    File \"/usr/local/lib/python3.7/dist-packages/keras/engine/base_layer.py\", line 1014, in __call__\n      outputs = call_fn(inputs, *args, **kwargs)\n    File \"/usr/local/lib/python3.7/dist-packages/keras/utils/traceback_utils.py\", line 92, in error_handler\n      return fn(*args, **kwargs)\n    File \"/usr/local/lib/python3.7/dist-packages/keras/engine/functional.py\", line 459, in call\n      inputs, training=training, mask=mask)\n    File \"/usr/local/lib/python3.7/dist-packages/keras/engine/functional.py\", line 596, in _run_internal_graph\n      outputs = node.layer(*args, **kwargs)\n    File \"/usr/local/lib/python3.7/dist-packages/keras/layers/rnn/bidirectional.py\", line 249, in __call__\n      return super(Bidirectional, self).__call__(inputs, **kwargs)\n    File \"/usr/local/lib/python3.7/dist-packages/keras/utils/traceback_utils.py\", line 64, in error_handler\n      return fn(*args, **kwargs)\n    File \"/usr/local/lib/python3.7/dist-packages/keras/engine/base_layer.py\", line 1014, in __call__\n      outputs = call_fn(inputs, *args, **kwargs)\n    File \"/usr/local/lib/python3.7/dist-packages/keras/utils/traceback_utils.py\", line 92, in error_handler\n      return fn(*args, **kwargs)\n    File \"/usr/local/lib/python3.7/dist-packages/keras/layers/rnn/bidirectional.py\", line 365, in call\n      initial_state=forward_state, **kwargs)\n    File \"/usr/local/lib/python3.7/dist-packages/keras/layers/rnn/base_rnn.py\", line 515, in __call__\n      return super(RNN, self).__call__(inputs, **kwargs)\n    File \"/usr/local/lib/python3.7/dist-packages/keras/utils/traceback_utils.py\", line 64, in error_handler\n      return fn(*args, **kwargs)\n    File \"/usr/local/lib/python3.7/dist-packages/keras/engine/base_layer.py\", line 1014, in __call__\n      outputs = call_fn(inputs, *args, **kwargs)\n    File \"/usr/local/lib/python3.7/dist-packages/keras/utils/traceback_utils.py\", line 92, in error_handler\n      return fn(*args, **kwargs)\n    File \"/usr/local/lib/python3.7/dist-packages/keras/layers/rnn/lstm.py\", line 585, in call\n      return_all_outputs=self.return_sequences)\n    File \"/usr/local/lib/python3.7/dist-packages/keras/backend.py\", line 4615, in rnn\n      for ta, input_ in zip(input_ta, flatted_inputs))\n    File \"/usr/local/lib/python3.7/dist-packages/keras/backend.py\", line 4615, in <genexpr>\n      for ta, input_ in zip(input_ta, flatted_inputs))\nNode: 'model_80/model_77/bidirectional_139/forward_lstm_139/TensorArrayUnstack/TensorListFromTensor'\nSpecified a list with shape [?,20] from a tensor with shape [32,18]\n\t [[{{node model_80/model_77/bidirectional_139/forward_lstm_139/TensorArrayUnstack/TensorListFromTensor}}]] [Op:__inference_predict_function_1335382]"
          ]
        }
      ]
    },
    {
      "cell_type": "code",
      "source": [
        "df_ = pd.DataFrame()\n",
        "df_['time']=[i for i in range(len(y_en_))]\n",
        "df_['Actual']=y_test\n",
        "df_['Predicted']=y_en_"
      ],
      "metadata": {
        "id": "h0GhbT99ThD-"
      },
      "execution_count": null,
      "outputs": []
    },
    {
      "cell_type": "code",
      "source": [
        "import matplotlib.pyplot as plt\n",
        "plt.plot(df_['time'],df_['Actual'])\n",
        "plt.plot(df_['time'],df_['Predicted'])\n",
        "plt.show()"
      ],
      "metadata": {
        "colab": {
          "base_uri": "https://localhost:8080/",
          "height": 265
        },
        "id": "57wAZEiMTnjj",
        "outputId": "e70b93c9-83cf-4b34-f8a3-78144f15bdc6"
      },
      "execution_count": 151,
      "outputs": [
        {
          "output_type": "display_data",
          "data": {
            "text/plain": [
              "<Figure size 432x288 with 1 Axes>"
            ],
            "image/png": "[encoded data removed]"
          },
          "metadata": {
            "needs_background": "light"
          }
        }
      ]
    },
    {
      "cell_type": "code",
      "source": [
        "def get_model1(): \n",
        "    #inputs1 = Input(shape=(X_train.shape[1],X_train.shape[2]))\n",
        "    fe1_0 = Bidirectional(LSTM(32, activation='relu',return_sequences = True))(inputs1)#32\n",
        "    fe1_1 = Dropout(0.2)(fe1_0)\n",
        "    fe1_2 = Bidirectional(LSTM(16, activation='relu',return_sequences = True))(fe1_1)#16\n",
        "    fe1_3= Dropout(0.2)(fe1_2)\n",
        "    fe1_4=Bidirectional(LSTM(8, activation='relu'))(fe1_3)#8\n",
        "    out1_1=Dense(1, activation='linear')(fe1_4)\n",
        "    return Model(inputs1, out1_1)\n",
        "def get_model2(): \n",
        "    #inputs1 = Input(shape=(X_train.shape[1],X_train.shape[2]))\n",
        "    fe2_0 = Bidirectional(LSTM(16, activation='relu',return_sequences = True))(inputs1)#16,16,8\n",
        "    fe2_1 = Dropout(0.5)(fe2_0)\n",
        "    fe2_2 = Bidirectional(LSTM(16, activation='relu',return_sequences = True))(fe2_1)\n",
        "    fe2_3= Dropout(0.5)(fe2_2)\n",
        "    fe2_4=Bidirectional(LSTM(8, activation='relu'))(fe2_3)\n",
        "    out2_1=Dense(1, activation='linear')(fe2_4)\n",
        "    return Model(inputs1, out2_1)\n",
        "def get_model3(): \n",
        "    #inputs1 = Input(shape=(X_train.shape[1],X_train.shape[2]))\n",
        "    fe3_0 = Bidirectional(LSTM(16, activation='relu',return_sequences = True))(inputs1)#16,8,8\n",
        "    fe3_1 = Dropout(0.5)(fe3_0)\n",
        "    fe3_2 = Bidirectional(LSTM(8, activation='relu',return_sequences = True))(fe3_1)\n",
        "    fe3_3= Dropout(0.5)(fe3_2)\n",
        "    fe3_4=Bidirectional(LSTM(8, activation='relu'))(fe3_3)\n",
        "    out3_1=Dense(1, activation='linear')(fe3_4)\n",
        "    return Model(inputs1, out3_1)\n",
        "model1 = get_model1() \n",
        "#model2 = get_model2() \n",
        "model3 = get_model3()\n",
        "y1 = model1(inputs1) \n",
        "#y2 = model2(inputs1) \n",
        "y3 = model3(inputs1)\n",
        "outputs = layers.average([y1,y3]) \n",
        "ensemble_model = Model(inputs=inputs1, outputs=outputs)\n",
        "ensemble_model.compile(optimizer='Adam',loss='mean_squared_error',metrics=['RootMeanSquaredError'])\n",
        "history=ensemble_model.fit(X_train, y_train, epochs = 200, batch_size = 64)"
      ],
      "metadata": {
        "id": "HEeIP_LxCPTQ"
      },
      "execution_count": null,
      "outputs": []
    },
    {
      "cell_type": "code",
      "source": [
        "y_en=ensemble_model.predict(X_test)\n",
        "plt.scatter(y_en,y_test)\n",
        "plt.show()"
      ],
      "metadata": {
        "id": "XyrZrQE6ddFu"
      },
      "execution_count": null,
      "outputs": []
    },
    {
      "cell_type": "code",
      "source": [
        "plt.plot(history.history['loss'], label='train')\n",
        "plt.legend()\n",
        "plt.show()"
      ],
      "metadata": {
        "id": "6m8nXs7WfiLn"
      },
      "execution_count": null,
      "outputs": []
    },
    {
      "cell_type": "code",
      "source": [
        "df_ = pd.DataFrame()"
      ],
      "metadata": {
        "id": "pY6nosyciZbk"
      },
      "execution_count": null,
      "outputs": []
    },
    {
      "cell_type": "code",
      "source": [
        "df_['time']=[i for i in range(len(y_en))]\n",
        "df_['Actual']=y_test\n",
        "df_['Predicted']=y_en\n",
        "df_['Predicted1']=y_en_"
      ],
      "metadata": {
        "id": "bJn8ecqBiRTo"
      },
      "execution_count": 152,
      "outputs": []
    },
    {
      "cell_type": "code",
      "source": [
        "df__= pd.DataFrame()"
      ],
      "metadata": {
        "id": "5OtXkrFnXlrQ"
      },
      "execution_count": null,
      "outputs": []
    },
    {
      "cell_type": "code",
      "source": [
        "df__['time']=[i for i in range(len(solpow))]\n",
        "df__['power']=solpow"
      ],
      "metadata": {
        "id": "d-toXgEQXcTh"
      },
      "execution_count": null,
      "outputs": []
    },
    {
      "cell_type": "code",
      "source": [
        "from plotly.subplots import make_subplots\n",
        "import plotly.graph_objects as go"
      ],
      "metadata": {
        "id": "Xc3lVlsSieTF"
      },
      "execution_count": null,
      "outputs": []
    },
    {
      "cell_type": "code",
      "source": [
        "\n",
        "fig = make_subplots(rows=1, cols=1)\n",
        "fig.add_trace(\n",
        "    go.Scatter(x=df_.reset_index()['time'], y=df_.reset_index()['Actual'],name='Actual generated solar power'),row=1,col=1\n",
        ")\n",
        "fig.add_trace(\n",
        "    go.Scatter(x=df_.reset_index()['time'], y=df_.reset_index()['Predicted'],name='Predicted generated solar power LSTM '),row=1,col=1\n",
        ")\n",
        "fig.update_xaxes(title_text=\"Time\")\n",
        "fig.update_yaxes(title_text=\"SolarPower\")\n",
        "\n",
        "fig.show()"
      ],
      "metadata": {
        "id": "LDFQdC5HigYV"
      },
      "execution_count": null,
      "outputs": []
    },
    {
      "cell_type": "code",
      "source": [
        "import matplotlib.pyplot as plt\n",
        "plt.plot(df_['time'],df_['Actual'])\n",
        "plt.plot(df_['time'],df_['Predicted'])\n",
        "plt.show()\n",
        "plt.plot(df_['time'],df_['Actual'])\n",
        "plt.plot(df_['time'],df_['Predicted1'])\n",
        "\n",
        "plt.show()"
      ],
      "metadata": {
        "id": "jtbpsZffUdd4",
        "colab": {
          "base_uri": "https://localhost:8080/",
          "height": 513
        },
        "outputId": "9aebb468-9df2-48c7-e256-f4d8f83ace5c"
      },
      "execution_count": 158,
      "outputs": [
        {
          "output_type": "display_data",
          "data": {
            "text/plain": [
              "<Figure size 432x288 with 1 Axes>"
            ],
            "image/png": "[encoded data removed]"
          },
          "metadata": {
            "needs_background": "light"
          }
        },
        {
          "output_type": "display_data",
          "data": {
            "text/plain": [
              "<Figure size 432x288 with 1 Axes>"
            ],
            "image/png": "[encoded data removed]"
          },
          "metadata": {
            "needs_background": "light"
          }
        }
      ]
    },
    {
      "cell_type": "code",
      "source": [
        "from sklearn.datasets import make_classification\n",
        "from sklearn.datasets import make_classification\n",
        "from sklearn.preprocessing import MinMaxScaler\n",
        "from sklearn.model_selection import train_test_split\n",
        "from keras.layers import LeakyReLU\n",
        "from keras.models import Model\n",
        "from keras.layers import Input\n",
        "from keras.layers import Dense\n",
        "from keras.layers import BatchNormalization\n",
        "from keras.models import load_model\n",
        "from keras.layers import Input"
      ],
      "metadata": {
        "id": "9_rTy4wYEs4D"
      },
      "execution_count": null,
      "outputs": []
    },
    {
      "cell_type": "code",
      "source": [
        "n_inputs=weather_input.shape[1]"
      ],
      "metadata": {
        "id": "bGukXRzXExcj"
      },
      "execution_count": null,
      "outputs": []
    },
    {
      "cell_type": "code",
      "source": [
        "input_data_shape= Input(shape=(n_inputs,))\n",
        "# encoder level 1\n",
        "encoder= Dense(n_inputs*2)(input_data_shape)\n",
        "encoder = BatchNormalization()(encoder)\n",
        "encoder= LeakyReLU()(encoder)\n",
        "# encoder level 2\n",
        "encoder= Dense(n_inputs)(encoder)\n",
        "encoder= BatchNormalization()(encoder)\n",
        "encoder= LeakyReLU()(encoder)\n",
        "# bottleneck\n",
        "#n_bottleneck = round(float(n_inputs) / 2.0)\n",
        "n_bottleneck = 20\n",
        "bottleneck = Dense(n_bottleneck)(encoder)\n",
        "# define decoder, level 1\n",
        "decoder = Dense(n_inputs)(bottleneck)\n",
        "decoder = BatchNormalization()(decoder)\n",
        "decoder = LeakyReLU()(decoder)\n",
        "# decoder level 2\n",
        "decoder = Dense(n_inputs*2)(decoder)\n",
        "decoder = BatchNormalization()(decoder)\n",
        "decoder = LeakyReLU()(decoder)"
      ],
      "metadata": {
        "id": "7zLNn6I8EJSx"
      },
      "execution_count": null,
      "outputs": []
    },
    {
      "cell_type": "code",
      "source": [
        "output = Dense(n_inputs, activation='linear')(decoder)\n",
        "# define autoencoder model\n",
        "model = Model(inputs=input_data_shape, outputs=output)\n",
        "# compile autoencoder model\n",
        "model.compile(optimizer='adam', loss='mse')"
      ],
      "metadata": {
        "id": "May7nOebEJl7"
      },
      "execution_count": null,
      "outputs": []
    },
    {
      "cell_type": "code",
      "source": [
        " model.fit(weather_input,weather_input, epochs=100, batch_size=32, verbose=2)"
      ],
      "metadata": {
        "id": "bDSNxe4eE47z"
      },
      "execution_count": null,
      "outputs": []
    },
    {
      "cell_type": "code",
      "source": [
        "# define an encoder model (without the decoder)\n",
        "encoder = Model(inputs=input_data_shape, outputs=bottleneck)\n",
        "# save the encoder to file\n",
        "encoder.save('encoder.h5')"
      ],
      "metadata": {
        "id": "czWUThhJE7Pp"
      },
      "execution_count": null,
      "outputs": []
    },
    {
      "cell_type": "code",
      "source": [
        "solpow=solpow.to_numpy().reshape(-1,1)\n",
        "encoder = load_model('encoder.h5')\n",
        "\n",
        "# encode the train data\n",
        "X_train_encode = encoder.predict(weather_input)"
      ],
      "metadata": {
        "id": "jhuvCvIWFQwq"
      },
      "execution_count": null,
      "outputs": []
    },
    {
      "cell_type": "code",
      "source": [
        "encoder = load_model('encoder.h5')\n",
        "\n",
        "# encode the train data\n",
        "X_train_encode = encoder.predict(weather_input)"
      ],
      "metadata": {
        "id": "moGLepO3Im8e"
      },
      "execution_count": null,
      "outputs": []
    },
    {
      "cell_type": "code",
      "source": [
        "num_steps = 3\n",
        "# training set\n",
        "(x_transformed1,\n",
        " y_transformed1) = lstm_data_transform(X_train_encode,solpow , num_steps=num_steps)\n",
        "assert x_transformed1.shape[0] == y_transformed1.shape[0]"
      ],
      "metadata": {
        "id": "Gste5MwfFVPC"
      },
      "execution_count": null,
      "outputs": []
    },
    {
      "cell_type": "code",
      "source": [
        "X_train1, X_test1, y_train1, y_test1 = train_test_split(x_transformed1, y_transformed1, test_size=0.4, random_state=42,shuffle=False)"
      ],
      "metadata": {
        "id": "XsA3YUEIFZx7"
      },
      "execution_count": null,
      "outputs": []
    },
    {
      "cell_type": "code",
      "source": [
        "inputs1=Input(shape=(X_train1.shape[1],X_train1.shape[2]))"
      ],
      "metadata": {
        "id": "fdfdQDOSF21B"
      },
      "execution_count": null,
      "outputs": []
    },
    {
      "cell_type": "code",
      "source": [
        "def get_model1(): \n",
        "    #inputs1 = Input(shape=(X_train.shape[1],X_train.shape[2]))\n",
        "    fe1_0 = Bidirectional(LSTM(32, activation='relu',return_sequences = True))(inputs1)#32\n",
        "    fe1_1 = Dropout(0.2)(fe1_0)\n",
        "    fe1_2 = Bidirectional(LSTM(16, activation='relu',return_sequences = True))(fe1_1)#16\n",
        "    fe1_3= Dropout(0.2)(fe1_2)\n",
        "    fe1_4=Bidirectional(LSTM(8, activation='relu'))(fe1_3)#8\n",
        "    out1_1=Dense(1, activation='linear')(fe1_4)\n",
        "    return Model(inputs1, out1_1)\n",
        "def get_model2(): \n",
        "    #inputs1 = Input(shape=(X_train.shape[1],X_train.shape[2]))\n",
        "    fe2_0 = Bidirectional(LSTM(16, activation='relu',return_sequences = True))(inputs1)#16,16,8\n",
        "    fe2_1 = Dropout(0.5)(fe2_0)\n",
        "    fe2_2 = Bidirectional(LSTM(16, activation='relu',return_sequences = True))(fe2_1)\n",
        "    fe2_3= Dropout(0.5)(fe2_2)\n",
        "    fe2_4=Bidirectional(LSTM(8, activation='relu'))(fe2_3)\n",
        "    out2_1=Dense(1, activation='linear')(fe2_4)\n",
        "    return Model(inputs1, out2_1)\n",
        "def get_model3(): \n",
        "    #inputs1 = Input(shape=(X_train.shape[1],X_train.shape[2]))\n",
        "    fe3_0 = Bidirectional(LSTM(16, activation='relu',return_sequences = True))(inputs1)#16,8,8\n",
        "    fe3_1 = Dropout(0.5)(fe3_0)\n",
        "    fe3_2 = Bidirectional(LSTM(8, activation='relu',return_sequences = True))(fe3_1)\n",
        "    fe3_3= Dropout(0.5)(fe3_2)\n",
        "    fe3_4=Bidirectional(LSTM(8, activation='relu'))(fe3_3)\n",
        "    out3_1=Dense(1, activation='linear')(fe3_4)\n",
        "    return Model(inputs1, out3_1)\n",
        "model1 = get_model1() \n",
        "model2 = get_model2() \n",
        "model3 = get_model3()\n",
        "y1 = model1(inputs1) \n",
        "y2 = model2(inputs1) \n",
        "y3 = model3(inputs1)\n",
        "outputs = layers.average([y1, y2, y3]) \n",
        "ensemble_model = Model(inputs=inputs1, outputs=outputs)\n",
        "ensemble_model.compile(optimizer='Adam',loss='mean_squared_error',metrics=['RootMeanSquaredError'])\n",
        "history=ensemble_model.fit(X_train1, y_train1, epochs = 200, batch_size = 64)"
      ],
      "metadata": {
        "id": "t2xAJ_P5F1PM"
      },
      "execution_count": null,
      "outputs": []
    },
    {
      "cell_type": "code",
      "source": [
        "y_en=ensemble_model.predict(X_test1)\n",
        "plt.scatter(y_en,y_test1)\n",
        "plt.show()"
      ],
      "metadata": {
        "id": "Q1msjytCGRcz",
        "colab": {
          "base_uri": "https://localhost:8080/",
          "height": 282
        },
        "outputId": "25e60831-c962-4e45-a536-930c3290c01e"
      },
      "execution_count": 157,
      "outputs": [
        {
          "output_type": "stream",
          "name": "stdout",
          "text": [
            "76/76 [==============================] - 1s 8ms/step\n"
          ]
        },
        {
          "output_type": "display_data",
          "data": {
            "text/plain": [
              "<Figure size 432x288 with 1 Axes>"
            ],
            "image/png": "[encoded data removed]"
          },
          "metadata": {
            "needs_background": "light"
          }
        }
      ]
    },
    {
      "cell_type": "code",
      "source": [
        "plt.plot(history.history['loss'], label='train')\n",
        "plt.legend()\n",
        "plt.show()"
      ],
      "metadata": {
        "id": "uDhkVXrxJyM7",
        "colab": {
          "base_uri": "https://localhost:8080/",
          "height": 265
        },
        "outputId": "707d7c19-9b05-4aa3-840b-4831d78306a9"
      },
      "execution_count": 156,
      "outputs": [
        {
          "output_type": "display_data",
          "data": {
            "text/plain": [
              "<Figure size 432x288 with 1 Axes>"
            ],
            "image/png": "[encoded data removed]"
          },
          "metadata": {
            "needs_background": "light"
          }
        }
      ]
    },
    {
      "cell_type": "code",
      "source": [
        "df_ = pd.DataFrame()\n",
        "df_['time']=[i for i in range(len(y_en))]\n",
        "df_['Actual']=y_test\n",
        "df_['Predicted']=y_en"
      ],
      "metadata": {
        "id": "0aFB8eDmF9wl"
      },
      "execution_count": null,
      "outputs": []
    },
    {
      "cell_type": "code",
      "source": [
        "import matplotlib.pyplot as plt\n",
        "plt.plot(df_['time'],df_['Actual'])\n",
        "plt.plot(df_['time'],df_['Predicted'])\n",
        "plt.show()"
      ],
      "metadata": {
        "colab": {
          "base_uri": "https://localhost:8080/",
          "height": 265
        },
        "id": "hqm2ceUpGQpc",
        "outputId": "8d181185-6b18-461e-b738-fdb5eccbad52"
      },
      "execution_count": 153,
      "outputs": [
        {
          "output_type": "display_data",
          "data": {
            "text/plain": [
              "<Figure size 432x288 with 1 Axes>"
            ],
            "image/png": "[encoded data removed]"
          },
          "metadata": {
            "needs_background": "light"
          }
        }
      ]
    },
    {
      "cell_type": "code",
      "source": [
        "from sklearn.decomposition import PCA "
      ],
      "metadata": {
        "id": "8u45S8L-C-H8"
      },
      "execution_count": null,
      "outputs": []
    },
    {
      "cell_type": "code",
      "source": [
        "pca = PCA(n_components = 20)\n",
        "pca.fit(weather_input)\n",
        "data_pca = pca.transform(weather_input)\n",
        "data_pca = pd.DataFrame(data_pca)"
      ],
      "metadata": {
        "id": "LPHKHSQ3DbwU"
      },
      "execution_count": null,
      "outputs": []
    },
    {
      "cell_type": "code",
      "source": [
        "data_pca.head()"
      ],
      "metadata": {
        "id": "5N9PD_WADrXt"
      },
      "execution_count": null,
      "outputs": []
    },
    {
      "cell_type": "code",
      "source": [
        "num_steps = 3\n",
        "# training set\n",
        "(x_transformed1,\n",
        " y_transformed1) = lstm_data_transform(data_pca,solpow , num_steps=num_steps)\n",
        "assert x_transformed1.shape[0] == y_transformed1.shape[0]"
      ],
      "metadata": {
        "id": "3X0RtE8DDwKq"
      },
      "execution_count": null,
      "outputs": []
    },
    {
      "cell_type": "code",
      "source": [
        "X_train2, X_test2, y_train2, y_test2= train_test_split(x_transformed1, y_transformed1, test_size=0.4, random_state=42,shuffle=False)"
      ],
      "metadata": {
        "id": "S0L4GSxJD6r0"
      },
      "execution_count": null,
      "outputs": []
    },
    {
      "cell_type": "code",
      "source": [
        "def get_model1(): \n",
        "    #inputs1 = Input(shape=(X_train.shape[1],X_train.shape[2]))\n",
        "    fe1_0 = Bidirectional(LSTM(32, activation='relu',return_sequences = True))(inputs1)#32\n",
        "    fe1_1 = Dropout(0.2)(fe1_0)\n",
        "    fe1_2 = Bidirectional(LSTM(16, activation='relu',return_sequences = True))(fe1_1)#16\n",
        "    fe1_3= Dropout(0.2)(fe1_2)\n",
        "    fe1_4=Bidirectional(LSTM(8, activation='relu'))(fe1_3)#8\n",
        "    out1_1=Dense(1, activation='linear')(fe1_4)\n",
        "    return Model(inputs1, out1_1)\n",
        "def get_model2(): \n",
        "    #inputs1 = Input(shape=(X_train.shape[1],X_train.shape[2]))\n",
        "    fe2_0 = Bidirectional(LSTM(16, activation='relu',return_sequences = True))(inputs1)#16,16,8\n",
        "    fe2_1 = Dropout(0.5)(fe2_0)\n",
        "    fe2_2 = Bidirectional(LSTM(16, activation='relu',return_sequences = True))(fe2_1)\n",
        "    fe2_3= Dropout(0.5)(fe2_2)\n",
        "    fe2_4=Bidirectional(LSTM(8, activation='relu'))(fe2_3)\n",
        "    out2_1=Dense(1, activation='linear')(fe2_4)\n",
        "    return Model(inputs1, out2_1)\n",
        "def get_model3(): \n",
        "    #inputs1 = Input(shape=(X_train.shape[1],X_train.shape[2]))\n",
        "    fe3_0 = Bidirectional(LSTM(16, activation='relu',return_sequences = True))(inputs1)#16,8,8\n",
        "    fe3_1 = Dropout(0.5)(fe3_0)\n",
        "    fe3_2 = Bidirectional(LSTM(8, activation='relu',return_sequences = True))(fe3_1)\n",
        "    fe3_3= Dropout(0.5)(fe3_2)\n",
        "    fe3_4=Bidirectional(LSTM(8, activation='relu'))(fe3_3)\n",
        "    out3_1=Dense(1, activation='linear')(fe3_4)\n",
        "    return Model(inputs1, out3_1)\n",
        "model1 = get_model1() \n",
        "model2 = get_model2() \n",
        "model3 = get_model3()\n",
        "y1 = model1(inputs1) \n",
        "y2 = model2(inputs1) \n",
        "y3 = model3(inputs1)\n",
        "outputs = layers.average([y1, y2, y3]) \n",
        "ensemble_model = Model(inputs=inputs1, outputs=outputs)\n",
        "ensemble_model.compile(optimizer='Adam',loss='mean_squared_error',metrics=['RootMeanSquaredError'])\n",
        "history=ensemble_model.fit(X_train2, y_train2, epochs = 200, batch_size = 64)"
      ],
      "metadata": {
        "id": "fPBzdko0EGyr"
      },
      "execution_count": null,
      "outputs": []
    },
    {
      "cell_type": "code",
      "source": [
        "y_en=ensemble_model.predict(X_test2)\n",
        "plt.scatter(y_en,y_test2)\n",
        "plt.show()"
      ],
      "metadata": {
        "colab": {
          "base_uri": "https://localhost:8080/",
          "height": 282
        },
        "id": "Y6bxKrR2FDJc",
        "outputId": "0b757612-685a-45ca-adbd-a2c62a1c8133"
      },
      "execution_count": 155,
      "outputs": [
        {
          "output_type": "stream",
          "name": "stdout",
          "text": [
            "76/76 [==============================] - 1s 8ms/step\n"
          ]
        },
        {
          "output_type": "display_data",
          "data": {
            "text/plain": [
              "<Figure size 432x288 with 1 Axes>"
            ],
            "image/png": "[encoded data removed]"
          },
          "metadata": {
            "needs_background": "light"
          }
        }
      ]
    },
    {
      "cell_type": "code",
      "source": [
        "df_ = pd.DataFrame()\n",
        "df_['time']=[i for i in range(len(y_en))]\n",
        "df_['Actual']=y_test2\n",
        "df_['Predicted']=y_en"
      ],
      "metadata": {
        "id": "8SGphIb6GLGs"
      },
      "execution_count": null,
      "outputs": []
    },
    {
      "cell_type": "code",
      "source": [
        "import matplotlib.pyplot as plt\n",
        "plt.plot(df_['time'],df_['Actual'])\n",
        "plt.plot(df_['time'],df_['Predicted'])\n",
        "plt.show()"
      ],
      "metadata": {
        "colab": {
          "base_uri": "https://localhost:8080/",
          "height": 265
        },
        "id": "je-XiD7zGVsj",
        "outputId": "cd1cc6d7-5fd0-4b89-9097-965a1269f5a0"
      },
      "execution_count": 154,
      "outputs": [
        {
          "output_type": "display_data",
          "data": {
            "text/plain": [
              "<Figure size 432x288 with 1 Axes>"
            ],
            "image/png": "[encoded data removed]"
          },
          "metadata": {
            "needs_background": "light"
          }
        }
      ]
    }
  ]
}