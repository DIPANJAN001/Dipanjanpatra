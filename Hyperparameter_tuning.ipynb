{
  "nbformat": 4,
  "nbformat_minor": 0,
  "metadata": {
    "colab": {
      "name": "Hyperparameter_tuning.ipynb",
      "provenance": [],
      "collapsed_sections": [],
      "authorship_tag": "ABX9TyNRITT1Ajrx/zUjv8seByjO",
      "include_colab_link": true
    },
    "kernelspec": {
      "name": "python3",
      "display_name": "Python 3"
    },
    "language_info": {
      "name": "python"
    }
  },
  "cells": [
    {
      "cell_type": "markdown",
      "metadata": {
        "id": "view-in-github",
        "colab_type": "text"
      },
      "source": [
        "<a href=\"https://colab.research.google.com/github/DIPANJAN001/Dipanjanpatra/blob/master/Hyperparameter_tuning.ipynb\" target=\"_parent\"><img src=\"https://colab.research.google.com/assets/colab-badge.svg\" alt=\"Open In Colab\"/></a>"
      ]
    },
    {
      "cell_type": "markdown",
      "source": [
        "### Hyperparameter Optimization"
      ],
      "metadata": {
        "id": "XzglR_y9ne6n"
      }
    },
    {
      "cell_type": "code",
      "source": [
        "import pandas as pd\n",
        "weather_data=pd.read_excel(\"/content/pv_02.xlsx\") "
      ],
      "metadata": {
        "id": "HLJsHbidniXF"
      },
      "execution_count": 3,
      "outputs": []
    },
    {
      "cell_type": "code",
      "source": [
        "weather_input1=weather_data.drop('power_normed',axis=1)\n",
        "weather_input=weather_input1.drop('time_idx',axis=1)\n",
        "weather_input.head()"
      ],
      "metadata": {
        "colab": {
          "base_uri": "https://localhost:8080/",
          "height": 300
        },
        "id": "n_4yZB_t7sSF",
        "outputId": "09ec50bc-a748-41cf-a3a6-6bb044ab334d"
      },
      "execution_count": 4,
      "outputs": [
        {
          "output_type": "execute_result",
          "data": {
            "text/plain": [
              "   hour_of_day  hour_of_day_cos  hour_of_day_sin  month_of_year  \\\n",
              "0     0.000000         1.000000         0.000000       0.909091   \n",
              "1     0.142857         0.957824         0.399332       0.909091   \n",
              "2     0.285714         0.838278         0.732544       0.909091   \n",
              "3     0.428571         0.661157         0.944463       0.909091   \n",
              "4     0.571429         0.455788         1.000000       0.909091   \n",
              "\n",
              "   month_of_year_cos  month_of_year_sin  season_of_year  season_of_year_cos  \\\n",
              "0           0.017332           0.258819             1.0                 0.0   \n",
              "1           0.017332           0.258819             1.0                 0.0   \n",
              "2           0.017332           0.258819             1.0                 0.0   \n",
              "3           0.017332           0.258819             1.0                 0.0   \n",
              "4           0.017332           0.258819             1.0                 0.0   \n",
              "\n",
              "   season_of_year_sin  sunposition_thetaZ  ...  LowerWindSpeed  \\\n",
              "0                 0.0            1.000000  ...        0.458204   \n",
              "1                 0.0            1.000000  ...        0.432281   \n",
              "2                 0.0            1.000000  ...        0.513296   \n",
              "3                 0.0            0.705699  ...        0.676684   \n",
              "4                 0.0            0.611994  ...        0.656101   \n",
              "\n",
              "   LowerWindDirection  LowerWindDirectionMath  LowerWindDirectionCos  \\\n",
              "0            0.554229                0.195738               0.667024   \n",
              "1            0.726648                0.023317               0.994589   \n",
              "2            0.702088                0.047877               0.977444   \n",
              "3            0.691446                0.058519               0.966460   \n",
              "4            0.698192                0.051774               0.973667   \n",
              "\n",
              "   LowerWindDirectionSin  UpperWindSpeed  UpperWindDirection  \\\n",
              "0               0.971278        0.494272            0.563420   \n",
              "1               0.573364        0.456086            0.732230   \n",
              "2               0.648484        0.545543            0.707816   \n",
              "3               0.680042        0.663653            0.693619   \n",
              "4               0.660124        0.634276            0.700475   \n",
              "\n",
              "   UpperWindDirectionMath  UpperWindDirectionCos  UpperWindDirectionSin  \n",
              "0                0.186512               0.694226               0.960735  \n",
              "1                0.017730               0.996887               0.555710  \n",
              "2                0.042140               0.982548               0.630947  \n",
              "3                0.056335               0.968971               0.673395  \n",
              "4                0.049480               0.976001               0.653047  \n",
              "\n",
              "[5 rows x 49 columns]"
            ],
            "text/html": [
              "\n",
              "  <div id=\"df-62676ec1-d8ac-43eb-86ba-2c8245b98333\">\n",
              "    <div class=\"colab-df-container\">\n",
              "      <div>\n",
              "<style scoped>\n",
              "    .dataframe tbody tr th:only-of-type {\n",
              "        vertical-align: middle;\n",
              "    }\n",
              "\n",
              "    .dataframe tbody tr th {\n",
              "        vertical-align: top;\n",
              "    }\n",
              "\n",
              "    .dataframe thead th {\n",
              "        text-align: right;\n",
              "    }\n",
              "</style>\n",
              "<table border=\"1\" class=\"dataframe\">\n",
              "  <thead>\n",
              "    <tr style=\"text-align: right;\">\n",
              "      <th></th>\n",
              "      <th>hour_of_day</th>\n",
              "      <th>hour_of_day_cos</th>\n",
              "      <th>hour_of_day_sin</th>\n",
              "      <th>month_of_year</th>\n",
              "      <th>month_of_year_cos</th>\n",
              "      <th>month_of_year_sin</th>\n",
              "      <th>season_of_year</th>\n",
              "      <th>season_of_year_cos</th>\n",
              "      <th>season_of_year_sin</th>\n",
              "      <th>sunposition_thetaZ</th>\n",
              "      <th>...</th>\n",
              "      <th>LowerWindSpeed</th>\n",
              "      <th>LowerWindDirection</th>\n",
              "      <th>LowerWindDirectionMath</th>\n",
              "      <th>LowerWindDirectionCos</th>\n",
              "      <th>LowerWindDirectionSin</th>\n",
              "      <th>UpperWindSpeed</th>\n",
              "      <th>UpperWindDirection</th>\n",
              "      <th>UpperWindDirectionMath</th>\n",
              "      <th>UpperWindDirectionCos</th>\n",
              "      <th>UpperWindDirectionSin</th>\n",
              "    </tr>\n",
              "  </thead>\n",
              "  <tbody>\n",
              "    <tr>\n",
              "      <th>0</th>\n",
              "      <td>0.000000</td>\n",
              "      <td>1.000000</td>\n",
              "      <td>0.000000</td>\n",
              "      <td>0.909091</td>\n",
              "      <td>0.017332</td>\n",
              "      <td>0.258819</td>\n",
              "      <td>1.0</td>\n",
              "      <td>0.0</td>\n",
              "      <td>0.0</td>\n",
              "      <td>1.000000</td>\n",
              "      <td>...</td>\n",
              "      <td>0.458204</td>\n",
              "      <td>0.554229</td>\n",
              "      <td>0.195738</td>\n",
              "      <td>0.667024</td>\n",
              "      <td>0.971278</td>\n",
              "      <td>0.494272</td>\n",
              "      <td>0.563420</td>\n",
              "      <td>0.186512</td>\n",
              "      <td>0.694226</td>\n",
              "      <td>0.960735</td>\n",
              "    </tr>\n",
              "    <tr>\n",
              "      <th>1</th>\n",
              "      <td>0.142857</td>\n",
              "      <td>0.957824</td>\n",
              "      <td>0.399332</td>\n",
              "      <td>0.909091</td>\n",
              "      <td>0.017332</td>\n",
              "      <td>0.258819</td>\n",
              "      <td>1.0</td>\n",
              "      <td>0.0</td>\n",
              "      <td>0.0</td>\n",
              "      <td>1.000000</td>\n",
              "      <td>...</td>\n",
              "      <td>0.432281</td>\n",
              "      <td>0.726648</td>\n",
              "      <td>0.023317</td>\n",
              "      <td>0.994589</td>\n",
              "      <td>0.573364</td>\n",
              "      <td>0.456086</td>\n",
              "      <td>0.732230</td>\n",
              "      <td>0.017730</td>\n",
              "      <td>0.996887</td>\n",
              "      <td>0.555710</td>\n",
              "    </tr>\n",
              "    <tr>\n",
              "      <th>2</th>\n",
              "      <td>0.285714</td>\n",
              "      <td>0.838278</td>\n",
              "      <td>0.732544</td>\n",
              "      <td>0.909091</td>\n",
              "      <td>0.017332</td>\n",
              "      <td>0.258819</td>\n",
              "      <td>1.0</td>\n",
              "      <td>0.0</td>\n",
              "      <td>0.0</td>\n",
              "      <td>1.000000</td>\n",
              "      <td>...</td>\n",
              "      <td>0.513296</td>\n",
              "      <td>0.702088</td>\n",
              "      <td>0.047877</td>\n",
              "      <td>0.977444</td>\n",
              "      <td>0.648484</td>\n",
              "      <td>0.545543</td>\n",
              "      <td>0.707816</td>\n",
              "      <td>0.042140</td>\n",
              "      <td>0.982548</td>\n",
              "      <td>0.630947</td>\n",
              "    </tr>\n",
              "    <tr>\n",
              "      <th>3</th>\n",
              "      <td>0.428571</td>\n",
              "      <td>0.661157</td>\n",
              "      <td>0.944463</td>\n",
              "      <td>0.909091</td>\n",
              "      <td>0.017332</td>\n",
              "      <td>0.258819</td>\n",
              "      <td>1.0</td>\n",
              "      <td>0.0</td>\n",
              "      <td>0.0</td>\n",
              "      <td>0.705699</td>\n",
              "      <td>...</td>\n",
              "      <td>0.676684</td>\n",
              "      <td>0.691446</td>\n",
              "      <td>0.058519</td>\n",
              "      <td>0.966460</td>\n",
              "      <td>0.680042</td>\n",
              "      <td>0.663653</td>\n",
              "      <td>0.693619</td>\n",
              "      <td>0.056335</td>\n",
              "      <td>0.968971</td>\n",
              "      <td>0.673395</td>\n",
              "    </tr>\n",
              "    <tr>\n",
              "      <th>4</th>\n",
              "      <td>0.571429</td>\n",
              "      <td>0.455788</td>\n",
              "      <td>1.000000</td>\n",
              "      <td>0.909091</td>\n",
              "      <td>0.017332</td>\n",
              "      <td>0.258819</td>\n",
              "      <td>1.0</td>\n",
              "      <td>0.0</td>\n",
              "      <td>0.0</td>\n",
              "      <td>0.611994</td>\n",
              "      <td>...</td>\n",
              "      <td>0.656101</td>\n",
              "      <td>0.698192</td>\n",
              "      <td>0.051774</td>\n",
              "      <td>0.973667</td>\n",
              "      <td>0.660124</td>\n",
              "      <td>0.634276</td>\n",
              "      <td>0.700475</td>\n",
              "      <td>0.049480</td>\n",
              "      <td>0.976001</td>\n",
              "      <td>0.653047</td>\n",
              "    </tr>\n",
              "  </tbody>\n",
              "</table>\n",
              "<p>5 rows × 49 columns</p>\n",
              "</div>\n",
              "      <button class=\"colab-df-convert\" onclick=\"convertToInteractive('df-62676ec1-d8ac-43eb-86ba-2c8245b98333')\"\n",
              "              title=\"Convert this dataframe to an interactive table.\"\n",
              "              style=\"display:none;\">\n",
              "        \n",
              "  <svg xmlns=\"http://www.w3.org/2000/svg\" height=\"24px\"viewBox=\"0 0 24 24\"\n",
              "       width=\"24px\">\n",
              "    <path d=\"M0 0h24v24H0V0z\" fill=\"none\"/>\n",
              "    <path d=\"M18.56 5.44l.94 2.06.94-2.06 2.06-.94-2.06-.94-.94-2.06-.94 2.06-2.06.94zm-11 1L8.5 8.5l.94-2.06 2.06-.94-2.06-.94L8.5 2.5l-.94 2.06-2.06.94zm10 10l.94 2.06.94-2.06 2.06-.94-2.06-.94-.94-2.06-.94 2.06-2.06.94z\"/><path d=\"M17.41 7.96l-1.37-1.37c-.4-.4-.92-.59-1.43-.59-.52 0-1.04.2-1.43.59L10.3 9.45l-7.72 7.72c-.78.78-.78 2.05 0 2.83L4 21.41c.39.39.9.59 1.41.59.51 0 1.02-.2 1.41-.59l7.78-7.78 2.81-2.81c.8-.78.8-2.07 0-2.86zM5.41 20L4 18.59l7.72-7.72 1.47 1.35L5.41 20z\"/>\n",
              "  </svg>\n",
              "      </button>\n",
              "      \n",
              "  <style>\n",
              "    .colab-df-container {\n",
              "      display:flex;\n",
              "      flex-wrap:wrap;\n",
              "      gap: 12px;\n",
              "    }\n",
              "\n",
              "    .colab-df-convert {\n",
              "      background-color: #E8F0FE;\n",
              "      border: none;\n",
              "      border-radius: 50%;\n",
              "      cursor: pointer;\n",
              "      display: none;\n",
              "      fill: #1967D2;\n",
              "      height: 32px;\n",
              "      padding: 0 0 0 0;\n",
              "      width: 32px;\n",
              "    }\n",
              "\n",
              "    .colab-df-convert:hover {\n",
              "      background-color: #E2EBFA;\n",
              "      box-shadow: 0px 1px 2px rgba(60, 64, 67, 0.3), 0px 1px 3px 1px rgba(60, 64, 67, 0.15);\n",
              "      fill: #174EA6;\n",
              "    }\n",
              "\n",
              "    [theme=dark] .colab-df-convert {\n",
              "      background-color: #3B4455;\n",
              "      fill: #D2E3FC;\n",
              "    }\n",
              "\n",
              "    [theme=dark] .colab-df-convert:hover {\n",
              "      background-color: #434B5C;\n",
              "      box-shadow: 0px 1px 3px 1px rgba(0, 0, 0, 0.15);\n",
              "      filter: drop-shadow(0px 1px 2px rgba(0, 0, 0, 0.3));\n",
              "      fill: #FFFFFF;\n",
              "    }\n",
              "  </style>\n",
              "\n",
              "      <script>\n",
              "        const buttonEl =\n",
              "          document.querySelector('#df-62676ec1-d8ac-43eb-86ba-2c8245b98333 button.colab-df-convert');\n",
              "        buttonEl.style.display =\n",
              "          google.colab.kernel.accessAllowed ? 'block' : 'none';\n",
              "\n",
              "        async function convertToInteractive(key) {\n",
              "          const element = document.querySelector('#df-62676ec1-d8ac-43eb-86ba-2c8245b98333');\n",
              "          const dataTable =\n",
              "            await google.colab.kernel.invokeFunction('convertToInteractive',\n",
              "                                                     [key], {});\n",
              "          if (!dataTable) return;\n",
              "\n",
              "          const docLinkHtml = 'Like what you see? Visit the ' +\n",
              "            '<a target=\"_blank\" href=https://colab.research.google.com/notebooks/data_table.ipynb>data table notebook</a>'\n",
              "            + ' to learn more about interactive tables.';\n",
              "          element.innerHTML = '';\n",
              "          dataTable['output_type'] = 'display_data';\n",
              "          await google.colab.output.renderOutput(dataTable, element);\n",
              "          const docLink = document.createElement('div');\n",
              "          docLink.innerHTML = docLinkHtml;\n",
              "          element.appendChild(docLink);\n",
              "        }\n",
              "      </script>\n",
              "    </div>\n",
              "  </div>\n",
              "  "
            ]
          },
          "metadata": {},
          "execution_count": 4
        }
      ]
    },
    {
      "cell_type": "code",
      "source": [
        "solpow=weather_data['power_normed']\n",
        "solpow"
      ],
      "metadata": {
        "colab": {
          "base_uri": "https://localhost:8080/"
        },
        "id": "8AYKCjs476o9",
        "outputId": "be7f5522-7ae9-4d36-c757-4ee14623f6b9"
      },
      "execution_count": 6,
      "outputs": [
        {
          "output_type": "execute_result",
          "data": {
            "text/plain": [
              "0       0.000000\n",
              "1       0.000000\n",
              "2       0.000000\n",
              "3       0.014560\n",
              "4       0.152064\n",
              "          ...   \n",
              "6273    0.110155\n",
              "6274    0.254311\n",
              "6275    0.003055\n",
              "6276    0.000000\n",
              "6277    0.000000\n",
              "Name: power_normed, Length: 6278, dtype: float64"
            ]
          },
          "metadata": {},
          "execution_count": 6
        }
      ]
    },
    {
      "cell_type": "code",
      "source": [
        "from sklearn.model_selection import train_test_split\n",
        "X_train, X_test, y_train, y_test = train_test_split(weather_input,solpow, test_size=0.25, random_state=42,shuffle=False)"
      ],
      "metadata": {
        "id": "Fz3rILiM7NCm"
      },
      "execution_count": 7,
      "outputs": []
    },
    {
      "cell_type": "code",
      "source": [
        "import numpy\n",
        "from sklearn.model_selection import GridSearchCV\n",
        "from keras.models import Sequential\n",
        "from keras.layers import Dense\n",
        "from keras.wrappers.scikit_learn import KerasRegressor"
      ],
      "metadata": {
        "id": "Lq3osnCr8PiV"
      },
      "execution_count": 9,
      "outputs": []
    },
    {
      "cell_type": "code",
      "source": [
        "from keras.models import Sequential\n",
        "from keras.layers import Dense, Activation, Flatten\n",
        "def create_model():\n",
        "      model = Sequential()\n",
        "      model.add(Dense(8, kernel_initializer='normal',input_dim =X_train.shape[1], activation='relu'))\n",
        "\n",
        "\n",
        "      model.add(Dense(32, kernel_initializer='normal',activation='relu'))\n",
        "      model.add(Dense(64, kernel_initializer='normal',activation='relu'))\n",
        "      model.add(Dense(16, kernel_initializer='normal',activation='relu'))\n",
        "\n",
        "      model.add(Dense(1, kernel_initializer='normal',activation='linear'))\n",
        "\n",
        "\n",
        "      model.compile(loss='mean_absolute_error', optimizer='adam', metrics=['mean_absolute_error'])\n",
        "      return model\n",
        "#MLP_model.summary()"
      ],
      "metadata": {
        "id": "koq4lPfQ79KU"
      },
      "execution_count": 68,
      "outputs": []
    },
    {
      "cell_type": "code",
      "source": [
        "model = KerasRegressor(build_fn=create_model, verbose=0)"
      ],
      "metadata": {
        "colab": {
          "base_uri": "https://localhost:8080/"
        },
        "id": "ST1VUHmi85po",
        "outputId": "302bab48-1340-40df-ff16-6962187753fd"
      },
      "execution_count": 69,
      "outputs": [
        {
          "output_type": "stream",
          "name": "stderr",
          "text": [
            "/usr/local/lib/python3.7/dist-packages/ipykernel_launcher.py:1: DeprecationWarning: KerasRegressor is deprecated, use Sci-Keras (https://github.com/adriangb/scikeras) instead. See https://www.adriangb.com/scikeras/stable/migration.html for help migrating.\n",
            "  \"\"\"Entry point for launching an IPython kernel.\n"
          ]
        }
      ]
    },
    {
      "cell_type": "code",
      "source": [
        "batch_size = [16,32,64]\n",
        "epochs = [80,100,120]"
      ],
      "metadata": {
        "id": "ubciXdhw8-kt"
      },
      "execution_count": 70,
      "outputs": []
    },
    {
      "cell_type": "code",
      "source": [
        "param_grid = dict(batch_size=batch_size, epochs=epochs)\n",
        "grid = GridSearchCV(estimator=model, param_grid=param_grid, n_jobs=-1, cv=3)\n",
        "grid_result = grid.fit(X_train, y_train)"
      ],
      "metadata": {
        "id": "PhCkihDf9Qgs"
      },
      "execution_count": null,
      "outputs": []
    },
    {
      "cell_type": "code",
      "source": [
        "print(\"Best: %f using %s\" % (grid_result.best_score_, grid_result.best_params_))"
      ],
      "metadata": {
        "colab": {
          "base_uri": "https://localhost:8080/"
        },
        "id": "7hC3Ihp59bVF",
        "outputId": "6d2ef876-8fd8-4728-deef-ce6febf91d94"
      },
      "execution_count": 27,
      "outputs": [
        {
          "output_type": "stream",
          "name": "stdout",
          "text": [
            "Best: -0.029987 using {'batch_size': 64, 'epochs': 80}\n"
          ]
        }
      ]
    },
    {
      "cell_type": "code",
      "source": [
        "mae = grid_result.cv_results_['mean_test_score']\n",
        "params = grid_result.cv_results_['params']\n",
        "for mae, param in zip(mae, params):\n",
        "    print(\"%f  with: %r\" % (mae,param))"
      ],
      "metadata": {
        "colab": {
          "base_uri": "https://localhost:8080/"
        },
        "id": "_v-OwVnz_Qot",
        "outputId": "7eb7eb7d-f35f-4cfe-f552-4561c67bfcea"
      },
      "execution_count": 28,
      "outputs": [
        {
          "output_type": "stream",
          "name": "stdout",
          "text": [
            "-0.030401  with: {'batch_size': 16, 'epochs': 80}\n",
            "-0.035140  with: {'batch_size': 16, 'epochs': 100}\n",
            "-0.032478  with: {'batch_size': 16, 'epochs': 120}\n",
            "-0.031507  with: {'batch_size': 32, 'epochs': 80}\n",
            "-0.030867  with: {'batch_size': 32, 'epochs': 100}\n",
            "-0.031536  with: {'batch_size': 32, 'epochs': 120}\n",
            "-0.029987  with: {'batch_size': 64, 'epochs': 80}\n",
            "-0.030425  with: {'batch_size': 64, 'epochs': 100}\n",
            "-0.030965  with: {'batch_size': 64, 'epochs': 120}\n"
          ]
        }
      ]
    }
  ]
}